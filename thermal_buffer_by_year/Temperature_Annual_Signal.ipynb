{
 "cells": [
  {
   "cell_type": "markdown",
   "id": "ad9d5f83-1c36-46c6-b0e7-a1cdfaa8b8b3",
   "metadata": {},
   "source": [
    "Temperature Annual Signal\n",
    "\n",
    "conduct linear fit to a sinsddial function \n",
    "\n",
    "Tfit.lm <- lm(temp ~ sin(rday) + cos(rday), data = df)"
   ]
  },
  {
   "cell_type": "code",
   "execution_count": 6,
   "id": "a7f68431-c53a-4ad1-9d98-d9d77d47c1e8",
   "metadata": {},
   "outputs": [],
   "source": [
    "from dataretrieval import nwis\n",
    "from IPython.display import display\n",
    "import pandas as pd"
   ]
  },
  {
   "cell_type": "code",
   "execution_count": 9,
   "id": "462d61c1-da13-4c5a-ba0a-a70c03333002",
   "metadata": {},
   "outputs": [
    {
     "name": "stdout",
     "output_type": "stream",
     "text": [
      "(                            site_no  00060_Mean 00060_Mean_cd\n",
      "datetime                                                     \n",
      "2011-10-01 00:00:00+00:00  12305000      6850.0             A\n",
      "2011-10-02 00:00:00+00:00  12305000      6140.0             A\n",
      "2011-10-03 00:00:00+00:00  12305000      5180.0             A\n",
      "2011-10-04 00:00:00+00:00  12305000      4910.0             A\n",
      "2011-10-05 00:00:00+00:00  12305000      4950.0             A\n",
      "...                             ...         ...           ...\n",
      "2024-09-26 00:00:00+00:00  12305000      8500.0             A\n",
      "2024-09-27 00:00:00+00:00  12305000      8510.0             A\n",
      "2024-09-28 00:00:00+00:00  12305000      8500.0             A\n",
      "2024-09-29 00:00:00+00:00  12305000      8490.0             A\n",
      "2024-09-30 00:00:00+00:00  12305000      8500.0             A\n",
      "\n",
      "[4749 rows x 3 columns], NWIS_Metadata(url=https://waterservices.usgs.gov/nwis/dv?format=json&parameterCd=00060&startDT=2011-10-01&endDT=2024-09-30&sites=12305000))\n",
      "<class 'tuple'>\n"
     ]
    }
   ],
   "source": [
    "siteNumber = \"12305000\"  \n",
    "parameterCode = \"00060\" # Discharge\n",
    "startDate = \"2000-10-01\"\n",
    "endDate = \"2024-09-30\"\n",
    "\n"
   ]
  },
  {
   "cell_type": "code",
   "execution_count": 10,
   "id": "3aed222d-fc5a-4b6b-a5e0-dc8b6eda16e4",
   "metadata": {},
   "outputs": [
    {
     "name": "stdout",
     "output_type": "stream",
     "text": [
      "  agency_cd   site_no                    station_nm site_tp_cd     lat_va  \\\n",
      "0      USGS  12305000  KOOTENAI RIVER AT LEONIA, ID         ST  483700.78   \n",
      "\n",
      "     long_va  dec_lat_va  dec_long_va coord_meth_cd  coord_acy_cd  ...  \\\n",
      "0  1160257.1   48.616883  -116.049194             N             1  ...   \n",
      "\n",
      "  local_time_fg reliability_cd  gw_file_cd  nat_aqfr_cd  aqfr_cd aqfr_type_cd  \\\n",
      "0             Y              C    NNNNNNNN          NaN      NaN          NaN   \n",
      "\n",
      "  well_depth_va hole_depth_va  depth_src_cd  project_no  \n",
      "0           NaN           NaN           NaN         NaN  \n",
      "\n",
      "[1 rows x 42 columns]\n",
      "Index(['agency_cd', 'site_no', 'station_nm', 'site_tp_cd', 'lat_va', 'long_va',\n",
      "       'dec_lat_va', 'dec_long_va', 'coord_meth_cd', 'coord_acy_cd',\n",
      "       'coord_datum_cd', 'dec_coord_datum_cd', 'district_cd', 'state_cd',\n",
      "       'county_cd', 'country_cd', 'land_net_ds', 'map_nm', 'map_scale_fc',\n",
      "       'alt_va', 'alt_meth_cd', 'alt_acy_va', 'alt_datum_cd', 'huc_cd',\n",
      "       'basin_cd', 'topo_cd', 'instruments_cd', 'construction_dt',\n",
      "       'inventory_dt', 'drain_area_va', 'contrib_drain_area_va', 'tz_cd',\n",
      "       'local_time_fg', 'reliability_cd', 'gw_file_cd', 'nat_aqfr_cd',\n",
      "       'aqfr_cd', 'aqfr_type_cd', 'well_depth_va', 'hole_depth_va',\n",
      "       'depth_src_cd', 'project_no'],\n",
      "      dtype='object')\n"
     ]
    }
   ],
   "source": [
    "\n",
    "# Retrieve site information\n",
    "site_info = nwis.get_info(sites= siteNumber )\n",
    "\n",
    "site_info_df = pd.DataFrame( site_info[0] )\n",
    "\n",
    "print( site_info_df )\n",
    "\n",
    "print( site_info_df.columns )\n"
   ]
  },
  {
   "cell_type": "code",
   "execution_count": 11,
   "id": "2b28f9cb-a8cd-4199-92fc-1a55daac739b",
   "metadata": {},
   "outputs": [
    {
     "name": "stdout",
     "output_type": "stream",
     "text": [
      "                      datetime   site_no  00010_Maximum 00010_Maximum_cd  \\\n",
      "0    2011-10-01 00:00:00+00:00  12305000           15.5                A   \n",
      "1    2011-10-02 00:00:00+00:00  12305000           15.5                A   \n",
      "2    2011-10-03 00:00:00+00:00  12305000           15.5                A   \n",
      "3    2011-10-04 00:00:00+00:00  12305000           14.5                A   \n",
      "4    2011-10-05 00:00:00+00:00  12305000           13.5                A   \n",
      "...                        ...       ...            ...              ...   \n",
      "4410 2024-09-26 00:00:00+00:00  12305000           15.7                P   \n",
      "4411 2024-09-27 00:00:00+00:00  12305000           14.3                P   \n",
      "4412 2024-09-28 00:00:00+00:00  12305000           14.1                P   \n",
      "4413 2024-09-29 00:00:00+00:00  12305000           14.2                P   \n",
      "4414 2024-09-30 00:00:00+00:00  12305000           13.6                P   \n",
      "\n",
      "      00010_Minimum 00010_Minimum_cd  00010_Mean 00010_Mean_cd        Date  \\\n",
      "0              13.5                A        14.5             A  2011-10-01   \n",
      "1              14.5                A        15.0             A  2011-10-02   \n",
      "2              14.5                A        15.0             A  2011-10-03   \n",
      "3              13.5                A        14.0             A  2011-10-04   \n",
      "4              13.0                A        13.0             A  2011-10-05   \n",
      "...             ...              ...         ...           ...         ...   \n",
      "4410           14.3                P        15.3             P  2024-09-26   \n",
      "4411           13.4                P        13.9             P  2024-09-27   \n",
      "4412           13.4                P        13.7             P  2024-09-28   \n",
      "4413           13.5                P        13.9             P  2024-09-29   \n",
      "4414           12.5                P        13.1             P  2024-09-30   \n",
      "\n",
      "      Month  Year  \n",
      "0        10  2011  \n",
      "1        10  2011  \n",
      "2        10  2011  \n",
      "3        10  2011  \n",
      "4        10  2011  \n",
      "...     ...   ...  \n",
      "4410      9  2024  \n",
      "4411      9  2024  \n",
      "4412      9  2024  \n",
      "4413      9  2024  \n",
      "4414      9  2024  \n",
      "\n",
      "[4415 rows x 11 columns]\n",
      "datetime            datetime64[ns, UTC]\n",
      "site_no                          object\n",
      "00010_Maximum                   float64\n",
      "00010_Maximum_cd                 object\n",
      "00010_Minimum                   float64\n",
      "00010_Minimum_cd                 object\n",
      "00010_Mean                      float64\n",
      "00010_Mean_cd                    object\n",
      "Date                             object\n",
      "Month                             int32\n",
      "Year                              int32\n",
      "dtype: object\n",
      "<class 'pandas.core.frame.DataFrame'>\n"
     ]
    }
   ],
   "source": [
    "parameterCode = \"00010\" \n",
    "\n",
    "# Retrieve the data\n",
    "dailyStreamtemp = nwis.get_dv(sites=siteNumber, parameterCd=parameterCode, start=startDate, end=endDate) \n",
    "\n",
    "dailyStreamtemp_df = pd.DataFrame( dailyStreamtemp[0] )\n",
    "dailyStreamtemp_df = dailyStreamtemp_df.reset_index()\n",
    "dailyStreamtemp_df['Date'] = dailyStreamtemp_df['datetime'].dt.date\n",
    "dailyStreamtemp_df['Month'] = dailyStreamtemp_df['datetime'].dt.month\n",
    "dailyStreamtemp_df['Year'] = dailyStreamtemp_df['datetime'].dt.year\n",
    "\n",
    "print( dailyStreamtemp_df)\n",
    "\n",
    "print( dailyStreamtemp_df.dtypes)\n",
    "print( type(dailyStreamtemp_df[[\"Date\"]]) )"
   ]
  },
  {
   "cell_type": "markdown",
   "id": "d93d2522-3298-42aa-a297-4be3dab8a5f1",
   "metadata": {},
   "source": [
    "the minimum date of stream temp\n"
   ]
  },
  {
   "cell_type": "code",
   "execution_count": 26,
   "id": "2d86dc4c-0ddb-4762-8480-ad2d904e739f",
   "metadata": {},
   "outputs": [
    {
     "name": "stdout",
     "output_type": "stream",
     "text": [
      "2011-10-01\n",
      "<class 'str'>\n"
     ]
    }
   ],
   "source": [
    "#print( (dailyStreamtemp_df[[\"Date\"]].iloc[0] )   )\n",
    "min_dailyStreamtemp_date = str( dailyStreamtemp_df[\"Date\"].iloc[0] )\n",
    "print(  \n",
    "   min_dailyStreamtemp_date \n",
    "    \n",
    "#    min_dailyStreamtemp_date  \n",
    ")\n",
    "print( type(  min_dailyStreamtemp_date )    )"
   ]
  },
  {
   "cell_type": "code",
   "execution_count": 28,
   "id": "364a21bc-913b-4f4c-94ae-ed11a48cf086",
   "metadata": {},
   "outputs": [
    {
     "name": "stdout",
     "output_type": "stream",
     "text": [
      "(                            site_no  00010_Maximum 00010_Maximum_cd  \\\n",
      "datetime                                                              \n",
      "2011-10-01 00:00:00+00:00  12305000           15.5                A   \n",
      "2011-10-02 00:00:00+00:00  12305000           15.5                A   \n",
      "2011-10-03 00:00:00+00:00  12305000           15.5                A   \n",
      "2011-10-04 00:00:00+00:00  12305000           14.5                A   \n",
      "2011-10-05 00:00:00+00:00  12305000           13.5                A   \n",
      "...                             ...            ...              ...   \n",
      "2024-09-26 00:00:00+00:00  12305000           15.7                P   \n",
      "2024-09-27 00:00:00+00:00  12305000           14.3                P   \n",
      "2024-09-28 00:00:00+00:00  12305000           14.1                P   \n",
      "2024-09-29 00:00:00+00:00  12305000           14.2                P   \n",
      "2024-09-30 00:00:00+00:00  12305000           13.6                P   \n",
      "\n",
      "                           00010_Minimum 00010_Minimum_cd  00010_Mean  \\\n",
      "datetime                                                                \n",
      "2011-10-01 00:00:00+00:00           13.5                A        14.5   \n",
      "2011-10-02 00:00:00+00:00           14.5                A        15.0   \n",
      "2011-10-03 00:00:00+00:00           14.5                A        15.0   \n",
      "2011-10-04 00:00:00+00:00           13.5                A        14.0   \n",
      "2011-10-05 00:00:00+00:00           13.0                A        13.0   \n",
      "...                                  ...              ...         ...   \n",
      "2024-09-26 00:00:00+00:00           14.3                P        15.3   \n",
      "2024-09-27 00:00:00+00:00           13.4                P        13.9   \n",
      "2024-09-28 00:00:00+00:00           13.4                P        13.7   \n",
      "2024-09-29 00:00:00+00:00           13.5                P        13.9   \n",
      "2024-09-30 00:00:00+00:00           12.5                P        13.1   \n",
      "\n",
      "                          00010_Mean_cd  \n",
      "datetime                                 \n",
      "2011-10-01 00:00:00+00:00             A  \n",
      "2011-10-02 00:00:00+00:00             A  \n",
      "2011-10-03 00:00:00+00:00             A  \n",
      "2011-10-04 00:00:00+00:00             A  \n",
      "2011-10-05 00:00:00+00:00             A  \n",
      "...                                 ...  \n",
      "2024-09-26 00:00:00+00:00             P  \n",
      "2024-09-27 00:00:00+00:00             P  \n",
      "2024-09-28 00:00:00+00:00             P  \n",
      "2024-09-29 00:00:00+00:00             P  \n",
      "2024-09-30 00:00:00+00:00             P  \n",
      "\n",
      "[4415 rows x 7 columns], NWIS_Metadata(url=https://waterservices.usgs.gov/nwis/dv?format=json&parameterCd=00010&startDT=2011-10-01&endDT=2024-09-30&sites=12305000))\n",
      "<class 'tuple'>\n"
     ]
    }
   ],
   "source": [
    "\n",
    "dailyStreamflow = nwis.get_dv(sites=siteNumber, parameterCd=parameterCode, start= min_dailyStreamtemp_date , end=endDate) \n",
    "print(dailyStreamflow)\n",
    "print( type(dailyStreamflow) )"
   ]
  },
  {
   "cell_type": "code",
   "execution_count": 32,
   "id": "b048f4a3-3f58-43c3-938d-5736325a33f2",
   "metadata": {},
   "outputs": [
    {
     "name": "stdout",
     "output_type": "stream",
     "text": [
      "siteNumber: 12305000\n",
      "min_dailyStreamtemp_date: 2011-10-01\n",
      "dec_lat_va: 0    48.616883\n",
      "Name: dec_lat_va, dtype: float64\n",
      "dec_long_va: 0   -116.049194\n",
      "Name: dec_long_va, dtype: float64\n"
     ]
    }
   ],
   "source": [
    "print( \"siteNumber:\", siteNumber    )\n",
    "\n",
    "print(\"min_dailyStreamtemp_date:\", min_dailyStreamtemp_date)\n",
    "\n",
    "print(\"dec_lat_va:\", site_info_df[\"dec_lat_va\"]    )\n",
    "\n",
    "print(\"dec_long_va:\", site_info_df[\"dec_long_va\"]    )\n"
   ]
  },
  {
   "cell_type": "code",
   "execution_count": null,
   "id": "23715371-fbd6-4665-99a0-12d0d94c64f9",
   "metadata": {},
   "outputs": [],
   "source": []
  }
 ],
 "metadata": {
  "kernelspec": {
   "display_name": "Python 3 (ipykernel)",
   "language": "python",
   "name": "python3"
  },
  "language_info": {
   "codemirror_mode": {
    "name": "ipython",
    "version": 3
   },
   "file_extension": ".py",
   "mimetype": "text/x-python",
   "name": "python",
   "nbconvert_exporter": "python",
   "pygments_lexer": "ipython3",
   "version": "3.12.4"
  }
 },
 "nbformat": 4,
 "nbformat_minor": 5
}
