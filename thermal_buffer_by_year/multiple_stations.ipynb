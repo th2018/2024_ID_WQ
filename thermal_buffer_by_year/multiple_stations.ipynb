{
 "cells": [
  {
   "cell_type": "markdown",
   "id": "ddb904ed-371b-4278-9f84-a4c430ca7f65",
   "metadata": {},
   "source": [
    "Import packages"
   ]
  },
  {
   "cell_type": "code",
   "execution_count": 1,
   "id": "35183962-a718-4197-804c-2d7599ca0c37",
   "metadata": {},
   "outputs": [],
   "source": [
    "from dataretrieval import nwis\n",
    "import pandas as pd"
   ]
  },
  {
   "cell_type": "markdown",
   "id": "717ef3e4-2333-4ad8-8d5b-9313a6fd33fc",
   "metadata": {},
   "source": [
    "Identify USGS site IDs"
   ]
  },
  {
   "cell_type": "code",
   "execution_count": 2,
   "id": "0026464c-8ef5-4961-b249-b7bab29822cb",
   "metadata": {},
   "outputs": [],
   "source": [
    "siteNumber = [\"12305000\",\"06038800\"]\n",
    "parameterCode = \"00060\" # Discharge\n",
    "startDate = \"1990-10-01\"\n",
    "endDate = \"2024-09-30\""
   ]
  },
  {
   "cell_type": "markdown",
   "id": "544f45e3-4ad4-4714-aa6a-44311984f722",
   "metadata": {},
   "source": [
    "Retrive site infomation"
   ]
  },
  {
   "cell_type": "code",
   "execution_count": 3,
   "id": "e8cbbfa3-8198-4fd5-a7c0-4281c99c33aa",
   "metadata": {},
   "outputs": [
    {
     "name": "stdout",
     "output_type": "stream",
     "text": [
      "  agency_cd   site_no                                  station_nm site_tp_cd  \\\n",
      "0      USGS  06038800  Madison River at Kirby Ranch nr Cameron MT         ST   \n",
      "1      USGS  12305000                KOOTENAI RIVER AT LEONIA, ID         ST   \n",
      "\n",
      "      lat_va     long_va  dec_lat_va  dec_long_va coord_meth_cd  coord_acy_cd  \\\n",
      "0  445319.16  1113451.19   44.888656  -111.580886             N             1   \n",
      "1  483700.78  1160257.10   48.616883  -116.049194             N             1   \n",
      "\n",
      "   ... local_time_fg reliability_cd  gw_file_cd  nat_aqfr_cd  aqfr_cd  \\\n",
      "0  ...             Y              C    NYNNNNNN          NaN      NaN   \n",
      "1  ...             Y              C    NNNNNNNN          NaN      NaN   \n",
      "\n",
      "  aqfr_type_cd well_depth_va hole_depth_va  depth_src_cd  project_no  \n",
      "0          NaN           NaN           NaN           NaN         NaN  \n",
      "1          NaN           NaN           NaN           NaN         NaN  \n",
      "\n",
      "[2 rows x 42 columns]\n"
     ]
    }
   ],
   "source": [
    "site_info = nwis.get_info(sites= siteNumber )\n",
    "\n",
    "site_info_df = pd.DataFrame( site_info[0] )\n",
    "\n",
    "print( site_info_df )\n",
    "\n",
    "#print( site_info_df.columns )"
   ]
  },
  {
   "cell_type": "markdown",
   "id": "5be3278f-562e-4684-825b-53c6fc604536",
   "metadata": {},
   "source": [
    "Extract stream temp data"
   ]
  },
  {
   "cell_type": "code",
   "execution_count": 4,
   "id": "956955ad-f17e-4f5f-91f1-4a9e31c68a18",
   "metadata": {},
   "outputs": [
    {
     "name": "stdout",
     "output_type": "stream",
     "text": [
      "        site_no                  datetime  00010_Maximum 00010_Maximum_cd  \\\n",
      "0      06038800 1995-04-12 00:00:00+00:00            5.5                A   \n",
      "1      06038800 1995-04-13 00:00:00+00:00            6.5                A   \n",
      "2      06038800 1995-04-14 00:00:00+00:00            6.0                A   \n",
      "3      06038800 1995-04-15 00:00:00+00:00            6.5                A   \n",
      "4      06038800 1995-04-16 00:00:00+00:00            6.5                A   \n",
      "...         ...                       ...            ...              ...   \n",
      "12896  12305000 2024-09-26 00:00:00+00:00           15.7                P   \n",
      "12897  12305000 2024-09-27 00:00:00+00:00           14.3                P   \n",
      "12898  12305000 2024-09-28 00:00:00+00:00           14.1                P   \n",
      "12899  12305000 2024-09-29 00:00:00+00:00           14.2                P   \n",
      "12900  12305000 2024-09-30 00:00:00+00:00           13.6                P   \n",
      "\n",
      "       00010_Minimum 00010_Minimum_cd  00010_Mean 00010_Mean_cd        Date  \\\n",
      "0                2.5                A         4.0             A  1995-04-12   \n",
      "1                3.0                A         4.0             A  1995-04-13   \n",
      "2                2.0                A         3.5             A  1995-04-14   \n",
      "3                2.0                A         3.5             A  1995-04-15   \n",
      "4                2.0                A         3.5             A  1995-04-16   \n",
      "...              ...              ...         ...           ...         ...   \n",
      "12896           14.3                P        15.3             P  2024-09-26   \n",
      "12897           13.4                P        13.9             P  2024-09-27   \n",
      "12898           13.4                P        13.7             P  2024-09-28   \n",
      "12899           13.5                P        13.9             P  2024-09-29   \n",
      "12900           12.5                P        13.1             P  2024-09-30   \n",
      "\n",
      "       Month  Year  \n",
      "0          4  1995  \n",
      "1          4  1995  \n",
      "2          4  1995  \n",
      "3          4  1995  \n",
      "4          4  1995  \n",
      "...      ...   ...  \n",
      "12896      9  2024  \n",
      "12897      9  2024  \n",
      "12898      9  2024  \n",
      "12899      9  2024  \n",
      "12900      9  2024  \n",
      "\n",
      "[12901 rows x 11 columns]\n"
     ]
    }
   ],
   "source": [
    "parameterCode = \"00010\" \n",
    "\n",
    "dailyStreamtemp = nwis.get_dv(sites=siteNumber, parameterCd=parameterCode, start=startDate, end=endDate) \n",
    "\n",
    "dailyStreamtemp_df = pd.DataFrame( dailyStreamtemp[0] )\n",
    "dailyStreamtemp_df = dailyStreamtemp_df.reset_index()\n",
    "dailyStreamtemp_df['Date'] = dailyStreamtemp_df['datetime'].dt.date\n",
    "dailyStreamtemp_df['Month'] = dailyStreamtemp_df['datetime'].dt.month\n",
    "dailyStreamtemp_df['Year'] = dailyStreamtemp_df['datetime'].dt.year\n",
    "\n",
    "print( dailyStreamtemp_df)\n",
    "\n",
    "#print( dailyStreamtemp_df.dtypes)\n",
    "#print( type(dailyStreamtemp_df[[\"Date\"]]) )"
   ]
  },
  {
   "cell_type": "markdown",
   "id": "aba5c919-6cd7-4836-b219-a0e56a2c15d2",
   "metadata": {},
   "source": [
    "Identify the minimum date of stream temp"
   ]
  },
  {
   "cell_type": "code",
   "execution_count": 5,
   "id": "cd62d97d-1cc4-46c5-9cc7-f7ba5073215c",
   "metadata": {},
   "outputs": [
    {
     "name": "stdout",
     "output_type": "stream",
     "text": [
      "1995-04-12\n",
      "<class 'str'>\n"
     ]
    }
   ],
   "source": [
    "min_dailyStreamtemp_date = str( dailyStreamtemp_df[\"Date\"].iloc[0] )\n",
    "print(  \n",
    "   min_dailyStreamtemp_date \n",
    "    \n",
    "#    min_dailyStreamtemp_date  \n",
    ")\n",
    "print( type(  min_dailyStreamtemp_date )    )"
   ]
  },
  {
   "cell_type": "markdown",
   "id": "3a591f59-6cbd-4a11-a3a3-29f0e7a4301d",
   "metadata": {},
   "source": [
    "extract streamflow data"
   ]
  },
  {
   "cell_type": "code",
   "execution_count": 7,
   "id": "2acae418-3063-417c-8b0c-111fb9186830",
   "metadata": {},
   "outputs": [
    {
     "name": "stdout",
     "output_type": "stream",
     "text": [
      "        site_no                  datetime  00060_Mean 00060_Mean_cd  \\\n",
      "50     06038800 1995-06-01 00:00:00+00:00      2510.0             A   \n",
      "51     06038800 1995-06-02 00:00:00+00:00      2570.0             A   \n",
      "52     06038800 1995-06-03 00:00:00+00:00      2750.0             A   \n",
      "53     06038800 1995-06-04 00:00:00+00:00      2850.0             A   \n",
      "54     06038800 1995-06-05 00:00:00+00:00      2870.0             A   \n",
      "...         ...                       ...         ...           ...   \n",
      "21495  12305000 2024-08-27 00:00:00+00:00      8580.0             A   \n",
      "21496  12305000 2024-08-28 00:00:00+00:00      8610.0             A   \n",
      "21497  12305000 2024-08-29 00:00:00+00:00      8620.0             A   \n",
      "21498  12305000 2024-08-30 00:00:00+00:00      8590.0             A   \n",
      "21499  12305000 2024-08-31 00:00:00+00:00      8560.0             A   \n",
      "\n",
      "             Date  Month  Year  \n",
      "50     1995-06-01      6  1995  \n",
      "51     1995-06-02      6  1995  \n",
      "52     1995-06-03      6  1995  \n",
      "53     1995-06-04      6  1995  \n",
      "54     1995-06-05      6  1995  \n",
      "...           ...    ...   ...  \n",
      "21495  2024-08-27      8  2024  \n",
      "21496  2024-08-28      8  2024  \n",
      "21497  2024-08-29      8  2024  \n",
      "21498  2024-08-30      8  2024  \n",
      "21499  2024-08-31      8  2024  \n",
      "\n",
      "[5520 rows x 7 columns]\n"
     ]
    }
   ],
   "source": [
    "parameterCode = \"00060\" \n",
    "dailyStreamflow = nwis.get_dv(sites=siteNumber, parameterCd=parameterCode, start= min_dailyStreamtemp_date , end=endDate) \n",
    "#print(dailyStreamflow)\n",
    "#print( type(dailyStreamflow) )\n",
    "\n",
    "dailyStreamflow_df = pd.DataFrame( dailyStreamflow[0] )\n",
    "dailyStreamflow_df =dailyStreamflow_df .reset_index()\n",
    "\n",
    "\n",
    "# Convert datetime to date (remove the time part)\n",
    "dailyStreamflow_df['Date'] = dailyStreamflow_df['datetime'].dt.date\n",
    "dailyStreamflow_df['Month'] = dailyStreamflow_df['datetime'].dt.month\n",
    "dailyStreamflow_df['Year'] = dailyStreamflow_df['datetime'].dt.year\n",
    "\n",
    "dailyStreamflow_df = dailyStreamflow_df[ dailyStreamflow_df['Month'].isin( [6,7,8] )    ]\n",
    "\n",
    "print(dailyStreamflow_df)"
   ]
  }
 ],
 "metadata": {
  "kernelspec": {
   "display_name": "Python 3 (ipykernel)",
   "language": "python",
   "name": "python3"
  },
  "language_info": {
   "codemirror_mode": {
    "name": "ipython",
    "version": 3
   },
   "file_extension": ".py",
   "mimetype": "text/x-python",
   "name": "python",
   "nbconvert_exporter": "python",
   "pygments_lexer": "ipython3",
   "version": "3.12.4"
  }
 },
 "nbformat": 4,
 "nbformat_minor": 5
}
