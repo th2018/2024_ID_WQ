{
 "cells": [
  {
   "cell_type": "markdown",
   "id": "20e691b2",
   "metadata": {},
   "source": [
    "The first step in the data-cleaning process is to read the data."
   ]
  },
  {
   "cell_type": "code",
   "execution_count": 1,
   "id": "495c1e6b",
   "metadata": {},
   "outputs": [],
   "source": [
    "from dataretrieval import nwis\n",
    "from IPython.display import display"
   ]
  },
  {
   "cell_type": "code",
   "execution_count": 2,
   "id": "b7c1ebe8",
   "metadata": {},
   "outputs": [
    {
     "name": "stdout",
     "output_type": "stream",
     "text": [
      "<class 'tuple'>\n",
      "Retrieved 2976 data values.\n"
     ]
    }
   ],
   "source": [
    "# Set the parameters needed to retrieve data\n",
    "siteNumber = \"13211205\"  \n",
    "parameterCode = \"00010\" #  \n",
    "startDate = \"2011-10-01\"\n",
    "endDate = \"2024-06-21\"\n",
    "\n",
    "# Retrieve the data\n",
    "dailyStreamflow = nwis.get_dv(sites=siteNumber, parameterCd=parameterCode, start=startDate, end=endDate)\n",
    "print(  type(dailyStreamflow) )\n",
    "print(\"Retrieved \" + str(len(dailyStreamflow[0])) + \" data values.\")"
   ]
  },
  {
   "cell_type": "markdown",
   "id": "fc1786d8",
   "metadata": {},
   "source": [
    "Tuples are used to store multiple items in a single variable.\n",
    "\n",
    "Once we have the data, we should observe it to understand the structure of the data."
   ]
  },
  {
   "cell_type": "code",
   "execution_count": 3,
   "id": "c27f1190",
   "metadata": {},
   "outputs": [
    {
     "data": {
      "text/html": [
       "<div>\n",
       "<style scoped>\n",
       "    .dataframe tbody tr th:only-of-type {\n",
       "        vertical-align: middle;\n",
       "    }\n",
       "\n",
       "    .dataframe tbody tr th {\n",
       "        vertical-align: top;\n",
       "    }\n",
       "\n",
       "    .dataframe thead th {\n",
       "        text-align: right;\n",
       "    }\n",
       "</style>\n",
       "<table border=\"1\" class=\"dataframe\">\n",
       "  <thead>\n",
       "    <tr style=\"text-align: right;\">\n",
       "      <th></th>\n",
       "      <th>00010_Mean</th>\n",
       "      <th>00010_Mean_cd</th>\n",
       "      <th>site_no</th>\n",
       "    </tr>\n",
       "    <tr>\n",
       "      <th>datetime</th>\n",
       "      <th></th>\n",
       "      <th></th>\n",
       "      <th></th>\n",
       "    </tr>\n",
       "  </thead>\n",
       "  <tbody>\n",
       "    <tr>\n",
       "      <th>2015-11-17 00:00:00+00:00</th>\n",
       "      <td>8.1</td>\n",
       "      <td>A</td>\n",
       "      <td>13211205</td>\n",
       "    </tr>\n",
       "    <tr>\n",
       "      <th>2015-11-18 00:00:00+00:00</th>\n",
       "      <td>8.9</td>\n",
       "      <td>A</td>\n",
       "      <td>13211205</td>\n",
       "    </tr>\n",
       "    <tr>\n",
       "      <th>2015-11-19 00:00:00+00:00</th>\n",
       "      <td>8.4</td>\n",
       "      <td>A</td>\n",
       "      <td>13211205</td>\n",
       "    </tr>\n",
       "    <tr>\n",
       "      <th>2015-11-20 00:00:00+00:00</th>\n",
       "      <td>8.0</td>\n",
       "      <td>A</td>\n",
       "      <td>13211205</td>\n",
       "    </tr>\n",
       "    <tr>\n",
       "      <th>2015-11-21 00:00:00+00:00</th>\n",
       "      <td>6.8</td>\n",
       "      <td>A</td>\n",
       "      <td>13211205</td>\n",
       "    </tr>\n",
       "    <tr>\n",
       "      <th>...</th>\n",
       "      <td>...</td>\n",
       "      <td>...</td>\n",
       "      <td>...</td>\n",
       "    </tr>\n",
       "    <tr>\n",
       "      <th>2024-06-17 00:00:00+00:00</th>\n",
       "      <td>13.6</td>\n",
       "      <td>P</td>\n",
       "      <td>13211205</td>\n",
       "    </tr>\n",
       "    <tr>\n",
       "      <th>2024-06-18 00:00:00+00:00</th>\n",
       "      <td>13.7</td>\n",
       "      <td>P</td>\n",
       "      <td>13211205</td>\n",
       "    </tr>\n",
       "    <tr>\n",
       "      <th>2024-06-19 00:00:00+00:00</th>\n",
       "      <td>14.8</td>\n",
       "      <td>P</td>\n",
       "      <td>13211205</td>\n",
       "    </tr>\n",
       "    <tr>\n",
       "      <th>2024-06-20 00:00:00+00:00</th>\n",
       "      <td>15.4</td>\n",
       "      <td>P</td>\n",
       "      <td>13211205</td>\n",
       "    </tr>\n",
       "    <tr>\n",
       "      <th>2024-06-21 00:00:00+00:00</th>\n",
       "      <td>16.2</td>\n",
       "      <td>P</td>\n",
       "      <td>13211205</td>\n",
       "    </tr>\n",
       "  </tbody>\n",
       "</table>\n",
       "<p>2976 rows × 3 columns</p>\n",
       "</div>"
      ],
      "text/plain": [
       "                           00010_Mean 00010_Mean_cd   site_no\n",
       "datetime                                                     \n",
       "2015-11-17 00:00:00+00:00         8.1             A  13211205\n",
       "2015-11-18 00:00:00+00:00         8.9             A  13211205\n",
       "2015-11-19 00:00:00+00:00         8.4             A  13211205\n",
       "2015-11-20 00:00:00+00:00         8.0             A  13211205\n",
       "2015-11-21 00:00:00+00:00         6.8             A  13211205\n",
       "...                               ...           ...       ...\n",
       "2024-06-17 00:00:00+00:00        13.6             P  13211205\n",
       "2024-06-18 00:00:00+00:00        13.7             P  13211205\n",
       "2024-06-19 00:00:00+00:00        14.8             P  13211205\n",
       "2024-06-20 00:00:00+00:00        15.4             P  13211205\n",
       "2024-06-21 00:00:00+00:00        16.2             P  13211205\n",
       "\n",
       "[2976 rows x 3 columns]"
      ]
     },
     "metadata": {},
     "output_type": "display_data"
    }
   ],
   "source": [
    "# Display the data frame as a table\n",
    "display(dailyStreamflow[0] )"
   ]
  },
  {
   "cell_type": "code",
   "execution_count": 4,
   "id": "edac948f",
   "metadata": {},
   "outputs": [
    {
     "data": {
      "text/plain": [
       "NWIS_Metadata(url=https://waterservices.usgs.gov/nwis/dv?format=json&startDT=2011-10-01&endDT=2024-06-21&sites=13211205&parameterCd=00010)"
      ]
     },
     "metadata": {},
     "output_type": "display_data"
    }
   ],
   "source": [
    "display(dailyStreamflow[1] )"
   ]
  },
  {
   "cell_type": "code",
   "execution_count": 5,
   "id": "832dc652",
   "metadata": {},
   "outputs": [
    {
     "data": {
      "text/html": [
       "<div>\n",
       "<style scoped>\n",
       "    .dataframe tbody tr th:only-of-type {\n",
       "        vertical-align: middle;\n",
       "    }\n",
       "\n",
       "    .dataframe tbody tr th {\n",
       "        vertical-align: top;\n",
       "    }\n",
       "\n",
       "    .dataframe thead th {\n",
       "        text-align: right;\n",
       "    }\n",
       "</style>\n",
       "<table border=\"1\" class=\"dataframe\">\n",
       "  <thead>\n",
       "    <tr style=\"text-align: right;\">\n",
       "      <th></th>\n",
       "      <th>00010_Mean</th>\n",
       "      <th>00010_Mean_cd</th>\n",
       "      <th>site_no</th>\n",
       "    </tr>\n",
       "    <tr>\n",
       "      <th>datetime</th>\n",
       "      <th></th>\n",
       "      <th></th>\n",
       "      <th></th>\n",
       "    </tr>\n",
       "  </thead>\n",
       "  <tbody>\n",
       "    <tr>\n",
       "      <th>2015-11-17 00:00:00+00:00</th>\n",
       "      <td>8.1</td>\n",
       "      <td>A</td>\n",
       "      <td>13211205</td>\n",
       "    </tr>\n",
       "    <tr>\n",
       "      <th>2015-11-18 00:00:00+00:00</th>\n",
       "      <td>8.9</td>\n",
       "      <td>A</td>\n",
       "      <td>13211205</td>\n",
       "    </tr>\n",
       "    <tr>\n",
       "      <th>2015-11-19 00:00:00+00:00</th>\n",
       "      <td>8.4</td>\n",
       "      <td>A</td>\n",
       "      <td>13211205</td>\n",
       "    </tr>\n",
       "    <tr>\n",
       "      <th>2015-11-20 00:00:00+00:00</th>\n",
       "      <td>8.0</td>\n",
       "      <td>A</td>\n",
       "      <td>13211205</td>\n",
       "    </tr>\n",
       "    <tr>\n",
       "      <th>2015-11-21 00:00:00+00:00</th>\n",
       "      <td>6.8</td>\n",
       "      <td>A</td>\n",
       "      <td>13211205</td>\n",
       "    </tr>\n",
       "    <tr>\n",
       "      <th>2015-11-22 00:00:00+00:00</th>\n",
       "      <td>6.2</td>\n",
       "      <td>A</td>\n",
       "      <td>13211205</td>\n",
       "    </tr>\n",
       "    <tr>\n",
       "      <th>2015-11-23 00:00:00+00:00</th>\n",
       "      <td>6.2</td>\n",
       "      <td>A</td>\n",
       "      <td>13211205</td>\n",
       "    </tr>\n",
       "    <tr>\n",
       "      <th>2015-11-24 00:00:00+00:00</th>\n",
       "      <td>6.9</td>\n",
       "      <td>A</td>\n",
       "      <td>13211205</td>\n",
       "    </tr>\n",
       "    <tr>\n",
       "      <th>2015-11-25 00:00:00+00:00</th>\n",
       "      <td>7.3</td>\n",
       "      <td>A</td>\n",
       "      <td>13211205</td>\n",
       "    </tr>\n",
       "    <tr>\n",
       "      <th>2015-11-26 00:00:00+00:00</th>\n",
       "      <td>6.6</td>\n",
       "      <td>A</td>\n",
       "      <td>13211205</td>\n",
       "    </tr>\n",
       "  </tbody>\n",
       "</table>\n",
       "</div>"
      ],
      "text/plain": [
       "                           00010_Mean 00010_Mean_cd   site_no\n",
       "datetime                                                     \n",
       "2015-11-17 00:00:00+00:00         8.1             A  13211205\n",
       "2015-11-18 00:00:00+00:00         8.9             A  13211205\n",
       "2015-11-19 00:00:00+00:00         8.4             A  13211205\n",
       "2015-11-20 00:00:00+00:00         8.0             A  13211205\n",
       "2015-11-21 00:00:00+00:00         6.8             A  13211205\n",
       "2015-11-22 00:00:00+00:00         6.2             A  13211205\n",
       "2015-11-23 00:00:00+00:00         6.2             A  13211205\n",
       "2015-11-24 00:00:00+00:00         6.9             A  13211205\n",
       "2015-11-25 00:00:00+00:00         7.3             A  13211205\n",
       "2015-11-26 00:00:00+00:00         6.6             A  13211205"
      ]
     },
     "execution_count": 5,
     "metadata": {},
     "output_type": "execute_result"
    }
   ],
   "source": [
    "dailyStreamflow[0].head(10)"
   ]
  },
  {
   "cell_type": "markdown",
   "id": "e6df4dbe",
   "metadata": {},
   "source": [
    "The zip() function returns a zip object, which is an iterator of tuples.\n",
    "\n",
    "Check the data types of each column."
   ]
  },
  {
   "cell_type": "code",
   "execution_count": 6,
   "id": "d593b193",
   "metadata": {},
   "outputs": [
    {
     "name": "stdout",
     "output_type": "stream",
     "text": [
      "00010_Mean:float64\n",
      "00010_Mean_cd:object\n",
      "site_no:object\n"
     ]
    }
   ],
   "source": [
    "for column, dtype in zip( dailyStreamflow[0].columns,  dailyStreamflow[0].dtypes):\n",
    "    print(f\"{column}:{dtype}\")"
   ]
  },
  {
   "cell_type": "markdown",
   "id": "104a3bab",
   "metadata": {},
   "source": [
    "Find the null values in the dataset."
   ]
  },
  {
   "cell_type": "code",
   "execution_count": 9,
   "id": "e177a4ec",
   "metadata": {},
   "outputs": [
    {
     "name": "stdout",
     "output_type": "stream",
     "text": [
      "                           00010_Mean  00010_Mean_cd  site_no\n",
      "datetime                                                     \n",
      "2015-11-17 00:00:00+00:00       False          False    False\n",
      "2015-11-18 00:00:00+00:00       False          False    False\n",
      "2015-11-19 00:00:00+00:00       False          False    False\n",
      "2015-11-20 00:00:00+00:00       False          False    False\n",
      "2015-11-21 00:00:00+00:00       False          False    False\n",
      "...                               ...            ...      ...\n",
      "2024-06-17 00:00:00+00:00       False          False    False\n",
      "2024-06-18 00:00:00+00:00       False          False    False\n",
      "2024-06-19 00:00:00+00:00       False          False    False\n",
      "2024-06-20 00:00:00+00:00       False          False    False\n",
      "2024-06-21 00:00:00+00:00       False          False    False\n",
      "\n",
      "[2976 rows x 3 columns]\n"
     ]
    }
   ],
   "source": [
    "dataset_null =  dailyStreamflow[0].isnull()\n",
    "print(dataset_null) "
   ]
  },
  {
   "cell_type": "code",
   "execution_count": 10,
   "id": "625bd28a",
   "metadata": {},
   "outputs": [
    {
     "data": {
      "text/html": [
       "<div>\n",
       "<style scoped>\n",
       "    .dataframe tbody tr th:only-of-type {\n",
       "        vertical-align: middle;\n",
       "    }\n",
       "\n",
       "    .dataframe tbody tr th {\n",
       "        vertical-align: top;\n",
       "    }\n",
       "\n",
       "    .dataframe thead th {\n",
       "        text-align: right;\n",
       "    }\n",
       "</style>\n",
       "<table border=\"1\" class=\"dataframe\">\n",
       "  <thead>\n",
       "    <tr style=\"text-align: right;\">\n",
       "      <th></th>\n",
       "      <th>00010_Mean</th>\n",
       "    </tr>\n",
       "  </thead>\n",
       "  <tbody>\n",
       "    <tr>\n",
       "      <th>count</th>\n",
       "      <td>2976.000000</td>\n",
       "    </tr>\n",
       "    <tr>\n",
       "      <th>mean</th>\n",
       "      <td>11.442003</td>\n",
       "    </tr>\n",
       "    <tr>\n",
       "      <th>std</th>\n",
       "      <td>5.624638</td>\n",
       "    </tr>\n",
       "    <tr>\n",
       "      <th>min</th>\n",
       "      <td>0.300000</td>\n",
       "    </tr>\n",
       "    <tr>\n",
       "      <th>25%</th>\n",
       "      <td>6.500000</td>\n",
       "    </tr>\n",
       "    <tr>\n",
       "      <th>50%</th>\n",
       "      <td>10.700000</td>\n",
       "    </tr>\n",
       "    <tr>\n",
       "      <th>75%</th>\n",
       "      <td>16.025000</td>\n",
       "    </tr>\n",
       "    <tr>\n",
       "      <th>max</th>\n",
       "      <td>23.300000</td>\n",
       "    </tr>\n",
       "  </tbody>\n",
       "</table>\n",
       "</div>"
      ],
      "text/plain": [
       "        00010_Mean\n",
       "count  2976.000000\n",
       "mean     11.442003\n",
       "std       5.624638\n",
       "min       0.300000\n",
       "25%       6.500000\n",
       "50%      10.700000\n",
       "75%      16.025000\n",
       "max      23.300000"
      ]
     },
     "execution_count": 10,
     "metadata": {},
     "output_type": "execute_result"
    }
   ],
   "source": [
    "dailyStreamflow[0].describe()"
   ]
  },
  {
   "cell_type": "code",
   "execution_count": 12,
   "id": "da577af2",
   "metadata": {},
   "outputs": [
    {
     "name": "stdout",
     "output_type": "stream",
     "text": [
      "00010_Mean       0\n",
      "00010_Mean_cd    0\n",
      "site_no          0\n",
      "dtype: int64\n"
     ]
    }
   ],
   "source": [
    "print( dailyStreamflow[0].isnull().sum())"
   ]
  },
  {
   "cell_type": "code",
   "execution_count": null,
   "id": "24ba9835",
   "metadata": {},
   "outputs": [],
   "source": []
  }
 ],
 "metadata": {
  "kernelspec": {
   "display_name": "Python 3 (ipykernel)",
   "language": "python",
   "name": "python3"
  },
  "language_info": {
   "codemirror_mode": {
    "name": "ipython",
    "version": 3
   },
   "file_extension": ".py",
   "mimetype": "text/x-python",
   "name": "python",
   "nbconvert_exporter": "python",
   "pygments_lexer": "ipython3",
   "version": "3.11.0"
  }
 },
 "nbformat": 4,
 "nbformat_minor": 5
}
