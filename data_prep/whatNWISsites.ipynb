{
 "cells": [
  {
   "cell_type": "code",
   "execution_count": 1,
   "id": "f6a664fe-31d5-4777-bcfc-9d069d56e053",
   "metadata": {},
   "outputs": [],
   "source": [
    "import dataretrieval.nwis as nwis\n",
    "import pandas as pd"
   ]
  },
  {
   "cell_type": "code",
   "execution_count": 2,
   "id": "f594da3e-f551-4a29-9643-95f32d51caaf",
   "metadata": {},
   "outputs": [],
   "source": [
    "#https://maps.waterdata.usgs.gov/mapper/help/sitetype.html\n",
    "#print(    siteList_df['site_tp_cd'].unique()    )"
   ]
  },
  {
   "cell_type": "code",
   "execution_count": 3,
   "id": "278ad6f5-6c58-4d38-8943-95747d3534ae",
   "metadata": {},
   "outputs": [
    {
     "name": "stdout",
     "output_type": "stream",
     "text": [
      "     agency_cd        site_no  \\\n",
      "0         USGS       10039500   \n",
      "1         USGS       10042500   \n",
      "2         USGS       10044000   \n",
      "5         USGS       10046500   \n",
      "6         USGS       10047000   \n",
      "...        ...            ...   \n",
      "1054      USGS       13346800   \n",
      "1055      USGS       13350448   \n",
      "1125      USGS  4323401155133   \n",
      "1149      USGS  4355501121634   \n",
      "1150      USGS  4357331144813   \n",
      "\n",
      "                                            station_nm site_tp_cd  dec_lat_va  \\\n",
      "0                             BEAR RIVER AT BORDER, WY         ST   42.211043   \n",
      "1                            THOMAS FORK NR RAYMOND ID         ST   42.258889   \n",
      "2                              BEAR RIVER AT HARER, ID         ST   42.197153   \n",
      "5           BEAR RIVER BL STEWART DAM NR MONTPELIER ID         ST   42.253056   \n",
      "6                    MONTPELIER CREEK NR MONTPELIER ID         ST   42.342778   \n",
      "...                                                ...        ...         ...   \n",
      "1054   PARADISE CR AT UNIVERSITY OF IDAHO AT MOSCOW ID         ST   46.731944   \n",
      "1055                           COW CREEK AT GENESEE ID         ST   46.546554   \n",
      "1125                      BOWNS CREEK NEAR MAYFIELD ID         ST   43.394444   \n",
      "1149                      Camas Creek near Toomey Pond         ST   43.930583   \n",
      "1150  SALMON RIVER AT BUSTERBACK DIVERSION NR OBSIDIAN         ST   43.959167   \n",
      "\n",
      "      dec_long_va coord_acy_cd dec_coord_datum_cd   alt_va  alt_acy_va  \\\n",
      "0     -111.053802            S              NAD83  6056.85        0.23   \n",
      "1     -111.076111            S              NAD83  6080.00       20.00   \n",
      "2     -111.168808            F              NAD83  6000.00       20.00   \n",
      "5     -111.289722            S              NAD83  5950.00       20.00   \n",
      "6     -111.176111            S              NAD83  6427.46        0.01   \n",
      "...           ...          ...                ...      ...         ...   \n",
      "1054  -117.024167            S              NAD83  2536.50        0.17   \n",
      "1055  -116.927936            F              NAD83  2660.00       20.00   \n",
      "1125  -115.859167            S              NAD83  3602.00        1.00   \n",
      "1149  -112.276114            1              NAD83  4792.00        4.30   \n",
      "1150  -114.803611            S              NAD83      NaN         NaN   \n",
      "\n",
      "     alt_datum_cd      huc_cd  \n",
      "0          NAVD88  16010102.0  \n",
      "1          NGVD29  16010102.0  \n",
      "2          NGVD29  16010102.0  \n",
      "5          NGVD29  16010201.0  \n",
      "6          NGVD29  16010201.0  \n",
      "...           ...         ...  \n",
      "1054       NAVD88  17060108.0  \n",
      "1055       NGVD29  17060108.0  \n",
      "1125       NAVD88  17050114.0  \n",
      "1149       NAVD88  17040214.0  \n",
      "1150          NaN  17060201.0  \n",
      "\n",
      "[945 rows x 12 columns]\n"
     ]
    }
   ],
   "source": [
    "siteList_q  = nwis.what_sites(stateCd = \"ID\",  parameterCd = \"00060\")\n",
    "siteList_q_df =siteList_q[0]\n",
    "siteList_q_df_ST= siteList_q_df[  siteList_q_df['site_tp_cd'] == \"ST\"   ]\n",
    "print( siteList_q_df_ST )"
   ]
  },
  {
   "cell_type": "code",
   "execution_count": 4,
   "id": "01675a5d-9b9b-4244-9d1f-4656037dcb83",
   "metadata": {},
   "outputs": [
    {
     "name": "stdout",
     "output_type": "stream",
     "text": [
      "       site\n",
      "0  00000000\n",
      "10039500\n"
     ]
    },
    {
     "name": "stderr",
     "output_type": "stream",
     "text": [
      "/var/folders/_4/klhstfsn73nfrxlfr8_r9dhc0000gn/T/ipykernel_14091/427570331.py:10: FutureWarning: Series.__getitem__ treating keys as positions is deprecated. In a future version, integer keys will always be treated as labels (consistent with DataFrame behavior). To access a value by position, use `ser.iloc[pos]`\n",
      "  q_avil_site = pd.DataFrame(  {'site': [ df_202406['site_no'][0] ]}  )\n"
     ]
    },
    {
     "name": "stdout",
     "output_type": "stream",
     "text": [
      "10042500\n",
      "10044000\n",
      "10046500\n",
      "10047000\n",
      "10047500\n",
      "10054600\n",
      "10058500\n",
      "10058600\n",
      "10060500\n",
      "10063000\n",
      "10068500\n"
     ]
    },
    {
     "name": "stderr",
     "output_type": "stream",
     "text": [
      "/var/folders/_4/klhstfsn73nfrxlfr8_r9dhc0000gn/T/ipykernel_14091/427570331.py:10: FutureWarning: Series.__getitem__ treating keys as positions is deprecated. In a future version, integer keys will always be treated as labels (consistent with DataFrame behavior). To access a value by position, use `ser.iloc[pos]`\n",
      "  q_avil_site = pd.DataFrame(  {'site': [ df_202406['site_no'][0] ]}  )\n"
     ]
    },
    {
     "name": "stdout",
     "output_type": "stream",
     "text": [
      "10069000\n",
      "10071500\n",
      "10072000\n",
      "10072800\n",
      "10075000\n",
      "10076400\n",
      "10076500\n",
      "10077000\n",
      "10079500\n",
      "10080000\n",
      "10084500\n",
      "10086500\n",
      "10087500\n",
      "10089500\n",
      "10090500\n",
      "10091100\n",
      "10091200\n",
      "10091250\n",
      "10092700\n"
     ]
    },
    {
     "name": "stderr",
     "output_type": "stream",
     "text": [
      "/var/folders/_4/klhstfsn73nfrxlfr8_r9dhc0000gn/T/ipykernel_14091/427570331.py:10: FutureWarning: Series.__getitem__ treating keys as positions is deprecated. In a future version, integer keys will always be treated as labels (consistent with DataFrame behavior). To access a value by position, use `ser.iloc[pos]`\n",
      "  q_avil_site = pd.DataFrame(  {'site': [ df_202406['site_no'][0] ]}  )\n"
     ]
    },
    {
     "name": "stdout",
     "output_type": "stream",
     "text": [
      "10093000\n",
      "10096000\n",
      "10096500\n",
      "10098000\n",
      "10098800\n",
      "10118200\n",
      "10118500\n",
      "10119000\n",
      "10120000\n",
      "10120350\n",
      "10120500\n",
      "10120700\n",
      "10122500\n",
      "10123000\n",
      "10123500\n",
      "10124000\n",
      "10124500\n",
      "10125000\n",
      "10125500\n"
     ]
    },
    {
     "name": "stderr",
     "output_type": "stream",
     "text": [
      "/var/folders/_4/klhstfsn73nfrxlfr8_r9dhc0000gn/T/ipykernel_14091/427570331.py:10: FutureWarning: Series.__getitem__ treating keys as positions is deprecated. In a future version, integer keys will always be treated as labels (consistent with DataFrame behavior). To access a value by position, use `ser.iloc[pos]`\n",
      "  q_avil_site = pd.DataFrame(  {'site': [ df_202406['site_no'][0] ]}  )\n"
     ]
    },
    {
     "name": "stdout",
     "output_type": "stream",
     "text": [
      "12305000\n"
     ]
    },
    {
     "name": "stderr",
     "output_type": "stream",
     "text": [
      "/var/folders/_4/klhstfsn73nfrxlfr8_r9dhc0000gn/T/ipykernel_14091/427570331.py:10: FutureWarning: Series.__getitem__ treating keys as positions is deprecated. In a future version, integer keys will always be treated as labels (consistent with DataFrame behavior). To access a value by position, use `ser.iloc[pos]`\n",
      "  q_avil_site = pd.DataFrame(  {'site': [ df_202406['site_no'][0] ]}  )\n"
     ]
    },
    {
     "name": "stdout",
     "output_type": "stream",
     "text": [
      "12305500\n",
      "12306000\n",
      "12306500\n"
     ]
    },
    {
     "name": "stderr",
     "output_type": "stream",
     "text": [
      "/var/folders/_4/klhstfsn73nfrxlfr8_r9dhc0000gn/T/ipykernel_14091/427570331.py:10: FutureWarning: Series.__getitem__ treating keys as positions is deprecated. In a future version, integer keys will always be treated as labels (consistent with DataFrame behavior). To access a value by position, use `ser.iloc[pos]`\n",
      "  q_avil_site = pd.DataFrame(  {'site': [ df_202406['site_no'][0] ]}  )\n"
     ]
    },
    {
     "name": "stdout",
     "output_type": "stream",
     "text": [
      "12307000\n",
      "12307500\n",
      "12308000\n"
     ]
    },
    {
     "name": "stderr",
     "output_type": "stream",
     "text": [
      "/var/folders/_4/klhstfsn73nfrxlfr8_r9dhc0000gn/T/ipykernel_14091/427570331.py:10: FutureWarning: Series.__getitem__ treating keys as positions is deprecated. In a future version, integer keys will always be treated as labels (consistent with DataFrame behavior). To access a value by position, use `ser.iloc[pos]`\n",
      "  q_avil_site = pd.DataFrame(  {'site': [ df_202406['site_no'][0] ]}  )\n"
     ]
    },
    {
     "name": "stdout",
     "output_type": "stream",
     "text": [
      "12309000\n",
      "12310100\n",
      "12311000\n",
      "12311500\n",
      "12312000\n",
      "12313000\n",
      "12313500\n",
      "12315200\n",
      "12315400\n",
      "12316800\n",
      "12317000\n",
      "12318500\n",
      "12319500\n",
      "12319501\n",
      "12320500\n",
      "12320700\n",
      "12321000\n",
      "12321500\n"
     ]
    },
    {
     "name": "stderr",
     "output_type": "stream",
     "text": [
      "/var/folders/_4/klhstfsn73nfrxlfr8_r9dhc0000gn/T/ipykernel_14091/427570331.py:10: FutureWarning: Series.__getitem__ treating keys as positions is deprecated. In a future version, integer keys will always be treated as labels (consistent with DataFrame behavior). To access a value by position, use `ser.iloc[pos]`\n",
      "  q_avil_site = pd.DataFrame(  {'site': [ df_202406['site_no'][0] ]}  )\n"
     ]
    },
    {
     "name": "stdout",
     "output_type": "stream",
     "text": [
      "12322000\n"
     ]
    },
    {
     "name": "stderr",
     "output_type": "stream",
     "text": [
      "/var/folders/_4/klhstfsn73nfrxlfr8_r9dhc0000gn/T/ipykernel_14091/427570331.py:10: FutureWarning: Series.__getitem__ treating keys as positions is deprecated. In a future version, integer keys will always be treated as labels (consistent with DataFrame behavior). To access a value by position, use `ser.iloc[pos]`\n",
      "  q_avil_site = pd.DataFrame(  {'site': [ df_202406['site_no'][0] ]}  )\n"
     ]
    },
    {
     "name": "stdout",
     "output_type": "stream",
     "text": [
      "12322001\n"
     ]
    },
    {
     "name": "stderr",
     "output_type": "stream",
     "text": [
      "/var/folders/_4/klhstfsn73nfrxlfr8_r9dhc0000gn/T/ipykernel_14091/427570331.py:10: FutureWarning: Series.__getitem__ treating keys as positions is deprecated. In a future version, integer keys will always be treated as labels (consistent with DataFrame behavior). To access a value by position, use `ser.iloc[pos]`\n",
      "  q_avil_site = pd.DataFrame(  {'site': [ df_202406['site_no'][0] ]}  )\n"
     ]
    },
    {
     "name": "stdout",
     "output_type": "stream",
     "text": [
      "12391950\n"
     ]
    },
    {
     "name": "stderr",
     "output_type": "stream",
     "text": [
      "/var/folders/_4/klhstfsn73nfrxlfr8_r9dhc0000gn/T/ipykernel_14091/427570331.py:10: FutureWarning: Series.__getitem__ treating keys as positions is deprecated. In a future version, integer keys will always be treated as labels (consistent with DataFrame behavior). To access a value by position, use `ser.iloc[pos]`\n",
      "  q_avil_site = pd.DataFrame(  {'site': [ df_202406['site_no'][0] ]}  )\n"
     ]
    },
    {
     "name": "stdout",
     "output_type": "stream",
     "text": [
      "12392000\n",
      "12392050\n",
      "12392155\n"
     ]
    },
    {
     "name": "stderr",
     "output_type": "stream",
     "text": [
      "/var/folders/_4/klhstfsn73nfrxlfr8_r9dhc0000gn/T/ipykernel_14091/427570331.py:10: FutureWarning: Series.__getitem__ treating keys as positions is deprecated. In a future version, integer keys will always be treated as labels (consistent with DataFrame behavior). To access a value by position, use `ser.iloc[pos]`\n",
      "  q_avil_site = pd.DataFrame(  {'site': [ df_202406['site_no'][0] ]}  )\n"
     ]
    },
    {
     "name": "stdout",
     "output_type": "stream",
     "text": [
      "12392300\n"
     ]
    },
    {
     "name": "stderr",
     "output_type": "stream",
     "text": [
      "/var/folders/_4/klhstfsn73nfrxlfr8_r9dhc0000gn/T/ipykernel_14091/427570331.py:10: FutureWarning: Series.__getitem__ treating keys as positions is deprecated. In a future version, integer keys will always be treated as labels (consistent with DataFrame behavior). To access a value by position, use `ser.iloc[pos]`\n",
      "  q_avil_site = pd.DataFrame(  {'site': [ df_202406['site_no'][0] ]}  )\n"
     ]
    },
    {
     "name": "stdout",
     "output_type": "stream",
     "text": [
      "12392390\n",
      "12392400\n",
      "12392450\n",
      "12392660\n",
      "12392895\n",
      "12393500\n",
      "12393501\n"
     ]
    },
    {
     "name": "stderr",
     "output_type": "stream",
     "text": [
      "/var/folders/_4/klhstfsn73nfrxlfr8_r9dhc0000gn/T/ipykernel_14091/427570331.py:10: FutureWarning: Series.__getitem__ treating keys as positions is deprecated. In a future version, integer keys will always be treated as labels (consistent with DataFrame behavior). To access a value by position, use `ser.iloc[pos]`\n",
      "  q_avil_site = pd.DataFrame(  {'site': [ df_202406['site_no'][0] ]}  )\n"
     ]
    },
    {
     "name": "stdout",
     "output_type": "stream",
     "text": [
      "12394000\n",
      "12394500\n",
      "12395000\n"
     ]
    },
    {
     "name": "stderr",
     "output_type": "stream",
     "text": [
      "/var/folders/_4/klhstfsn73nfrxlfr8_r9dhc0000gn/T/ipykernel_14091/427570331.py:10: FutureWarning: Series.__getitem__ treating keys as positions is deprecated. In a future version, integer keys will always be treated as labels (consistent with DataFrame behavior). To access a value by position, use `ser.iloc[pos]`\n",
      "  q_avil_site = pd.DataFrame(  {'site': [ df_202406['site_no'][0] ]}  )\n"
     ]
    },
    {
     "name": "stdout",
     "output_type": "stream",
     "text": [
      "12395500\n"
     ]
    },
    {
     "name": "stderr",
     "output_type": "stream",
     "text": [
      "/var/folders/_4/klhstfsn73nfrxlfr8_r9dhc0000gn/T/ipykernel_14091/427570331.py:10: FutureWarning: Series.__getitem__ treating keys as positions is deprecated. In a future version, integer keys will always be treated as labels (consistent with DataFrame behavior). To access a value by position, use `ser.iloc[pos]`\n",
      "  q_avil_site = pd.DataFrame(  {'site': [ df_202406['site_no'][0] ]}  )\n"
     ]
    },
    {
     "name": "stdout",
     "output_type": "stream",
     "text": [
      "12411000\n"
     ]
    },
    {
     "name": "stderr",
     "output_type": "stream",
     "text": [
      "/var/folders/_4/klhstfsn73nfrxlfr8_r9dhc0000gn/T/ipykernel_14091/427570331.py:10: FutureWarning: Series.__getitem__ treating keys as positions is deprecated. In a future version, integer keys will always be treated as labels (consistent with DataFrame behavior). To access a value by position, use `ser.iloc[pos]`\n",
      "  q_avil_site = pd.DataFrame(  {'site': [ df_202406['site_no'][0] ]}  )\n"
     ]
    },
    {
     "name": "stdout",
     "output_type": "stream",
     "text": [
      "12411500\n",
      "12411935\n",
      "12412000\n",
      "12412500\n",
      "12413000\n"
     ]
    },
    {
     "name": "stderr",
     "output_type": "stream",
     "text": [
      "/var/folders/_4/klhstfsn73nfrxlfr8_r9dhc0000gn/T/ipykernel_14091/427570331.py:10: FutureWarning: Series.__getitem__ treating keys as positions is deprecated. In a future version, integer keys will always be treated as labels (consistent with DataFrame behavior). To access a value by position, use `ser.iloc[pos]`\n",
      "  q_avil_site = pd.DataFrame(  {'site': [ df_202406['site_no'][0] ]}  )\n"
     ]
    },
    {
     "name": "stdout",
     "output_type": "stream",
     "text": [
      "12413040\n",
      "12413080\n",
      "12413125\n"
     ]
    },
    {
     "name": "stderr",
     "output_type": "stream",
     "text": [
      "/var/folders/_4/klhstfsn73nfrxlfr8_r9dhc0000gn/T/ipykernel_14091/427570331.py:10: FutureWarning: Series.__getitem__ treating keys as positions is deprecated. In a future version, integer keys will always be treated as labels (consistent with DataFrame behavior). To access a value by position, use `ser.iloc[pos]`\n",
      "  q_avil_site = pd.DataFrame(  {'site': [ df_202406['site_no'][0] ]}  )\n"
     ]
    },
    {
     "name": "stdout",
     "output_type": "stream",
     "text": [
      "12413130\n"
     ]
    },
    {
     "name": "stderr",
     "output_type": "stream",
     "text": [
      "/var/folders/_4/klhstfsn73nfrxlfr8_r9dhc0000gn/T/ipykernel_14091/427570331.py:10: FutureWarning: Series.__getitem__ treating keys as positions is deprecated. In a future version, integer keys will always be treated as labels (consistent with DataFrame behavior). To access a value by position, use `ser.iloc[pos]`\n",
      "  q_avil_site = pd.DataFrame(  {'site': [ df_202406['site_no'][0] ]}  )\n"
     ]
    },
    {
     "name": "stdout",
     "output_type": "stream",
     "text": [
      "12413131\n"
     ]
    },
    {
     "name": "stderr",
     "output_type": "stream",
     "text": [
      "/var/folders/_4/klhstfsn73nfrxlfr8_r9dhc0000gn/T/ipykernel_14091/427570331.py:10: FutureWarning: Series.__getitem__ treating keys as positions is deprecated. In a future version, integer keys will always be treated as labels (consistent with DataFrame behavior). To access a value by position, use `ser.iloc[pos]`\n",
      "  q_avil_site = pd.DataFrame(  {'site': [ df_202406['site_no'][0] ]}  )\n"
     ]
    },
    {
     "name": "stdout",
     "output_type": "stream",
     "text": [
      "12413140\n",
      "12413150\n",
      "12413180\n",
      "12413210\n"
     ]
    },
    {
     "name": "stderr",
     "output_type": "stream",
     "text": [
      "/var/folders/_4/klhstfsn73nfrxlfr8_r9dhc0000gn/T/ipykernel_14091/427570331.py:10: FutureWarning: Series.__getitem__ treating keys as positions is deprecated. In a future version, integer keys will always be treated as labels (consistent with DataFrame behavior). To access a value by position, use `ser.iloc[pos]`\n",
      "  q_avil_site = pd.DataFrame(  {'site': [ df_202406['site_no'][0] ]}  )\n"
     ]
    },
    {
     "name": "stdout",
     "output_type": "stream",
     "text": [
      "12413250\n",
      "12413300\n",
      "12413355\n"
     ]
    },
    {
     "name": "stderr",
     "output_type": "stream",
     "text": [
      "/var/folders/_4/klhstfsn73nfrxlfr8_r9dhc0000gn/T/ipykernel_14091/427570331.py:10: FutureWarning: Series.__getitem__ treating keys as positions is deprecated. In a future version, integer keys will always be treated as labels (consistent with DataFrame behavior). To access a value by position, use `ser.iloc[pos]`\n",
      "  q_avil_site = pd.DataFrame(  {'site': [ df_202406['site_no'][0] ]}  )\n"
     ]
    },
    {
     "name": "stdout",
     "output_type": "stream",
     "text": [
      "12413360\n",
      "12413370\n",
      "12413400\n",
      "12413445\n",
      "12413470\n"
     ]
    },
    {
     "name": "stderr",
     "output_type": "stream",
     "text": [
      "/var/folders/_4/klhstfsn73nfrxlfr8_r9dhc0000gn/T/ipykernel_14091/427570331.py:10: FutureWarning: Series.__getitem__ treating keys as positions is deprecated. In a future version, integer keys will always be treated as labels (consistent with DataFrame behavior). To access a value by position, use `ser.iloc[pos]`\n",
      "  q_avil_site = pd.DataFrame(  {'site': [ df_202406['site_no'][0] ]}  )\n"
     ]
    },
    {
     "name": "stdout",
     "output_type": "stream",
     "text": [
      "12413490\n",
      "12413500\n"
     ]
    },
    {
     "name": "stderr",
     "output_type": "stream",
     "text": [
      "/var/folders/_4/klhstfsn73nfrxlfr8_r9dhc0000gn/T/ipykernel_14091/427570331.py:10: FutureWarning: Series.__getitem__ treating keys as positions is deprecated. In a future version, integer keys will always be treated as labels (consistent with DataFrame behavior). To access a value by position, use `ser.iloc[pos]`\n",
      "  q_avil_site = pd.DataFrame(  {'site': [ df_202406['site_no'][0] ]}  )\n"
     ]
    },
    {
     "name": "stdout",
     "output_type": "stream",
     "text": [
      "12413700\n",
      "12413810\n",
      "12413860\n"
     ]
    },
    {
     "name": "stderr",
     "output_type": "stream",
     "text": [
      "/var/folders/_4/klhstfsn73nfrxlfr8_r9dhc0000gn/T/ipykernel_14091/427570331.py:10: FutureWarning: Series.__getitem__ treating keys as positions is deprecated. In a future version, integer keys will always be treated as labels (consistent with DataFrame behavior). To access a value by position, use `ser.iloc[pos]`\n",
      "  q_avil_site = pd.DataFrame(  {'site': [ df_202406['site_no'][0] ]}  )\n"
     ]
    },
    {
     "name": "stdout",
     "output_type": "stream",
     "text": [
      "12413875\n"
     ]
    },
    {
     "name": "stderr",
     "output_type": "stream",
     "text": [
      "/var/folders/_4/klhstfsn73nfrxlfr8_r9dhc0000gn/T/ipykernel_14091/427570331.py:10: FutureWarning: Series.__getitem__ treating keys as positions is deprecated. In a future version, integer keys will always be treated as labels (consistent with DataFrame behavior). To access a value by position, use `ser.iloc[pos]`\n",
      "  q_avil_site = pd.DataFrame(  {'site': [ df_202406['site_no'][0] ]}  )\n"
     ]
    },
    {
     "name": "stdout",
     "output_type": "stream",
     "text": [
      "12414000\n",
      "12414200\n",
      "12414350\n",
      "12414500\n"
     ]
    },
    {
     "name": "stderr",
     "output_type": "stream",
     "text": [
      "/var/folders/_4/klhstfsn73nfrxlfr8_r9dhc0000gn/T/ipykernel_14091/427570331.py:10: FutureWarning: Series.__getitem__ treating keys as positions is deprecated. In a future version, integer keys will always be treated as labels (consistent with DataFrame behavior). To access a value by position, use `ser.iloc[pos]`\n",
      "  q_avil_site = pd.DataFrame(  {'site': [ df_202406['site_no'][0] ]}  )\n"
     ]
    },
    {
     "name": "stdout",
     "output_type": "stream",
     "text": [
      "12414900\n"
     ]
    },
    {
     "name": "stderr",
     "output_type": "stream",
     "text": [
      "/var/folders/_4/klhstfsn73nfrxlfr8_r9dhc0000gn/T/ipykernel_14091/427570331.py:10: FutureWarning: Series.__getitem__ treating keys as positions is deprecated. In a future version, integer keys will always be treated as labels (consistent with DataFrame behavior). To access a value by position, use `ser.iloc[pos]`\n",
      "  q_avil_site = pd.DataFrame(  {'site': [ df_202406['site_no'][0] ]}  )\n"
     ]
    },
    {
     "name": "stdout",
     "output_type": "stream",
     "text": [
      "12415000\n",
      "12415075\n",
      "12415135\n"
     ]
    },
    {
     "name": "stderr",
     "output_type": "stream",
     "text": [
      "/var/folders/_4/klhstfsn73nfrxlfr8_r9dhc0000gn/T/ipykernel_14091/427570331.py:10: FutureWarning: Series.__getitem__ treating keys as positions is deprecated. In a future version, integer keys will always be treated as labels (consistent with DataFrame behavior). To access a value by position, use `ser.iloc[pos]`\n",
      "  q_avil_site = pd.DataFrame(  {'site': [ df_202406['site_no'][0] ]}  )\n"
     ]
    },
    {
     "name": "stdout",
     "output_type": "stream",
     "text": [
      "12415140\n",
      "12415250\n",
      "12415285\n",
      "12415290\n",
      "12415350\n",
      "12416000\n",
      "12416500\n",
      "12417610\n",
      "12417650\n"
     ]
    },
    {
     "name": "stderr",
     "output_type": "stream",
     "text": [
      "/var/folders/_4/klhstfsn73nfrxlfr8_r9dhc0000gn/T/ipykernel_14091/427570331.py:10: FutureWarning: Series.__getitem__ treating keys as positions is deprecated. In a future version, integer keys will always be treated as labels (consistent with DataFrame behavior). To access a value by position, use `ser.iloc[pos]`\n",
      "  q_avil_site = pd.DataFrame(  {'site': [ df_202406['site_no'][0] ]}  )\n"
     ]
    },
    {
     "name": "stdout",
     "output_type": "stream",
     "text": [
      "12419000\n"
     ]
    },
    {
     "name": "stderr",
     "output_type": "stream",
     "text": [
      "/var/folders/_4/klhstfsn73nfrxlfr8_r9dhc0000gn/T/ipykernel_14091/427570331.py:10: FutureWarning: Series.__getitem__ treating keys as positions is deprecated. In a future version, integer keys will always be treated as labels (consistent with DataFrame behavior). To access a value by position, use `ser.iloc[pos]`\n",
      "  q_avil_site = pd.DataFrame(  {'site': [ df_202406['site_no'][0] ]}  )\n"
     ]
    },
    {
     "name": "stdout",
     "output_type": "stream",
     "text": [
      "12422950\n",
      "13026000\n",
      "13028500\n",
      "13029000\n",
      "13029500\n",
      "13030000\n",
      "13030500\n",
      "13031500\n",
      "13032000\n",
      "13032500\n"
     ]
    },
    {
     "name": "stderr",
     "output_type": "stream",
     "text": [
      "/var/folders/_4/klhstfsn73nfrxlfr8_r9dhc0000gn/T/ipykernel_14091/427570331.py:10: FutureWarning: Series.__getitem__ treating keys as positions is deprecated. In a future version, integer keys will always be treated as labels (consistent with DataFrame behavior). To access a value by position, use `ser.iloc[pos]`\n",
      "  q_avil_site = pd.DataFrame(  {'site': [ df_202406['site_no'][0] ]}  )\n"
     ]
    },
    {
     "name": "stdout",
     "output_type": "stream",
     "text": [
      "13033500\n",
      "13034000\n",
      "13034450\n",
      "13034500\n",
      "13035500\n",
      "13036000\n",
      "13036500\n",
      "13037000\n",
      "13037500\n"
     ]
    },
    {
     "name": "stderr",
     "output_type": "stream",
     "text": [
      "/var/folders/_4/klhstfsn73nfrxlfr8_r9dhc0000gn/T/ipykernel_14091/427570331.py:10: FutureWarning: Series.__getitem__ treating keys as positions is deprecated. In a future version, integer keys will always be treated as labels (consistent with DataFrame behavior). To access a value by position, use `ser.iloc[pos]`\n",
      "  q_avil_site = pd.DataFrame(  {'site': [ df_202406['site_no'][0] ]}  )\n"
     ]
    },
    {
     "name": "stdout",
     "output_type": "stream",
     "text": [
      "13038000\n"
     ]
    },
    {
     "name": "stderr",
     "output_type": "stream",
     "text": [
      "/var/folders/_4/klhstfsn73nfrxlfr8_r9dhc0000gn/T/ipykernel_14091/427570331.py:10: FutureWarning: Series.__getitem__ treating keys as positions is deprecated. In a future version, integer keys will always be treated as labels (consistent with DataFrame behavior). To access a value by position, use `ser.iloc[pos]`\n",
      "  q_avil_site = pd.DataFrame(  {'site': [ df_202406['site_no'][0] ]}  )\n"
     ]
    },
    {
     "name": "stdout",
     "output_type": "stream",
     "text": [
      "13038380\n",
      "13038500\n"
     ]
    },
    {
     "name": "stderr",
     "output_type": "stream",
     "text": [
      "/var/folders/_4/klhstfsn73nfrxlfr8_r9dhc0000gn/T/ipykernel_14091/427570331.py:10: FutureWarning: Series.__getitem__ treating keys as positions is deprecated. In a future version, integer keys will always be treated as labels (consistent with DataFrame behavior). To access a value by position, use `ser.iloc[pos]`\n",
      "  q_avil_site = pd.DataFrame(  {'site': [ df_202406['site_no'][0] ]}  )\n"
     ]
    },
    {
     "name": "stdout",
     "output_type": "stream",
     "text": [
      "13039500\n"
     ]
    },
    {
     "name": "stderr",
     "output_type": "stream",
     "text": [
      "/var/folders/_4/klhstfsn73nfrxlfr8_r9dhc0000gn/T/ipykernel_14091/427570331.py:10: FutureWarning: Series.__getitem__ treating keys as positions is deprecated. In a future version, integer keys will always be treated as labels (consistent with DataFrame behavior). To access a value by position, use `ser.iloc[pos]`\n",
      "  q_avil_site = pd.DataFrame(  {'site': [ df_202406['site_no'][0] ]}  )\n"
     ]
    },
    {
     "name": "stdout",
     "output_type": "stream",
     "text": [
      "13040000\n",
      "13040500\n"
     ]
    },
    {
     "name": "stderr",
     "output_type": "stream",
     "text": [
      "/var/folders/_4/klhstfsn73nfrxlfr8_r9dhc0000gn/T/ipykernel_14091/427570331.py:10: FutureWarning: Series.__getitem__ treating keys as positions is deprecated. In a future version, integer keys will always be treated as labels (consistent with DataFrame behavior). To access a value by position, use `ser.iloc[pos]`\n",
      "  q_avil_site = pd.DataFrame(  {'site': [ df_202406['site_no'][0] ]}  )\n"
     ]
    },
    {
     "name": "stdout",
     "output_type": "stream",
     "text": [
      "13041000\n",
      "13041010\n",
      "13041500\n",
      "13042500\n"
     ]
    },
    {
     "name": "stderr",
     "output_type": "stream",
     "text": [
      "/var/folders/_4/klhstfsn73nfrxlfr8_r9dhc0000gn/T/ipykernel_14091/427570331.py:10: FutureWarning: Series.__getitem__ treating keys as positions is deprecated. In a future version, integer keys will always be treated as labels (consistent with DataFrame behavior). To access a value by position, use `ser.iloc[pos]`\n",
      "  q_avil_site = pd.DataFrame(  {'site': [ df_202406['site_no'][0] ]}  )\n"
     ]
    },
    {
     "name": "stdout",
     "output_type": "stream",
     "text": [
      "13043000\n",
      "13043500\n",
      "13044000\n",
      "13044500\n",
      "13045000\n",
      "13045500\n",
      "13046000\n"
     ]
    },
    {
     "name": "stderr",
     "output_type": "stream",
     "text": [
      "/var/folders/_4/klhstfsn73nfrxlfr8_r9dhc0000gn/T/ipykernel_14091/427570331.py:10: FutureWarning: Series.__getitem__ treating keys as positions is deprecated. In a future version, integer keys will always be treated as labels (consistent with DataFrame behavior). To access a value by position, use `ser.iloc[pos]`\n",
      "  q_avil_site = pd.DataFrame(  {'site': [ df_202406['site_no'][0] ]}  )\n"
     ]
    },
    {
     "name": "stdout",
     "output_type": "stream",
     "text": [
      "13046995\n"
     ]
    },
    {
     "name": "stderr",
     "output_type": "stream",
     "text": [
      "/var/folders/_4/klhstfsn73nfrxlfr8_r9dhc0000gn/T/ipykernel_14091/427570331.py:10: FutureWarning: Series.__getitem__ treating keys as positions is deprecated. In a future version, integer keys will always be treated as labels (consistent with DataFrame behavior). To access a value by position, use `ser.iloc[pos]`\n",
      "  q_avil_site = pd.DataFrame(  {'site': [ df_202406['site_no'][0] ]}  )\n"
     ]
    },
    {
     "name": "stdout",
     "output_type": "stream",
     "text": [
      "13047000\n",
      "13047500\n"
     ]
    },
    {
     "name": "stderr",
     "output_type": "stream",
     "text": [
      "/var/folders/_4/klhstfsn73nfrxlfr8_r9dhc0000gn/T/ipykernel_14091/427570331.py:10: FutureWarning: Series.__getitem__ treating keys as positions is deprecated. In a future version, integer keys will always be treated as labels (consistent with DataFrame behavior). To access a value by position, use `ser.iloc[pos]`\n",
      "  q_avil_site = pd.DataFrame(  {'site': [ df_202406['site_no'][0] ]}  )\n"
     ]
    },
    {
     "name": "stdout",
     "output_type": "stream",
     "text": [
      "13047600\n"
     ]
    },
    {
     "name": "stderr",
     "output_type": "stream",
     "text": [
      "/var/folders/_4/klhstfsn73nfrxlfr8_r9dhc0000gn/T/ipykernel_14091/427570331.py:10: FutureWarning: Series.__getitem__ treating keys as positions is deprecated. In a future version, integer keys will always be treated as labels (consistent with DataFrame behavior). To access a value by position, use `ser.iloc[pos]`\n",
      "  q_avil_site = pd.DataFrame(  {'site': [ df_202406['site_no'][0] ]}  )\n"
     ]
    },
    {
     "name": "stdout",
     "output_type": "stream",
     "text": [
      "13048500\n",
      "13049000\n",
      "13049500\n"
     ]
    },
    {
     "name": "stderr",
     "output_type": "stream",
     "text": [
      "/var/folders/_4/klhstfsn73nfrxlfr8_r9dhc0000gn/T/ipykernel_14091/427570331.py:10: FutureWarning: Series.__getitem__ treating keys as positions is deprecated. In a future version, integer keys will always be treated as labels (consistent with DataFrame behavior). To access a value by position, use `ser.iloc[pos]`\n",
      "  q_avil_site = pd.DataFrame(  {'site': [ df_202406['site_no'][0] ]}  )\n"
     ]
    },
    {
     "name": "stdout",
     "output_type": "stream",
     "text": [
      "13050000\n",
      "13050500\n"
     ]
    },
    {
     "name": "stderr",
     "output_type": "stream",
     "text": [
      "/var/folders/_4/klhstfsn73nfrxlfr8_r9dhc0000gn/T/ipykernel_14091/427570331.py:10: FutureWarning: Series.__getitem__ treating keys as positions is deprecated. In a future version, integer keys will always be treated as labels (consistent with DataFrame behavior). To access a value by position, use `ser.iloc[pos]`\n",
      "  q_avil_site = pd.DataFrame(  {'site': [ df_202406['site_no'][0] ]}  )\n"
     ]
    },
    {
     "name": "stdout",
     "output_type": "stream",
     "text": [
      "13051000\n",
      "13052000\n",
      "13052200\n"
     ]
    },
    {
     "name": "stderr",
     "output_type": "stream",
     "text": [
      "/var/folders/_4/klhstfsn73nfrxlfr8_r9dhc0000gn/T/ipykernel_14091/427570331.py:10: FutureWarning: Series.__getitem__ treating keys as positions is deprecated. In a future version, integer keys will always be treated as labels (consistent with DataFrame behavior). To access a value by position, use `ser.iloc[pos]`\n",
      "  q_avil_site = pd.DataFrame(  {'site': [ df_202406['site_no'][0] ]}  )\n"
     ]
    },
    {
     "name": "stdout",
     "output_type": "stream",
     "text": [
      "13052500\n",
      "13053000\n",
      "13053500\n",
      "13054000\n",
      "13054200\n",
      "13054300\n",
      "13054500\n",
      "13054600\n",
      "13054805\n",
      "13055000\n"
     ]
    },
    {
     "name": "stderr",
     "output_type": "stream",
     "text": [
      "/var/folders/_4/klhstfsn73nfrxlfr8_r9dhc0000gn/T/ipykernel_14091/427570331.py:10: FutureWarning: Series.__getitem__ treating keys as positions is deprecated. In a future version, integer keys will always be treated as labels (consistent with DataFrame behavior). To access a value by position, use `ser.iloc[pos]`\n",
      "  q_avil_site = pd.DataFrame(  {'site': [ df_202406['site_no'][0] ]}  )\n"
     ]
    },
    {
     "name": "stdout",
     "output_type": "stream",
     "text": [
      "13055198\n",
      "13055210\n",
      "13055230\n",
      "13055250\n"
     ]
    },
    {
     "name": "stderr",
     "output_type": "stream",
     "text": [
      "/var/folders/_4/klhstfsn73nfrxlfr8_r9dhc0000gn/T/ipykernel_14091/427570331.py:10: FutureWarning: Series.__getitem__ treating keys as positions is deprecated. In a future version, integer keys will always be treated as labels (consistent with DataFrame behavior). To access a value by position, use `ser.iloc[pos]`\n",
      "  q_avil_site = pd.DataFrame(  {'site': [ df_202406['site_no'][0] ]}  )\n"
     ]
    },
    {
     "name": "stdout",
     "output_type": "stream",
     "text": [
      "13055270\n",
      "13055300\n",
      "13055319\n",
      "13055340\n"
     ]
    },
    {
     "name": "stderr",
     "output_type": "stream",
     "text": [
      "/var/folders/_4/klhstfsn73nfrxlfr8_r9dhc0000gn/T/ipykernel_14091/427570331.py:10: FutureWarning: Series.__getitem__ treating keys as positions is deprecated. In a future version, integer keys will always be treated as labels (consistent with DataFrame behavior). To access a value by position, use `ser.iloc[pos]`\n",
      "  q_avil_site = pd.DataFrame(  {'site': [ df_202406['site_no'][0] ]}  )\n"
     ]
    },
    {
     "name": "stdout",
     "output_type": "stream",
     "text": [
      "13055500\n",
      "13056000\n",
      "13056500\n"
     ]
    },
    {
     "name": "stderr",
     "output_type": "stream",
     "text": [
      "/var/folders/_4/klhstfsn73nfrxlfr8_r9dhc0000gn/T/ipykernel_14091/427570331.py:10: FutureWarning: Series.__getitem__ treating keys as positions is deprecated. In a future version, integer keys will always be treated as labels (consistent with DataFrame behavior). To access a value by position, use `ser.iloc[pos]`\n",
      "  q_avil_site = pd.DataFrame(  {'site': [ df_202406['site_no'][0] ]}  )\n"
     ]
    },
    {
     "name": "stdout",
     "output_type": "stream",
     "text": [
      "13056600\n",
      "13057000\n"
     ]
    },
    {
     "name": "stderr",
     "output_type": "stream",
     "text": [
      "/var/folders/_4/klhstfsn73nfrxlfr8_r9dhc0000gn/T/ipykernel_14091/427570331.py:10: FutureWarning: Series.__getitem__ treating keys as positions is deprecated. In a future version, integer keys will always be treated as labels (consistent with DataFrame behavior). To access a value by position, use `ser.iloc[pos]`\n",
      "  q_avil_site = pd.DataFrame(  {'site': [ df_202406['site_no'][0] ]}  )\n"
     ]
    },
    {
     "name": "stdout",
     "output_type": "stream",
     "text": [
      "13057090\n",
      "13057132\n"
     ]
    },
    {
     "name": "stderr",
     "output_type": "stream",
     "text": [
      "/var/folders/_4/klhstfsn73nfrxlfr8_r9dhc0000gn/T/ipykernel_14091/427570331.py:10: FutureWarning: Series.__getitem__ treating keys as positions is deprecated. In a future version, integer keys will always be treated as labels (consistent with DataFrame behavior). To access a value by position, use `ser.iloc[pos]`\n",
      "  q_avil_site = pd.DataFrame(  {'site': [ df_202406['site_no'][0] ]}  )\n"
     ]
    },
    {
     "name": "stdout",
     "output_type": "stream",
     "text": [
      "13057150\n",
      "13057155\n"
     ]
    },
    {
     "name": "stderr",
     "output_type": "stream",
     "text": [
      "/var/folders/_4/klhstfsn73nfrxlfr8_r9dhc0000gn/T/ipykernel_14091/427570331.py:10: FutureWarning: Series.__getitem__ treating keys as positions is deprecated. In a future version, integer keys will always be treated as labels (consistent with DataFrame behavior). To access a value by position, use `ser.iloc[pos]`\n",
      "  q_avil_site = pd.DataFrame(  {'site': [ df_202406['site_no'][0] ]}  )\n"
     ]
    },
    {
     "name": "stdout",
     "output_type": "stream",
     "text": [
      "13057160\n",
      "13057300\n",
      "13057500\n",
      "13057940\n"
     ]
    },
    {
     "name": "stderr",
     "output_type": "stream",
     "text": [
      "/var/folders/_4/klhstfsn73nfrxlfr8_r9dhc0000gn/T/ipykernel_14091/427570331.py:10: FutureWarning: Series.__getitem__ treating keys as positions is deprecated. In a future version, integer keys will always be treated as labels (consistent with DataFrame behavior). To access a value by position, use `ser.iloc[pos]`\n",
      "  q_avil_site = pd.DataFrame(  {'site': [ df_202406['site_no'][0] ]}  )\n"
     ]
    },
    {
     "name": "stdout",
     "output_type": "stream",
     "text": [
      "13058000\n"
     ]
    },
    {
     "name": "stderr",
     "output_type": "stream",
     "text": [
      "/var/folders/_4/klhstfsn73nfrxlfr8_r9dhc0000gn/T/ipykernel_14091/427570331.py:10: FutureWarning: Series.__getitem__ treating keys as positions is deprecated. In a future version, integer keys will always be treated as labels (consistent with DataFrame behavior). To access a value by position, use `ser.iloc[pos]`\n",
      "  q_avil_site = pd.DataFrame(  {'site': [ df_202406['site_no'][0] ]}  )\n"
     ]
    },
    {
     "name": "stdout",
     "output_type": "stream",
     "text": [
      "13058500\n",
      "13058510\n"
     ]
    },
    {
     "name": "stderr",
     "output_type": "stream",
     "text": [
      "/var/folders/_4/klhstfsn73nfrxlfr8_r9dhc0000gn/T/ipykernel_14091/427570331.py:10: FutureWarning: Series.__getitem__ treating keys as positions is deprecated. In a future version, integer keys will always be treated as labels (consistent with DataFrame behavior). To access a value by position, use `ser.iloc[pos]`\n",
      "  q_avil_site = pd.DataFrame(  {'site': [ df_202406['site_no'][0] ]}  )\n"
     ]
    },
    {
     "name": "stdout",
     "output_type": "stream",
     "text": [
      "13058520\n"
     ]
    },
    {
     "name": "stderr",
     "output_type": "stream",
     "text": [
      "/var/folders/_4/klhstfsn73nfrxlfr8_r9dhc0000gn/T/ipykernel_14091/427570331.py:10: FutureWarning: Series.__getitem__ treating keys as positions is deprecated. In a future version, integer keys will always be treated as labels (consistent with DataFrame behavior). To access a value by position, use `ser.iloc[pos]`\n",
      "  q_avil_site = pd.DataFrame(  {'site': [ df_202406['site_no'][0] ]}  )\n"
     ]
    },
    {
     "name": "stdout",
     "output_type": "stream",
     "text": [
      "13058529\n"
     ]
    },
    {
     "name": "stderr",
     "output_type": "stream",
     "text": [
      "/var/folders/_4/klhstfsn73nfrxlfr8_r9dhc0000gn/T/ipykernel_14091/427570331.py:10: FutureWarning: Series.__getitem__ treating keys as positions is deprecated. In a future version, integer keys will always be treated as labels (consistent with DataFrame behavior). To access a value by position, use `ser.iloc[pos]`\n",
      "  q_avil_site = pd.DataFrame(  {'site': [ df_202406['site_no'][0] ]}  )\n"
     ]
    },
    {
     "name": "stdout",
     "output_type": "stream",
     "text": [
      "13058530\n"
     ]
    },
    {
     "name": "stderr",
     "output_type": "stream",
     "text": [
      "/var/folders/_4/klhstfsn73nfrxlfr8_r9dhc0000gn/T/ipykernel_14091/427570331.py:10: FutureWarning: Series.__getitem__ treating keys as positions is deprecated. In a future version, integer keys will always be treated as labels (consistent with DataFrame behavior). To access a value by position, use `ser.iloc[pos]`\n",
      "  q_avil_site = pd.DataFrame(  {'site': [ df_202406['site_no'][0] ]}  )\n"
     ]
    },
    {
     "name": "stdout",
     "output_type": "stream",
     "text": [
      "13059000\n",
      "13059500\n",
      "13060000\n"
     ]
    },
    {
     "name": "stderr",
     "output_type": "stream",
     "text": [
      "/var/folders/_4/klhstfsn73nfrxlfr8_r9dhc0000gn/T/ipykernel_14091/427570331.py:10: FutureWarning: Series.__getitem__ treating keys as positions is deprecated. In a future version, integer keys will always be treated as labels (consistent with DataFrame behavior). To access a value by position, use `ser.iloc[pos]`\n",
      "  q_avil_site = pd.DataFrame(  {'site': [ df_202406['site_no'][0] ]}  )\n"
     ]
    },
    {
     "name": "stdout",
     "output_type": "stream",
     "text": [
      "13061500\n",
      "13062000\n",
      "13062500\n"
     ]
    },
    {
     "name": "stderr",
     "output_type": "stream",
     "text": [
      "/var/folders/_4/klhstfsn73nfrxlfr8_r9dhc0000gn/T/ipykernel_14091/427570331.py:10: FutureWarning: Series.__getitem__ treating keys as positions is deprecated. In a future version, integer keys will always be treated as labels (consistent with DataFrame behavior). To access a value by position, use `ser.iloc[pos]`\n",
      "  q_avil_site = pd.DataFrame(  {'site': [ df_202406['site_no'][0] ]}  )\n"
     ]
    },
    {
     "name": "stdout",
     "output_type": "stream",
     "text": [
      "13062504\n",
      "13063000\n"
     ]
    },
    {
     "name": "stderr",
     "output_type": "stream",
     "text": [
      "/var/folders/_4/klhstfsn73nfrxlfr8_r9dhc0000gn/T/ipykernel_14091/427570331.py:10: FutureWarning: Series.__getitem__ treating keys as positions is deprecated. In a future version, integer keys will always be treated as labels (consistent with DataFrame behavior). To access a value by position, use `ser.iloc[pos]`\n",
      "  q_avil_site = pd.DataFrame(  {'site': [ df_202406['site_no'][0] ]}  )\n"
     ]
    },
    {
     "name": "stdout",
     "output_type": "stream",
     "text": [
      "13063500\n",
      "13064500\n",
      "13065500\n",
      "13065940\n",
      "13066000\n"
     ]
    },
    {
     "name": "stderr",
     "output_type": "stream",
     "text": [
      "/var/folders/_4/klhstfsn73nfrxlfr8_r9dhc0000gn/T/ipykernel_14091/427570331.py:10: FutureWarning: Series.__getitem__ treating keys as positions is deprecated. In a future version, integer keys will always be treated as labels (consistent with DataFrame behavior). To access a value by position, use `ser.iloc[pos]`\n",
      "  q_avil_site = pd.DataFrame(  {'site': [ df_202406['site_no'][0] ]}  )\n"
     ]
    },
    {
     "name": "stdout",
     "output_type": "stream",
     "text": [
      "13066500\n",
      "13067000\n",
      "13068300\n",
      "13068495\n"
     ]
    },
    {
     "name": "stderr",
     "output_type": "stream",
     "text": [
      "/var/folders/_4/klhstfsn73nfrxlfr8_r9dhc0000gn/T/ipykernel_14091/427570331.py:10: FutureWarning: Series.__getitem__ treating keys as positions is deprecated. In a future version, integer keys will always be treated as labels (consistent with DataFrame behavior). To access a value by position, use `ser.iloc[pos]`\n",
      "  q_avil_site = pd.DataFrame(  {'site': [ df_202406['site_no'][0] ]}  )\n"
     ]
    },
    {
     "name": "stdout",
     "output_type": "stream",
     "text": [
      "13068500\n"
     ]
    },
    {
     "name": "stderr",
     "output_type": "stream",
     "text": [
      "/var/folders/_4/klhstfsn73nfrxlfr8_r9dhc0000gn/T/ipykernel_14091/427570331.py:10: FutureWarning: Series.__getitem__ treating keys as positions is deprecated. In a future version, integer keys will always be treated as labels (consistent with DataFrame behavior). To access a value by position, use `ser.iloc[pos]`\n",
      "  q_avil_site = pd.DataFrame(  {'site': [ df_202406['site_no'][0] ]}  )\n"
     ]
    },
    {
     "name": "stdout",
     "output_type": "stream",
     "text": [
      "13068501\n"
     ]
    },
    {
     "name": "stderr",
     "output_type": "stream",
     "text": [
      "/var/folders/_4/klhstfsn73nfrxlfr8_r9dhc0000gn/T/ipykernel_14091/427570331.py:10: FutureWarning: Series.__getitem__ treating keys as positions is deprecated. In a future version, integer keys will always be treated as labels (consistent with DataFrame behavior). To access a value by position, use `ser.iloc[pos]`\n",
      "  q_avil_site = pd.DataFrame(  {'site': [ df_202406['site_no'][0] ]}  )\n"
     ]
    },
    {
     "name": "stdout",
     "output_type": "stream",
     "text": [
      "13069000\n",
      "13069500\n"
     ]
    },
    {
     "name": "stderr",
     "output_type": "stream",
     "text": [
      "/var/folders/_4/klhstfsn73nfrxlfr8_r9dhc0000gn/T/ipykernel_14091/427570331.py:10: FutureWarning: Series.__getitem__ treating keys as positions is deprecated. In a future version, integer keys will always be treated as labels (consistent with DataFrame behavior). To access a value by position, use `ser.iloc[pos]`\n",
      "  q_avil_site = pd.DataFrame(  {'site': [ df_202406['site_no'][0] ]}  )\n"
     ]
    },
    {
     "name": "stdout",
     "output_type": "stream",
     "text": [
      "13069532\n",
      "13069540\n",
      "13069565\n",
      "13070000\n",
      "13070500\n",
      "13071000\n",
      "13071010\n"
     ]
    },
    {
     "name": "stderr",
     "output_type": "stream",
     "text": [
      "/var/folders/_4/klhstfsn73nfrxlfr8_r9dhc0000gn/T/ipykernel_14091/427570331.py:10: FutureWarning: Series.__getitem__ treating keys as positions is deprecated. In a future version, integer keys will always be treated as labels (consistent with DataFrame behavior). To access a value by position, use `ser.iloc[pos]`\n",
      "  q_avil_site = pd.DataFrame(  {'site': [ df_202406['site_no'][0] ]}  )\n"
     ]
    },
    {
     "name": "stdout",
     "output_type": "stream",
     "text": [
      "13071500\n",
      "13072000\n",
      "13072400\n",
      "13072500\n",
      "13073000\n"
     ]
    },
    {
     "name": "stderr",
     "output_type": "stream",
     "text": [
      "/var/folders/_4/klhstfsn73nfrxlfr8_r9dhc0000gn/T/ipykernel_14091/427570331.py:10: FutureWarning: Series.__getitem__ treating keys as positions is deprecated. In a future version, integer keys will always be treated as labels (consistent with DataFrame behavior). To access a value by position, use `ser.iloc[pos]`\n",
      "  q_avil_site = pd.DataFrame(  {'site': [ df_202406['site_no'][0] ]}  )\n"
     ]
    },
    {
     "name": "stdout",
     "output_type": "stream",
     "text": [
      "13073500\n",
      "13073750\n",
      "13073950\n",
      "13074000\n",
      "13074400\n"
     ]
    },
    {
     "name": "stderr",
     "output_type": "stream",
     "text": [
      "/var/folders/_4/klhstfsn73nfrxlfr8_r9dhc0000gn/T/ipykernel_14091/427570331.py:10: FutureWarning: Series.__getitem__ treating keys as positions is deprecated. In a future version, integer keys will always be treated as labels (consistent with DataFrame behavior). To access a value by position, use `ser.iloc[pos]`\n",
      "  q_avil_site = pd.DataFrame(  {'site': [ df_202406['site_no'][0] ]}  )\n"
     ]
    },
    {
     "name": "stdout",
     "output_type": "stream",
     "text": [
      "13075000\n"
     ]
    },
    {
     "name": "stderr",
     "output_type": "stream",
     "text": [
      "/var/folders/_4/klhstfsn73nfrxlfr8_r9dhc0000gn/T/ipykernel_14091/427570331.py:10: FutureWarning: Series.__getitem__ treating keys as positions is deprecated. In a future version, integer keys will always be treated as labels (consistent with DataFrame behavior). To access a value by position, use `ser.iloc[pos]`\n",
      "  q_avil_site = pd.DataFrame(  {'site': [ df_202406['site_no'][0] ]}  )\n"
     ]
    },
    {
     "name": "stdout",
     "output_type": "stream",
     "text": [
      "13075100\n",
      "13075500\n"
     ]
    },
    {
     "name": "stderr",
     "output_type": "stream",
     "text": [
      "/var/folders/_4/klhstfsn73nfrxlfr8_r9dhc0000gn/T/ipykernel_14091/427570331.py:10: FutureWarning: Series.__getitem__ treating keys as positions is deprecated. In a future version, integer keys will always be treated as labels (consistent with DataFrame behavior). To access a value by position, use `ser.iloc[pos]`\n",
      "  q_avil_site = pd.DataFrame(  {'site': [ df_202406['site_no'][0] ]}  )\n"
     ]
    },
    {
     "name": "stdout",
     "output_type": "stream",
     "text": [
      "13075700\n",
      "13075909\n",
      "13075910\n"
     ]
    },
    {
     "name": "stderr",
     "output_type": "stream",
     "text": [
      "/var/folders/_4/klhstfsn73nfrxlfr8_r9dhc0000gn/T/ipykernel_14091/427570331.py:10: FutureWarning: Series.__getitem__ treating keys as positions is deprecated. In a future version, integer keys will always be treated as labels (consistent with DataFrame behavior). To access a value by position, use `ser.iloc[pos]`\n",
      "  q_avil_site = pd.DataFrame(  {'site': [ df_202406['site_no'][0] ]}  )\n"
     ]
    },
    {
     "name": "stdout",
     "output_type": "stream",
     "text": [
      "13075920\n",
      "13075958\n",
      "13075970\n",
      "13075980\n",
      "13075981\n",
      "13075983\n"
     ]
    },
    {
     "name": "stderr",
     "output_type": "stream",
     "text": [
      "/var/folders/_4/klhstfsn73nfrxlfr8_r9dhc0000gn/T/ipykernel_14091/427570331.py:10: FutureWarning: Series.__getitem__ treating keys as positions is deprecated. In a future version, integer keys will always be treated as labels (consistent with DataFrame behavior). To access a value by position, use `ser.iloc[pos]`\n",
      "  q_avil_site = pd.DataFrame(  {'site': [ df_202406['site_no'][0] ]}  )\n"
     ]
    },
    {
     "name": "stdout",
     "output_type": "stream",
     "text": [
      "13075985\n",
      "1307599660\n",
      "1307599910\n",
      "13076000\n",
      "13076100\n",
      "13076110\n",
      "13076200\n",
      "13076300\n",
      "13076600\n",
      "13077000\n"
     ]
    },
    {
     "name": "stderr",
     "output_type": "stream",
     "text": [
      "/var/folders/_4/klhstfsn73nfrxlfr8_r9dhc0000gn/T/ipykernel_14091/427570331.py:10: FutureWarning: Series.__getitem__ treating keys as positions is deprecated. In a future version, integer keys will always be treated as labels (consistent with DataFrame behavior). To access a value by position, use `ser.iloc[pos]`\n",
      "  q_avil_site = pd.DataFrame(  {'site': [ df_202406['site_no'][0] ]}  )\n"
     ]
    },
    {
     "name": "stdout",
     "output_type": "stream",
     "text": [
      "13077500\n",
      "13077600\n",
      "13077650\n",
      "13077670\n",
      "13077680\n",
      "13078000\n"
     ]
    },
    {
     "name": "stderr",
     "output_type": "stream",
     "text": [
      "/var/folders/_4/klhstfsn73nfrxlfr8_r9dhc0000gn/T/ipykernel_14091/427570331.py:10: FutureWarning: Series.__getitem__ treating keys as positions is deprecated. In a future version, integer keys will always be treated as labels (consistent with DataFrame behavior). To access a value by position, use `ser.iloc[pos]`\n",
      "  q_avil_site = pd.DataFrame(  {'site': [ df_202406['site_no'][0] ]}  )\n"
     ]
    },
    {
     "name": "stdout",
     "output_type": "stream",
     "text": [
      "13078205\n",
      "13078500\n",
      "13079050\n",
      "13079100\n",
      "13079105\n",
      "13079110\n",
      "13079120\n",
      "13079140\n",
      "13079150\n",
      "13079200\n",
      "13079300\n"
     ]
    },
    {
     "name": "stderr",
     "output_type": "stream",
     "text": [
      "/var/folders/_4/klhstfsn73nfrxlfr8_r9dhc0000gn/T/ipykernel_14091/427570331.py:10: FutureWarning: Series.__getitem__ treating keys as positions is deprecated. In a future version, integer keys will always be treated as labels (consistent with DataFrame behavior). To access a value by position, use `ser.iloc[pos]`\n",
      "  q_avil_site = pd.DataFrame(  {'site': [ df_202406['site_no'][0] ]}  )\n"
     ]
    },
    {
     "name": "stdout",
     "output_type": "stream",
     "text": [
      "13079500\n",
      "13079600\n",
      "13079900\n",
      "13079901\n",
      "13081500\n"
     ]
    },
    {
     "name": "stderr",
     "output_type": "stream",
     "text": [
      "/var/folders/_4/klhstfsn73nfrxlfr8_r9dhc0000gn/T/ipykernel_14091/427570331.py:10: FutureWarning: Series.__getitem__ treating keys as positions is deprecated. In a future version, integer keys will always be treated as labels (consistent with DataFrame behavior). To access a value by position, use `ser.iloc[pos]`\n",
      "  q_avil_site = pd.DataFrame(  {'site': [ df_202406['site_no'][0] ]}  )\n"
     ]
    },
    {
     "name": "stdout",
     "output_type": "stream",
     "text": [
      "13082000\n",
      "13082060\n",
      "13082300\n",
      "13082320\n",
      "13082500\n"
     ]
    },
    {
     "name": "stderr",
     "output_type": "stream",
     "text": [
      "/var/folders/_4/klhstfsn73nfrxlfr8_r9dhc0000gn/T/ipykernel_14091/427570331.py:10: FutureWarning: Series.__getitem__ treating keys as positions is deprecated. In a future version, integer keys will always be treated as labels (consistent with DataFrame behavior). To access a value by position, use `ser.iloc[pos]`\n",
      "  q_avil_site = pd.DataFrame(  {'site': [ df_202406['site_no'][0] ]}  )\n"
     ]
    },
    {
     "name": "stdout",
     "output_type": "stream",
     "text": [
      "13083000\n"
     ]
    },
    {
     "name": "stderr",
     "output_type": "stream",
     "text": [
      "/var/folders/_4/klhstfsn73nfrxlfr8_r9dhc0000gn/T/ipykernel_14091/427570331.py:10: FutureWarning: Series.__getitem__ treating keys as positions is deprecated. In a future version, integer keys will always be treated as labels (consistent with DataFrame behavior). To access a value by position, use `ser.iloc[pos]`\n",
      "  q_avil_site = pd.DataFrame(  {'site': [ df_202406['site_no'][0] ]}  )\n"
     ]
    },
    {
     "name": "stdout",
     "output_type": "stream",
     "text": [
      "13084000\n",
      "13084400\n",
      "13084500\n",
      "13084700\n",
      "13085000\n",
      "13085800\n",
      "130875048\n",
      "130875049\n",
      "13087505\n",
      "13087995\n"
     ]
    },
    {
     "name": "stderr",
     "output_type": "stream",
     "text": [
      "/var/folders/_4/klhstfsn73nfrxlfr8_r9dhc0000gn/T/ipykernel_14091/427570331.py:10: FutureWarning: Series.__getitem__ treating keys as positions is deprecated. In a future version, integer keys will always be treated as labels (consistent with DataFrame behavior). To access a value by position, use `ser.iloc[pos]`\n",
      "  q_avil_site = pd.DataFrame(  {'site': [ df_202406['site_no'][0] ]}  )\n"
     ]
    },
    {
     "name": "stdout",
     "output_type": "stream",
     "text": [
      "13088000\n",
      "13088400\n",
      "13088404\n",
      "13088500\n",
      "13088510\n",
      "13089500\n"
     ]
    },
    {
     "name": "stderr",
     "output_type": "stream",
     "text": [
      "/var/folders/_4/klhstfsn73nfrxlfr8_r9dhc0000gn/T/ipykernel_14091/427570331.py:10: FutureWarning: Series.__getitem__ treating keys as positions is deprecated. In a future version, integer keys will always be treated as labels (consistent with DataFrame behavior). To access a value by position, use `ser.iloc[pos]`\n",
      "  q_avil_site = pd.DataFrame(  {'site': [ df_202406['site_no'][0] ]}  )\n"
     ]
    },
    {
     "name": "stdout",
     "output_type": "stream",
     "text": [
      "13090000\n",
      "13090370\n",
      "13090500\n"
     ]
    },
    {
     "name": "stderr",
     "output_type": "stream",
     "text": [
      "/var/folders/_4/klhstfsn73nfrxlfr8_r9dhc0000gn/T/ipykernel_14091/427570331.py:10: FutureWarning: Series.__getitem__ treating keys as positions is deprecated. In a future version, integer keys will always be treated as labels (consistent with DataFrame behavior). To access a value by position, use `ser.iloc[pos]`\n",
      "  q_avil_site = pd.DataFrame(  {'site': [ df_202406['site_no'][0] ]}  )\n"
     ]
    },
    {
     "name": "stdout",
     "output_type": "stream",
     "text": [
      "13090999\n",
      "13091500\n",
      "13091700\n",
      "13091733\n",
      "13092000\n",
      "13092500\n",
      "13092730\n",
      "13092747\n"
     ]
    },
    {
     "name": "stderr",
     "output_type": "stream",
     "text": [
      "/var/folders/_4/klhstfsn73nfrxlfr8_r9dhc0000gn/T/ipykernel_14091/427570331.py:10: FutureWarning: Series.__getitem__ treating keys as positions is deprecated. In a future version, integer keys will always be treated as labels (consistent with DataFrame behavior). To access a value by position, use `ser.iloc[pos]`\n",
      "  q_avil_site = pd.DataFrame(  {'site': [ df_202406['site_no'][0] ]}  )\n"
     ]
    },
    {
     "name": "stdout",
     "output_type": "stream",
     "text": [
      "13093000\n",
      "13093095\n",
      "13093100\n",
      "13093150\n",
      "13093383\n"
     ]
    },
    {
     "name": "stderr",
     "output_type": "stream",
     "text": [
      "/var/folders/_4/klhstfsn73nfrxlfr8_r9dhc0000gn/T/ipykernel_14091/427570331.py:10: FutureWarning: Series.__getitem__ treating keys as positions is deprecated. In a future version, integer keys will always be treated as labels (consistent with DataFrame behavior). To access a value by position, use `ser.iloc[pos]`\n",
      "  q_avil_site = pd.DataFrame(  {'site': [ df_202406['site_no'][0] ]}  )\n"
     ]
    },
    {
     "name": "stdout",
     "output_type": "stream",
     "text": [
      "13093475\n",
      "13093500\n",
      "13093550\n",
      "13094000\n"
     ]
    },
    {
     "name": "stderr",
     "output_type": "stream",
     "text": [
      "/var/folders/_4/klhstfsn73nfrxlfr8_r9dhc0000gn/T/ipykernel_14091/427570331.py:10: FutureWarning: Series.__getitem__ treating keys as positions is deprecated. In a future version, integer keys will always be treated as labels (consistent with DataFrame behavior). To access a value by position, use `ser.iloc[pos]`\n",
      "  q_avil_site = pd.DataFrame(  {'site': [ df_202406['site_no'][0] ]}  )\n"
     ]
    },
    {
     "name": "stdout",
     "output_type": "stream",
     "text": [
      "13094700\n",
      "13094900\n",
      "13095000\n",
      "13095050\n",
      "13095360\n",
      "13105500\n",
      "13106600\n",
      "13106650\n",
      "13107000\n",
      "13107500\n",
      "13108000\n",
      "13108150\n"
     ]
    },
    {
     "name": "stderr",
     "output_type": "stream",
     "text": [
      "/var/folders/_4/klhstfsn73nfrxlfr8_r9dhc0000gn/T/ipykernel_14091/427570331.py:10: FutureWarning: Series.__getitem__ treating keys as positions is deprecated. In a future version, integer keys will always be treated as labels (consistent with DataFrame behavior). To access a value by position, use `ser.iloc[pos]`\n",
      "  q_avil_site = pd.DataFrame(  {'site': [ df_202406['site_no'][0] ]}  )\n"
     ]
    },
    {
     "name": "stdout",
     "output_type": "stream",
     "text": [
      "13108160\n",
      "13108500\n",
      "13108900\n",
      "13109000\n",
      "13109600\n",
      "13111500\n",
      "13112000\n"
     ]
    },
    {
     "name": "stderr",
     "output_type": "stream",
     "text": [
      "/var/folders/_4/klhstfsn73nfrxlfr8_r9dhc0000gn/T/ipykernel_14091/427570331.py:10: FutureWarning: Series.__getitem__ treating keys as positions is deprecated. In a future version, integer keys will always be treated as labels (consistent with DataFrame behavior). To access a value by position, use `ser.iloc[pos]`\n",
      "  q_avil_site = pd.DataFrame(  {'site': [ df_202406['site_no'][0] ]}  )\n"
     ]
    },
    {
     "name": "stdout",
     "output_type": "stream",
     "text": [
      "13112500\n",
      "13113000\n",
      "13113500\n",
      "13114000\n",
      "13114500\n",
      "13115500\n",
      "13116000\n",
      "13116500\n"
     ]
    },
    {
     "name": "stderr",
     "output_type": "stream",
     "text": [
      "/var/folders/_4/klhstfsn73nfrxlfr8_r9dhc0000gn/T/ipykernel_14091/427570331.py:10: FutureWarning: Series.__getitem__ treating keys as positions is deprecated. In a future version, integer keys will always be treated as labels (consistent with DataFrame behavior). To access a value by position, use `ser.iloc[pos]`\n",
      "  q_avil_site = pd.DataFrame(  {'site': [ df_202406['site_no'][0] ]}  )\n"
     ]
    },
    {
     "name": "stdout",
     "output_type": "stream",
     "text": [
      "13117000\n",
      "13117020\n",
      "13117030\n",
      "13117300\n",
      "13117360\n",
      "13117500\n",
      "13118000\n",
      "13118700\n"
     ]
    },
    {
     "name": "stderr",
     "output_type": "stream",
     "text": [
      "/var/folders/_4/klhstfsn73nfrxlfr8_r9dhc0000gn/T/ipykernel_14091/427570331.py:10: FutureWarning: Series.__getitem__ treating keys as positions is deprecated. In a future version, integer keys will always be treated as labels (consistent with DataFrame behavior). To access a value by position, use `ser.iloc[pos]`\n",
      "  q_avil_site = pd.DataFrame(  {'site': [ df_202406['site_no'][0] ]}  )\n"
     ]
    },
    {
     "name": "stdout",
     "output_type": "stream",
     "text": [
      "13118975\n"
     ]
    },
    {
     "name": "stderr",
     "output_type": "stream",
     "text": [
      "/var/folders/_4/klhstfsn73nfrxlfr8_r9dhc0000gn/T/ipykernel_14091/427570331.py:10: FutureWarning: Series.__getitem__ treating keys as positions is deprecated. In a future version, integer keys will always be treated as labels (consistent with DataFrame behavior). To access a value by position, use `ser.iloc[pos]`\n",
      "  q_avil_site = pd.DataFrame(  {'site': [ df_202406['site_no'][0] ]}  )\n"
     ]
    },
    {
     "name": "stdout",
     "output_type": "stream",
     "text": [
      "13119000\n"
     ]
    },
    {
     "name": "stderr",
     "output_type": "stream",
     "text": [
      "/var/folders/_4/klhstfsn73nfrxlfr8_r9dhc0000gn/T/ipykernel_14091/427570331.py:10: FutureWarning: Series.__getitem__ treating keys as positions is deprecated. In a future version, integer keys will always be treated as labels (consistent with DataFrame behavior). To access a value by position, use `ser.iloc[pos]`\n",
      "  q_avil_site = pd.DataFrame(  {'site': [ df_202406['site_no'][0] ]}  )\n"
     ]
    },
    {
     "name": "stdout",
     "output_type": "stream",
     "text": [
      "13120000\n"
     ]
    },
    {
     "name": "stderr",
     "output_type": "stream",
     "text": [
      "/var/folders/_4/klhstfsn73nfrxlfr8_r9dhc0000gn/T/ipykernel_14091/427570331.py:10: FutureWarning: Series.__getitem__ treating keys as positions is deprecated. In a future version, integer keys will always be treated as labels (consistent with DataFrame behavior). To access a value by position, use `ser.iloc[pos]`\n",
      "  q_avil_site = pd.DataFrame(  {'site': [ df_202406['site_no'][0] ]}  )\n"
     ]
    },
    {
     "name": "stdout",
     "output_type": "stream",
     "text": [
      "13120500\n"
     ]
    },
    {
     "name": "stderr",
     "output_type": "stream",
     "text": [
      "/var/folders/_4/klhstfsn73nfrxlfr8_r9dhc0000gn/T/ipykernel_14091/427570331.py:10: FutureWarning: Series.__getitem__ treating keys as positions is deprecated. In a future version, integer keys will always be treated as labels (consistent with DataFrame behavior). To access a value by position, use `ser.iloc[pos]`\n",
      "  q_avil_site = pd.DataFrame(  {'site': [ df_202406['site_no'][0] ]}  )\n"
     ]
    },
    {
     "name": "stdout",
     "output_type": "stream",
     "text": [
      "13121000\n",
      "13121500\n",
      "13122000\n"
     ]
    },
    {
     "name": "stderr",
     "output_type": "stream",
     "text": [
      "/var/folders/_4/klhstfsn73nfrxlfr8_r9dhc0000gn/T/ipykernel_14091/427570331.py:10: FutureWarning: Series.__getitem__ treating keys as positions is deprecated. In a future version, integer keys will always be treated as labels (consistent with DataFrame behavior). To access a value by position, use `ser.iloc[pos]`\n",
      "  q_avil_site = pd.DataFrame(  {'site': [ df_202406['site_no'][0] ]}  )\n"
     ]
    },
    {
     "name": "stdout",
     "output_type": "stream",
     "text": [
      "13122500\n",
      "13123000\n",
      "13123500\n",
      "13124000\n",
      "13124265\n"
     ]
    },
    {
     "name": "stderr",
     "output_type": "stream",
     "text": [
      "/var/folders/_4/klhstfsn73nfrxlfr8_r9dhc0000gn/T/ipykernel_14091/427570331.py:10: FutureWarning: Series.__getitem__ treating keys as positions is deprecated. In a future version, integer keys will always be treated as labels (consistent with DataFrame behavior). To access a value by position, use `ser.iloc[pos]`\n",
      "  q_avil_site = pd.DataFrame(  {'site': [ df_202406['site_no'][0] ]}  )\n"
     ]
    },
    {
     "name": "stdout",
     "output_type": "stream",
     "text": [
      "13124500\n",
      "13125000\n",
      "13125500\n",
      "13127000\n"
     ]
    },
    {
     "name": "stderr",
     "output_type": "stream",
     "text": [
      "/var/folders/_4/klhstfsn73nfrxlfr8_r9dhc0000gn/T/ipykernel_14091/427570331.py:10: FutureWarning: Series.__getitem__ treating keys as positions is deprecated. In a future version, integer keys will always be treated as labels (consistent with DataFrame behavior). To access a value by position, use `ser.iloc[pos]`\n",
      "  q_avil_site = pd.DataFrame(  {'site': [ df_202406['site_no'][0] ]}  )\n"
     ]
    },
    {
     "name": "stdout",
     "output_type": "stream",
     "text": [
      "13128000\n",
      "13128500\n",
      "13128900\n"
     ]
    },
    {
     "name": "stderr",
     "output_type": "stream",
     "text": [
      "/var/folders/_4/klhstfsn73nfrxlfr8_r9dhc0000gn/T/ipykernel_14091/427570331.py:10: FutureWarning: Series.__getitem__ treating keys as positions is deprecated. In a future version, integer keys will always be treated as labels (consistent with DataFrame behavior). To access a value by position, use `ser.iloc[pos]`\n",
      "  q_avil_site = pd.DataFrame(  {'site': [ df_202406['site_no'][0] ]}  )\n"
     ]
    },
    {
     "name": "stdout",
     "output_type": "stream",
     "text": [
      "13129500\n",
      "13129800\n",
      "13130000\n",
      "13130300\n"
     ]
    },
    {
     "name": "stderr",
     "output_type": "stream",
     "text": [
      "/var/folders/_4/klhstfsn73nfrxlfr8_r9dhc0000gn/T/ipykernel_14091/427570331.py:10: FutureWarning: Series.__getitem__ treating keys as positions is deprecated. In a future version, integer keys will always be treated as labels (consistent with DataFrame behavior). To access a value by position, use `ser.iloc[pos]`\n",
      "  q_avil_site = pd.DataFrame(  {'site': [ df_202406['site_no'][0] ]}  )\n"
     ]
    },
    {
     "name": "stdout",
     "output_type": "stream",
     "text": [
      "13130500\n",
      "13130800\n",
      "13130900\n",
      "13131000\n"
     ]
    },
    {
     "name": "stderr",
     "output_type": "stream",
     "text": [
      "/var/folders/_4/klhstfsn73nfrxlfr8_r9dhc0000gn/T/ipykernel_14091/427570331.py:10: FutureWarning: Series.__getitem__ treating keys as positions is deprecated. In a future version, integer keys will always be treated as labels (consistent with DataFrame behavior). To access a value by position, use `ser.iloc[pos]`\n",
      "  q_avil_site = pd.DataFrame(  {'site': [ df_202406['site_no'][0] ]}  )\n"
     ]
    },
    {
     "name": "stdout",
     "output_type": "stream",
     "text": [
      "13131500\n",
      "13132000\n",
      "13132100\n"
     ]
    },
    {
     "name": "stderr",
     "output_type": "stream",
     "text": [
      "/var/folders/_4/klhstfsn73nfrxlfr8_r9dhc0000gn/T/ipykernel_14091/427570331.py:10: FutureWarning: Series.__getitem__ treating keys as positions is deprecated. In a future version, integer keys will always be treated as labels (consistent with DataFrame behavior). To access a value by position, use `ser.iloc[pos]`\n",
      "  q_avil_site = pd.DataFrame(  {'site': [ df_202406['site_no'][0] ]}  )\n"
     ]
    },
    {
     "name": "stdout",
     "output_type": "stream",
     "text": [
      "13132373\n"
     ]
    },
    {
     "name": "stderr",
     "output_type": "stream",
     "text": [
      "/var/folders/_4/klhstfsn73nfrxlfr8_r9dhc0000gn/T/ipykernel_14091/427570331.py:10: FutureWarning: Series.__getitem__ treating keys as positions is deprecated. In a future version, integer keys will always be treated as labels (consistent with DataFrame behavior). To access a value by position, use `ser.iloc[pos]`\n",
      "  q_avil_site = pd.DataFrame(  {'site': [ df_202406['site_no'][0] ]}  )\n"
     ]
    },
    {
     "name": "stdout",
     "output_type": "stream",
     "text": [
      "13132500\n"
     ]
    },
    {
     "name": "stderr",
     "output_type": "stream",
     "text": [
      "/var/folders/_4/klhstfsn73nfrxlfr8_r9dhc0000gn/T/ipykernel_14091/427570331.py:10: FutureWarning: Series.__getitem__ treating keys as positions is deprecated. In a future version, integer keys will always be treated as labels (consistent with DataFrame behavior). To access a value by position, use `ser.iloc[pos]`\n",
      "  q_avil_site = pd.DataFrame(  {'site': [ df_202406['site_no'][0] ]}  )\n"
     ]
    },
    {
     "name": "stdout",
     "output_type": "stream",
     "text": [
      "13132513\n"
     ]
    },
    {
     "name": "stderr",
     "output_type": "stream",
     "text": [
      "/var/folders/_4/klhstfsn73nfrxlfr8_r9dhc0000gn/T/ipykernel_14091/427570331.py:10: FutureWarning: Series.__getitem__ treating keys as positions is deprecated. In a future version, integer keys will always be treated as labels (consistent with DataFrame behavior). To access a value by position, use `ser.iloc[pos]`\n",
      "  q_avil_site = pd.DataFrame(  {'site': [ df_202406['site_no'][0] ]}  )\n"
     ]
    },
    {
     "name": "stdout",
     "output_type": "stream",
     "text": [
      "13132515\n",
      "13132520\n"
     ]
    },
    {
     "name": "stderr",
     "output_type": "stream",
     "text": [
      "/var/folders/_4/klhstfsn73nfrxlfr8_r9dhc0000gn/T/ipykernel_14091/427570331.py:10: FutureWarning: Series.__getitem__ treating keys as positions is deprecated. In a future version, integer keys will always be treated as labels (consistent with DataFrame behavior). To access a value by position, use `ser.iloc[pos]`\n",
      "  q_avil_site = pd.DataFrame(  {'site': [ df_202406['site_no'][0] ]}  )\n"
     ]
    },
    {
     "name": "stdout",
     "output_type": "stream",
     "text": [
      "13132530\n",
      "13132535\n"
     ]
    },
    {
     "name": "stderr",
     "output_type": "stream",
     "text": [
      "/var/folders/_4/klhstfsn73nfrxlfr8_r9dhc0000gn/T/ipykernel_14091/427570331.py:10: FutureWarning: Series.__getitem__ treating keys as positions is deprecated. In a future version, integer keys will always be treated as labels (consistent with DataFrame behavior). To access a value by position, use `ser.iloc[pos]`\n",
      "  q_avil_site = pd.DataFrame(  {'site': [ df_202406['site_no'][0] ]}  )\n"
     ]
    },
    {
     "name": "stdout",
     "output_type": "stream",
     "text": [
      "13132565\n"
     ]
    },
    {
     "name": "stderr",
     "output_type": "stream",
     "text": [
      "/var/folders/_4/klhstfsn73nfrxlfr8_r9dhc0000gn/T/ipykernel_14091/427570331.py:10: FutureWarning: Series.__getitem__ treating keys as positions is deprecated. In a future version, integer keys will always be treated as labels (consistent with DataFrame behavior). To access a value by position, use `ser.iloc[pos]`\n",
      "  q_avil_site = pd.DataFrame(  {'site': [ df_202406['site_no'][0] ]}  )\n"
     ]
    },
    {
     "name": "stdout",
     "output_type": "stream",
     "text": [
      "13132622\n",
      "13132801\n",
      "13133800\n",
      "13134000\n",
      "13134300\n",
      "13134500\n",
      "13134520\n",
      "13134556\n",
      "1313457010\n",
      "13135000\n",
      "13135500\n"
     ]
    },
    {
     "name": "stderr",
     "output_type": "stream",
     "text": [
      "/var/folders/_4/klhstfsn73nfrxlfr8_r9dhc0000gn/T/ipykernel_14091/427570331.py:10: FutureWarning: Series.__getitem__ treating keys as positions is deprecated. In a future version, integer keys will always be treated as labels (consistent with DataFrame behavior). To access a value by position, use `ser.iloc[pos]`\n",
      "  q_avil_site = pd.DataFrame(  {'site': [ df_202406['site_no'][0] ]}  )\n"
     ]
    },
    {
     "name": "stdout",
     "output_type": "stream",
     "text": [
      "13135520\n"
     ]
    },
    {
     "name": "stderr",
     "output_type": "stream",
     "text": [
      "/var/folders/_4/klhstfsn73nfrxlfr8_r9dhc0000gn/T/ipykernel_14091/427570331.py:10: FutureWarning: Series.__getitem__ treating keys as positions is deprecated. In a future version, integer keys will always be treated as labels (consistent with DataFrame behavior). To access a value by position, use `ser.iloc[pos]`\n",
      "  q_avil_site = pd.DataFrame(  {'site': [ df_202406['site_no'][0] ]}  )\n"
     ]
    },
    {
     "name": "stdout",
     "output_type": "stream",
     "text": [
      "13136000\n",
      "13136500\n",
      "13136550\n"
     ]
    },
    {
     "name": "stderr",
     "output_type": "stream",
     "text": [
      "/var/folders/_4/klhstfsn73nfrxlfr8_r9dhc0000gn/T/ipykernel_14091/427570331.py:10: FutureWarning: Series.__getitem__ treating keys as positions is deprecated. In a future version, integer keys will always be treated as labels (consistent with DataFrame behavior). To access a value by position, use `ser.iloc[pos]`\n",
      "  q_avil_site = pd.DataFrame(  {'site': [ df_202406['site_no'][0] ]}  )\n"
     ]
    },
    {
     "name": "stdout",
     "output_type": "stream",
     "text": [
      "13137000\n"
     ]
    },
    {
     "name": "stderr",
     "output_type": "stream",
     "text": [
      "/var/folders/_4/klhstfsn73nfrxlfr8_r9dhc0000gn/T/ipykernel_14091/427570331.py:10: FutureWarning: Series.__getitem__ treating keys as positions is deprecated. In a future version, integer keys will always be treated as labels (consistent with DataFrame behavior). To access a value by position, use `ser.iloc[pos]`\n",
      "  q_avil_site = pd.DataFrame(  {'site': [ df_202406['site_no'][0] ]}  )\n"
     ]
    },
    {
     "name": "stdout",
     "output_type": "stream",
     "text": [
      "13137300\n"
     ]
    },
    {
     "name": "stderr",
     "output_type": "stream",
     "text": [
      "/var/folders/_4/klhstfsn73nfrxlfr8_r9dhc0000gn/T/ipykernel_14091/427570331.py:10: FutureWarning: Series.__getitem__ treating keys as positions is deprecated. In a future version, integer keys will always be treated as labels (consistent with DataFrame behavior). To access a value by position, use `ser.iloc[pos]`\n",
      "  q_avil_site = pd.DataFrame(  {'site': [ df_202406['site_no'][0] ]}  )\n"
     ]
    },
    {
     "name": "stdout",
     "output_type": "stream",
     "text": [
      "13137500\n"
     ]
    },
    {
     "name": "stderr",
     "output_type": "stream",
     "text": [
      "/var/folders/_4/klhstfsn73nfrxlfr8_r9dhc0000gn/T/ipykernel_14091/427570331.py:10: FutureWarning: Series.__getitem__ treating keys as positions is deprecated. In a future version, integer keys will always be treated as labels (consistent with DataFrame behavior). To access a value by position, use `ser.iloc[pos]`\n",
      "  q_avil_site = pd.DataFrame(  {'site': [ df_202406['site_no'][0] ]}  )\n"
     ]
    },
    {
     "name": "stdout",
     "output_type": "stream",
     "text": [
      "13138000\n"
     ]
    },
    {
     "name": "stderr",
     "output_type": "stream",
     "text": [
      "/var/folders/_4/klhstfsn73nfrxlfr8_r9dhc0000gn/T/ipykernel_14091/427570331.py:10: FutureWarning: Series.__getitem__ treating keys as positions is deprecated. In a future version, integer keys will always be treated as labels (consistent with DataFrame behavior). To access a value by position, use `ser.iloc[pos]`\n",
      "  q_avil_site = pd.DataFrame(  {'site': [ df_202406['site_no'][0] ]}  )\n"
     ]
    },
    {
     "name": "stdout",
     "output_type": "stream",
     "text": [
      "13138500\n",
      "13138650\n",
      "13139000\n",
      "13139500\n",
      "13139510\n"
     ]
    },
    {
     "name": "stderr",
     "output_type": "stream",
     "text": [
      "/var/folders/_4/klhstfsn73nfrxlfr8_r9dhc0000gn/T/ipykernel_14091/427570331.py:10: FutureWarning: Series.__getitem__ treating keys as positions is deprecated. In a future version, integer keys will always be treated as labels (consistent with DataFrame behavior). To access a value by position, use `ser.iloc[pos]`\n",
      "  q_avil_site = pd.DataFrame(  {'site': [ df_202406['site_no'][0] ]}  )\n"
     ]
    },
    {
     "name": "stdout",
     "output_type": "stream",
     "text": [
      "13140335\n"
     ]
    },
    {
     "name": "stderr",
     "output_type": "stream",
     "text": [
      "/var/folders/_4/klhstfsn73nfrxlfr8_r9dhc0000gn/T/ipykernel_14091/427570331.py:10: FutureWarning: Series.__getitem__ treating keys as positions is deprecated. In a future version, integer keys will always be treated as labels (consistent with DataFrame behavior). To access a value by position, use `ser.iloc[pos]`\n",
      "  q_avil_site = pd.DataFrame(  {'site': [ df_202406['site_no'][0] ]}  )\n"
     ]
    },
    {
     "name": "stdout",
     "output_type": "stream",
     "text": [
      "13140500\n",
      "13140800\n"
     ]
    },
    {
     "name": "stderr",
     "output_type": "stream",
     "text": [
      "/var/folders/_4/klhstfsn73nfrxlfr8_r9dhc0000gn/T/ipykernel_14091/427570331.py:10: FutureWarning: Series.__getitem__ treating keys as positions is deprecated. In a future version, integer keys will always be treated as labels (consistent with DataFrame behavior). To access a value by position, use `ser.iloc[pos]`\n",
      "  q_avil_site = pd.DataFrame(  {'site': [ df_202406['site_no'][0] ]}  )\n"
     ]
    },
    {
     "name": "stdout",
     "output_type": "stream",
     "text": [
      "13141000\n",
      "13141500\n"
     ]
    },
    {
     "name": "stderr",
     "output_type": "stream",
     "text": [
      "/var/folders/_4/klhstfsn73nfrxlfr8_r9dhc0000gn/T/ipykernel_14091/427570331.py:10: FutureWarning: Series.__getitem__ treating keys as positions is deprecated. In a future version, integer keys will always be treated as labels (consistent with DataFrame behavior). To access a value by position, use `ser.iloc[pos]`\n",
      "  q_avil_site = pd.DataFrame(  {'site': [ df_202406['site_no'][0] ]}  )\n"
     ]
    },
    {
     "name": "stdout",
     "output_type": "stream",
     "text": [
      "13142500\n"
     ]
    },
    {
     "name": "stderr",
     "output_type": "stream",
     "text": [
      "/var/folders/_4/klhstfsn73nfrxlfr8_r9dhc0000gn/T/ipykernel_14091/427570331.py:10: FutureWarning: Series.__getitem__ treating keys as positions is deprecated. In a future version, integer keys will always be treated as labels (consistent with DataFrame behavior). To access a value by position, use `ser.iloc[pos]`\n",
      "  q_avil_site = pd.DataFrame(  {'site': [ df_202406['site_no'][0] ]}  )\n"
     ]
    },
    {
     "name": "stdout",
     "output_type": "stream",
     "text": [
      "13142900\n",
      "13144000\n",
      "13144500\n",
      "13145000\n",
      "13145500\n",
      "13146000\n",
      "13146500\n",
      "13147000\n",
      "13147500\n",
      "13147900\n"
     ]
    },
    {
     "name": "stderr",
     "output_type": "stream",
     "text": [
      "/var/folders/_4/klhstfsn73nfrxlfr8_r9dhc0000gn/T/ipykernel_14091/427570331.py:10: FutureWarning: Series.__getitem__ treating keys as positions is deprecated. In a future version, integer keys will always be treated as labels (consistent with DataFrame behavior). To access a value by position, use `ser.iloc[pos]`\n",
      "  q_avil_site = pd.DataFrame(  {'site': [ df_202406['site_no'][0] ]}  )\n"
     ]
    },
    {
     "name": "stdout",
     "output_type": "stream",
     "text": [
      "13148000\n",
      "13148500\n"
     ]
    },
    {
     "name": "stderr",
     "output_type": "stream",
     "text": [
      "/var/folders/_4/klhstfsn73nfrxlfr8_r9dhc0000gn/T/ipykernel_14091/427570331.py:10: FutureWarning: Series.__getitem__ treating keys as positions is deprecated. In a future version, integer keys will always be treated as labels (consistent with DataFrame behavior). To access a value by position, use `ser.iloc[pos]`\n",
      "  q_avil_site = pd.DataFrame(  {'site': [ df_202406['site_no'][0] ]}  )\n"
     ]
    },
    {
     "name": "stdout",
     "output_type": "stream",
     "text": [
      "13149000\n",
      "13149500\n",
      "13150000\n",
      "13150430\n"
     ]
    },
    {
     "name": "stderr",
     "output_type": "stream",
     "text": [
      "/var/folders/_4/klhstfsn73nfrxlfr8_r9dhc0000gn/T/ipykernel_14091/427570331.py:10: FutureWarning: Series.__getitem__ treating keys as positions is deprecated. In a future version, integer keys will always be treated as labels (consistent with DataFrame behavior). To access a value by position, use `ser.iloc[pos]`\n",
      "  q_avil_site = pd.DataFrame(  {'site': [ df_202406['site_no'][0] ]}  )\n"
     ]
    },
    {
     "name": "stdout",
     "output_type": "stream",
     "text": [
      "131504301\n",
      "13150500\n",
      "13151000\n",
      "13151500\n",
      "13152000\n",
      "13152500\n"
     ]
    },
    {
     "name": "stderr",
     "output_type": "stream",
     "text": [
      "/var/folders/_4/klhstfsn73nfrxlfr8_r9dhc0000gn/T/ipykernel_14091/427570331.py:10: FutureWarning: Series.__getitem__ treating keys as positions is deprecated. In a future version, integer keys will always be treated as labels (consistent with DataFrame behavior). To access a value by position, use `ser.iloc[pos]`\n",
      "  q_avil_site = pd.DataFrame(  {'site': [ df_202406['site_no'][0] ]}  )\n"
     ]
    },
    {
     "name": "stdout",
     "output_type": "stream",
     "text": [
      "13152895\n",
      "13152940\n",
      "13153500\n",
      "13153501\n",
      "13153714\n",
      "13153735\n",
      "1315377299\n",
      "13153776\n",
      "13153778\n",
      "13154000\n",
      "13154400\n",
      "13154500\n"
     ]
    },
    {
     "name": "stderr",
     "output_type": "stream",
     "text": [
      "/var/folders/_4/klhstfsn73nfrxlfr8_r9dhc0000gn/T/ipykernel_14091/427570331.py:10: FutureWarning: Series.__getitem__ treating keys as positions is deprecated. In a future version, integer keys will always be treated as labels (consistent with DataFrame behavior). To access a value by position, use `ser.iloc[pos]`\n",
      "  q_avil_site = pd.DataFrame(  {'site': [ df_202406['site_no'][0] ]}  )\n"
     ]
    },
    {
     "name": "stdout",
     "output_type": "stream",
     "text": [
      "13154510\n",
      "13155000\n",
      "13155074\n",
      "13155300\n",
      "13155400\n",
      "13155500\n",
      "13155620\n",
      "13155700\n",
      "13155750\n",
      "13155800\n",
      "13156000\n",
      "13156500\n",
      "13157000\n",
      "13157015\n",
      "13157100\n",
      "13157105\n",
      "13157110\n",
      "13157130\n",
      "13157150\n",
      "13157160\n",
      "13157293\n",
      "13157305\n",
      "13157310\n",
      "13157315\n",
      "13157325\n",
      "13157340\n",
      "13157370\n",
      "13158000\n",
      "13159000\n",
      "13159500\n",
      "13159800\n"
     ]
    },
    {
     "name": "stderr",
     "output_type": "stream",
     "text": [
      "/var/folders/_4/klhstfsn73nfrxlfr8_r9dhc0000gn/T/ipykernel_14091/427570331.py:10: FutureWarning: Series.__getitem__ treating keys as positions is deprecated. In a future version, integer keys will always be treated as labels (consistent with DataFrame behavior). To access a value by position, use `ser.iloc[pos]`\n",
      "  q_avil_site = pd.DataFrame(  {'site': [ df_202406['site_no'][0] ]}  )\n"
     ]
    },
    {
     "name": "stdout",
     "output_type": "stream",
     "text": [
      "13160000\n",
      "131610556\n",
      "13161930\n"
     ]
    },
    {
     "name": "stderr",
     "output_type": "stream",
     "text": [
      "/var/folders/_4/klhstfsn73nfrxlfr8_r9dhc0000gn/T/ipykernel_14091/427570331.py:10: FutureWarning: Series.__getitem__ treating keys as positions is deprecated. In a future version, integer keys will always be treated as labels (consistent with DataFrame behavior). To access a value by position, use `ser.iloc[pos]`\n",
      "  q_avil_site = pd.DataFrame(  {'site': [ df_202406['site_no'][0] ]}  )\n"
     ]
    },
    {
     "name": "stdout",
     "output_type": "stream",
     "text": [
      "13162000\n",
      "13162050\n"
     ]
    },
    {
     "name": "stderr",
     "output_type": "stream",
     "text": [
      "/var/folders/_4/klhstfsn73nfrxlfr8_r9dhc0000gn/T/ipykernel_14091/427570331.py:10: FutureWarning: Series.__getitem__ treating keys as positions is deprecated. In a future version, integer keys will always be treated as labels (consistent with DataFrame behavior). To access a value by position, use `ser.iloc[pos]`\n",
      "  q_avil_site = pd.DataFrame(  {'site': [ df_202406['site_no'][0] ]}  )\n"
     ]
    },
    {
     "name": "stdout",
     "output_type": "stream",
     "text": [
      "13162500\n",
      "13163000\n",
      "13163500\n",
      "13164000\n",
      "13164500\n",
      "13164600\n"
     ]
    },
    {
     "name": "stderr",
     "output_type": "stream",
     "text": [
      "/var/folders/_4/klhstfsn73nfrxlfr8_r9dhc0000gn/T/ipykernel_14091/427570331.py:10: FutureWarning: Series.__getitem__ treating keys as positions is deprecated. In a future version, integer keys will always be treated as labels (consistent with DataFrame behavior). To access a value by position, use `ser.iloc[pos]`\n",
      "  q_avil_site = pd.DataFrame(  {'site': [ df_202406['site_no'][0] ]}  )\n"
     ]
    },
    {
     "name": "stdout",
     "output_type": "stream",
     "text": [
      "13165000\n",
      "13165500\n",
      "13166000\n",
      "13166500\n",
      "13167000\n",
      "13167500\n",
      "13168000\n",
      "13168500\n"
     ]
    },
    {
     "name": "stderr",
     "output_type": "stream",
     "text": [
      "/var/folders/_4/klhstfsn73nfrxlfr8_r9dhc0000gn/T/ipykernel_14091/427570331.py:10: FutureWarning: Series.__getitem__ treating keys as positions is deprecated. In a future version, integer keys will always be treated as labels (consistent with DataFrame behavior). To access a value by position, use `ser.iloc[pos]`\n",
      "  q_avil_site = pd.DataFrame(  {'site': [ df_202406['site_no'][0] ]}  )\n"
     ]
    },
    {
     "name": "stdout",
     "output_type": "stream",
     "text": [
      "13169400\n"
     ]
    },
    {
     "name": "stderr",
     "output_type": "stream",
     "text": [
      "/var/folders/_4/klhstfsn73nfrxlfr8_r9dhc0000gn/T/ipykernel_14091/427570331.py:10: FutureWarning: Series.__getitem__ treating keys as positions is deprecated. In a future version, integer keys will always be treated as labels (consistent with DataFrame behavior). To access a value by position, use `ser.iloc[pos]`\n",
      "  q_avil_site = pd.DataFrame(  {'site': [ df_202406['site_no'][0] ]}  )\n"
     ]
    },
    {
     "name": "stdout",
     "output_type": "stream",
     "text": [
      "13169420\n"
     ]
    },
    {
     "name": "stderr",
     "output_type": "stream",
     "text": [
      "/var/folders/_4/klhstfsn73nfrxlfr8_r9dhc0000gn/T/ipykernel_14091/427570331.py:10: FutureWarning: Series.__getitem__ treating keys as positions is deprecated. In a future version, integer keys will always be treated as labels (consistent with DataFrame behavior). To access a value by position, use `ser.iloc[pos]`\n",
      "  q_avil_site = pd.DataFrame(  {'site': [ df_202406['site_no'][0] ]}  )\n"
     ]
    },
    {
     "name": "stdout",
     "output_type": "stream",
     "text": [
      "13169450\n",
      "13169500\n",
      "13169800\n"
     ]
    },
    {
     "name": "stderr",
     "output_type": "stream",
     "text": [
      "/var/folders/_4/klhstfsn73nfrxlfr8_r9dhc0000gn/T/ipykernel_14091/427570331.py:10: FutureWarning: Series.__getitem__ treating keys as positions is deprecated. In a future version, integer keys will always be treated as labels (consistent with DataFrame behavior). To access a value by position, use `ser.iloc[pos]`\n",
      "  q_avil_site = pd.DataFrame(  {'site': [ df_202406['site_no'][0] ]}  )\n"
     ]
    },
    {
     "name": "stdout",
     "output_type": "stream",
     "text": [
      "13170000\n",
      "13170050\n",
      "13170350\n",
      "13170800\n",
      "13170900\n",
      "13171000\n",
      "13171620\n",
      "13172000\n",
      "13172454\n",
      "13172455\n",
      "13172500\n"
     ]
    },
    {
     "name": "stderr",
     "output_type": "stream",
     "text": [
      "/var/folders/_4/klhstfsn73nfrxlfr8_r9dhc0000gn/T/ipykernel_14091/427570331.py:10: FutureWarning: Series.__getitem__ treating keys as positions is deprecated. In a future version, integer keys will always be treated as labels (consistent with DataFrame behavior). To access a value by position, use `ser.iloc[pos]`\n",
      "  q_avil_site = pd.DataFrame(  {'site': [ df_202406['site_no'][0] ]}  )\n"
     ]
    },
    {
     "name": "stdout",
     "output_type": "stream",
     "text": [
      "13172800\n",
      "13172840\n",
      "13172850\n",
      "13172890\n",
      "13173500\n",
      "13173520\n",
      "13173630\n",
      "13173635\n",
      "13176195\n"
     ]
    },
    {
     "name": "stderr",
     "output_type": "stream",
     "text": [
      "/var/folders/_4/klhstfsn73nfrxlfr8_r9dhc0000gn/T/ipykernel_14091/427570331.py:10: FutureWarning: Series.__getitem__ treating keys as positions is deprecated. In a future version, integer keys will always be treated as labels (consistent with DataFrame behavior). To access a value by position, use `ser.iloc[pos]`\n",
      "  q_avil_site = pd.DataFrame(  {'site': [ df_202406['site_no'][0] ]}  )\n"
     ]
    },
    {
     "name": "stdout",
     "output_type": "stream",
     "text": [
      "13176305\n"
     ]
    },
    {
     "name": "stderr",
     "output_type": "stream",
     "text": [
      "/var/folders/_4/klhstfsn73nfrxlfr8_r9dhc0000gn/T/ipykernel_14091/427570331.py:10: FutureWarning: Series.__getitem__ treating keys as positions is deprecated. In a future version, integer keys will always be treated as labels (consistent with DataFrame behavior). To access a value by position, use `ser.iloc[pos]`\n",
      "  q_avil_site = pd.DataFrame(  {'site': [ df_202406['site_no'][0] ]}  )\n"
     ]
    },
    {
     "name": "stdout",
     "output_type": "stream",
     "text": [
      "13176400\n"
     ]
    },
    {
     "name": "stderr",
     "output_type": "stream",
     "text": [
      "/var/folders/_4/klhstfsn73nfrxlfr8_r9dhc0000gn/T/ipykernel_14091/427570331.py:10: FutureWarning: Series.__getitem__ treating keys as positions is deprecated. In a future version, integer keys will always be treated as labels (consistent with DataFrame behavior). To access a value by position, use `ser.iloc[pos]`\n",
      "  q_avil_site = pd.DataFrame(  {'site': [ df_202406['site_no'][0] ]}  )\n"
     ]
    },
    {
     "name": "stdout",
     "output_type": "stream",
     "text": [
      "13177845\n"
     ]
    },
    {
     "name": "stderr",
     "output_type": "stream",
     "text": [
      "/var/folders/_4/klhstfsn73nfrxlfr8_r9dhc0000gn/T/ipykernel_14091/427570331.py:10: FutureWarning: Series.__getitem__ treating keys as positions is deprecated. In a future version, integer keys will always be treated as labels (consistent with DataFrame behavior). To access a value by position, use `ser.iloc[pos]`\n",
      "  q_avil_site = pd.DataFrame(  {'site': [ df_202406['site_no'][0] ]}  )\n"
     ]
    },
    {
     "name": "stdout",
     "output_type": "stream",
     "text": [
      "13177985\n",
      "13178000\n",
      "13184500\n",
      "13184870\n",
      "13185000\n"
     ]
    },
    {
     "name": "stderr",
     "output_type": "stream",
     "text": [
      "/var/folders/_4/klhstfsn73nfrxlfr8_r9dhc0000gn/T/ipykernel_14091/427570331.py:10: FutureWarning: Series.__getitem__ treating keys as positions is deprecated. In a future version, integer keys will always be treated as labels (consistent with DataFrame behavior). To access a value by position, use `ser.iloc[pos]`\n",
      "  q_avil_site = pd.DataFrame(  {'site': [ df_202406['site_no'][0] ]}  )\n"
     ]
    },
    {
     "name": "stdout",
     "output_type": "stream",
     "text": [
      "13185500\n",
      "13186000\n"
     ]
    },
    {
     "name": "stderr",
     "output_type": "stream",
     "text": [
      "/var/folders/_4/klhstfsn73nfrxlfr8_r9dhc0000gn/T/ipykernel_14091/427570331.py:10: FutureWarning: Series.__getitem__ treating keys as positions is deprecated. In a future version, integer keys will always be treated as labels (consistent with DataFrame behavior). To access a value by position, use `ser.iloc[pos]`\n",
      "  q_avil_site = pd.DataFrame(  {'site': [ df_202406['site_no'][0] ]}  )\n"
     ]
    },
    {
     "name": "stdout",
     "output_type": "stream",
     "text": [
      "13186500\n",
      "13187000\n",
      "13190500\n"
     ]
    },
    {
     "name": "stderr",
     "output_type": "stream",
     "text": [
      "/var/folders/_4/klhstfsn73nfrxlfr8_r9dhc0000gn/T/ipykernel_14091/427570331.py:10: FutureWarning: Series.__getitem__ treating keys as positions is deprecated. In a future version, integer keys will always be treated as labels (consistent with DataFrame behavior). To access a value by position, use `ser.iloc[pos]`\n",
      "  q_avil_site = pd.DataFrame(  {'site': [ df_202406['site_no'][0] ]}  )\n"
     ]
    },
    {
     "name": "stdout",
     "output_type": "stream",
     "text": [
      "13190505\n",
      "13190565\n",
      "13191000\n",
      "13191500\n",
      "13192000\n",
      "13192200\n"
     ]
    },
    {
     "name": "stderr",
     "output_type": "stream",
     "text": [
      "/var/folders/_4/klhstfsn73nfrxlfr8_r9dhc0000gn/T/ipykernel_14091/427570331.py:10: FutureWarning: Series.__getitem__ treating keys as positions is deprecated. In a future version, integer keys will always be treated as labels (consistent with DataFrame behavior). To access a value by position, use `ser.iloc[pos]`\n",
      "  q_avil_site = pd.DataFrame(  {'site': [ df_202406['site_no'][0] ]}  )\n"
     ]
    },
    {
     "name": "stdout",
     "output_type": "stream",
     "text": [
      "13192500\n",
      "13193000\n",
      "13193500\n",
      "13194500\n",
      "13195000\n",
      "13196000\n",
      "13196500\n",
      "13197000\n",
      "13197500\n",
      "13198000\n",
      "13198500\n",
      "13199000\n",
      "13199500\n",
      "13200000\n"
     ]
    },
    {
     "name": "stderr",
     "output_type": "stream",
     "text": [
      "/var/folders/_4/klhstfsn73nfrxlfr8_r9dhc0000gn/T/ipykernel_14091/427570331.py:10: FutureWarning: Series.__getitem__ treating keys as positions is deprecated. In a future version, integer keys will always be treated as labels (consistent with DataFrame behavior). To access a value by position, use `ser.iloc[pos]`\n",
      "  q_avil_site = pd.DataFrame(  {'site': [ df_202406['site_no'][0] ]}  )\n"
     ]
    },
    {
     "name": "stdout",
     "output_type": "stream",
     "text": [
      "13200500\n",
      "13201000\n",
      "13202000\n",
      "13203510\n",
      "13203700\n",
      "13204300\n",
      "13204500\n",
      "13204640\n",
      "13205000\n",
      "13205500\n",
      "13205520\n",
      "13205610\n",
      "13205633\n",
      "13205995\n",
      "13206000\n"
     ]
    },
    {
     "name": "stderr",
     "output_type": "stream",
     "text": [
      "/var/folders/_4/klhstfsn73nfrxlfr8_r9dhc0000gn/T/ipykernel_14091/427570331.py:10: FutureWarning: Series.__getitem__ treating keys as positions is deprecated. In a future version, integer keys will always be treated as labels (consistent with DataFrame behavior). To access a value by position, use `ser.iloc[pos]`\n",
      "  q_avil_site = pd.DataFrame(  {'site': [ df_202406['site_no'][0] ]}  )\n"
     ]
    },
    {
     "name": "stdout",
     "output_type": "stream",
     "text": [
      "13206305\n"
     ]
    },
    {
     "name": "stderr",
     "output_type": "stream",
     "text": [
      "/var/folders/_4/klhstfsn73nfrxlfr8_r9dhc0000gn/T/ipykernel_14091/427570331.py:10: FutureWarning: Series.__getitem__ treating keys as positions is deprecated. In a future version, integer keys will always be treated as labels (consistent with DataFrame behavior). To access a value by position, use `ser.iloc[pos]`\n",
      "  q_avil_site = pd.DataFrame(  {'site': [ df_202406['site_no'][0] ]}  )\n"
     ]
    },
    {
     "name": "stdout",
     "output_type": "stream",
     "text": [
      "13206500\n",
      "13207000\n",
      "13207500\n",
      "13208000\n",
      "13208500\n",
      "13209450\n",
      "13209500\n",
      "13210045\n"
     ]
    },
    {
     "name": "stderr",
     "output_type": "stream",
     "text": [
      "/var/folders/_4/klhstfsn73nfrxlfr8_r9dhc0000gn/T/ipykernel_14091/427570331.py:10: FutureWarning: Series.__getitem__ treating keys as positions is deprecated. In a future version, integer keys will always be treated as labels (consistent with DataFrame behavior). To access a value by position, use `ser.iloc[pos]`\n",
      "  q_avil_site = pd.DataFrame(  {'site': [ df_202406['site_no'][0] ]}  )\n"
     ]
    },
    {
     "name": "stdout",
     "output_type": "stream",
     "text": [
      "13210050\n",
      "13210280\n",
      "13210600\n",
      "13210650\n",
      "13210660\n",
      "13210700\n",
      "13210780\n",
      "13210795\n",
      "13210810\n"
     ]
    },
    {
     "name": "stderr",
     "output_type": "stream",
     "text": [
      "/var/folders/_4/klhstfsn73nfrxlfr8_r9dhc0000gn/T/ipykernel_14091/427570331.py:10: FutureWarning: Series.__getitem__ treating keys as positions is deprecated. In a future version, integer keys will always be treated as labels (consistent with DataFrame behavior). To access a value by position, use `ser.iloc[pos]`\n",
      "  q_avil_site = pd.DataFrame(  {'site': [ df_202406['site_no'][0] ]}  )\n"
     ]
    },
    {
     "name": "stdout",
     "output_type": "stream",
     "text": [
      "13210815\n",
      "13210824\n"
     ]
    },
    {
     "name": "stderr",
     "output_type": "stream",
     "text": [
      "/var/folders/_4/klhstfsn73nfrxlfr8_r9dhc0000gn/T/ipykernel_14091/427570331.py:10: FutureWarning: Series.__getitem__ treating keys as positions is deprecated. In a future version, integer keys will always be treated as labels (consistent with DataFrame behavior). To access a value by position, use `ser.iloc[pos]`\n",
      "  q_avil_site = pd.DataFrame(  {'site': [ df_202406['site_no'][0] ]}  )\n"
     ]
    },
    {
     "name": "stdout",
     "output_type": "stream",
     "text": [
      "132108247\n",
      "13210825\n",
      "13210831\n"
     ]
    },
    {
     "name": "stderr",
     "output_type": "stream",
     "text": [
      "/var/folders/_4/klhstfsn73nfrxlfr8_r9dhc0000gn/T/ipykernel_14091/427570331.py:10: FutureWarning: Series.__getitem__ treating keys as positions is deprecated. In a future version, integer keys will always be treated as labels (consistent with DataFrame behavior). To access a value by position, use `ser.iloc[pos]`\n",
      "  q_avil_site = pd.DataFrame(  {'site': [ df_202406['site_no'][0] ]}  )\n"
     ]
    },
    {
     "name": "stdout",
     "output_type": "stream",
     "text": [
      "13210835\n",
      "13210980\n"
     ]
    },
    {
     "name": "stderr",
     "output_type": "stream",
     "text": [
      "/var/folders/_4/klhstfsn73nfrxlfr8_r9dhc0000gn/T/ipykernel_14091/427570331.py:10: FutureWarning: Series.__getitem__ treating keys as positions is deprecated. In a future version, integer keys will always be treated as labels (consistent with DataFrame behavior). To access a value by position, use `ser.iloc[pos]`\n",
      "  q_avil_site = pd.DataFrame(  {'site': [ df_202406['site_no'][0] ]}  )\n"
     ]
    },
    {
     "name": "stdout",
     "output_type": "stream",
     "text": [
      "13210983\n",
      "13210986\n"
     ]
    },
    {
     "name": "stderr",
     "output_type": "stream",
     "text": [
      "/var/folders/_4/klhstfsn73nfrxlfr8_r9dhc0000gn/T/ipykernel_14091/427570331.py:10: FutureWarning: Series.__getitem__ treating keys as positions is deprecated. In a future version, integer keys will always be treated as labels (consistent with DataFrame behavior). To access a value by position, use `ser.iloc[pos]`\n",
      "  q_avil_site = pd.DataFrame(  {'site': [ df_202406['site_no'][0] ]}  )\n"
     ]
    },
    {
     "name": "stdout",
     "output_type": "stream",
     "text": [
      "132109867\n"
     ]
    },
    {
     "name": "stderr",
     "output_type": "stream",
     "text": [
      "/var/folders/_4/klhstfsn73nfrxlfr8_r9dhc0000gn/T/ipykernel_14091/427570331.py:10: FutureWarning: Series.__getitem__ treating keys as positions is deprecated. In a future version, integer keys will always be treated as labels (consistent with DataFrame behavior). To access a value by position, use `ser.iloc[pos]`\n",
      "  q_avil_site = pd.DataFrame(  {'site': [ df_202406['site_no'][0] ]}  )\n"
     ]
    },
    {
     "name": "stdout",
     "output_type": "stream",
     "text": [
      "13210988\n",
      "13210990\n",
      "13211000\n",
      "13211100\n",
      "13211130\n",
      "13211205\n"
     ]
    },
    {
     "name": "stderr",
     "output_type": "stream",
     "text": [
      "/var/folders/_4/klhstfsn73nfrxlfr8_r9dhc0000gn/T/ipykernel_14091/427570331.py:10: FutureWarning: Series.__getitem__ treating keys as positions is deprecated. In a future version, integer keys will always be treated as labels (consistent with DataFrame behavior). To access a value by position, use `ser.iloc[pos]`\n",
      "  q_avil_site = pd.DataFrame(  {'site': [ df_202406['site_no'][0] ]}  )\n"
     ]
    },
    {
     "name": "stdout",
     "output_type": "stream",
     "text": [
      "13211260\n",
      "13211309\n",
      "13211350\n",
      "13211440\n",
      "13211445\n",
      "13212000\n",
      "13212500\n",
      "13212549\n"
     ]
    },
    {
     "name": "stderr",
     "output_type": "stream",
     "text": [
      "/var/folders/_4/klhstfsn73nfrxlfr8_r9dhc0000gn/T/ipykernel_14091/427570331.py:10: FutureWarning: Series.__getitem__ treating keys as positions is deprecated. In a future version, integer keys will always be treated as labels (consistent with DataFrame behavior). To access a value by position, use `ser.iloc[pos]`\n",
      "  q_avil_site = pd.DataFrame(  {'site': [ df_202406['site_no'][0] ]}  )\n"
     ]
    },
    {
     "name": "stdout",
     "output_type": "stream",
     "text": [
      "13212550\n",
      "13212870\n",
      "13212875\n",
      "13212880\n",
      "13212890\n"
     ]
    },
    {
     "name": "stderr",
     "output_type": "stream",
     "text": [
      "/var/folders/_4/klhstfsn73nfrxlfr8_r9dhc0000gn/T/ipykernel_14091/427570331.py:10: FutureWarning: Series.__getitem__ treating keys as positions is deprecated. In a future version, integer keys will always be treated as labels (consistent with DataFrame behavior). To access a value by position, use `ser.iloc[pos]`\n",
      "  q_avil_site = pd.DataFrame(  {'site': [ df_202406['site_no'][0] ]}  )\n"
     ]
    },
    {
     "name": "stdout",
     "output_type": "stream",
     "text": [
      "13212995\n",
      "13212996\n",
      "13213000\n"
     ]
    },
    {
     "name": "stderr",
     "output_type": "stream",
     "text": [
      "/var/folders/_4/klhstfsn73nfrxlfr8_r9dhc0000gn/T/ipykernel_14091/427570331.py:10: FutureWarning: Series.__getitem__ treating keys as positions is deprecated. In a future version, integer keys will always be treated as labels (consistent with DataFrame behavior). To access a value by position, use `ser.iloc[pos]`\n",
      "  q_avil_site = pd.DataFrame(  {'site': [ df_202406['site_no'][0] ]}  )\n"
     ]
    },
    {
     "name": "stdout",
     "output_type": "stream",
     "text": [
      "13213030\n",
      "13213072\n"
     ]
    },
    {
     "name": "stderr",
     "output_type": "stream",
     "text": [
      "/var/folders/_4/klhstfsn73nfrxlfr8_r9dhc0000gn/T/ipykernel_14091/427570331.py:10: FutureWarning: Series.__getitem__ treating keys as positions is deprecated. In a future version, integer keys will always be treated as labels (consistent with DataFrame behavior). To access a value by position, use `ser.iloc[pos]`\n",
      "  q_avil_site = pd.DataFrame(  {'site': [ df_202406['site_no'][0] ]}  )\n"
     ]
    },
    {
     "name": "stdout",
     "output_type": "stream",
     "text": [
      "13213080\n",
      "13213100\n"
     ]
    },
    {
     "name": "stderr",
     "output_type": "stream",
     "text": [
      "/var/folders/_4/klhstfsn73nfrxlfr8_r9dhc0000gn/T/ipykernel_14091/427570331.py:10: FutureWarning: Series.__getitem__ treating keys as positions is deprecated. In a future version, integer keys will always be treated as labels (consistent with DataFrame behavior). To access a value by position, use `ser.iloc[pos]`\n",
      "  q_avil_site = pd.DataFrame(  {'site': [ df_202406['site_no'][0] ]}  )\n"
     ]
    },
    {
     "name": "stdout",
     "output_type": "stream",
     "text": [
      "13234500\n",
      "13235000\n"
     ]
    },
    {
     "name": "stderr",
     "output_type": "stream",
     "text": [
      "/var/folders/_4/klhstfsn73nfrxlfr8_r9dhc0000gn/T/ipykernel_14091/427570331.py:10: FutureWarning: Series.__getitem__ treating keys as positions is deprecated. In a future version, integer keys will always be treated as labels (consistent with DataFrame behavior). To access a value by position, use `ser.iloc[pos]`\n",
      "  q_avil_site = pd.DataFrame(  {'site': [ df_202406['site_no'][0] ]}  )\n"
     ]
    },
    {
     "name": "stdout",
     "output_type": "stream",
     "text": [
      "13235500\n",
      "13236500\n"
     ]
    },
    {
     "name": "stderr",
     "output_type": "stream",
     "text": [
      "/var/folders/_4/klhstfsn73nfrxlfr8_r9dhc0000gn/T/ipykernel_14091/427570331.py:10: FutureWarning: Series.__getitem__ treating keys as positions is deprecated. In a future version, integer keys will always be treated as labels (consistent with DataFrame behavior). To access a value by position, use `ser.iloc[pos]`\n",
      "  q_avil_site = pd.DataFrame(  {'site': [ df_202406['site_no'][0] ]}  )\n"
     ]
    },
    {
     "name": "stdout",
     "output_type": "stream",
     "text": [
      "13237000\n",
      "13237500\n",
      "13237600\n",
      "13237700\n",
      "13237920\n"
     ]
    },
    {
     "name": "stderr",
     "output_type": "stream",
     "text": [
      "/var/folders/_4/klhstfsn73nfrxlfr8_r9dhc0000gn/T/ipykernel_14091/427570331.py:10: FutureWarning: Series.__getitem__ treating keys as positions is deprecated. In a future version, integer keys will always be treated as labels (consistent with DataFrame behavior). To access a value by position, use `ser.iloc[pos]`\n",
      "  q_avil_site = pd.DataFrame(  {'site': [ df_202406['site_no'][0] ]}  )\n"
     ]
    },
    {
     "name": "stdout",
     "output_type": "stream",
     "text": [
      "13238000\n",
      "13238322\n",
      "13239000\n"
     ]
    },
    {
     "name": "stderr",
     "output_type": "stream",
     "text": [
      "/var/folders/_4/klhstfsn73nfrxlfr8_r9dhc0000gn/T/ipykernel_14091/427570331.py:10: FutureWarning: Series.__getitem__ treating keys as positions is deprecated. In a future version, integer keys will always be treated as labels (consistent with DataFrame behavior). To access a value by position, use `ser.iloc[pos]`\n",
      "  q_avil_site = pd.DataFrame(  {'site': [ df_202406['site_no'][0] ]}  )\n"
     ]
    },
    {
     "name": "stdout",
     "output_type": "stream",
     "text": [
      "13239500\n",
      "13240000\n"
     ]
    },
    {
     "name": "stderr",
     "output_type": "stream",
     "text": [
      "/var/folders/_4/klhstfsn73nfrxlfr8_r9dhc0000gn/T/ipykernel_14091/427570331.py:10: FutureWarning: Series.__getitem__ treating keys as positions is deprecated. In a future version, integer keys will always be treated as labels (consistent with DataFrame behavior). To access a value by position, use `ser.iloc[pos]`\n",
      "  q_avil_site = pd.DataFrame(  {'site': [ df_202406['site_no'][0] ]}  )\n"
     ]
    },
    {
     "name": "stdout",
     "output_type": "stream",
     "text": [
      "13240500\n",
      "13241500\n",
      "13242500\n",
      "13243500\n",
      "13244000\n",
      "13245000\n",
      "13245500\n",
      "13246000\n"
     ]
    },
    {
     "name": "stderr",
     "output_type": "stream",
     "text": [
      "/var/folders/_4/klhstfsn73nfrxlfr8_r9dhc0000gn/T/ipykernel_14091/427570331.py:10: FutureWarning: Series.__getitem__ treating keys as positions is deprecated. In a future version, integer keys will always be treated as labels (consistent with DataFrame behavior). To access a value by position, use `ser.iloc[pos]`\n",
      "  q_avil_site = pd.DataFrame(  {'site': [ df_202406['site_no'][0] ]}  )\n"
     ]
    },
    {
     "name": "stdout",
     "output_type": "stream",
     "text": [
      "13246500\n",
      "13247000\n",
      "13247500\n"
     ]
    },
    {
     "name": "stderr",
     "output_type": "stream",
     "text": [
      "/var/folders/_4/klhstfsn73nfrxlfr8_r9dhc0000gn/T/ipykernel_14091/427570331.py:10: FutureWarning: Series.__getitem__ treating keys as positions is deprecated. In a future version, integer keys will always be treated as labels (consistent with DataFrame behavior). To access a value by position, use `ser.iloc[pos]`\n",
      "  q_avil_site = pd.DataFrame(  {'site': [ df_202406['site_no'][0] ]}  )\n"
     ]
    },
    {
     "name": "stdout",
     "output_type": "stream",
     "text": [
      "13248000\n",
      "13248500\n",
      "13249000\n",
      "13249500\n"
     ]
    },
    {
     "name": "stderr",
     "output_type": "stream",
     "text": [
      "/var/folders/_4/klhstfsn73nfrxlfr8_r9dhc0000gn/T/ipykernel_14091/427570331.py:10: FutureWarning: Series.__getitem__ treating keys as positions is deprecated. In a future version, integer keys will always be treated as labels (consistent with DataFrame behavior). To access a value by position, use `ser.iloc[pos]`\n",
      "  q_avil_site = pd.DataFrame(  {'site': [ df_202406['site_no'][0] ]}  )\n"
     ]
    },
    {
     "name": "stdout",
     "output_type": "stream",
     "text": [
      "13250000\n"
     ]
    },
    {
     "name": "stderr",
     "output_type": "stream",
     "text": [
      "/var/folders/_4/klhstfsn73nfrxlfr8_r9dhc0000gn/T/ipykernel_14091/427570331.py:10: FutureWarning: Series.__getitem__ treating keys as positions is deprecated. In a future version, integer keys will always be treated as labels (consistent with DataFrame behavior). To access a value by position, use `ser.iloc[pos]`\n",
      "  q_avil_site = pd.DataFrame(  {'site': [ df_202406['site_no'][0] ]}  )\n"
     ]
    },
    {
     "name": "stdout",
     "output_type": "stream",
     "text": [
      "13250500\n",
      "13250600\n",
      "13251000\n"
     ]
    },
    {
     "name": "stderr",
     "output_type": "stream",
     "text": [
      "/var/folders/_4/klhstfsn73nfrxlfr8_r9dhc0000gn/T/ipykernel_14091/427570331.py:10: FutureWarning: Series.__getitem__ treating keys as positions is deprecated. In a future version, integer keys will always be treated as labels (consistent with DataFrame behavior). To access a value by position, use `ser.iloc[pos]`\n",
      "  q_avil_site = pd.DataFrame(  {'site': [ df_202406['site_no'][0] ]}  )\n"
     ]
    },
    {
     "name": "stdout",
     "output_type": "stream",
     "text": [
      "13251300\n",
      "13251500\n",
      "13252000\n",
      "13252500\n",
      "13253000\n",
      "13253500\n",
      "13254500\n",
      "13255000\n",
      "13255050\n",
      "13255060\n",
      "13255500\n",
      "13256000\n",
      "13256800\n",
      "13257000\n",
      "13257500\n",
      "13258000\n",
      "13258500\n"
     ]
    },
    {
     "name": "stderr",
     "output_type": "stream",
     "text": [
      "/var/folders/_4/klhstfsn73nfrxlfr8_r9dhc0000gn/T/ipykernel_14091/427570331.py:10: FutureWarning: Series.__getitem__ treating keys as positions is deprecated. In a future version, integer keys will always be treated as labels (consistent with DataFrame behavior). To access a value by position, use `ser.iloc[pos]`\n",
      "  q_avil_site = pd.DataFrame(  {'site': [ df_202406['site_no'][0] ]}  )\n"
     ]
    },
    {
     "name": "stdout",
     "output_type": "stream",
     "text": [
      "13259500\n",
      "13260000\n",
      "13260500\n",
      "13261000\n",
      "13261500\n",
      "13262000\n",
      "13263000\n",
      "13263500\n",
      "13264500\n",
      "13265500\n"
     ]
    },
    {
     "name": "stderr",
     "output_type": "stream",
     "text": [
      "/var/folders/_4/klhstfsn73nfrxlfr8_r9dhc0000gn/T/ipykernel_14091/427570331.py:10: FutureWarning: Series.__getitem__ treating keys as positions is deprecated. In a future version, integer keys will always be treated as labels (consistent with DataFrame behavior). To access a value by position, use `ser.iloc[pos]`\n",
      "  q_avil_site = pd.DataFrame(  {'site': [ df_202406['site_no'][0] ]}  )\n"
     ]
    },
    {
     "name": "stdout",
     "output_type": "stream",
     "text": [
      "13266000\n"
     ]
    },
    {
     "name": "stderr",
     "output_type": "stream",
     "text": [
      "/var/folders/_4/klhstfsn73nfrxlfr8_r9dhc0000gn/T/ipykernel_14091/427570331.py:10: FutureWarning: Series.__getitem__ treating keys as positions is deprecated. In a future version, integer keys will always be treated as labels (consistent with DataFrame behavior). To access a value by position, use `ser.iloc[pos]`\n",
      "  q_avil_site = pd.DataFrame(  {'site': [ df_202406['site_no'][0] ]}  )\n"
     ]
    },
    {
     "name": "stdout",
     "output_type": "stream",
     "text": [
      "13267000\n",
      "13267050\n",
      "13267400\n",
      "13267500\n",
      "13268000\n",
      "13268500\n",
      "13269000\n"
     ]
    },
    {
     "name": "stderr",
     "output_type": "stream",
     "text": [
      "/var/folders/_4/klhstfsn73nfrxlfr8_r9dhc0000gn/T/ipykernel_14091/427570331.py:10: FutureWarning: Series.__getitem__ treating keys as positions is deprecated. In a future version, integer keys will always be treated as labels (consistent with DataFrame behavior). To access a value by position, use `ser.iloc[pos]`\n",
      "  q_avil_site = pd.DataFrame(  {'site': [ df_202406['site_no'][0] ]}  )\n"
     ]
    },
    {
     "name": "stdout",
     "output_type": "stream",
     "text": [
      "13289720\n",
      "13289960\n",
      "13290200\n",
      "13290500\n",
      "13292200\n",
      "13292280\n",
      "13292380\n",
      "13292400\n",
      "13292500\n",
      "13293000\n",
      "13293200\n",
      "13293350\n",
      "13293400\n",
      "13293500\n",
      "13294000\n",
      "13294500\n",
      "13294600\n",
      "13294640\n",
      "13294880\n",
      "13295000\n"
     ]
    },
    {
     "name": "stderr",
     "output_type": "stream",
     "text": [
      "/var/folders/_4/klhstfsn73nfrxlfr8_r9dhc0000gn/T/ipykernel_14091/427570331.py:10: FutureWarning: Series.__getitem__ treating keys as positions is deprecated. In a future version, integer keys will always be treated as labels (consistent with DataFrame behavior). To access a value by position, use `ser.iloc[pos]`\n",
      "  q_avil_site = pd.DataFrame(  {'site': [ df_202406['site_no'][0] ]}  )\n"
     ]
    },
    {
     "name": "stdout",
     "output_type": "stream",
     "text": [
      "13295500\n",
      "13295650\n",
      "13295900\n",
      "13296000\n"
     ]
    },
    {
     "name": "stderr",
     "output_type": "stream",
     "text": [
      "/var/folders/_4/klhstfsn73nfrxlfr8_r9dhc0000gn/T/ipykernel_14091/427570331.py:10: FutureWarning: Series.__getitem__ treating keys as positions is deprecated. In a future version, integer keys will always be treated as labels (consistent with DataFrame behavior). To access a value by position, use `ser.iloc[pos]`\n",
      "  q_avil_site = pd.DataFrame(  {'site': [ df_202406['site_no'][0] ]}  )\n"
     ]
    },
    {
     "name": "stdout",
     "output_type": "stream",
     "text": [
      "13296500\n"
     ]
    },
    {
     "name": "stderr",
     "output_type": "stream",
     "text": [
      "/var/folders/_4/klhstfsn73nfrxlfr8_r9dhc0000gn/T/ipykernel_14091/427570331.py:10: FutureWarning: Series.__getitem__ treating keys as positions is deprecated. In a future version, integer keys will always be treated as labels (consistent with DataFrame behavior). To access a value by position, use `ser.iloc[pos]`\n",
      "  q_avil_site = pd.DataFrame(  {'site': [ df_202406['site_no'][0] ]}  )\n"
     ]
    },
    {
     "name": "stdout",
     "output_type": "stream",
     "text": [
      "13297000\n",
      "13297100\n",
      "13297250\n",
      "13297300\n",
      "13297310\n",
      "13297320\n",
      "13297330\n"
     ]
    },
    {
     "name": "stderr",
     "output_type": "stream",
     "text": [
      "/var/folders/_4/klhstfsn73nfrxlfr8_r9dhc0000gn/T/ipykernel_14091/427570331.py:10: FutureWarning: Series.__getitem__ treating keys as positions is deprecated. In a future version, integer keys will always be treated as labels (consistent with DataFrame behavior). To access a value by position, use `ser.iloc[pos]`\n",
      "  q_avil_site = pd.DataFrame(  {'site': [ df_202406['site_no'][0] ]}  )\n"
     ]
    },
    {
     "name": "stdout",
     "output_type": "stream",
     "text": [
      "13297340\n",
      "13297350\n"
     ]
    },
    {
     "name": "stderr",
     "output_type": "stream",
     "text": [
      "/var/folders/_4/klhstfsn73nfrxlfr8_r9dhc0000gn/T/ipykernel_14091/427570331.py:10: FutureWarning: Series.__getitem__ treating keys as positions is deprecated. In a future version, integer keys will always be treated as labels (consistent with DataFrame behavior). To access a value by position, use `ser.iloc[pos]`\n",
      "  q_avil_site = pd.DataFrame(  {'site': [ df_202406['site_no'][0] ]}  )\n"
     ]
    },
    {
     "name": "stdout",
     "output_type": "stream",
     "text": [
      "13297355\n"
     ]
    },
    {
     "name": "stderr",
     "output_type": "stream",
     "text": [
      "/var/folders/_4/klhstfsn73nfrxlfr8_r9dhc0000gn/T/ipykernel_14091/427570331.py:10: FutureWarning: Series.__getitem__ treating keys as positions is deprecated. In a future version, integer keys will always be treated as labels (consistent with DataFrame behavior). To access a value by position, use `ser.iloc[pos]`\n",
      "  q_avil_site = pd.DataFrame(  {'site': [ df_202406['site_no'][0] ]}  )\n"
     ]
    },
    {
     "name": "stdout",
     "output_type": "stream",
     "text": [
      "13297360\n",
      "13297380\n"
     ]
    },
    {
     "name": "stderr",
     "output_type": "stream",
     "text": [
      "/var/folders/_4/klhstfsn73nfrxlfr8_r9dhc0000gn/T/ipykernel_14091/427570331.py:10: FutureWarning: Series.__getitem__ treating keys as positions is deprecated. In a future version, integer keys will always be treated as labels (consistent with DataFrame behavior). To access a value by position, use `ser.iloc[pos]`\n",
      "  q_avil_site = pd.DataFrame(  {'site': [ df_202406['site_no'][0] ]}  )\n"
     ]
    },
    {
     "name": "stdout",
     "output_type": "stream",
     "text": [
      "13297384\n",
      "13297388\n",
      "13297394\n",
      "13297396\n",
      "13297400\n",
      "13297402\n",
      "13297404\n",
      "13297418\n",
      "13297425\n",
      "13297434\n",
      "13297436\n",
      "13297438\n",
      "13297440\n",
      "13297445\n",
      "13297450\n",
      "13297460\n",
      "13297462\n",
      "13297466\n",
      "13297470\n",
      "13297474\n",
      "13297480\n",
      "13297485\n",
      "13297500\n",
      "13297530\n",
      "13297580\n",
      "13297590\n",
      "13297597\n",
      "13297600\n",
      "13297670\n",
      "13297680\n",
      "13297700\n",
      "13297880\n",
      "13297900\n",
      "13298000\n",
      "13298500\n",
      "13299000\n",
      "13299200\n",
      "13299255\n",
      "13299280\n",
      "13299390\n",
      "13299500\n",
      "13300000\n",
      "13300500\n",
      "13301000\n",
      "13301500\n",
      "13301510\n",
      "13301520\n",
      "13301530\n",
      "13301595\n",
      "13301600\n",
      "13301620\n",
      "13301700\n",
      "13301900\n",
      "13301990\n",
      "13302000\n",
      "13302005\n"
     ]
    },
    {
     "name": "stderr",
     "output_type": "stream",
     "text": [
      "/var/folders/_4/klhstfsn73nfrxlfr8_r9dhc0000gn/T/ipykernel_14091/427570331.py:10: FutureWarning: Series.__getitem__ treating keys as positions is deprecated. In a future version, integer keys will always be treated as labels (consistent with DataFrame behavior). To access a value by position, use `ser.iloc[pos]`\n",
      "  q_avil_site = pd.DataFrame(  {'site': [ df_202406['site_no'][0] ]}  )\n"
     ]
    },
    {
     "name": "stdout",
     "output_type": "stream",
     "text": [
      "13302500\n"
     ]
    },
    {
     "name": "stderr",
     "output_type": "stream",
     "text": [
      "/var/folders/_4/klhstfsn73nfrxlfr8_r9dhc0000gn/T/ipykernel_14091/427570331.py:10: FutureWarning: Series.__getitem__ treating keys as positions is deprecated. In a future version, integer keys will always be treated as labels (consistent with DataFrame behavior). To access a value by position, use `ser.iloc[pos]`\n",
      "  q_avil_site = pd.DataFrame(  {'site': [ df_202406['site_no'][0] ]}  )\n"
     ]
    },
    {
     "name": "stdout",
     "output_type": "stream",
     "text": [
      "13302600\n",
      "13303000\n",
      "13303030\n",
      "13303070\n",
      "13303200\n",
      "13303500\n",
      "13303800\n",
      "13304000\n",
      "13304050\n"
     ]
    },
    {
     "name": "stderr",
     "output_type": "stream",
     "text": [
      "/var/folders/_4/klhstfsn73nfrxlfr8_r9dhc0000gn/T/ipykernel_14091/427570331.py:10: FutureWarning: Series.__getitem__ treating keys as positions is deprecated. In a future version, integer keys will always be treated as labels (consistent with DataFrame behavior). To access a value by position, use `ser.iloc[pos]`\n",
      "  q_avil_site = pd.DataFrame(  {'site': [ df_202406['site_no'][0] ]}  )\n"
     ]
    },
    {
     "name": "stdout",
     "output_type": "stream",
     "text": [
      "13304170\n",
      "13304200\n",
      "13304490\n",
      "13304500\n",
      "13304700\n"
     ]
    },
    {
     "name": "stderr",
     "output_type": "stream",
     "text": [
      "/var/folders/_4/klhstfsn73nfrxlfr8_r9dhc0000gn/T/ipykernel_14091/427570331.py:10: FutureWarning: Series.__getitem__ treating keys as positions is deprecated. In a future version, integer keys will always be treated as labels (consistent with DataFrame behavior). To access a value by position, use `ser.iloc[pos]`\n",
      "  q_avil_site = pd.DataFrame(  {'site': [ df_202406['site_no'][0] ]}  )\n"
     ]
    },
    {
     "name": "stdout",
     "output_type": "stream",
     "text": [
      "13305000\n"
     ]
    },
    {
     "name": "stderr",
     "output_type": "stream",
     "text": [
      "/var/folders/_4/klhstfsn73nfrxlfr8_r9dhc0000gn/T/ipykernel_14091/427570331.py:10: FutureWarning: Series.__getitem__ treating keys as positions is deprecated. In a future version, integer keys will always be treated as labels (consistent with DataFrame behavior). To access a value by position, use `ser.iloc[pos]`\n",
      "  q_avil_site = pd.DataFrame(  {'site': [ df_202406['site_no'][0] ]}  )\n"
     ]
    },
    {
     "name": "stdout",
     "output_type": "stream",
     "text": [
      "13305260\n",
      "13305300\n",
      "13305310\n"
     ]
    },
    {
     "name": "stderr",
     "output_type": "stream",
     "text": [
      "/var/folders/_4/klhstfsn73nfrxlfr8_r9dhc0000gn/T/ipykernel_14091/427570331.py:10: FutureWarning: Series.__getitem__ treating keys as positions is deprecated. In a future version, integer keys will always be treated as labels (consistent with DataFrame behavior). To access a value by position, use `ser.iloc[pos]`\n",
      "  q_avil_site = pd.DataFrame(  {'site': [ df_202406['site_no'][0] ]}  )\n"
     ]
    },
    {
     "name": "stdout",
     "output_type": "stream",
     "text": [
      "13305500\n",
      "13306000\n",
      "13306336\n",
      "13306370\n"
     ]
    },
    {
     "name": "stderr",
     "output_type": "stream",
     "text": [
      "/var/folders/_4/klhstfsn73nfrxlfr8_r9dhc0000gn/T/ipykernel_14091/427570331.py:10: FutureWarning: Series.__getitem__ treating keys as positions is deprecated. In a future version, integer keys will always be treated as labels (consistent with DataFrame behavior). To access a value by position, use `ser.iloc[pos]`\n",
      "  q_avil_site = pd.DataFrame(  {'site': [ df_202406['site_no'][0] ]}  )\n"
     ]
    },
    {
     "name": "stdout",
     "output_type": "stream",
     "text": [
      "13306375\n",
      "13306385\n"
     ]
    },
    {
     "name": "stderr",
     "output_type": "stream",
     "text": [
      "/var/folders/_4/klhstfsn73nfrxlfr8_r9dhc0000gn/T/ipykernel_14091/427570331.py:10: FutureWarning: Series.__getitem__ treating keys as positions is deprecated. In a future version, integer keys will always be treated as labels (consistent with DataFrame behavior). To access a value by position, use `ser.iloc[pos]`\n",
      "  q_avil_site = pd.DataFrame(  {'site': [ df_202406['site_no'][0] ]}  )\n"
     ]
    },
    {
     "name": "stdout",
     "output_type": "stream",
     "text": [
      "13306500\n",
      "13307000\n"
     ]
    },
    {
     "name": "stderr",
     "output_type": "stream",
     "text": [
      "/var/folders/_4/klhstfsn73nfrxlfr8_r9dhc0000gn/T/ipykernel_14091/427570331.py:10: FutureWarning: Series.__getitem__ treating keys as positions is deprecated. In a future version, integer keys will always be treated as labels (consistent with DataFrame behavior). To access a value by position, use `ser.iloc[pos]`\n",
      "  q_avil_site = pd.DataFrame(  {'site': [ df_202406['site_no'][0] ]}  )\n"
     ]
    },
    {
     "name": "stdout",
     "output_type": "stream",
     "text": [
      "13307500\n",
      "13308000\n",
      "13308500\n",
      "13309000\n",
      "13309220\n"
     ]
    },
    {
     "name": "stderr",
     "output_type": "stream",
     "text": [
      "/var/folders/_4/klhstfsn73nfrxlfr8_r9dhc0000gn/T/ipykernel_14091/427570331.py:10: FutureWarning: Series.__getitem__ treating keys as positions is deprecated. In a future version, integer keys will always be treated as labels (consistent with DataFrame behavior). To access a value by position, use `ser.iloc[pos]`\n",
      "  q_avil_site = pd.DataFrame(  {'site': [ df_202406['site_no'][0] ]}  )\n"
     ]
    },
    {
     "name": "stdout",
     "output_type": "stream",
     "text": [
      "13309500\n",
      "13310000\n",
      "13310199\n"
     ]
    },
    {
     "name": "stderr",
     "output_type": "stream",
     "text": [
      "/var/folders/_4/klhstfsn73nfrxlfr8_r9dhc0000gn/T/ipykernel_14091/427570331.py:10: FutureWarning: Series.__getitem__ treating keys as positions is deprecated. In a future version, integer keys will always be treated as labels (consistent with DataFrame behavior). To access a value by position, use `ser.iloc[pos]`\n",
      "  q_avil_site = pd.DataFrame(  {'site': [ df_202406['site_no'][0] ]}  )\n"
     ]
    },
    {
     "name": "stdout",
     "output_type": "stream",
     "text": [
      "13310500\n",
      "13310520\n",
      "13310565\n",
      "13310570\n",
      "13310660\n",
      "13310670\n",
      "13310700\n"
     ]
    },
    {
     "name": "stderr",
     "output_type": "stream",
     "text": [
      "/var/folders/_4/klhstfsn73nfrxlfr8_r9dhc0000gn/T/ipykernel_14091/427570331.py:10: FutureWarning: Series.__getitem__ treating keys as positions is deprecated. In a future version, integer keys will always be treated as labels (consistent with DataFrame behavior). To access a value by position, use `ser.iloc[pos]`\n",
      "  q_avil_site = pd.DataFrame(  {'site': [ df_202406['site_no'][0] ]}  )\n"
     ]
    },
    {
     "name": "stdout",
     "output_type": "stream",
     "text": [
      "13310800\n"
     ]
    },
    {
     "name": "stderr",
     "output_type": "stream",
     "text": [
      "/var/folders/_4/klhstfsn73nfrxlfr8_r9dhc0000gn/T/ipykernel_14091/427570331.py:10: FutureWarning: Series.__getitem__ treating keys as positions is deprecated. In a future version, integer keys will always be treated as labels (consistent with DataFrame behavior). To access a value by position, use `ser.iloc[pos]`\n",
      "  q_avil_site = pd.DataFrame(  {'site': [ df_202406['site_no'][0] ]}  )\n"
     ]
    },
    {
     "name": "stdout",
     "output_type": "stream",
     "text": [
      "13310850\n"
     ]
    },
    {
     "name": "stderr",
     "output_type": "stream",
     "text": [
      "/var/folders/_4/klhstfsn73nfrxlfr8_r9dhc0000gn/T/ipykernel_14091/427570331.py:10: FutureWarning: Series.__getitem__ treating keys as positions is deprecated. In a future version, integer keys will always be treated as labels (consistent with DataFrame behavior). To access a value by position, use `ser.iloc[pos]`\n",
      "  q_avil_site = pd.DataFrame(  {'site': [ df_202406['site_no'][0] ]}  )\n"
     ]
    },
    {
     "name": "stdout",
     "output_type": "stream",
     "text": [
      "13311000\n"
     ]
    },
    {
     "name": "stderr",
     "output_type": "stream",
     "text": [
      "/var/folders/_4/klhstfsn73nfrxlfr8_r9dhc0000gn/T/ipykernel_14091/427570331.py:10: FutureWarning: Series.__getitem__ treating keys as positions is deprecated. In a future version, integer keys will always be treated as labels (consistent with DataFrame behavior). To access a value by position, use `ser.iloc[pos]`\n",
      "  q_avil_site = pd.DataFrame(  {'site': [ df_202406['site_no'][0] ]}  )\n"
     ]
    },
    {
     "name": "stdout",
     "output_type": "stream",
     "text": [
      "13311250\n"
     ]
    },
    {
     "name": "stderr",
     "output_type": "stream",
     "text": [
      "/var/folders/_4/klhstfsn73nfrxlfr8_r9dhc0000gn/T/ipykernel_14091/427570331.py:10: FutureWarning: Series.__getitem__ treating keys as positions is deprecated. In a future version, integer keys will always be treated as labels (consistent with DataFrame behavior). To access a value by position, use `ser.iloc[pos]`\n",
      "  q_avil_site = pd.DataFrame(  {'site': [ df_202406['site_no'][0] ]}  )\n"
     ]
    },
    {
     "name": "stdout",
     "output_type": "stream",
     "text": [
      "13311450\n"
     ]
    },
    {
     "name": "stderr",
     "output_type": "stream",
     "text": [
      "/var/folders/_4/klhstfsn73nfrxlfr8_r9dhc0000gn/T/ipykernel_14091/427570331.py:10: FutureWarning: Series.__getitem__ treating keys as positions is deprecated. In a future version, integer keys will always be treated as labels (consistent with DataFrame behavior). To access a value by position, use `ser.iloc[pos]`\n",
      "  q_avil_site = pd.DataFrame(  {'site': [ df_202406['site_no'][0] ]}  )\n"
     ]
    },
    {
     "name": "stdout",
     "output_type": "stream",
     "text": [
      "13311500\n",
      "13312000\n",
      "13312500\n",
      "13313000\n"
     ]
    },
    {
     "name": "stderr",
     "output_type": "stream",
     "text": [
      "/var/folders/_4/klhstfsn73nfrxlfr8_r9dhc0000gn/T/ipykernel_14091/427570331.py:10: FutureWarning: Series.__getitem__ treating keys as positions is deprecated. In a future version, integer keys will always be treated as labels (consistent with DataFrame behavior). To access a value by position, use `ser.iloc[pos]`\n",
      "  q_avil_site = pd.DataFrame(  {'site': [ df_202406['site_no'][0] ]}  )\n"
     ]
    },
    {
     "name": "stdout",
     "output_type": "stream",
     "text": [
      "13313500\n",
      "13313800\n",
      "13314000\n",
      "13314300\n",
      "13314500\n",
      "13315000\n",
      "13315500\n",
      "13315750\n",
      "13315755\n",
      "13315760\n",
      "13315765\n",
      "13316000\n",
      "13316500\n"
     ]
    },
    {
     "name": "stderr",
     "output_type": "stream",
     "text": [
      "/var/folders/_4/klhstfsn73nfrxlfr8_r9dhc0000gn/T/ipykernel_14091/427570331.py:10: FutureWarning: Series.__getitem__ treating keys as positions is deprecated. In a future version, integer keys will always be treated as labels (consistent with DataFrame behavior). To access a value by position, use `ser.iloc[pos]`\n",
      "  q_avil_site = pd.DataFrame(  {'site': [ df_202406['site_no'][0] ]}  )\n"
     ]
    },
    {
     "name": "stdout",
     "output_type": "stream",
     "text": [
      "13316530\n",
      "13316535\n",
      "13316800\n",
      "13317000\n"
     ]
    },
    {
     "name": "stderr",
     "output_type": "stream",
     "text": [
      "/var/folders/_4/klhstfsn73nfrxlfr8_r9dhc0000gn/T/ipykernel_14091/427570331.py:10: FutureWarning: Series.__getitem__ treating keys as positions is deprecated. In a future version, integer keys will always be treated as labels (consistent with DataFrame behavior). To access a value by position, use `ser.iloc[pos]`\n",
      "  q_avil_site = pd.DataFrame(  {'site': [ df_202406['site_no'][0] ]}  )\n"
     ]
    },
    {
     "name": "stdout",
     "output_type": "stream",
     "text": [
      "13317500\n",
      "13317660\n"
     ]
    },
    {
     "name": "stderr",
     "output_type": "stream",
     "text": [
      "/var/folders/_4/klhstfsn73nfrxlfr8_r9dhc0000gn/T/ipykernel_14091/427570331.py:10: FutureWarning: Series.__getitem__ treating keys as positions is deprecated. In a future version, integer keys will always be treated as labels (consistent with DataFrame behavior). To access a value by position, use `ser.iloc[pos]`\n",
      "  q_avil_site = pd.DataFrame(  {'site': [ df_202406['site_no'][0] ]}  )\n"
     ]
    },
    {
     "name": "stdout",
     "output_type": "stream",
     "text": [
      "13335690\n",
      "13335700\n",
      "13336000\n",
      "13336100\n",
      "13336300\n",
      "13336500\n"
     ]
    },
    {
     "name": "stderr",
     "output_type": "stream",
     "text": [
      "/var/folders/_4/klhstfsn73nfrxlfr8_r9dhc0000gn/T/ipykernel_14091/427570331.py:10: FutureWarning: Series.__getitem__ treating keys as positions is deprecated. In a future version, integer keys will always be treated as labels (consistent with DataFrame behavior). To access a value by position, use `ser.iloc[pos]`\n",
      "  q_avil_site = pd.DataFrame(  {'site': [ df_202406['site_no'][0] ]}  )\n"
     ]
    },
    {
     "name": "stdout",
     "output_type": "stream",
     "text": [
      "13336635\n",
      "13336800\n",
      "13336900\n",
      "13337000\n"
     ]
    },
    {
     "name": "stderr",
     "output_type": "stream",
     "text": [
      "/var/folders/_4/klhstfsn73nfrxlfr8_r9dhc0000gn/T/ipykernel_14091/427570331.py:10: FutureWarning: Series.__getitem__ treating keys as positions is deprecated. In a future version, integer keys will always be treated as labels (consistent with DataFrame behavior). To access a value by position, use `ser.iloc[pos]`\n",
      "  q_avil_site = pd.DataFrame(  {'site': [ df_202406['site_no'][0] ]}  )\n"
     ]
    },
    {
     "name": "stdout",
     "output_type": "stream",
     "text": [
      "13337095\n"
     ]
    },
    {
     "name": "stderr",
     "output_type": "stream",
     "text": [
      "/var/folders/_4/klhstfsn73nfrxlfr8_r9dhc0000gn/T/ipykernel_14091/427570331.py:10: FutureWarning: Series.__getitem__ treating keys as positions is deprecated. In a future version, integer keys will always be treated as labels (consistent with DataFrame behavior). To access a value by position, use `ser.iloc[pos]`\n",
      "  q_avil_site = pd.DataFrame(  {'site': [ df_202406['site_no'][0] ]}  )\n"
     ]
    },
    {
     "name": "stdout",
     "output_type": "stream",
     "text": [
      "13337099\n",
      "13337100\n",
      "13337500\n"
     ]
    },
    {
     "name": "stderr",
     "output_type": "stream",
     "text": [
      "/var/folders/_4/klhstfsn73nfrxlfr8_r9dhc0000gn/T/ipykernel_14091/427570331.py:10: FutureWarning: Series.__getitem__ treating keys as positions is deprecated. In a future version, integer keys will always be treated as labels (consistent with DataFrame behavior). To access a value by position, use `ser.iloc[pos]`\n",
      "  q_avil_site = pd.DataFrame(  {'site': [ df_202406['site_no'][0] ]}  )\n"
     ]
    },
    {
     "name": "stdout",
     "output_type": "stream",
     "text": [
      "13338000\n",
      "13338500\n"
     ]
    },
    {
     "name": "stderr",
     "output_type": "stream",
     "text": [
      "/var/folders/_4/klhstfsn73nfrxlfr8_r9dhc0000gn/T/ipykernel_14091/427570331.py:10: FutureWarning: Series.__getitem__ treating keys as positions is deprecated. In a future version, integer keys will always be treated as labels (consistent with DataFrame behavior). To access a value by position, use `ser.iloc[pos]`\n",
      "  q_avil_site = pd.DataFrame(  {'site': [ df_202406['site_no'][0] ]}  )\n"
     ]
    },
    {
     "name": "stdout",
     "output_type": "stream",
     "text": [
      "13338800\n",
      "13338950\n"
     ]
    },
    {
     "name": "stderr",
     "output_type": "stream",
     "text": [
      "/var/folders/_4/klhstfsn73nfrxlfr8_r9dhc0000gn/T/ipykernel_14091/427570331.py:10: FutureWarning: Series.__getitem__ treating keys as positions is deprecated. In a future version, integer keys will always be treated as labels (consistent with DataFrame behavior). To access a value by position, use `ser.iloc[pos]`\n",
      "  q_avil_site = pd.DataFrame(  {'site': [ df_202406['site_no'][0] ]}  )\n"
     ]
    },
    {
     "name": "stdout",
     "output_type": "stream",
     "text": [
      "13339000\n",
      "13339500\n"
     ]
    },
    {
     "name": "stderr",
     "output_type": "stream",
     "text": [
      "/var/folders/_4/klhstfsn73nfrxlfr8_r9dhc0000gn/T/ipykernel_14091/427570331.py:10: FutureWarning: Series.__getitem__ treating keys as positions is deprecated. In a future version, integer keys will always be treated as labels (consistent with DataFrame behavior). To access a value by position, use `ser.iloc[pos]`\n",
      "  q_avil_site = pd.DataFrame(  {'site': [ df_202406['site_no'][0] ]}  )\n"
     ]
    },
    {
     "name": "stdout",
     "output_type": "stream",
     "text": [
      "13339800\n",
      "13340000\n"
     ]
    },
    {
     "name": "stderr",
     "output_type": "stream",
     "text": [
      "/var/folders/_4/klhstfsn73nfrxlfr8_r9dhc0000gn/T/ipykernel_14091/427570331.py:10: FutureWarning: Series.__getitem__ treating keys as positions is deprecated. In a future version, integer keys will always be treated as labels (consistent with DataFrame behavior). To access a value by position, use `ser.iloc[pos]`\n",
      "  q_avil_site = pd.DataFrame(  {'site': [ df_202406['site_no'][0] ]}  )\n"
     ]
    },
    {
     "name": "stdout",
     "output_type": "stream",
     "text": [
      "13340500\n",
      "13340600\n"
     ]
    },
    {
     "name": "stderr",
     "output_type": "stream",
     "text": [
      "/var/folders/_4/klhstfsn73nfrxlfr8_r9dhc0000gn/T/ipykernel_14091/427570331.py:10: FutureWarning: Series.__getitem__ treating keys as positions is deprecated. In a future version, integer keys will always be treated as labels (consistent with DataFrame behavior). To access a value by position, use `ser.iloc[pos]`\n",
      "  q_avil_site = pd.DataFrame(  {'site': [ df_202406['site_no'][0] ]}  )\n"
     ]
    },
    {
     "name": "stdout",
     "output_type": "stream",
     "text": [
      "13340615\n",
      "13340760\n",
      "13340780\n",
      "13340855\n",
      "13341050\n"
     ]
    },
    {
     "name": "stderr",
     "output_type": "stream",
     "text": [
      "/var/folders/_4/klhstfsn73nfrxlfr8_r9dhc0000gn/T/ipykernel_14091/427570331.py:10: FutureWarning: Series.__getitem__ treating keys as positions is deprecated. In a future version, integer keys will always be treated as labels (consistent with DataFrame behavior). To access a value by position, use `ser.iloc[pos]`\n",
      "  q_avil_site = pd.DataFrame(  {'site': [ df_202406['site_no'][0] ]}  )\n"
     ]
    },
    {
     "name": "stdout",
     "output_type": "stream",
     "text": [
      "13341128\n",
      "13341140\n"
     ]
    },
    {
     "name": "stderr",
     "output_type": "stream",
     "text": [
      "/var/folders/_4/klhstfsn73nfrxlfr8_r9dhc0000gn/T/ipykernel_14091/427570331.py:10: FutureWarning: Series.__getitem__ treating keys as positions is deprecated. In a future version, integer keys will always be treated as labels (consistent with DataFrame behavior). To access a value by position, use `ser.iloc[pos]`\n",
      "  q_avil_site = pd.DataFrame(  {'site': [ df_202406['site_no'][0] ]}  )\n"
     ]
    },
    {
     "name": "stdout",
     "output_type": "stream",
     "text": [
      "13341200\n",
      "13341300\n",
      "13341400\n",
      "13341500\n",
      "13341570\n"
     ]
    },
    {
     "name": "stderr",
     "output_type": "stream",
     "text": [
      "/var/folders/_4/klhstfsn73nfrxlfr8_r9dhc0000gn/T/ipykernel_14091/427570331.py:10: FutureWarning: Series.__getitem__ treating keys as positions is deprecated. In a future version, integer keys will always be treated as labels (consistent with DataFrame behavior). To access a value by position, use `ser.iloc[pos]`\n",
      "  q_avil_site = pd.DataFrame(  {'site': [ df_202406['site_no'][0] ]}  )\n"
     ]
    },
    {
     "name": "stdout",
     "output_type": "stream",
     "text": [
      "13342000\n",
      "13342200\n",
      "13342245\n",
      "13342250\n",
      "13342295\n",
      "13342340\n",
      "13342450\n"
     ]
    },
    {
     "name": "stderr",
     "output_type": "stream",
     "text": [
      "/var/folders/_4/klhstfsn73nfrxlfr8_r9dhc0000gn/T/ipykernel_14091/427570331.py:10: FutureWarning: Series.__getitem__ treating keys as positions is deprecated. In a future version, integer keys will always be treated as labels (consistent with DataFrame behavior). To access a value by position, use `ser.iloc[pos]`\n",
      "  q_avil_site = pd.DataFrame(  {'site': [ df_202406['site_no'][0] ]}  )\n"
     ]
    },
    {
     "name": "stdout",
     "output_type": "stream",
     "text": [
      "13342500\n"
     ]
    },
    {
     "name": "stderr",
     "output_type": "stream",
     "text": [
      "/var/folders/_4/klhstfsn73nfrxlfr8_r9dhc0000gn/T/ipykernel_14091/427570331.py:10: FutureWarning: Series.__getitem__ treating keys as positions is deprecated. In a future version, integer keys will always be treated as labels (consistent with DataFrame behavior). To access a value by position, use `ser.iloc[pos]`\n",
      "  q_avil_site = pd.DataFrame(  {'site': [ df_202406['site_no'][0] ]}  )\n"
     ]
    },
    {
     "name": "stdout",
     "output_type": "stream",
     "text": [
      "13343100\n",
      "13345000\n"
     ]
    },
    {
     "name": "stderr",
     "output_type": "stream",
     "text": [
      "/var/folders/_4/klhstfsn73nfrxlfr8_r9dhc0000gn/T/ipykernel_14091/427570331.py:10: FutureWarning: Series.__getitem__ treating keys as positions is deprecated. In a future version, integer keys will always be treated as labels (consistent with DataFrame behavior). To access a value by position, use `ser.iloc[pos]`\n",
      "  q_avil_site = pd.DataFrame(  {'site': [ df_202406['site_no'][0] ]}  )\n"
     ]
    },
    {
     "name": "stdout",
     "output_type": "stream",
     "text": [
      "13346800\n"
     ]
    },
    {
     "name": "stderr",
     "output_type": "stream",
     "text": [
      "/var/folders/_4/klhstfsn73nfrxlfr8_r9dhc0000gn/T/ipykernel_14091/427570331.py:10: FutureWarning: Series.__getitem__ treating keys as positions is deprecated. In a future version, integer keys will always be treated as labels (consistent with DataFrame behavior). To access a value by position, use `ser.iloc[pos]`\n",
      "  q_avil_site = pd.DataFrame(  {'site': [ df_202406['site_no'][0] ]}  )\n"
     ]
    },
    {
     "name": "stdout",
     "output_type": "stream",
     "text": [
      "13350448\n",
      "4323401155133\n",
      "4355501121634\n",
      "4357331144813\n"
     ]
    }
   ],
   "source": [
    "q_avil_sites = pd.DataFrame(  {'site': ['00000000']}  )\n",
    "print(q_avil_sites)\n",
    "\n",
    "for site in siteList_q_df_ST['site_no']:\n",
    "    print(site)\n",
    "    df_202406 = nwis.get_record(sites=site, service='dv', start='2024-06-01', end='2024-06-02')\n",
    "    #print(df_202406)\n",
    "    if df_202406.shape[0]>0:\n",
    "        #print(df_202406['site_no'][0] )\n",
    "        q_avil_site = pd.DataFrame(  {'site': [ df_202406['site_no'][0] ]}  )\n",
    "\n",
    "        \n",
    "        q_avil_sites = pd.concat( [q_avil_sites,q_avil_site    ]   )\n",
    "        #print(q_avil_sites)\n",
    "        #print(df_202406.shape)"
   ]
  },
  {
   "cell_type": "code",
   "execution_count": 12,
   "id": "cad2bae4-c4ca-4a78-ad6e-16e890796486",
   "metadata": {},
   "outputs": [],
   "source": [
    "#siteList  = nwis.what_sites(stateCd = \"ID\",  parameterCd = \"00010\")\n",
    "#siteList_df =siteList[0]\n",
    "#siteList_df_ST=siteList_df[ siteList_df['site_tp_cd'] == \"ST\"   ]\n",
    "#print(siteList_df_ST)"
   ]
  },
  {
   "cell_type": "code",
   "execution_count": 6,
   "id": "97783b53-0bd1-4e8e-bb90-27216a653ee3",
   "metadata": {},
   "outputs": [
    {
     "name": "stdout",
     "output_type": "stream",
     "text": [
      "       site\n",
      "0  00000000\n",
      "10039500\n"
     ]
    },
    {
     "name": "stderr",
     "output_type": "stream",
     "text": [
      "/var/folders/_4/klhstfsn73nfrxlfr8_r9dhc0000gn/T/ipykernel_14091/501096422.py:8: FutureWarning: Series.__getitem__ treating keys as positions is deprecated. In a future version, integer keys will always be treated as labels (consistent with DataFrame behavior). To access a value by position, use `ser.iloc[pos]`\n",
      "  st_avil_site = pd.DataFrame(  {'site': [ df_202406['site_no'][0] ]}  )\n"
     ]
    },
    {
     "name": "stdout",
     "output_type": "stream",
     "text": [
      "       site\n",
      "0  00000000\n",
      "0  10039500\n",
      "10044000\n",
      "10046500\n",
      "10047500\n",
      "10054600\n",
      "10058600\n",
      "10068500\n"
     ]
    },
    {
     "name": "stderr",
     "output_type": "stream",
     "text": [
      "/var/folders/_4/klhstfsn73nfrxlfr8_r9dhc0000gn/T/ipykernel_14091/501096422.py:8: FutureWarning: Series.__getitem__ treating keys as positions is deprecated. In a future version, integer keys will always be treated as labels (consistent with DataFrame behavior). To access a value by position, use `ser.iloc[pos]`\n",
      "  st_avil_site = pd.DataFrame(  {'site': [ df_202406['site_no'][0] ]}  )\n"
     ]
    },
    {
     "name": "stdout",
     "output_type": "stream",
     "text": [
      "       site\n",
      "0  00000000\n",
      "0  10039500\n",
      "0  10068500\n",
      "10072800\n",
      "10075000\n",
      "10076400\n",
      "10079500\n",
      "10080000\n",
      "10084500\n",
      "10086500\n",
      "10090500\n",
      "10090800\n",
      "10091100\n",
      "10091130\n",
      "10091200\n",
      "10091250\n",
      "10092700\n"
     ]
    },
    {
     "name": "stderr",
     "output_type": "stream",
     "text": [
      "/var/folders/_4/klhstfsn73nfrxlfr8_r9dhc0000gn/T/ipykernel_14091/501096422.py:8: FutureWarning: Series.__getitem__ treating keys as positions is deprecated. In a future version, integer keys will always be treated as labels (consistent with DataFrame behavior). To access a value by position, use `ser.iloc[pos]`\n",
      "  st_avil_site = pd.DataFrame(  {'site': [ df_202406['site_no'][0] ]}  )\n"
     ]
    },
    {
     "name": "stdout",
     "output_type": "stream",
     "text": [
      "       site\n",
      "0  00000000\n",
      "0  10039500\n",
      "0  10068500\n",
      "0  10092700\n",
      "10093000\n",
      "10098000\n",
      "10098800\n",
      "10118200\n",
      "10119000\n",
      "10120350\n",
      "10120700\n",
      "10125500\n"
     ]
    },
    {
     "name": "stderr",
     "output_type": "stream",
     "text": [
      "/var/folders/_4/klhstfsn73nfrxlfr8_r9dhc0000gn/T/ipykernel_14091/501096422.py:8: FutureWarning: Series.__getitem__ treating keys as positions is deprecated. In a future version, integer keys will always be treated as labels (consistent with DataFrame behavior). To access a value by position, use `ser.iloc[pos]`\n",
      "  st_avil_site = pd.DataFrame(  {'site': [ df_202406['site_no'][0] ]}  )\n"
     ]
    },
    {
     "name": "stdout",
     "output_type": "stream",
     "text": [
      "       site\n",
      "0  00000000\n",
      "0  10039500\n",
      "0  10068500\n",
      "0  10092700\n",
      "0  10125500\n",
      "10172970\n",
      "12305000\n"
     ]
    },
    {
     "name": "stderr",
     "output_type": "stream",
     "text": [
      "/var/folders/_4/klhstfsn73nfrxlfr8_r9dhc0000gn/T/ipykernel_14091/501096422.py:8: FutureWarning: Series.__getitem__ treating keys as positions is deprecated. In a future version, integer keys will always be treated as labels (consistent with DataFrame behavior). To access a value by position, use `ser.iloc[pos]`\n",
      "  st_avil_site = pd.DataFrame(  {'site': [ df_202406['site_no'][0] ]}  )\n"
     ]
    },
    {
     "name": "stdout",
     "output_type": "stream",
     "text": [
      "       site\n",
      "0  00000000\n",
      "0  10039500\n",
      "0  10068500\n",
      "0  10092700\n",
      "0  10125500\n",
      "0  12305000\n",
      "12305500\n",
      "12306500\n"
     ]
    },
    {
     "name": "stderr",
     "output_type": "stream",
     "text": [
      "/var/folders/_4/klhstfsn73nfrxlfr8_r9dhc0000gn/T/ipykernel_14091/501096422.py:8: FutureWarning: Series.__getitem__ treating keys as positions is deprecated. In a future version, integer keys will always be treated as labels (consistent with DataFrame behavior). To access a value by position, use `ser.iloc[pos]`\n",
      "  st_avil_site = pd.DataFrame(  {'site': [ df_202406['site_no'][0] ]}  )\n"
     ]
    },
    {
     "name": "stdout",
     "output_type": "stream",
     "text": [
      "       site\n",
      "0  00000000\n",
      "0  10039500\n",
      "0  10068500\n",
      "0  10092700\n",
      "0  10125500\n",
      "0  12305000\n",
      "0  12306500\n",
      "12306800\n",
      "12307500\n",
      "12307750\n",
      "12308000\n"
     ]
    },
    {
     "name": "stderr",
     "output_type": "stream",
     "text": [
      "/var/folders/_4/klhstfsn73nfrxlfr8_r9dhc0000gn/T/ipykernel_14091/501096422.py:8: FutureWarning: Series.__getitem__ treating keys as positions is deprecated. In a future version, integer keys will always be treated as labels (consistent with DataFrame behavior). To access a value by position, use `ser.iloc[pos]`\n",
      "  st_avil_site = pd.DataFrame(  {'site': [ df_202406['site_no'][0] ]}  )\n"
     ]
    },
    {
     "name": "stdout",
     "output_type": "stream",
     "text": [
      "       site\n",
      "0  00000000\n",
      "0  10039500\n",
      "0  10068500\n",
      "0  10092700\n",
      "0  10125500\n",
      "0  12305000\n",
      "0  12306500\n",
      "0  12308000\n",
      "12308500\n",
      "12309490\n",
      "12309500\n"
     ]
    },
    {
     "name": "stderr",
     "output_type": "stream",
     "text": [
      "/var/folders/_4/klhstfsn73nfrxlfr8_r9dhc0000gn/T/ipykernel_14091/501096422.py:8: FutureWarning: Series.__getitem__ treating keys as positions is deprecated. In a future version, integer keys will always be treated as labels (consistent with DataFrame behavior). To access a value by position, use `ser.iloc[pos]`\n",
      "  st_avil_site = pd.DataFrame(  {'site': [ df_202406['site_no'][0] ]}  )\n"
     ]
    },
    {
     "name": "stdout",
     "output_type": "stream",
     "text": [
      "       site\n",
      "0  00000000\n",
      "0  10039500\n",
      "0  10068500\n",
      "0  10092700\n",
      "0  10125500\n",
      "0  12305000\n",
      "0  12306500\n",
      "0  12308000\n",
      "0  12309500\n",
      "12310100\n",
      "12310800\n",
      "12312400\n",
      "12313000\n",
      "12313300\n",
      "12313500\n",
      "12313600\n",
      "12314000\n",
      "12315200\n",
      "12315400\n",
      "12315445\n",
      "12316300\n",
      "12316800\n",
      "12317500\n",
      "12318500\n",
      "12319550\n",
      "12320500\n",
      "12320700\n",
      "12321000\n",
      "12321500\n"
     ]
    },
    {
     "name": "stderr",
     "output_type": "stream",
     "text": [
      "/var/folders/_4/klhstfsn73nfrxlfr8_r9dhc0000gn/T/ipykernel_14091/501096422.py:8: FutureWarning: Series.__getitem__ treating keys as positions is deprecated. In a future version, integer keys will always be treated as labels (consistent with DataFrame behavior). To access a value by position, use `ser.iloc[pos]`\n",
      "  st_avil_site = pd.DataFrame(  {'site': [ df_202406['site_no'][0] ]}  )\n"
     ]
    },
    {
     "name": "stdout",
     "output_type": "stream",
     "text": [
      "       site\n",
      "0  00000000\n",
      "0  10039500\n",
      "0  10068500\n",
      "0  10092700\n",
      "0  10125500\n",
      "0  12305000\n",
      "0  12306500\n",
      "0  12308000\n",
      "0  12309500\n",
      "0  12321500\n",
      "12322000\n"
     ]
    },
    {
     "name": "stderr",
     "output_type": "stream",
     "text": [
      "/var/folders/_4/klhstfsn73nfrxlfr8_r9dhc0000gn/T/ipykernel_14091/501096422.py:8: FutureWarning: Series.__getitem__ treating keys as positions is deprecated. In a future version, integer keys will always be treated as labels (consistent with DataFrame behavior). To access a value by position, use `ser.iloc[pos]`\n",
      "  st_avil_site = pd.DataFrame(  {'site': [ df_202406['site_no'][0] ]}  )\n"
     ]
    },
    {
     "name": "stdout",
     "output_type": "stream",
     "text": [
      "       site\n",
      "0  00000000\n",
      "0  10039500\n",
      "0  10068500\n",
      "0  10092700\n",
      "0  10125500\n",
      "0  12305000\n",
      "0  12306500\n",
      "0  12308000\n",
      "0  12309500\n",
      "0  12321500\n",
      "0  12322000\n",
      "12391950\n"
     ]
    },
    {
     "name": "stderr",
     "output_type": "stream",
     "text": [
      "/var/folders/_4/klhstfsn73nfrxlfr8_r9dhc0000gn/T/ipykernel_14091/501096422.py:8: FutureWarning: Series.__getitem__ treating keys as positions is deprecated. In a future version, integer keys will always be treated as labels (consistent with DataFrame behavior). To access a value by position, use `ser.iloc[pos]`\n",
      "  st_avil_site = pd.DataFrame(  {'site': [ df_202406['site_no'][0] ]}  )\n"
     ]
    },
    {
     "name": "stdout",
     "output_type": "stream",
     "text": [
      "       site\n",
      "0  00000000\n",
      "0  10039500\n",
      "0  10068500\n",
      "0  10092700\n",
      "0  10125500\n",
      "0  12305000\n",
      "0  12306500\n",
      "0  12308000\n",
      "0  12309500\n",
      "0  12321500\n",
      "0  12322000\n",
      "0  12391950\n",
      "12392000\n",
      "12392050\n",
      "12392100\n",
      "12392150\n",
      "12392155\n"
     ]
    },
    {
     "name": "stderr",
     "output_type": "stream",
     "text": [
      "/var/folders/_4/klhstfsn73nfrxlfr8_r9dhc0000gn/T/ipykernel_14091/501096422.py:8: FutureWarning: Series.__getitem__ treating keys as positions is deprecated. In a future version, integer keys will always be treated as labels (consistent with DataFrame behavior). To access a value by position, use `ser.iloc[pos]`\n",
      "  st_avil_site = pd.DataFrame(  {'site': [ df_202406['site_no'][0] ]}  )\n"
     ]
    },
    {
     "name": "stdout",
     "output_type": "stream",
     "text": [
      "       site\n",
      "0  00000000\n",
      "0  10039500\n",
      "0  10068500\n",
      "0  10092700\n",
      "0  10125500\n",
      "0  12305000\n",
      "0  12306500\n",
      "0  12308000\n",
      "0  12309500\n",
      "0  12321500\n",
      "0  12322000\n",
      "0  12391950\n",
      "0  12392155\n",
      "12392300\n"
     ]
    },
    {
     "name": "stderr",
     "output_type": "stream",
     "text": [
      "/var/folders/_4/klhstfsn73nfrxlfr8_r9dhc0000gn/T/ipykernel_14091/501096422.py:8: FutureWarning: Series.__getitem__ treating keys as positions is deprecated. In a future version, integer keys will always be treated as labels (consistent with DataFrame behavior). To access a value by position, use `ser.iloc[pos]`\n",
      "  st_avil_site = pd.DataFrame(  {'site': [ df_202406['site_no'][0] ]}  )\n"
     ]
    },
    {
     "name": "stdout",
     "output_type": "stream",
     "text": [
      "       site\n",
      "0  00000000\n",
      "0  10039500\n",
      "0  10068500\n",
      "0  10092700\n",
      "0  10125500\n",
      "0  12305000\n",
      "0  12306500\n",
      "0  12308000\n",
      "0  12309500\n",
      "0  12321500\n",
      "0  12322000\n",
      "0  12391950\n",
      "0  12392155\n",
      "0  12392300\n",
      "12392350\n",
      "12392390\n",
      "12392450\n",
      "12392660\n",
      "12392800\n",
      "12392854\n",
      "12392895\n",
      "12392950\n",
      "12393500\n",
      "12393501\n"
     ]
    },
    {
     "name": "stderr",
     "output_type": "stream",
     "text": [
      "/var/folders/_4/klhstfsn73nfrxlfr8_r9dhc0000gn/T/ipykernel_14091/501096422.py:8: FutureWarning: Series.__getitem__ treating keys as positions is deprecated. In a future version, integer keys will always be treated as labels (consistent with DataFrame behavior). To access a value by position, use `ser.iloc[pos]`\n",
      "  st_avil_site = pd.DataFrame(  {'site': [ df_202406['site_no'][0] ]}  )\n"
     ]
    },
    {
     "name": "stdout",
     "output_type": "stream",
     "text": [
      "       site\n",
      "0  00000000\n",
      "0  10039500\n",
      "0  10068500\n",
      "0  10092700\n",
      "0  10125500\n",
      "0  12305000\n",
      "0  12306500\n",
      "0  12308000\n",
      "0  12309500\n",
      "0  12321500\n",
      "0  12322000\n",
      "0  12391950\n",
      "0  12392155\n",
      "0  12392300\n",
      "0  12393501\n",
      "12393600\n",
      "12394000\n",
      "12395000\n"
     ]
    },
    {
     "name": "stderr",
     "output_type": "stream",
     "text": [
      "/var/folders/_4/klhstfsn73nfrxlfr8_r9dhc0000gn/T/ipykernel_14091/501096422.py:8: FutureWarning: Series.__getitem__ treating keys as positions is deprecated. In a future version, integer keys will always be treated as labels (consistent with DataFrame behavior). To access a value by position, use `ser.iloc[pos]`\n",
      "  st_avil_site = pd.DataFrame(  {'site': [ df_202406['site_no'][0] ]}  )\n"
     ]
    },
    {
     "name": "stdout",
     "output_type": "stream",
     "text": [
      "       site\n",
      "0  00000000\n",
      "0  10039500\n",
      "0  10068500\n",
      "0  10092700\n",
      "0  10125500\n",
      "0  12305000\n",
      "0  12306500\n",
      "0  12308000\n",
      "0  12309500\n",
      "0  12321500\n",
      "0  12322000\n",
      "0  12391950\n",
      "0  12392155\n",
      "0  12392300\n",
      "0  12393501\n",
      "0  12395000\n",
      "12395500\n"
     ]
    },
    {
     "name": "stderr",
     "output_type": "stream",
     "text": [
      "/var/folders/_4/klhstfsn73nfrxlfr8_r9dhc0000gn/T/ipykernel_14091/501096422.py:8: FutureWarning: Series.__getitem__ treating keys as positions is deprecated. In a future version, integer keys will always be treated as labels (consistent with DataFrame behavior). To access a value by position, use `ser.iloc[pos]`\n",
      "  st_avil_site = pd.DataFrame(  {'site': [ df_202406['site_no'][0] ]}  )\n"
     ]
    },
    {
     "name": "stdout",
     "output_type": "stream",
     "text": [
      "       site\n",
      "0  00000000\n",
      "0  10039500\n",
      "0  10068500\n",
      "0  10092700\n",
      "0  10125500\n",
      "0  12305000\n",
      "0  12306500\n",
      "0  12308000\n",
      "0  12309500\n",
      "0  12321500\n",
      "0  12322000\n",
      "0  12391950\n",
      "0  12392155\n",
      "0  12392300\n",
      "0  12393501\n",
      "0  12395000\n",
      "0  12395500\n",
      "12411000\n"
     ]
    },
    {
     "name": "stderr",
     "output_type": "stream",
     "text": [
      "/var/folders/_4/klhstfsn73nfrxlfr8_r9dhc0000gn/T/ipykernel_14091/501096422.py:8: FutureWarning: Series.__getitem__ treating keys as positions is deprecated. In a future version, integer keys will always be treated as labels (consistent with DataFrame behavior). To access a value by position, use `ser.iloc[pos]`\n",
      "  st_avil_site = pd.DataFrame(  {'site': [ df_202406['site_no'][0] ]}  )\n"
     ]
    },
    {
     "name": "stdout",
     "output_type": "stream",
     "text": [
      "       site\n",
      "0  00000000\n",
      "0  10039500\n",
      "0  10068500\n",
      "0  10092700\n",
      "0  10125500\n",
      "0  12305000\n",
      "0  12306500\n",
      "0  12308000\n",
      "0  12309500\n",
      "0  12321500\n",
      "0  12322000\n",
      "0  12391950\n",
      "0  12392155\n",
      "0  12392300\n",
      "0  12393501\n",
      "0  12395000\n",
      "0  12395500\n",
      "0  12411000\n",
      "12411200\n",
      "12411935\n",
      "12411950\n",
      "12412600\n",
      "12413000\n"
     ]
    },
    {
     "name": "stderr",
     "output_type": "stream",
     "text": [
      "/var/folders/_4/klhstfsn73nfrxlfr8_r9dhc0000gn/T/ipykernel_14091/501096422.py:8: FutureWarning: Series.__getitem__ treating keys as positions is deprecated. In a future version, integer keys will always be treated as labels (consistent with DataFrame behavior). To access a value by position, use `ser.iloc[pos]`\n",
      "  st_avil_site = pd.DataFrame(  {'site': [ df_202406['site_no'][0] ]}  )\n"
     ]
    },
    {
     "name": "stdout",
     "output_type": "stream",
     "text": [
      "       site\n",
      "0  00000000\n",
      "0  10039500\n",
      "0  10068500\n",
      "0  10092700\n",
      "0  10125500\n",
      "0  12305000\n",
      "0  12306500\n",
      "0  12308000\n",
      "0  12309500\n",
      "0  12321500\n",
      "0  12322000\n",
      "0  12391950\n",
      "0  12392155\n",
      "0  12392300\n",
      "0  12393501\n",
      "0  12395000\n",
      "0  12395500\n",
      "0  12411000\n",
      "0  12413000\n",
      "12413020\n",
      "12413025\n",
      "12413027\n",
      "12413030\n",
      "12413040\n",
      "12413080\n",
      "12413100\n",
      "12413103\n",
      "12413104\n",
      "12413105\n",
      "12413118\n",
      "12413120\n",
      "12413123\n",
      "12413125\n"
     ]
    },
    {
     "name": "stderr",
     "output_type": "stream",
     "text": [
      "/var/folders/_4/klhstfsn73nfrxlfr8_r9dhc0000gn/T/ipykernel_14091/501096422.py:8: FutureWarning: Series.__getitem__ treating keys as positions is deprecated. In a future version, integer keys will always be treated as labels (consistent with DataFrame behavior). To access a value by position, use `ser.iloc[pos]`\n",
      "  st_avil_site = pd.DataFrame(  {'site': [ df_202406['site_no'][0] ]}  )\n"
     ]
    },
    {
     "name": "stdout",
     "output_type": "stream",
     "text": [
      "       site\n",
      "0  00000000\n",
      "0  10039500\n",
      "0  10068500\n",
      "0  10092700\n",
      "0  10125500\n",
      "0  12305000\n",
      "0  12306500\n",
      "0  12308000\n",
      "0  12309500\n",
      "0  12321500\n",
      "0  12322000\n",
      "0  12391950\n",
      "0  12392155\n",
      "0  12392300\n",
      "0  12393501\n",
      "0  12395000\n",
      "0  12395500\n",
      "0  12411000\n",
      "0  12413000\n",
      "0  12413125\n",
      "12413126\n",
      "124131265\n",
      "124131267\n",
      "12413127\n",
      "12413130\n"
     ]
    },
    {
     "name": "stderr",
     "output_type": "stream",
     "text": [
      "/var/folders/_4/klhstfsn73nfrxlfr8_r9dhc0000gn/T/ipykernel_14091/501096422.py:8: FutureWarning: Series.__getitem__ treating keys as positions is deprecated. In a future version, integer keys will always be treated as labels (consistent with DataFrame behavior). To access a value by position, use `ser.iloc[pos]`\n",
      "  st_avil_site = pd.DataFrame(  {'site': [ df_202406['site_no'][0] ]}  )\n"
     ]
    },
    {
     "name": "stdout",
     "output_type": "stream",
     "text": [
      "       site\n",
      "0  00000000\n",
      "0  10039500\n",
      "0  10068500\n",
      "0  10092700\n",
      "0  10125500\n",
      "0  12305000\n",
      "0  12306500\n",
      "0  12308000\n",
      "0  12309500\n",
      "0  12321500\n",
      "0  12322000\n",
      "0  12391950\n",
      "0  12392155\n",
      "0  12392300\n",
      "0  12393501\n",
      "0  12395000\n",
      "0  12395500\n",
      "0  12411000\n",
      "0  12413000\n",
      "0  12413125\n",
      "0  12413130\n",
      "12413131\n"
     ]
    },
    {
     "name": "stderr",
     "output_type": "stream",
     "text": [
      "/var/folders/_4/klhstfsn73nfrxlfr8_r9dhc0000gn/T/ipykernel_14091/501096422.py:8: FutureWarning: Series.__getitem__ treating keys as positions is deprecated. In a future version, integer keys will always be treated as labels (consistent with DataFrame behavior). To access a value by position, use `ser.iloc[pos]`\n",
      "  st_avil_site = pd.DataFrame(  {'site': [ df_202406['site_no'][0] ]}  )\n"
     ]
    },
    {
     "name": "stdout",
     "output_type": "stream",
     "text": [
      "       site\n",
      "0  00000000\n",
      "0  10039500\n",
      "0  10068500\n",
      "0  10092700\n",
      "0  10125500\n",
      "0  12305000\n",
      "0  12306500\n",
      "0  12308000\n",
      "0  12309500\n",
      "0  12321500\n",
      "0  12322000\n",
      "0  12391950\n",
      "0  12392155\n",
      "0  12392300\n",
      "0  12393501\n",
      "0  12395000\n",
      "0  12395500\n",
      "0  12411000\n",
      "0  12413000\n",
      "0  12413125\n",
      "0  12413130\n",
      "0  12413131\n",
      "12413140\n",
      "12413150\n",
      "12413151\n",
      "12413152\n",
      "12413168\n",
      "12413169\n",
      "12413170\n",
      "12413174\n",
      "12413175\n",
      "12413179\n",
      "12413180\n",
      "12413183\n",
      "12413185\n",
      "12413190\n",
      "12413200\n",
      "12413204\n",
      "12413209\n",
      "12413210\n"
     ]
    },
    {
     "name": "stderr",
     "output_type": "stream",
     "text": [
      "/var/folders/_4/klhstfsn73nfrxlfr8_r9dhc0000gn/T/ipykernel_14091/501096422.py:8: FutureWarning: Series.__getitem__ treating keys as positions is deprecated. In a future version, integer keys will always be treated as labels (consistent with DataFrame behavior). To access a value by position, use `ser.iloc[pos]`\n",
      "  st_avil_site = pd.DataFrame(  {'site': [ df_202406['site_no'][0] ]}  )\n"
     ]
    },
    {
     "name": "stdout",
     "output_type": "stream",
     "text": [
      "       site\n",
      "0  00000000\n",
      "0  10039500\n",
      "0  10068500\n",
      "0  10092700\n",
      "0  10125500\n",
      "0  12305000\n",
      "0  12306500\n",
      "0  12308000\n",
      "0  12309500\n",
      "0  12321500\n",
      "0  12322000\n",
      "0  12391950\n",
      "0  12392155\n",
      "0  12392300\n",
      "0  12393501\n",
      "0  12395000\n",
      "0  12395500\n",
      "0  12411000\n",
      "0  12413000\n",
      "0  12413125\n",
      "0  12413130\n",
      "0  12413131\n",
      "0  12413210\n",
      "12413250\n",
      "12413290\n",
      "12413300\n",
      "12413355\n"
     ]
    },
    {
     "name": "stderr",
     "output_type": "stream",
     "text": [
      "/var/folders/_4/klhstfsn73nfrxlfr8_r9dhc0000gn/T/ipykernel_14091/501096422.py:8: FutureWarning: Series.__getitem__ treating keys as positions is deprecated. In a future version, integer keys will always be treated as labels (consistent with DataFrame behavior). To access a value by position, use `ser.iloc[pos]`\n",
      "  st_avil_site = pd.DataFrame(  {'site': [ df_202406['site_no'][0] ]}  )\n"
     ]
    },
    {
     "name": "stdout",
     "output_type": "stream",
     "text": [
      "       site\n",
      "0  00000000\n",
      "0  10039500\n",
      "0  10068500\n",
      "0  10092700\n",
      "0  10125500\n",
      "0  12305000\n",
      "0  12306500\n",
      "0  12308000\n",
      "0  12309500\n",
      "0  12321500\n",
      "0  12322000\n",
      "0  12391950\n",
      "0  12392155\n",
      "0  12392300\n",
      "0  12393501\n",
      "0  12395000\n",
      "0  12395500\n",
      "0  12411000\n",
      "0  12413000\n",
      "0  12413125\n",
      "0  12413130\n",
      "0  12413131\n",
      "0  12413210\n",
      "0  12413355\n",
      "12413360\n",
      "12413370\n",
      "12413400\n",
      "12413440\n",
      "12413445\n",
      "12413460\n",
      "12413470\n"
     ]
    },
    {
     "name": "stderr",
     "output_type": "stream",
     "text": [
      "/var/folders/_4/klhstfsn73nfrxlfr8_r9dhc0000gn/T/ipykernel_14091/501096422.py:8: FutureWarning: Series.__getitem__ treating keys as positions is deprecated. In a future version, integer keys will always be treated as labels (consistent with DataFrame behavior). To access a value by position, use `ser.iloc[pos]`\n",
      "  st_avil_site = pd.DataFrame(  {'site': [ df_202406['site_no'][0] ]}  )\n"
     ]
    },
    {
     "name": "stdout",
     "output_type": "stream",
     "text": [
      "       site\n",
      "0  00000000\n",
      "0  10039500\n",
      "0  10068500\n",
      "0  10092700\n",
      "0  10125500\n",
      "0  12305000\n",
      "0  12306500\n",
      "0  12308000\n",
      "0  12309500\n",
      "0  12321500\n",
      "0  12322000\n",
      "0  12391950\n",
      "0  12392155\n",
      "0  12392300\n",
      "0  12393501\n",
      "0  12395000\n",
      "0  12395500\n",
      "0  12411000\n",
      "0  12413000\n",
      "0  12413125\n",
      "0  12413130\n",
      "0  12413131\n",
      "0  12413210\n",
      "0  12413355\n",
      "0  12413470\n",
      "12413490\n",
      "12413500\n"
     ]
    },
    {
     "name": "stderr",
     "output_type": "stream",
     "text": [
      "/var/folders/_4/klhstfsn73nfrxlfr8_r9dhc0000gn/T/ipykernel_14091/501096422.py:8: FutureWarning: Series.__getitem__ treating keys as positions is deprecated. In a future version, integer keys will always be treated as labels (consistent with DataFrame behavior). To access a value by position, use `ser.iloc[pos]`\n",
      "  st_avil_site = pd.DataFrame(  {'site': [ df_202406['site_no'][0] ]}  )\n"
     ]
    },
    {
     "name": "stdout",
     "output_type": "stream",
     "text": [
      "       site\n",
      "0  00000000\n",
      "0  10039500\n",
      "0  10068500\n",
      "0  10092700\n",
      "0  10125500\n",
      "0  12305000\n",
      "0  12306500\n",
      "0  12308000\n",
      "0  12309500\n",
      "0  12321500\n",
      "0  12322000\n",
      "0  12391950\n",
      "0  12392155\n",
      "0  12392300\n",
      "0  12393501\n",
      "0  12395000\n",
      "0  12395500\n",
      "0  12411000\n",
      "0  12413000\n",
      "0  12413125\n",
      "0  12413130\n",
      "0  12413131\n",
      "0  12413210\n",
      "0  12413355\n",
      "0  12413470\n",
      "0  12413500\n",
      "12413600\n",
      "12413700\n",
      "12413800\n",
      "12413810\n",
      "12413850\n",
      "12413860\n"
     ]
    },
    {
     "name": "stderr",
     "output_type": "stream",
     "text": [
      "/var/folders/_4/klhstfsn73nfrxlfr8_r9dhc0000gn/T/ipykernel_14091/501096422.py:8: FutureWarning: Series.__getitem__ treating keys as positions is deprecated. In a future version, integer keys will always be treated as labels (consistent with DataFrame behavior). To access a value by position, use `ser.iloc[pos]`\n",
      "  st_avil_site = pd.DataFrame(  {'site': [ df_202406['site_no'][0] ]}  )\n"
     ]
    },
    {
     "name": "stdout",
     "output_type": "stream",
     "text": [
      "       site\n",
      "0  00000000\n",
      "0  10039500\n",
      "0  10068500\n",
      "0  10092700\n",
      "0  10125500\n",
      "0  12305000\n",
      "0  12306500\n",
      "0  12308000\n",
      "0  12309500\n",
      "0  12321500\n",
      "0  12322000\n",
      "0  12391950\n",
      "0  12392155\n",
      "0  12392300\n",
      "0  12393501\n",
      "0  12395000\n",
      "0  12395500\n",
      "0  12411000\n",
      "0  12413000\n",
      "0  12413125\n",
      "0  12413130\n",
      "0  12413131\n",
      "0  12413210\n",
      "0  12413355\n",
      "0  12413470\n",
      "0  12413500\n",
      "0  12413860\n",
      "12413875\n"
     ]
    },
    {
     "name": "stderr",
     "output_type": "stream",
     "text": [
      "/var/folders/_4/klhstfsn73nfrxlfr8_r9dhc0000gn/T/ipykernel_14091/501096422.py:8: FutureWarning: Series.__getitem__ treating keys as positions is deprecated. In a future version, integer keys will always be treated as labels (consistent with DataFrame behavior). To access a value by position, use `ser.iloc[pos]`\n",
      "  st_avil_site = pd.DataFrame(  {'site': [ df_202406['site_no'][0] ]}  )\n"
     ]
    },
    {
     "name": "stdout",
     "output_type": "stream",
     "text": [
      "       site\n",
      "0  00000000\n",
      "0  10039500\n",
      "0  10068500\n",
      "0  10092700\n",
      "0  10125500\n",
      "0  12305000\n",
      "0  12306500\n",
      "0  12308000\n",
      "0  12309500\n",
      "0  12321500\n",
      "0  12322000\n",
      "0  12391950\n",
      "0  12392155\n",
      "0  12392300\n",
      "0  12393501\n",
      "0  12395000\n",
      "0  12395500\n",
      "0  12411000\n",
      "0  12413000\n",
      "0  12413125\n",
      "0  12413130\n",
      "0  12413131\n",
      "0  12413210\n",
      "0  12413355\n",
      "0  12413470\n",
      "0  12413500\n",
      "0  12413860\n",
      "0  12413875\n",
      "12413900\n",
      "12413950\n",
      "12414195\n",
      "12414200\n",
      "12414350\n",
      "12414400\n",
      "12414500\n"
     ]
    },
    {
     "name": "stderr",
     "output_type": "stream",
     "text": [
      "/var/folders/_4/klhstfsn73nfrxlfr8_r9dhc0000gn/T/ipykernel_14091/501096422.py:8: FutureWarning: Series.__getitem__ treating keys as positions is deprecated. In a future version, integer keys will always be treated as labels (consistent with DataFrame behavior). To access a value by position, use `ser.iloc[pos]`\n",
      "  st_avil_site = pd.DataFrame(  {'site': [ df_202406['site_no'][0] ]}  )\n"
     ]
    },
    {
     "name": "stdout",
     "output_type": "stream",
     "text": [
      "       site\n",
      "0  00000000\n",
      "0  10039500\n",
      "0  10068500\n",
      "0  10092700\n",
      "0  10125500\n",
      "0  12305000\n",
      "0  12306500\n",
      "0  12308000\n",
      "0  12309500\n",
      "0  12321500\n",
      "0  12322000\n",
      "0  12391950\n",
      "0  12392155\n",
      "0  12392300\n",
      "0  12393501\n",
      "0  12395000\n",
      "0  12395500\n",
      "0  12411000\n",
      "0  12413000\n",
      "0  12413125\n",
      "0  12413130\n",
      "0  12413131\n",
      "0  12413210\n",
      "0  12413355\n",
      "0  12413470\n",
      "0  12413500\n",
      "0  12413860\n",
      "0  12413875\n",
      "0  12414500\n",
      "12414600\n",
      "12414650\n",
      "12414700\n",
      "12414750\n",
      "12414800\n",
      "12414850\n",
      "12414900\n"
     ]
    },
    {
     "name": "stderr",
     "output_type": "stream",
     "text": [
      "/var/folders/_4/klhstfsn73nfrxlfr8_r9dhc0000gn/T/ipykernel_14091/501096422.py:8: FutureWarning: Series.__getitem__ treating keys as positions is deprecated. In a future version, integer keys will always be treated as labels (consistent with DataFrame behavior). To access a value by position, use `ser.iloc[pos]`\n",
      "  st_avil_site = pd.DataFrame(  {'site': [ df_202406['site_no'][0] ]}  )\n"
     ]
    },
    {
     "name": "stdout",
     "output_type": "stream",
     "text": [
      "       site\n",
      "0  00000000\n",
      "0  10039500\n",
      "0  10068500\n",
      "0  10092700\n",
      "0  10125500\n",
      "0  12305000\n",
      "0  12306500\n",
      "0  12308000\n",
      "0  12309500\n",
      "0  12321500\n",
      "0  12322000\n",
      "0  12391950\n",
      "0  12392155\n",
      "0  12392300\n",
      "0  12393501\n",
      "0  12395000\n",
      "0  12395500\n",
      "0  12411000\n",
      "0  12413000\n",
      "0  12413125\n",
      "0  12413130\n",
      "0  12413131\n",
      "0  12413210\n",
      "0  12413355\n",
      "0  12413470\n",
      "0  12413500\n",
      "0  12413860\n",
      "0  12413875\n",
      "0  12414500\n",
      "0  12414900\n",
      "12415050\n",
      "12415075\n",
      "12415100\n",
      "12415135\n"
     ]
    },
    {
     "name": "stderr",
     "output_type": "stream",
     "text": [
      "/var/folders/_4/klhstfsn73nfrxlfr8_r9dhc0000gn/T/ipykernel_14091/501096422.py:8: FutureWarning: Series.__getitem__ treating keys as positions is deprecated. In a future version, integer keys will always be treated as labels (consistent with DataFrame behavior). To access a value by position, use `ser.iloc[pos]`\n",
      "  st_avil_site = pd.DataFrame(  {'site': [ df_202406['site_no'][0] ]}  )\n"
     ]
    },
    {
     "name": "stdout",
     "output_type": "stream",
     "text": [
      "       site\n",
      "0  00000000\n",
      "0  10039500\n",
      "0  10068500\n",
      "0  10092700\n",
      "0  10125500\n",
      "0  12305000\n",
      "0  12306500\n",
      "0  12308000\n",
      "0  12309500\n",
      "0  12321500\n",
      "0  12322000\n",
      "0  12391950\n",
      "0  12392155\n",
      "0  12392300\n",
      "0  12393501\n",
      "0  12395000\n",
      "0  12395500\n",
      "0  12411000\n",
      "0  12413000\n",
      "0  12413125\n",
      "0  12413130\n",
      "0  12413131\n",
      "0  12413210\n",
      "0  12413355\n",
      "0  12413470\n",
      "0  12413500\n",
      "0  12413860\n",
      "0  12413875\n",
      "0  12414500\n",
      "0  12414900\n",
      "0  12415135\n",
      "12415140\n",
      "12415150\n",
      "12415200\n",
      "12415250\n",
      "12415285\n",
      "12415290\n",
      "12415300\n",
      "12415350\n",
      "12415352\n",
      "12415400\n",
      "12416000\n",
      "12417598\n",
      "12417610\n",
      "12417620\n",
      "12417650\n"
     ]
    },
    {
     "name": "stderr",
     "output_type": "stream",
     "text": [
      "/var/folders/_4/klhstfsn73nfrxlfr8_r9dhc0000gn/T/ipykernel_14091/501096422.py:8: FutureWarning: Series.__getitem__ treating keys as positions is deprecated. In a future version, integer keys will always be treated as labels (consistent with DataFrame behavior). To access a value by position, use `ser.iloc[pos]`\n",
      "  st_avil_site = pd.DataFrame(  {'site': [ df_202406['site_no'][0] ]}  )\n"
     ]
    },
    {
     "name": "stdout",
     "output_type": "stream",
     "text": [
      "       site\n",
      "0  00000000\n",
      "0  10039500\n",
      "0  10068500\n",
      "0  10092700\n",
      "0  10125500\n",
      "0  12305000\n",
      "0  12306500\n",
      "0  12308000\n",
      "0  12309500\n",
      "0  12321500\n",
      "0  12322000\n",
      "0  12391950\n",
      "0  12392155\n",
      "0  12392300\n",
      "0  12393501\n",
      "0  12395000\n",
      "0  12395500\n",
      "0  12411000\n",
      "0  12413000\n",
      "0  12413125\n",
      "0  12413130\n",
      "0  12413131\n",
      "0  12413210\n",
      "0  12413355\n",
      "0  12413470\n",
      "0  12413500\n",
      "0  12413860\n",
      "0  12413875\n",
      "0  12414500\n",
      "0  12414900\n",
      "0  12415135\n",
      "0  12417650\n",
      "12417725\n",
      "12417850\n",
      "12417925\n",
      "12418025\n",
      "12418200\n",
      "12418300\n",
      "12419000\n"
     ]
    },
    {
     "name": "stderr",
     "output_type": "stream",
     "text": [
      "/var/folders/_4/klhstfsn73nfrxlfr8_r9dhc0000gn/T/ipykernel_14091/501096422.py:8: FutureWarning: Series.__getitem__ treating keys as positions is deprecated. In a future version, integer keys will always be treated as labels (consistent with DataFrame behavior). To access a value by position, use `ser.iloc[pos]`\n",
      "  st_avil_site = pd.DataFrame(  {'site': [ df_202406['site_no'][0] ]}  )\n"
     ]
    },
    {
     "name": "stdout",
     "output_type": "stream",
     "text": [
      "       site\n",
      "0  00000000\n",
      "0  10039500\n",
      "0  10068500\n",
      "0  10092700\n",
      "0  10125500\n",
      "0  12305000\n",
      "0  12306500\n",
      "0  12308000\n",
      "0  12309500\n",
      "0  12321500\n",
      "0  12322000\n",
      "0  12391950\n",
      "0  12392155\n",
      "0  12392300\n",
      "0  12393501\n",
      "0  12395000\n",
      "0  12395500\n",
      "0  12411000\n",
      "0  12413000\n",
      "0  12413125\n",
      "0  12413130\n",
      "0  12413131\n",
      "0  12413210\n",
      "0  12413355\n",
      "0  12413470\n",
      "0  12413500\n",
      "0  12413860\n",
      "0  12413875\n",
      "0  12414500\n",
      "0  12414900\n",
      "0  12415135\n",
      "0  12417650\n",
      "0  12419000\n",
      "12419100\n",
      "12419495\n",
      "12422950\n",
      "13026000\n",
      "13029500\n",
      "13030500\n",
      "13032000\n",
      "13032500\n"
     ]
    },
    {
     "name": "stderr",
     "output_type": "stream",
     "text": [
      "/var/folders/_4/klhstfsn73nfrxlfr8_r9dhc0000gn/T/ipykernel_14091/501096422.py:8: FutureWarning: Series.__getitem__ treating keys as positions is deprecated. In a future version, integer keys will always be treated as labels (consistent with DataFrame behavior). To access a value by position, use `ser.iloc[pos]`\n",
      "  st_avil_site = pd.DataFrame(  {'site': [ df_202406['site_no'][0] ]}  )\n"
     ]
    },
    {
     "name": "stdout",
     "output_type": "stream",
     "text": [
      "       site\n",
      "0  00000000\n",
      "0  10039500\n",
      "0  10068500\n",
      "0  10092700\n",
      "0  10125500\n",
      "0  12305000\n",
      "0  12306500\n",
      "0  12308000\n",
      "0  12309500\n",
      "0  12321500\n",
      "0  12322000\n",
      "0  12391950\n",
      "0  12392155\n",
      "0  12392300\n",
      "0  12393501\n",
      "0  12395000\n",
      "0  12395500\n",
      "0  12411000\n",
      "0  12413000\n",
      "0  12413125\n",
      "0  12413130\n",
      "0  12413131\n",
      "0  12413210\n",
      "0  12413355\n",
      "0  12413470\n",
      "0  12413500\n",
      "0  12413860\n",
      "0  12413875\n",
      "0  12414500\n",
      "0  12414900\n",
      "0  12415135\n",
      "0  12417650\n",
      "0  12419000\n",
      "0  13032500\n",
      "13034000\n",
      "13035500\n",
      "13037500\n"
     ]
    },
    {
     "name": "stderr",
     "output_type": "stream",
     "text": [
      "/var/folders/_4/klhstfsn73nfrxlfr8_r9dhc0000gn/T/ipykernel_14091/501096422.py:8: FutureWarning: Series.__getitem__ treating keys as positions is deprecated. In a future version, integer keys will always be treated as labels (consistent with DataFrame behavior). To access a value by position, use `ser.iloc[pos]`\n",
      "  st_avil_site = pd.DataFrame(  {'site': [ df_202406['site_no'][0] ]}  )\n"
     ]
    },
    {
     "name": "stdout",
     "output_type": "stream",
     "text": [
      "       site\n",
      "0  00000000\n",
      "0  10039500\n",
      "0  10068500\n",
      "0  10092700\n",
      "0  10125500\n",
      "0  12305000\n",
      "0  12306500\n",
      "0  12308000\n",
      "0  12309500\n",
      "0  12321500\n",
      "0  12322000\n",
      "0  12391950\n",
      "0  12392155\n",
      "0  12392300\n",
      "0  12393501\n",
      "0  12395000\n",
      "0  12395500\n",
      "0  12411000\n",
      "0  12413000\n",
      "0  12413125\n",
      "0  12413130\n",
      "0  12413131\n",
      "0  12413210\n",
      "0  12413355\n",
      "0  12413470\n",
      "0  12413500\n",
      "0  12413860\n",
      "0  12413875\n",
      "0  12414500\n",
      "0  12414900\n",
      "0  12415135\n",
      "0  12417650\n",
      "0  12419000\n",
      "0  13032500\n",
      "0  13037500\n",
      "13038000\n"
     ]
    },
    {
     "name": "stderr",
     "output_type": "stream",
     "text": [
      "/var/folders/_4/klhstfsn73nfrxlfr8_r9dhc0000gn/T/ipykernel_14091/501096422.py:8: FutureWarning: Series.__getitem__ treating keys as positions is deprecated. In a future version, integer keys will always be treated as labels (consistent with DataFrame behavior). To access a value by position, use `ser.iloc[pos]`\n",
      "  st_avil_site = pd.DataFrame(  {'site': [ df_202406['site_no'][0] ]}  )\n"
     ]
    },
    {
     "name": "stdout",
     "output_type": "stream",
     "text": [
      "       site\n",
      "0  00000000\n",
      "0  10039500\n",
      "0  10068500\n",
      "0  10092700\n",
      "0  10125500\n",
      "0  12305000\n",
      "0  12306500\n",
      "0  12308000\n",
      "0  12309500\n",
      "0  12321500\n",
      "0  12322000\n",
      "0  12391950\n",
      "0  12392155\n",
      "0  12392300\n",
      "0  12393501\n",
      "0  12395000\n",
      "0  12395500\n",
      "0  12411000\n",
      "0  12413000\n",
      "0  12413125\n",
      "0  12413130\n",
      "0  12413131\n",
      "0  12413210\n",
      "0  12413355\n",
      "0  12413470\n",
      "0  12413500\n",
      "0  12413860\n",
      "0  12413875\n",
      "0  12414500\n",
      "0  12414900\n",
      "0  12415135\n",
      "0  12417650\n",
      "0  12419000\n",
      "0  13032500\n",
      "0  13037500\n",
      "0  13038000\n",
      "13038380\n",
      "13038500\n"
     ]
    },
    {
     "name": "stderr",
     "output_type": "stream",
     "text": [
      "/var/folders/_4/klhstfsn73nfrxlfr8_r9dhc0000gn/T/ipykernel_14091/501096422.py:8: FutureWarning: Series.__getitem__ treating keys as positions is deprecated. In a future version, integer keys will always be treated as labels (consistent with DataFrame behavior). To access a value by position, use `ser.iloc[pos]`\n",
      "  st_avil_site = pd.DataFrame(  {'site': [ df_202406['site_no'][0] ]}  )\n"
     ]
    },
    {
     "name": "stdout",
     "output_type": "stream",
     "text": [
      "       site\n",
      "0  00000000\n",
      "0  10039500\n",
      "0  10068500\n",
      "0  10092700\n",
      "0  10125500\n",
      "0  12305000\n",
      "0  12306500\n",
      "0  12308000\n",
      "0  12309500\n",
      "0  12321500\n",
      "0  12322000\n",
      "0  12391950\n",
      "0  12392155\n",
      "0  12392300\n",
      "0  12393501\n",
      "0  12395000\n",
      "0  12395500\n",
      "0  12411000\n",
      "0  12413000\n",
      "0  12413125\n",
      "0  12413130\n",
      "0  12413131\n",
      "0  12413210\n",
      "0  12413355\n",
      "0  12413470\n",
      "0  12413500\n",
      "0  12413860\n",
      "0  12413875\n",
      "0  12414500\n",
      "0  12414900\n",
      "0  12415135\n",
      "0  12417650\n",
      "0  12419000\n",
      "0  13032500\n",
      "0  13037500\n",
      "0  13038000\n",
      "0  13038500\n",
      "13038900\n",
      "13039500\n"
     ]
    },
    {
     "name": "stderr",
     "output_type": "stream",
     "text": [
      "/var/folders/_4/klhstfsn73nfrxlfr8_r9dhc0000gn/T/ipykernel_14091/501096422.py:8: FutureWarning: Series.__getitem__ treating keys as positions is deprecated. In a future version, integer keys will always be treated as labels (consistent with DataFrame behavior). To access a value by position, use `ser.iloc[pos]`\n",
      "  st_avil_site = pd.DataFrame(  {'site': [ df_202406['site_no'][0] ]}  )\n"
     ]
    },
    {
     "name": "stdout",
     "output_type": "stream",
     "text": [
      "       site\n",
      "0  00000000\n",
      "0  10039500\n",
      "0  10068500\n",
      "0  10092700\n",
      "0  10125500\n",
      "0  12305000\n",
      "0  12306500\n",
      "0  12308000\n",
      "0  12309500\n",
      "0  12321500\n",
      "0  12322000\n",
      "0  12391950\n",
      "0  12392155\n",
      "0  12392300\n",
      "0  12393501\n",
      "0  12395000\n",
      "0  12395500\n",
      "0  12411000\n",
      "0  12413000\n",
      "0  12413125\n",
      "0  12413130\n",
      "0  12413131\n",
      "0  12413210\n",
      "0  12413355\n",
      "0  12413470\n",
      "0  12413500\n",
      "0  12413860\n",
      "0  12413875\n",
      "0  12414500\n",
      "0  12414900\n",
      "0  12415135\n",
      "0  12417650\n",
      "0  12419000\n",
      "0  13032500\n",
      "0  13037500\n",
      "0  13038000\n",
      "0  13038500\n",
      "0  13039500\n",
      "13040000\n",
      "13040500\n"
     ]
    },
    {
     "name": "stderr",
     "output_type": "stream",
     "text": [
      "/var/folders/_4/klhstfsn73nfrxlfr8_r9dhc0000gn/T/ipykernel_14091/501096422.py:8: FutureWarning: Series.__getitem__ treating keys as positions is deprecated. In a future version, integer keys will always be treated as labels (consistent with DataFrame behavior). To access a value by position, use `ser.iloc[pos]`\n",
      "  st_avil_site = pd.DataFrame(  {'site': [ df_202406['site_no'][0] ]}  )\n"
     ]
    },
    {
     "name": "stdout",
     "output_type": "stream",
     "text": [
      "       site\n",
      "0  00000000\n",
      "0  10039500\n",
      "0  10068500\n",
      "0  10092700\n",
      "0  10125500\n",
      "0  12305000\n",
      "0  12306500\n",
      "0  12308000\n",
      "0  12309500\n",
      "0  12321500\n",
      "0  12322000\n",
      "0  12391950\n",
      "0  12392155\n",
      "0  12392300\n",
      "0  12393501\n",
      "0  12395000\n",
      "0  12395500\n",
      "0  12411000\n",
      "0  12413000\n",
      "0  12413125\n",
      "0  12413130\n",
      "0  12413131\n",
      "0  12413210\n",
      "0  12413355\n",
      "0  12413470\n",
      "0  12413500\n",
      "0  12413860\n",
      "0  12413875\n",
      "0  12414500\n",
      "0  12414900\n",
      "0  12415135\n",
      "0  12417650\n",
      "0  12419000\n",
      "0  13032500\n",
      "0  13037500\n",
      "0  13038000\n",
      "0  13038500\n",
      "0  13039500\n",
      "0  13040500\n",
      "13040800\n",
      "13041010\n",
      "13042500\n"
     ]
    },
    {
     "name": "stderr",
     "output_type": "stream",
     "text": [
      "/var/folders/_4/klhstfsn73nfrxlfr8_r9dhc0000gn/T/ipykernel_14091/501096422.py:8: FutureWarning: Series.__getitem__ treating keys as positions is deprecated. In a future version, integer keys will always be treated as labels (consistent with DataFrame behavior). To access a value by position, use `ser.iloc[pos]`\n",
      "  st_avil_site = pd.DataFrame(  {'site': [ df_202406['site_no'][0] ]}  )\n"
     ]
    },
    {
     "name": "stdout",
     "output_type": "stream",
     "text": [
      "       site\n",
      "0  00000000\n",
      "0  10039500\n",
      "0  10068500\n",
      "0  10092700\n",
      "0  10125500\n",
      "0  12305000\n",
      "0  12306500\n",
      "0  12308000\n",
      "0  12309500\n",
      "0  12321500\n",
      "0  12322000\n",
      "0  12391950\n",
      "0  12392155\n",
      "0  12392300\n",
      "0  12393501\n",
      "0  12395000\n",
      "0  12395500\n",
      "0  12411000\n",
      "0  12413000\n",
      "0  12413125\n",
      "0  12413130\n",
      "0  12413131\n",
      "0  12413210\n",
      "0  12413355\n",
      "0  12413470\n",
      "0  12413500\n",
      "0  12413860\n",
      "0  12413875\n",
      "0  12414500\n",
      "0  12414900\n",
      "0  12415135\n",
      "0  12417650\n",
      "0  12419000\n",
      "0  13032500\n",
      "0  13037500\n",
      "0  13038000\n",
      "0  13038500\n",
      "0  13039500\n",
      "0  13040500\n",
      "0  13042500\n",
      "13043000\n",
      "13043800\n",
      "13043820\n",
      "13044000\n",
      "13044500\n",
      "13044550\n",
      "13045500\n",
      "13046000\n"
     ]
    },
    {
     "name": "stderr",
     "output_type": "stream",
     "text": [
      "/var/folders/_4/klhstfsn73nfrxlfr8_r9dhc0000gn/T/ipykernel_14091/501096422.py:8: FutureWarning: Series.__getitem__ treating keys as positions is deprecated. In a future version, integer keys will always be treated as labels (consistent with DataFrame behavior). To access a value by position, use `ser.iloc[pos]`\n",
      "  st_avil_site = pd.DataFrame(  {'site': [ df_202406['site_no'][0] ]}  )\n"
     ]
    },
    {
     "name": "stdout",
     "output_type": "stream",
     "text": [
      "       site\n",
      "0  00000000\n",
      "0  10039500\n",
      "0  10068500\n",
      "0  10092700\n",
      "0  10125500\n",
      "0  12305000\n",
      "0  12306500\n",
      "0  12308000\n",
      "0  12309500\n",
      "0  12321500\n",
      "0  12322000\n",
      "0  12391950\n",
      "0  12392155\n",
      "0  12392300\n",
      "0  12393501\n",
      "0  12395000\n",
      "0  12395500\n",
      "0  12411000\n",
      "0  12413000\n",
      "0  12413125\n",
      "0  12413130\n",
      "0  12413131\n",
      "0  12413210\n",
      "0  12413355\n",
      "0  12413470\n",
      "0  12413500\n",
      "0  12413860\n",
      "0  12413875\n",
      "0  12414500\n",
      "0  12414900\n",
      "0  12415135\n",
      "0  12417650\n",
      "0  12419000\n",
      "0  13032500\n",
      "0  13037500\n",
      "0  13038000\n",
      "0  13038500\n",
      "0  13039500\n",
      "0  13040500\n",
      "0  13042500\n",
      "0  13046000\n",
      "13046023\n",
      "13046995\n"
     ]
    },
    {
     "name": "stderr",
     "output_type": "stream",
     "text": [
      "/var/folders/_4/klhstfsn73nfrxlfr8_r9dhc0000gn/T/ipykernel_14091/501096422.py:8: FutureWarning: Series.__getitem__ treating keys as positions is deprecated. In a future version, integer keys will always be treated as labels (consistent with DataFrame behavior). To access a value by position, use `ser.iloc[pos]`\n",
      "  st_avil_site = pd.DataFrame(  {'site': [ df_202406['site_no'][0] ]}  )\n"
     ]
    },
    {
     "name": "stdout",
     "output_type": "stream",
     "text": [
      "       site\n",
      "0  00000000\n",
      "0  10039500\n",
      "0  10068500\n",
      "0  10092700\n",
      "0  10125500\n",
      "0  12305000\n",
      "0  12306500\n",
      "0  12308000\n",
      "0  12309500\n",
      "0  12321500\n",
      "0  12322000\n",
      "0  12391950\n",
      "0  12392155\n",
      "0  12392300\n",
      "0  12393501\n",
      "0  12395000\n",
      "0  12395500\n",
      "0  12411000\n",
      "0  12413000\n",
      "0  12413125\n",
      "0  12413130\n",
      "0  12413131\n",
      "0  12413210\n",
      "0  12413355\n",
      "0  12413470\n",
      "0  12413500\n",
      "0  12413860\n",
      "0  12413875\n",
      "0  12414500\n",
      "0  12414900\n",
      "0  12415135\n",
      "0  12417650\n",
      "0  12419000\n",
      "0  13032500\n",
      "0  13037500\n",
      "0  13038000\n",
      "0  13038500\n",
      "0  13039500\n",
      "0  13040500\n",
      "0  13042500\n",
      "0  13046000\n",
      "0  13046995\n",
      "13047500\n"
     ]
    },
    {
     "name": "stderr",
     "output_type": "stream",
     "text": [
      "/var/folders/_4/klhstfsn73nfrxlfr8_r9dhc0000gn/T/ipykernel_14091/501096422.py:8: FutureWarning: Series.__getitem__ treating keys as positions is deprecated. In a future version, integer keys will always be treated as labels (consistent with DataFrame behavior). To access a value by position, use `ser.iloc[pos]`\n",
      "  st_avil_site = pd.DataFrame(  {'site': [ df_202406['site_no'][0] ]}  )\n"
     ]
    },
    {
     "name": "stdout",
     "output_type": "stream",
     "text": [
      "       site\n",
      "0  00000000\n",
      "0  10039500\n",
      "0  10068500\n",
      "0  10092700\n",
      "0  10125500\n",
      "0  12305000\n",
      "0  12306500\n",
      "0  12308000\n",
      "0  12309500\n",
      "0  12321500\n",
      "0  12322000\n",
      "0  12391950\n",
      "0  12392155\n",
      "0  12392300\n",
      "0  12393501\n",
      "0  12395000\n",
      "0  12395500\n",
      "0  12411000\n",
      "0  12413000\n",
      "0  12413125\n",
      "0  12413130\n",
      "0  12413131\n",
      "0  12413210\n",
      "0  12413355\n",
      "0  12413470\n",
      "0  12413500\n",
      "0  12413860\n",
      "0  12413875\n",
      "0  12414500\n",
      "0  12414900\n",
      "0  12415135\n",
      "0  12417650\n",
      "0  12419000\n",
      "0  13032500\n",
      "0  13037500\n",
      "0  13038000\n",
      "0  13038500\n",
      "0  13039500\n",
      "0  13040500\n",
      "0  13042500\n",
      "0  13046000\n",
      "0  13046995\n",
      "0  13047500\n",
      "13047600\n"
     ]
    },
    {
     "name": "stderr",
     "output_type": "stream",
     "text": [
      "/var/folders/_4/klhstfsn73nfrxlfr8_r9dhc0000gn/T/ipykernel_14091/501096422.py:8: FutureWarning: Series.__getitem__ treating keys as positions is deprecated. In a future version, integer keys will always be treated as labels (consistent with DataFrame behavior). To access a value by position, use `ser.iloc[pos]`\n",
      "  st_avil_site = pd.DataFrame(  {'site': [ df_202406['site_no'][0] ]}  )\n"
     ]
    },
    {
     "name": "stdout",
     "output_type": "stream",
     "text": [
      "       site\n",
      "0  00000000\n",
      "0  10039500\n",
      "0  10068500\n",
      "0  10092700\n",
      "0  10125500\n",
      "0  12305000\n",
      "0  12306500\n",
      "0  12308000\n",
      "0  12309500\n",
      "0  12321500\n",
      "0  12322000\n",
      "0  12391950\n",
      "0  12392155\n",
      "0  12392300\n",
      "0  12393501\n",
      "0  12395000\n",
      "0  12395500\n",
      "0  12411000\n",
      "0  12413000\n",
      "0  12413125\n",
      "0  12413130\n",
      "0  12413131\n",
      "0  12413210\n",
      "0  12413355\n",
      "0  12413470\n",
      "0  12413500\n",
      "0  12413860\n",
      "0  12413875\n",
      "0  12414500\n",
      "0  12414900\n",
      "0  12415135\n",
      "0  12417650\n",
      "0  12419000\n",
      "0  13032500\n",
      "0  13037500\n",
      "0  13038000\n",
      "0  13038500\n",
      "0  13039500\n",
      "0  13040500\n",
      "0  13042500\n",
      "0  13046000\n",
      "0  13046995\n",
      "0  13047500\n",
      "0  13047600\n",
      "13049500\n"
     ]
    },
    {
     "name": "stderr",
     "output_type": "stream",
     "text": [
      "/var/folders/_4/klhstfsn73nfrxlfr8_r9dhc0000gn/T/ipykernel_14091/501096422.py:8: FutureWarning: Series.__getitem__ treating keys as positions is deprecated. In a future version, integer keys will always be treated as labels (consistent with DataFrame behavior). To access a value by position, use `ser.iloc[pos]`\n",
      "  st_avil_site = pd.DataFrame(  {'site': [ df_202406['site_no'][0] ]}  )\n"
     ]
    },
    {
     "name": "stdout",
     "output_type": "stream",
     "text": [
      "       site\n",
      "0  00000000\n",
      "0  10039500\n",
      "0  10068500\n",
      "0  10092700\n",
      "0  10125500\n",
      "0  12305000\n",
      "0  12306500\n",
      "0  12308000\n",
      "0  12309500\n",
      "0  12321500\n",
      "0  12322000\n",
      "0  12391950\n",
      "0  12392155\n",
      "0  12392300\n",
      "0  12393501\n",
      "0  12395000\n",
      "0  12395500\n",
      "0  12411000\n",
      "0  12413000\n",
      "0  12413125\n",
      "0  12413130\n",
      "0  12413131\n",
      "0  12413210\n",
      "0  12413355\n",
      "0  12413470\n",
      "0  12413500\n",
      "0  12413860\n",
      "0  12413875\n",
      "0  12414500\n",
      "0  12414900\n",
      "0  12415135\n",
      "0  12417650\n",
      "0  12419000\n",
      "0  13032500\n",
      "0  13037500\n",
      "0  13038000\n",
      "0  13038500\n",
      "0  13039500\n",
      "0  13040500\n",
      "0  13042500\n",
      "0  13046000\n",
      "0  13046995\n",
      "0  13047500\n",
      "0  13047600\n",
      "0  13049500\n",
      "13050500\n"
     ]
    },
    {
     "name": "stderr",
     "output_type": "stream",
     "text": [
      "/var/folders/_4/klhstfsn73nfrxlfr8_r9dhc0000gn/T/ipykernel_14091/501096422.py:8: FutureWarning: Series.__getitem__ treating keys as positions is deprecated. In a future version, integer keys will always be treated as labels (consistent with DataFrame behavior). To access a value by position, use `ser.iloc[pos]`\n",
      "  st_avil_site = pd.DataFrame(  {'site': [ df_202406['site_no'][0] ]}  )\n"
     ]
    },
    {
     "name": "stdout",
     "output_type": "stream",
     "text": [
      "       site\n",
      "0  00000000\n",
      "0  10039500\n",
      "0  10068500\n",
      "0  10092700\n",
      "0  10125500\n",
      "0  12305000\n",
      "0  12306500\n",
      "0  12308000\n",
      "0  12309500\n",
      "0  12321500\n",
      "0  12322000\n",
      "0  12391950\n",
      "0  12392155\n",
      "0  12392300\n",
      "0  12393501\n",
      "0  12395000\n",
      "0  12395500\n",
      "0  12411000\n",
      "0  12413000\n",
      "0  12413125\n",
      "0  12413130\n",
      "0  12413131\n",
      "0  12413210\n",
      "0  12413355\n",
      "0  12413470\n",
      "0  12413500\n",
      "0  12413860\n",
      "0  12413875\n",
      "0  12414500\n",
      "0  12414900\n",
      "0  12415135\n",
      "0  12417650\n",
      "0  12419000\n",
      "0  13032500\n",
      "0  13037500\n",
      "0  13038000\n",
      "0  13038500\n",
      "0  13039500\n",
      "0  13040500\n",
      "0  13042500\n",
      "0  13046000\n",
      "0  13046995\n",
      "0  13047500\n",
      "0  13047600\n",
      "0  13049500\n",
      "0  13050500\n",
      "13050800\n",
      "13052200\n"
     ]
    },
    {
     "name": "stderr",
     "output_type": "stream",
     "text": [
      "/var/folders/_4/klhstfsn73nfrxlfr8_r9dhc0000gn/T/ipykernel_14091/501096422.py:8: FutureWarning: Series.__getitem__ treating keys as positions is deprecated. In a future version, integer keys will always be treated as labels (consistent with DataFrame behavior). To access a value by position, use `ser.iloc[pos]`\n",
      "  st_avil_site = pd.DataFrame(  {'site': [ df_202406['site_no'][0] ]}  )\n"
     ]
    },
    {
     "name": "stdout",
     "output_type": "stream",
     "text": [
      "       site\n",
      "0  00000000\n",
      "0  10039500\n",
      "0  10068500\n",
      "0  10092700\n",
      "0  10125500\n",
      "0  12305000\n",
      "0  12306500\n",
      "0  12308000\n",
      "0  12309500\n",
      "0  12321500\n",
      "0  12322000\n",
      "0  12391950\n",
      "0  12392155\n",
      "0  12392300\n",
      "0  12393501\n",
      "0  12395000\n",
      "0  12395500\n",
      "0  12411000\n",
      "0  12413000\n",
      "0  12413125\n",
      "0  12413130\n",
      "0  12413131\n",
      "0  12413210\n",
      "0  12413355\n",
      "0  12413470\n",
      "0  12413500\n",
      "0  12413860\n",
      "0  12413875\n",
      "0  12414500\n",
      "0  12414900\n",
      "0  12415135\n",
      "0  12417650\n",
      "0  12419000\n",
      "0  13032500\n",
      "0  13037500\n",
      "0  13038000\n",
      "0  13038500\n",
      "0  13039500\n",
      "0  13040500\n",
      "0  13042500\n",
      "0  13046000\n",
      "0  13046995\n",
      "0  13047500\n",
      "0  13047600\n",
      "0  13049500\n",
      "0  13050500\n",
      "0  13052200\n",
      "13054300\n",
      "13055000\n"
     ]
    },
    {
     "name": "stderr",
     "output_type": "stream",
     "text": [
      "/var/folders/_4/klhstfsn73nfrxlfr8_r9dhc0000gn/T/ipykernel_14091/501096422.py:8: FutureWarning: Series.__getitem__ treating keys as positions is deprecated. In a future version, integer keys will always be treated as labels (consistent with DataFrame behavior). To access a value by position, use `ser.iloc[pos]`\n",
      "  st_avil_site = pd.DataFrame(  {'site': [ df_202406['site_no'][0] ]}  )\n"
     ]
    },
    {
     "name": "stdout",
     "output_type": "stream",
     "text": [
      "       site\n",
      "0  00000000\n",
      "0  10039500\n",
      "0  10068500\n",
      "0  10092700\n",
      "0  10125500\n",
      "0  12305000\n",
      "0  12306500\n",
      "0  12308000\n",
      "0  12309500\n",
      "0  12321500\n",
      "0  12322000\n",
      "0  12391950\n",
      "0  12392155\n",
      "0  12392300\n",
      "0  12393501\n",
      "0  12395000\n",
      "0  12395500\n",
      "0  12411000\n",
      "0  12413000\n",
      "0  12413125\n",
      "0  12413130\n",
      "0  12413131\n",
      "0  12413210\n",
      "0  12413355\n",
      "0  12413470\n",
      "0  12413500\n",
      "0  12413860\n",
      "0  12413875\n",
      "0  12414500\n",
      "0  12414900\n",
      "0  12415135\n",
      "0  12417650\n",
      "0  12419000\n",
      "0  13032500\n",
      "0  13037500\n",
      "0  13038000\n",
      "0  13038500\n",
      "0  13039500\n",
      "0  13040500\n",
      "0  13042500\n",
      "0  13046000\n",
      "0  13046995\n",
      "0  13047500\n",
      "0  13047600\n",
      "0  13049500\n",
      "0  13050500\n",
      "0  13052200\n",
      "0  13055000\n",
      "13055198\n",
      "13055319\n",
      "13055340\n"
     ]
    },
    {
     "name": "stderr",
     "output_type": "stream",
     "text": [
      "/var/folders/_4/klhstfsn73nfrxlfr8_r9dhc0000gn/T/ipykernel_14091/501096422.py:8: FutureWarning: Series.__getitem__ treating keys as positions is deprecated. In a future version, integer keys will always be treated as labels (consistent with DataFrame behavior). To access a value by position, use `ser.iloc[pos]`\n",
      "  st_avil_site = pd.DataFrame(  {'site': [ df_202406['site_no'][0] ]}  )\n"
     ]
    },
    {
     "name": "stdout",
     "output_type": "stream",
     "text": [
      "       site\n",
      "0  00000000\n",
      "0  10039500\n",
      "0  10068500\n",
      "0  10092700\n",
      "0  10125500\n",
      "0  12305000\n",
      "0  12306500\n",
      "0  12308000\n",
      "0  12309500\n",
      "0  12321500\n",
      "0  12322000\n",
      "0  12391950\n",
      "0  12392155\n",
      "0  12392300\n",
      "0  12393501\n",
      "0  12395000\n",
      "0  12395500\n",
      "0  12411000\n",
      "0  12413000\n",
      "0  12413125\n",
      "0  12413130\n",
      "0  12413131\n",
      "0  12413210\n",
      "0  12413355\n",
      "0  12413470\n",
      "0  12413500\n",
      "0  12413860\n",
      "0  12413875\n",
      "0  12414500\n",
      "0  12414900\n",
      "0  12415135\n",
      "0  12417650\n",
      "0  12419000\n",
      "0  13032500\n",
      "0  13037500\n",
      "0  13038000\n",
      "0  13038500\n",
      "0  13039500\n",
      "0  13040500\n",
      "0  13042500\n",
      "0  13046000\n",
      "0  13046995\n",
      "0  13047500\n",
      "0  13047600\n",
      "0  13049500\n",
      "0  13050500\n",
      "0  13052200\n",
      "0  13055000\n",
      "0  13055340\n",
      "13056500\n"
     ]
    },
    {
     "name": "stderr",
     "output_type": "stream",
     "text": [
      "/var/folders/_4/klhstfsn73nfrxlfr8_r9dhc0000gn/T/ipykernel_14091/501096422.py:8: FutureWarning: Series.__getitem__ treating keys as positions is deprecated. In a future version, integer keys will always be treated as labels (consistent with DataFrame behavior). To access a value by position, use `ser.iloc[pos]`\n",
      "  st_avil_site = pd.DataFrame(  {'site': [ df_202406['site_no'][0] ]}  )\n"
     ]
    },
    {
     "name": "stdout",
     "output_type": "stream",
     "text": [
      "       site\n",
      "0  00000000\n",
      "0  10039500\n",
      "0  10068500\n",
      "0  10092700\n",
      "0  10125500\n",
      "0  12305000\n",
      "0  12306500\n",
      "0  12308000\n",
      "0  12309500\n",
      "0  12321500\n",
      "0  12322000\n",
      "0  12391950\n",
      "0  12392155\n",
      "0  12392300\n",
      "0  12393501\n",
      "0  12395000\n",
      "0  12395500\n",
      "0  12411000\n",
      "0  12413000\n",
      "0  12413125\n",
      "0  12413130\n",
      "0  12413131\n",
      "0  12413210\n",
      "0  12413355\n",
      "0  12413470\n",
      "0  12413500\n",
      "0  12413860\n",
      "0  12413875\n",
      "0  12414500\n",
      "0  12414900\n",
      "0  12415135\n",
      "0  12417650\n",
      "0  12419000\n",
      "0  13032500\n",
      "0  13037500\n",
      "0  13038000\n",
      "0  13038500\n",
      "0  13039500\n",
      "0  13040500\n",
      "0  13042500\n",
      "0  13046000\n",
      "0  13046995\n",
      "0  13047500\n",
      "0  13047600\n",
      "0  13049500\n",
      "0  13050500\n",
      "0  13052200\n",
      "0  13055000\n",
      "0  13055340\n",
      "0  13056500\n",
      "13056590\n",
      "13056600\n",
      "13057000\n"
     ]
    },
    {
     "name": "stderr",
     "output_type": "stream",
     "text": [
      "/var/folders/_4/klhstfsn73nfrxlfr8_r9dhc0000gn/T/ipykernel_14091/501096422.py:8: FutureWarning: Series.__getitem__ treating keys as positions is deprecated. In a future version, integer keys will always be treated as labels (consistent with DataFrame behavior). To access a value by position, use `ser.iloc[pos]`\n",
      "  st_avil_site = pd.DataFrame(  {'site': [ df_202406['site_no'][0] ]}  )\n"
     ]
    },
    {
     "name": "stdout",
     "output_type": "stream",
     "text": [
      "       site\n",
      "0  00000000\n",
      "0  10039500\n",
      "0  10068500\n",
      "0  10092700\n",
      "0  10125500\n",
      "0  12305000\n",
      "0  12306500\n",
      "0  12308000\n",
      "0  12309500\n",
      "0  12321500\n",
      "0  12322000\n",
      "0  12391950\n",
      "0  12392155\n",
      "0  12392300\n",
      "0  12393501\n",
      "0  12395000\n",
      "0  12395500\n",
      "0  12411000\n",
      "0  12413000\n",
      "0  12413125\n",
      "0  12413130\n",
      "0  12413131\n",
      "0  12413210\n",
      "0  12413355\n",
      "0  12413470\n",
      "0  12413500\n",
      "0  12413860\n",
      "0  12413875\n",
      "0  12414500\n",
      "0  12414900\n",
      "0  12415135\n",
      "0  12417650\n",
      "0  12419000\n",
      "0  13032500\n",
      "0  13037500\n",
      "0  13038000\n",
      "0  13038500\n",
      "0  13039500\n",
      "0  13040500\n",
      "0  13042500\n",
      "0  13046000\n",
      "0  13046995\n",
      "0  13047500\n",
      "0  13047600\n",
      "0  13049500\n",
      "0  13050500\n",
      "0  13052200\n",
      "0  13055000\n",
      "0  13055340\n",
      "0  13056500\n",
      "0  13057000\n",
      "13057090\n",
      "13057100\n",
      "13057132\n"
     ]
    },
    {
     "name": "stderr",
     "output_type": "stream",
     "text": [
      "/var/folders/_4/klhstfsn73nfrxlfr8_r9dhc0000gn/T/ipykernel_14091/501096422.py:8: FutureWarning: Series.__getitem__ treating keys as positions is deprecated. In a future version, integer keys will always be treated as labels (consistent with DataFrame behavior). To access a value by position, use `ser.iloc[pos]`\n",
      "  st_avil_site = pd.DataFrame(  {'site': [ df_202406['site_no'][0] ]}  )\n"
     ]
    },
    {
     "name": "stdout",
     "output_type": "stream",
     "text": [
      "       site\n",
      "0  00000000\n",
      "0  10039500\n",
      "0  10068500\n",
      "0  10092700\n",
      "0  10125500\n",
      "0  12305000\n",
      "0  12306500\n",
      "0  12308000\n",
      "0  12309500\n",
      "0  12321500\n",
      "0  12322000\n",
      "0  12391950\n",
      "0  12392155\n",
      "0  12392300\n",
      "0  12393501\n",
      "0  12395000\n",
      "0  12395500\n",
      "0  12411000\n",
      "0  12413000\n",
      "0  12413125\n",
      "0  12413130\n",
      "0  12413131\n",
      "0  12413210\n",
      "0  12413355\n",
      "0  12413470\n",
      "0  12413500\n",
      "0  12413860\n",
      "0  12413875\n",
      "0  12414500\n",
      "0  12414900\n",
      "0  12415135\n",
      "0  12417650\n",
      "0  12419000\n",
      "0  13032500\n",
      "0  13037500\n",
      "0  13038000\n",
      "0  13038500\n",
      "0  13039500\n",
      "0  13040500\n",
      "0  13042500\n",
      "0  13046000\n",
      "0  13046995\n",
      "0  13047500\n",
      "0  13047600\n",
      "0  13049500\n",
      "0  13050500\n",
      "0  13052200\n",
      "0  13055000\n",
      "0  13055340\n",
      "0  13056500\n",
      "0  13057000\n",
      "0  13057132\n",
      "13057150\n",
      "13057155\n"
     ]
    },
    {
     "name": "stderr",
     "output_type": "stream",
     "text": [
      "/var/folders/_4/klhstfsn73nfrxlfr8_r9dhc0000gn/T/ipykernel_14091/501096422.py:8: FutureWarning: Series.__getitem__ treating keys as positions is deprecated. In a future version, integer keys will always be treated as labels (consistent with DataFrame behavior). To access a value by position, use `ser.iloc[pos]`\n",
      "  st_avil_site = pd.DataFrame(  {'site': [ df_202406['site_no'][0] ]}  )\n"
     ]
    },
    {
     "name": "stdout",
     "output_type": "stream",
     "text": [
      "       site\n",
      "0  00000000\n",
      "0  10039500\n",
      "0  10068500\n",
      "0  10092700\n",
      "0  10125500\n",
      "0  12305000\n",
      "0  12306500\n",
      "0  12308000\n",
      "0  12309500\n",
      "0  12321500\n",
      "0  12322000\n",
      "0  12391950\n",
      "0  12392155\n",
      "0  12392300\n",
      "0  12393501\n",
      "0  12395000\n",
      "0  12395500\n",
      "0  12411000\n",
      "0  12413000\n",
      "0  12413125\n",
      "0  12413130\n",
      "0  12413131\n",
      "0  12413210\n",
      "0  12413355\n",
      "0  12413470\n",
      "0  12413500\n",
      "0  12413860\n",
      "0  12413875\n",
      "0  12414500\n",
      "0  12414900\n",
      "0  12415135\n",
      "0  12417650\n",
      "0  12419000\n",
      "0  13032500\n",
      "0  13037500\n",
      "0  13038000\n",
      "0  13038500\n",
      "0  13039500\n",
      "0  13040500\n",
      "0  13042500\n",
      "0  13046000\n",
      "0  13046995\n",
      "0  13047500\n",
      "0  13047600\n",
      "0  13049500\n",
      "0  13050500\n",
      "0  13052200\n",
      "0  13055000\n",
      "0  13055340\n",
      "0  13056500\n",
      "0  13057000\n",
      "0  13057132\n",
      "0  13057155\n",
      "13057160\n",
      "13057940\n"
     ]
    },
    {
     "name": "stderr",
     "output_type": "stream",
     "text": [
      "/var/folders/_4/klhstfsn73nfrxlfr8_r9dhc0000gn/T/ipykernel_14091/501096422.py:8: FutureWarning: Series.__getitem__ treating keys as positions is deprecated. In a future version, integer keys will always be treated as labels (consistent with DataFrame behavior). To access a value by position, use `ser.iloc[pos]`\n",
      "  st_avil_site = pd.DataFrame(  {'site': [ df_202406['site_no'][0] ]}  )\n"
     ]
    },
    {
     "name": "stdout",
     "output_type": "stream",
     "text": [
      "       site\n",
      "0  00000000\n",
      "0  10039500\n",
      "0  10068500\n",
      "0  10092700\n",
      "0  10125500\n",
      "0  12305000\n",
      "0  12306500\n",
      "0  12308000\n",
      "0  12309500\n",
      "0  12321500\n",
      "0  12322000\n",
      "0  12391950\n",
      "0  12392155\n",
      "0  12392300\n",
      "0  12393501\n",
      "0  12395000\n",
      "0  12395500\n",
      "0  12411000\n",
      "0  12413000\n",
      "0  12413125\n",
      "0  12413130\n",
      "0  12413131\n",
      "0  12413210\n",
      "0  12413355\n",
      "0  12413470\n",
      "0  12413500\n",
      "0  12413860\n",
      "0  12413875\n",
      "0  12414500\n",
      "0  12414900\n",
      "0  12415135\n",
      "0  12417650\n",
      "0  12419000\n",
      "0  13032500\n",
      "0  13037500\n",
      "0  13038000\n",
      "0  13038500\n",
      "0  13039500\n",
      "0  13040500\n",
      "0  13042500\n",
      "0  13046000\n",
      "0  13046995\n",
      "0  13047500\n",
      "0  13047600\n",
      "0  13049500\n",
      "0  13050500\n",
      "0  13052200\n",
      "0  13055000\n",
      "0  13055340\n",
      "0  13056500\n",
      "0  13057000\n",
      "0  13057132\n",
      "0  13057155\n",
      "0  13057940\n",
      "13058000\n"
     ]
    },
    {
     "name": "stderr",
     "output_type": "stream",
     "text": [
      "/var/folders/_4/klhstfsn73nfrxlfr8_r9dhc0000gn/T/ipykernel_14091/501096422.py:8: FutureWarning: Series.__getitem__ treating keys as positions is deprecated. In a future version, integer keys will always be treated as labels (consistent with DataFrame behavior). To access a value by position, use `ser.iloc[pos]`\n",
      "  st_avil_site = pd.DataFrame(  {'site': [ df_202406['site_no'][0] ]}  )\n"
     ]
    },
    {
     "name": "stdout",
     "output_type": "stream",
     "text": [
      "       site\n",
      "0  00000000\n",
      "0  10039500\n",
      "0  10068500\n",
      "0  10092700\n",
      "0  10125500\n",
      "0  12305000\n",
      "0  12306500\n",
      "0  12308000\n",
      "0  12309500\n",
      "0  12321500\n",
      "0  12322000\n",
      "0  12391950\n",
      "0  12392155\n",
      "0  12392300\n",
      "0  12393501\n",
      "0  12395000\n",
      "0  12395500\n",
      "0  12411000\n",
      "0  12413000\n",
      "0  12413125\n",
      "0  12413130\n",
      "0  12413131\n",
      "0  12413210\n",
      "0  12413355\n",
      "0  12413470\n",
      "0  12413500\n",
      "0  12413860\n",
      "0  12413875\n",
      "0  12414500\n",
      "0  12414900\n",
      "0  12415135\n",
      "0  12417650\n",
      "0  12419000\n",
      "0  13032500\n",
      "0  13037500\n",
      "0  13038000\n",
      "0  13038500\n",
      "0  13039500\n",
      "0  13040500\n",
      "0  13042500\n",
      "0  13046000\n",
      "0  13046995\n",
      "0  13047500\n",
      "0  13047600\n",
      "0  13049500\n",
      "0  13050500\n",
      "0  13052200\n",
      "0  13055000\n",
      "0  13055340\n",
      "0  13056500\n",
      "0  13057000\n",
      "0  13057132\n",
      "0  13057155\n",
      "0  13057940\n",
      "0  13058000\n",
      "13058500\n",
      "13058510\n"
     ]
    },
    {
     "name": "stderr",
     "output_type": "stream",
     "text": [
      "/var/folders/_4/klhstfsn73nfrxlfr8_r9dhc0000gn/T/ipykernel_14091/501096422.py:8: FutureWarning: Series.__getitem__ treating keys as positions is deprecated. In a future version, integer keys will always be treated as labels (consistent with DataFrame behavior). To access a value by position, use `ser.iloc[pos]`\n",
      "  st_avil_site = pd.DataFrame(  {'site': [ df_202406['site_no'][0] ]}  )\n"
     ]
    },
    {
     "name": "stdout",
     "output_type": "stream",
     "text": [
      "       site\n",
      "0  00000000\n",
      "0  10039500\n",
      "0  10068500\n",
      "0  10092700\n",
      "0  10125500\n",
      "0  12305000\n",
      "0  12306500\n",
      "0  12308000\n",
      "0  12309500\n",
      "0  12321500\n",
      "0  12322000\n",
      "0  12391950\n",
      "0  12392155\n",
      "0  12392300\n",
      "0  12393501\n",
      "0  12395000\n",
      "0  12395500\n",
      "0  12411000\n",
      "0  12413000\n",
      "0  12413125\n",
      "0  12413130\n",
      "0  12413131\n",
      "0  12413210\n",
      "0  12413355\n",
      "0  12413470\n",
      "0  12413500\n",
      "0  12413860\n",
      "0  12413875\n",
      "0  12414500\n",
      "0  12414900\n",
      "0  12415135\n",
      "0  12417650\n",
      "0  12419000\n",
      "0  13032500\n",
      "0  13037500\n",
      "0  13038000\n",
      "0  13038500\n",
      "0  13039500\n",
      "0  13040500\n",
      "0  13042500\n",
      "0  13046000\n",
      "0  13046995\n",
      "0  13047500\n",
      "0  13047600\n",
      "0  13049500\n",
      "0  13050500\n",
      "0  13052200\n",
      "0  13055000\n",
      "0  13055340\n",
      "0  13056500\n",
      "0  13057000\n",
      "0  13057132\n",
      "0  13057155\n",
      "0  13057940\n",
      "0  13058000\n",
      "0  13058510\n",
      "13058520\n"
     ]
    },
    {
     "name": "stderr",
     "output_type": "stream",
     "text": [
      "/var/folders/_4/klhstfsn73nfrxlfr8_r9dhc0000gn/T/ipykernel_14091/501096422.py:8: FutureWarning: Series.__getitem__ treating keys as positions is deprecated. In a future version, integer keys will always be treated as labels (consistent with DataFrame behavior). To access a value by position, use `ser.iloc[pos]`\n",
      "  st_avil_site = pd.DataFrame(  {'site': [ df_202406['site_no'][0] ]}  )\n"
     ]
    },
    {
     "name": "stdout",
     "output_type": "stream",
     "text": [
      "       site\n",
      "0  00000000\n",
      "0  10039500\n",
      "0  10068500\n",
      "0  10092700\n",
      "0  10125500\n",
      "0  12305000\n",
      "0  12306500\n",
      "0  12308000\n",
      "0  12309500\n",
      "0  12321500\n",
      "0  12322000\n",
      "0  12391950\n",
      "0  12392155\n",
      "0  12392300\n",
      "0  12393501\n",
      "0  12395000\n",
      "0  12395500\n",
      "0  12411000\n",
      "0  12413000\n",
      "0  12413125\n",
      "0  12413130\n",
      "0  12413131\n",
      "0  12413210\n",
      "0  12413355\n",
      "0  12413470\n",
      "0  12413500\n",
      "0  12413860\n",
      "0  12413875\n",
      "0  12414500\n",
      "0  12414900\n",
      "0  12415135\n",
      "0  12417650\n",
      "0  12419000\n",
      "0  13032500\n",
      "0  13037500\n",
      "0  13038000\n",
      "0  13038500\n",
      "0  13039500\n",
      "0  13040500\n",
      "0  13042500\n",
      "0  13046000\n",
      "0  13046995\n",
      "0  13047500\n",
      "0  13047600\n",
      "0  13049500\n",
      "0  13050500\n",
      "0  13052200\n",
      "0  13055000\n",
      "0  13055340\n",
      "0  13056500\n",
      "0  13057000\n",
      "0  13057132\n",
      "0  13057155\n",
      "0  13057940\n",
      "0  13058000\n",
      "0  13058510\n",
      "0  13058520\n",
      "13058529\n"
     ]
    },
    {
     "name": "stderr",
     "output_type": "stream",
     "text": [
      "/var/folders/_4/klhstfsn73nfrxlfr8_r9dhc0000gn/T/ipykernel_14091/501096422.py:8: FutureWarning: Series.__getitem__ treating keys as positions is deprecated. In a future version, integer keys will always be treated as labels (consistent with DataFrame behavior). To access a value by position, use `ser.iloc[pos]`\n",
      "  st_avil_site = pd.DataFrame(  {'site': [ df_202406['site_no'][0] ]}  )\n"
     ]
    },
    {
     "name": "stdout",
     "output_type": "stream",
     "text": [
      "       site\n",
      "0  00000000\n",
      "0  10039500\n",
      "0  10068500\n",
      "0  10092700\n",
      "0  10125500\n",
      "0  12305000\n",
      "0  12306500\n",
      "0  12308000\n",
      "0  12309500\n",
      "0  12321500\n",
      "0  12322000\n",
      "0  12391950\n",
      "0  12392155\n",
      "0  12392300\n",
      "0  12393501\n",
      "0  12395000\n",
      "0  12395500\n",
      "0  12411000\n",
      "0  12413000\n",
      "0  12413125\n",
      "0  12413130\n",
      "0  12413131\n",
      "0  12413210\n",
      "0  12413355\n",
      "0  12413470\n",
      "0  12413500\n",
      "0  12413860\n",
      "0  12413875\n",
      "0  12414500\n",
      "0  12414900\n",
      "0  12415135\n",
      "0  12417650\n",
      "0  12419000\n",
      "0  13032500\n",
      "0  13037500\n",
      "0  13038000\n",
      "0  13038500\n",
      "0  13039500\n",
      "0  13040500\n",
      "0  13042500\n",
      "0  13046000\n",
      "0  13046995\n",
      "0  13047500\n",
      "0  13047600\n",
      "0  13049500\n",
      "0  13050500\n",
      "0  13052200\n",
      "0  13055000\n",
      "0  13055340\n",
      "0  13056500\n",
      "0  13057000\n",
      "0  13057132\n",
      "0  13057155\n",
      "0  13057940\n",
      "0  13058000\n",
      "0  13058510\n",
      "0  13058520\n",
      "0  13058529\n",
      "13058530\n"
     ]
    },
    {
     "name": "stderr",
     "output_type": "stream",
     "text": [
      "/var/folders/_4/klhstfsn73nfrxlfr8_r9dhc0000gn/T/ipykernel_14091/501096422.py:8: FutureWarning: Series.__getitem__ treating keys as positions is deprecated. In a future version, integer keys will always be treated as labels (consistent with DataFrame behavior). To access a value by position, use `ser.iloc[pos]`\n",
      "  st_avil_site = pd.DataFrame(  {'site': [ df_202406['site_no'][0] ]}  )\n"
     ]
    },
    {
     "name": "stdout",
     "output_type": "stream",
     "text": [
      "       site\n",
      "0  00000000\n",
      "0  10039500\n",
      "0  10068500\n",
      "0  10092700\n",
      "0  10125500\n",
      "0  12305000\n",
      "0  12306500\n",
      "0  12308000\n",
      "0  12309500\n",
      "0  12321500\n",
      "0  12322000\n",
      "0  12391950\n",
      "0  12392155\n",
      "0  12392300\n",
      "0  12393501\n",
      "0  12395000\n",
      "0  12395500\n",
      "0  12411000\n",
      "0  12413000\n",
      "0  12413125\n",
      "0  12413130\n",
      "0  12413131\n",
      "0  12413210\n",
      "0  12413355\n",
      "0  12413470\n",
      "0  12413500\n",
      "0  12413860\n",
      "0  12413875\n",
      "0  12414500\n",
      "0  12414900\n",
      "0  12415135\n",
      "0  12417650\n",
      "0  12419000\n",
      "0  13032500\n",
      "0  13037500\n",
      "0  13038000\n",
      "0  13038500\n",
      "0  13039500\n",
      "0  13040500\n",
      "0  13042500\n",
      "0  13046000\n",
      "0  13046995\n",
      "0  13047500\n",
      "0  13047600\n",
      "0  13049500\n",
      "0  13050500\n",
      "0  13052200\n",
      "0  13055000\n",
      "0  13055340\n",
      "0  13056500\n",
      "0  13057000\n",
      "0  13057132\n",
      "0  13057155\n",
      "0  13057940\n",
      "0  13058000\n",
      "0  13058510\n",
      "0  13058520\n",
      "0  13058529\n",
      "0  13058530\n",
      "13059000\n",
      "13060000\n"
     ]
    },
    {
     "name": "stderr",
     "output_type": "stream",
     "text": [
      "/var/folders/_4/klhstfsn73nfrxlfr8_r9dhc0000gn/T/ipykernel_14091/501096422.py:8: FutureWarning: Series.__getitem__ treating keys as positions is deprecated. In a future version, integer keys will always be treated as labels (consistent with DataFrame behavior). To access a value by position, use `ser.iloc[pos]`\n",
      "  st_avil_site = pd.DataFrame(  {'site': [ df_202406['site_no'][0] ]}  )\n"
     ]
    },
    {
     "name": "stdout",
     "output_type": "stream",
     "text": [
      "       site\n",
      "0  00000000\n",
      "0  10039500\n",
      "0  10068500\n",
      "0  10092700\n",
      "0  10125500\n",
      "0  12305000\n",
      "0  12306500\n",
      "0  12308000\n",
      "0  12309500\n",
      "0  12321500\n",
      "0  12322000\n",
      "0  12391950\n",
      "0  12392155\n",
      "0  12392300\n",
      "0  12393501\n",
      "0  12395000\n",
      "0  12395500\n",
      "0  12411000\n",
      "0  12413000\n",
      "0  12413125\n",
      "0  12413130\n",
      "0  12413131\n",
      "0  12413210\n",
      "0  12413355\n",
      "0  12413470\n",
      "0  12413500\n",
      "0  12413860\n",
      "0  12413875\n",
      "0  12414500\n",
      "0  12414900\n",
      "0  12415135\n",
      "0  12417650\n",
      "0  12419000\n",
      "0  13032500\n",
      "0  13037500\n",
      "0  13038000\n",
      "0  13038500\n",
      "0  13039500\n",
      "0  13040500\n",
      "0  13042500\n",
      "0  13046000\n",
      "0  13046995\n",
      "0  13047500\n",
      "0  13047600\n",
      "0  13049500\n",
      "0  13050500\n",
      "0  13052200\n",
      "0  13055000\n",
      "0  13055340\n",
      "0  13056500\n",
      "0  13057000\n",
      "0  13057132\n",
      "0  13057155\n",
      "0  13057940\n",
      "0  13058000\n",
      "0  13058510\n",
      "0  13058520\n",
      "0  13058529\n",
      "0  13058530\n",
      "0  13060000\n",
      "13062500\n"
     ]
    },
    {
     "name": "stderr",
     "output_type": "stream",
     "text": [
      "/var/folders/_4/klhstfsn73nfrxlfr8_r9dhc0000gn/T/ipykernel_14091/501096422.py:8: FutureWarning: Series.__getitem__ treating keys as positions is deprecated. In a future version, integer keys will always be treated as labels (consistent with DataFrame behavior). To access a value by position, use `ser.iloc[pos]`\n",
      "  st_avil_site = pd.DataFrame(  {'site': [ df_202406['site_no'][0] ]}  )\n"
     ]
    },
    {
     "name": "stdout",
     "output_type": "stream",
     "text": [
      "        site\n",
      "0   00000000\n",
      "0   10039500\n",
      "0   10068500\n",
      "0   10092700\n",
      "0   10125500\n",
      "..       ...\n",
      "0   13058520\n",
      "0   13058529\n",
      "0   13058530\n",
      "0   13060000\n",
      "0   13062500\n",
      "\n",
      "[61 rows x 1 columns]\n",
      "13062690\n",
      "130626914\n",
      "13062692\n",
      "130626924\n",
      "13062693\n",
      "13062695\n",
      "13062698\n",
      "13062700\n",
      "13062857\n",
      "13063000\n"
     ]
    },
    {
     "name": "stderr",
     "output_type": "stream",
     "text": [
      "/var/folders/_4/klhstfsn73nfrxlfr8_r9dhc0000gn/T/ipykernel_14091/501096422.py:8: FutureWarning: Series.__getitem__ treating keys as positions is deprecated. In a future version, integer keys will always be treated as labels (consistent with DataFrame behavior). To access a value by position, use `ser.iloc[pos]`\n",
      "  st_avil_site = pd.DataFrame(  {'site': [ df_202406['site_no'][0] ]}  )\n"
     ]
    },
    {
     "name": "stdout",
     "output_type": "stream",
     "text": [
      "        site\n",
      "0   00000000\n",
      "0   10039500\n",
      "0   10068500\n",
      "0   10092700\n",
      "0   10125500\n",
      "..       ...\n",
      "0   13058529\n",
      "0   13058530\n",
      "0   13060000\n",
      "0   13062500\n",
      "0   13063000\n",
      "\n",
      "[62 rows x 1 columns]\n",
      "13063500\n",
      "13065940\n",
      "13065950\n",
      "13066000\n"
     ]
    },
    {
     "name": "stderr",
     "output_type": "stream",
     "text": [
      "/var/folders/_4/klhstfsn73nfrxlfr8_r9dhc0000gn/T/ipykernel_14091/501096422.py:8: FutureWarning: Series.__getitem__ treating keys as positions is deprecated. In a future version, integer keys will always be treated as labels (consistent with DataFrame behavior). To access a value by position, use `ser.iloc[pos]`\n",
      "  st_avil_site = pd.DataFrame(  {'site': [ df_202406['site_no'][0] ]}  )\n"
     ]
    },
    {
     "name": "stdout",
     "output_type": "stream",
     "text": [
      "        site\n",
      "0   00000000\n",
      "0   10039500\n",
      "0   10068500\n",
      "0   10092700\n",
      "0   10125500\n",
      "..       ...\n",
      "0   13058530\n",
      "0   13060000\n",
      "0   13062500\n",
      "0   13063000\n",
      "0   13066000\n",
      "\n",
      "[63 rows x 1 columns]\n",
      "13068495\n"
     ]
    },
    {
     "name": "stderr",
     "output_type": "stream",
     "text": [
      "/var/folders/_4/klhstfsn73nfrxlfr8_r9dhc0000gn/T/ipykernel_14091/501096422.py:8: FutureWarning: Series.__getitem__ treating keys as positions is deprecated. In a future version, integer keys will always be treated as labels (consistent with DataFrame behavior). To access a value by position, use `ser.iloc[pos]`\n",
      "  st_avil_site = pd.DataFrame(  {'site': [ df_202406['site_no'][0] ]}  )\n"
     ]
    },
    {
     "name": "stdout",
     "output_type": "stream",
     "text": [
      "        site\n",
      "0   00000000\n",
      "0   10039500\n",
      "0   10068500\n",
      "0   10092700\n",
      "0   10125500\n",
      "..       ...\n",
      "0   13060000\n",
      "0   13062500\n",
      "0   13063000\n",
      "0   13066000\n",
      "0   13068495\n",
      "\n",
      "[64 rows x 1 columns]\n",
      "13068500\n"
     ]
    },
    {
     "name": "stderr",
     "output_type": "stream",
     "text": [
      "/var/folders/_4/klhstfsn73nfrxlfr8_r9dhc0000gn/T/ipykernel_14091/501096422.py:8: FutureWarning: Series.__getitem__ treating keys as positions is deprecated. In a future version, integer keys will always be treated as labels (consistent with DataFrame behavior). To access a value by position, use `ser.iloc[pos]`\n",
      "  st_avil_site = pd.DataFrame(  {'site': [ df_202406['site_no'][0] ]}  )\n"
     ]
    },
    {
     "name": "stdout",
     "output_type": "stream",
     "text": [
      "        site\n",
      "0   00000000\n",
      "0   10039500\n",
      "0   10068500\n",
      "0   10092700\n",
      "0   10125500\n",
      "..       ...\n",
      "0   13062500\n",
      "0   13063000\n",
      "0   13066000\n",
      "0   13068495\n",
      "0   13068500\n",
      "\n",
      "[65 rows x 1 columns]\n",
      "13069500\n"
     ]
    },
    {
     "name": "stderr",
     "output_type": "stream",
     "text": [
      "/var/folders/_4/klhstfsn73nfrxlfr8_r9dhc0000gn/T/ipykernel_14091/501096422.py:8: FutureWarning: Series.__getitem__ treating keys as positions is deprecated. In a future version, integer keys will always be treated as labels (consistent with DataFrame behavior). To access a value by position, use `ser.iloc[pos]`\n",
      "  st_avil_site = pd.DataFrame(  {'site': [ df_202406['site_no'][0] ]}  )\n"
     ]
    },
    {
     "name": "stdout",
     "output_type": "stream",
     "text": [
      "        site\n",
      "0   00000000\n",
      "0   10039500\n",
      "0   10068500\n",
      "0   10092700\n",
      "0   10125500\n",
      "..       ...\n",
      "0   13063000\n",
      "0   13066000\n",
      "0   13068495\n",
      "0   13068500\n",
      "0   13069500\n",
      "\n",
      "[66 rows x 1 columns]\n",
      "13069515\n",
      "13069532\n",
      "13069540\n",
      "13069548\n",
      "13069552\n",
      "13069565\n",
      "13070500\n",
      "13072000\n",
      "13072400\n",
      "13072890\n",
      "13073000\n"
     ]
    },
    {
     "name": "stderr",
     "output_type": "stream",
     "text": [
      "/var/folders/_4/klhstfsn73nfrxlfr8_r9dhc0000gn/T/ipykernel_14091/501096422.py:8: FutureWarning: Series.__getitem__ treating keys as positions is deprecated. In a future version, integer keys will always be treated as labels (consistent with DataFrame behavior). To access a value by position, use `ser.iloc[pos]`\n",
      "  st_avil_site = pd.DataFrame(  {'site': [ df_202406['site_no'][0] ]}  )\n"
     ]
    },
    {
     "name": "stdout",
     "output_type": "stream",
     "text": [
      "        site\n",
      "0   00000000\n",
      "0   10039500\n",
      "0   10068500\n",
      "0   10092700\n",
      "0   10125500\n",
      "..       ...\n",
      "0   13066000\n",
      "0   13068495\n",
      "0   13068500\n",
      "0   13069500\n",
      "0   13073000\n",
      "\n",
      "[67 rows x 1 columns]\n",
      "13073700\n",
      "13073730\n",
      "13073735\n",
      "13073743\n",
      "13073745\n",
      "13073746\n",
      "13073748\n",
      "13073750\n",
      "13073900\n",
      "13073950\n",
      "13074400\n"
     ]
    },
    {
     "name": "stderr",
     "output_type": "stream",
     "text": [
      "/var/folders/_4/klhstfsn73nfrxlfr8_r9dhc0000gn/T/ipykernel_14091/501096422.py:8: FutureWarning: Series.__getitem__ treating keys as positions is deprecated. In a future version, integer keys will always be treated as labels (consistent with DataFrame behavior). To access a value by position, use `ser.iloc[pos]`\n",
      "  st_avil_site = pd.DataFrame(  {'site': [ df_202406['site_no'][0] ]}  )\n"
     ]
    },
    {
     "name": "stdout",
     "output_type": "stream",
     "text": [
      "        site\n",
      "0   00000000\n",
      "0   10039500\n",
      "0   10068500\n",
      "0   10092700\n",
      "0   10125500\n",
      "..       ...\n",
      "0   13068495\n",
      "0   13068500\n",
      "0   13069500\n",
      "0   13073000\n",
      "0   13074400\n",
      "\n",
      "[68 rows x 1 columns]\n",
      "13074770\n",
      "13074779\n",
      "13074810\n",
      "13074814\n",
      "13074820\n",
      "13074900\n",
      "13074950\n",
      "13074982\n",
      "13074995\n",
      "13075000\n"
     ]
    },
    {
     "name": "stderr",
     "output_type": "stream",
     "text": [
      "/var/folders/_4/klhstfsn73nfrxlfr8_r9dhc0000gn/T/ipykernel_14091/501096422.py:8: FutureWarning: Series.__getitem__ treating keys as positions is deprecated. In a future version, integer keys will always be treated as labels (consistent with DataFrame behavior). To access a value by position, use `ser.iloc[pos]`\n",
      "  st_avil_site = pd.DataFrame(  {'site': [ df_202406['site_no'][0] ]}  )\n"
     ]
    },
    {
     "name": "stdout",
     "output_type": "stream",
     "text": [
      "        site\n",
      "0   00000000\n",
      "0   10039500\n",
      "0   10068500\n",
      "0   10092700\n",
      "0   10125500\n",
      "..       ...\n",
      "0   13068500\n",
      "0   13069500\n",
      "0   13073000\n",
      "0   13074400\n",
      "0   13075000\n",
      "\n",
      "[69 rows x 1 columns]\n",
      "13075003\n",
      "13075007\n",
      "13075008\n",
      "13075009\n",
      "13075020\n",
      "13075035\n",
      "13075050\n",
      "13075090\n",
      "13075100\n",
      "13075300\n",
      "13075320\n",
      "13075500\n"
     ]
    },
    {
     "name": "stderr",
     "output_type": "stream",
     "text": [
      "/var/folders/_4/klhstfsn73nfrxlfr8_r9dhc0000gn/T/ipykernel_14091/501096422.py:8: FutureWarning: Series.__getitem__ treating keys as positions is deprecated. In a future version, integer keys will always be treated as labels (consistent with DataFrame behavior). To access a value by position, use `ser.iloc[pos]`\n",
      "  st_avil_site = pd.DataFrame(  {'site': [ df_202406['site_no'][0] ]}  )\n"
     ]
    },
    {
     "name": "stdout",
     "output_type": "stream",
     "text": [
      "        site\n",
      "0   00000000\n",
      "0   10039500\n",
      "0   10068500\n",
      "0   10092700\n",
      "0   10125500\n",
      "..       ...\n",
      "0   13069500\n",
      "0   13073000\n",
      "0   13074400\n",
      "0   13075000\n",
      "0   13075500\n",
      "\n",
      "[70 rows x 1 columns]\n",
      "13075600\n",
      "13075700\n",
      "13075909\n",
      "13075910\n"
     ]
    },
    {
     "name": "stderr",
     "output_type": "stream",
     "text": [
      "/var/folders/_4/klhstfsn73nfrxlfr8_r9dhc0000gn/T/ipykernel_14091/501096422.py:8: FutureWarning: Series.__getitem__ treating keys as positions is deprecated. In a future version, integer keys will always be treated as labels (consistent with DataFrame behavior). To access a value by position, use `ser.iloc[pos]`\n",
      "  st_avil_site = pd.DataFrame(  {'site': [ df_202406['site_no'][0] ]}  )\n"
     ]
    },
    {
     "name": "stdout",
     "output_type": "stream",
     "text": [
      "        site\n",
      "0   00000000\n",
      "0   10039500\n",
      "0   10068500\n",
      "0   10092700\n",
      "0   10125500\n",
      "..       ...\n",
      "0   13073000\n",
      "0   13074400\n",
      "0   13075000\n",
      "0   13075500\n",
      "0   13075910\n",
      "\n",
      "[71 rows x 1 columns]\n",
      "13075920\n",
      "13075958\n",
      "13075970\n",
      "13075980\n",
      "13075981\n",
      "13075983\n"
     ]
    },
    {
     "name": "stderr",
     "output_type": "stream",
     "text": [
      "/var/folders/_4/klhstfsn73nfrxlfr8_r9dhc0000gn/T/ipykernel_14091/501096422.py:8: FutureWarning: Series.__getitem__ treating keys as positions is deprecated. In a future version, integer keys will always be treated as labels (consistent with DataFrame behavior). To access a value by position, use `ser.iloc[pos]`\n",
      "  st_avil_site = pd.DataFrame(  {'site': [ df_202406['site_no'][0] ]}  )\n"
     ]
    },
    {
     "name": "stdout",
     "output_type": "stream",
     "text": [
      "        site\n",
      "0   00000000\n",
      "0   10039500\n",
      "0   10068500\n",
      "0   10092700\n",
      "0   10125500\n",
      "..       ...\n",
      "0   13074400\n",
      "0   13075000\n",
      "0   13075500\n",
      "0   13075910\n",
      "0   13075983\n",
      "\n",
      "[72 rows x 1 columns]\n",
      "13075985\n",
      "1307599660\n",
      "1307599910\n",
      "13076000\n",
      "13076100\n",
      "13076110\n",
      "13076125\n",
      "13076200\n",
      "13076210\n",
      "13076300\n",
      "13076500\n",
      "13076600\n",
      "13077000\n"
     ]
    },
    {
     "name": "stderr",
     "output_type": "stream",
     "text": [
      "/var/folders/_4/klhstfsn73nfrxlfr8_r9dhc0000gn/T/ipykernel_14091/501096422.py:8: FutureWarning: Series.__getitem__ treating keys as positions is deprecated. In a future version, integer keys will always be treated as labels (consistent with DataFrame behavior). To access a value by position, use `ser.iloc[pos]`\n",
      "  st_avil_site = pd.DataFrame(  {'site': [ df_202406['site_no'][0] ]}  )\n"
     ]
    },
    {
     "name": "stdout",
     "output_type": "stream",
     "text": [
      "        site\n",
      "0   00000000\n",
      "0   10039500\n",
      "0   10068500\n",
      "0   10092700\n",
      "0   10125500\n",
      "..       ...\n",
      "0   13075000\n",
      "0   13075500\n",
      "0   13075910\n",
      "0   13075983\n",
      "0   13077000\n",
      "\n",
      "[73 rows x 1 columns]\n",
      "13077088\n",
      "13077090\n",
      "13077100\n",
      "13077200\n",
      "13077340\n",
      "13077343\n",
      "13077370\n",
      "13077390\n",
      "13077400\n",
      "13077480\n",
      "13077490\n",
      "13077520\n",
      "13077540\n",
      "13077600\n",
      "13077620\n",
      "13077632\n",
      "13077638\n",
      "13077646\n",
      "13077650\n",
      "13077666\n",
      "13077670\n",
      "130776710\n",
      "13077675\n",
      "13077680\n",
      "13078000\n"
     ]
    },
    {
     "name": "stderr",
     "output_type": "stream",
     "text": [
      "/var/folders/_4/klhstfsn73nfrxlfr8_r9dhc0000gn/T/ipykernel_14091/501096422.py:8: FutureWarning: Series.__getitem__ treating keys as positions is deprecated. In a future version, integer keys will always be treated as labels (consistent with DataFrame behavior). To access a value by position, use `ser.iloc[pos]`\n",
      "  st_avil_site = pd.DataFrame(  {'site': [ df_202406['site_no'][0] ]}  )\n"
     ]
    },
    {
     "name": "stdout",
     "output_type": "stream",
     "text": [
      "        site\n",
      "0   00000000\n",
      "0   10039500\n",
      "0   10068500\n",
      "0   10092700\n",
      "0   10125500\n",
      "..       ...\n",
      "0   13075500\n",
      "0   13075910\n",
      "0   13075983\n",
      "0   13077000\n",
      "0   13078000\n",
      "\n",
      "[74 rows x 1 columns]\n",
      "13078200\n",
      "13078205\n",
      "13078500\n",
      "13079050\n",
      "13079054\n",
      "13079055\n",
      "13079058\n",
      "13079100\n",
      "13079105\n",
      "13079120\n",
      "13079140\n",
      "13079150\n",
      "13079200\n",
      "13079500\n",
      "13079550\n",
      "13079660\n",
      "13079900\n",
      "13079901\n",
      "13081500\n"
     ]
    },
    {
     "name": "stderr",
     "output_type": "stream",
     "text": [
      "/var/folders/_4/klhstfsn73nfrxlfr8_r9dhc0000gn/T/ipykernel_14091/501096422.py:8: FutureWarning: Series.__getitem__ treating keys as positions is deprecated. In a future version, integer keys will always be treated as labels (consistent with DataFrame behavior). To access a value by position, use `ser.iloc[pos]`\n",
      "  st_avil_site = pd.DataFrame(  {'site': [ df_202406['site_no'][0] ]}  )\n"
     ]
    },
    {
     "name": "stdout",
     "output_type": "stream",
     "text": [
      "        site\n",
      "0   00000000\n",
      "0   10039500\n",
      "0   10068500\n",
      "0   10092700\n",
      "0   10125500\n",
      "..       ...\n",
      "0   13075910\n",
      "0   13075983\n",
      "0   13077000\n",
      "0   13078000\n",
      "0   13081500\n",
      "\n",
      "[75 rows x 1 columns]\n",
      "13082000\n",
      "13082030\n",
      "13082035\n",
      "13082300\n",
      "13082320\n",
      "13082500\n"
     ]
    },
    {
     "name": "stderr",
     "output_type": "stream",
     "text": [
      "/var/folders/_4/klhstfsn73nfrxlfr8_r9dhc0000gn/T/ipykernel_14091/501096422.py:8: FutureWarning: Series.__getitem__ treating keys as positions is deprecated. In a future version, integer keys will always be treated as labels (consistent with DataFrame behavior). To access a value by position, use `ser.iloc[pos]`\n",
      "  st_avil_site = pd.DataFrame(  {'site': [ df_202406['site_no'][0] ]}  )\n"
     ]
    },
    {
     "name": "stdout",
     "output_type": "stream",
     "text": [
      "        site\n",
      "0   00000000\n",
      "0   10039500\n",
      "0   10068500\n",
      "0   10092700\n",
      "0   10125500\n",
      "..       ...\n",
      "0   13075983\n",
      "0   13077000\n",
      "0   13078000\n",
      "0   13081500\n",
      "0   13082500\n",
      "\n",
      "[76 rows x 1 columns]\n",
      "13083000\n"
     ]
    },
    {
     "name": "stderr",
     "output_type": "stream",
     "text": [
      "/var/folders/_4/klhstfsn73nfrxlfr8_r9dhc0000gn/T/ipykernel_14091/501096422.py:8: FutureWarning: Series.__getitem__ treating keys as positions is deprecated. In a future version, integer keys will always be treated as labels (consistent with DataFrame behavior). To access a value by position, use `ser.iloc[pos]`\n",
      "  st_avil_site = pd.DataFrame(  {'site': [ df_202406['site_no'][0] ]}  )\n"
     ]
    },
    {
     "name": "stdout",
     "output_type": "stream",
     "text": [
      "        site\n",
      "0   00000000\n",
      "0   10039500\n",
      "0   10068500\n",
      "0   10092700\n",
      "0   10125500\n",
      "..       ...\n",
      "0   13077000\n",
      "0   13078000\n",
      "0   13081500\n",
      "0   13082500\n",
      "0   13083000\n",
      "\n",
      "[77 rows x 1 columns]\n",
      "13084000\n",
      "13084400\n",
      "13084590\n",
      "13084630\n",
      "13084650\n",
      "13084700\n",
      "13084850\n",
      "13084990\n",
      "13085000\n",
      "13085300\n",
      "13085790\n",
      "13085990\n",
      "13087995\n"
     ]
    },
    {
     "name": "stderr",
     "output_type": "stream",
     "text": [
      "/var/folders/_4/klhstfsn73nfrxlfr8_r9dhc0000gn/T/ipykernel_14091/501096422.py:8: FutureWarning: Series.__getitem__ treating keys as positions is deprecated. In a future version, integer keys will always be treated as labels (consistent with DataFrame behavior). To access a value by position, use `ser.iloc[pos]`\n",
      "  st_avil_site = pd.DataFrame(  {'site': [ df_202406['site_no'][0] ]}  )\n"
     ]
    },
    {
     "name": "stdout",
     "output_type": "stream",
     "text": [
      "        site\n",
      "0   00000000\n",
      "0   10039500\n",
      "0   10068500\n",
      "0   10092700\n",
      "0   10125500\n",
      "..       ...\n",
      "0   13078000\n",
      "0   13081500\n",
      "0   13082500\n",
      "0   13083000\n",
      "0   13087995\n",
      "\n",
      "[78 rows x 1 columns]\n",
      "13088000\n",
      "13088020\n",
      "13088400\n",
      "13088415\n",
      "13088500\n",
      "13088510\n",
      "13088512\n",
      "13088515\n",
      "13088517\n",
      "13088525\n",
      "13089500\n"
     ]
    },
    {
     "name": "stderr",
     "output_type": "stream",
     "text": [
      "/var/folders/_4/klhstfsn73nfrxlfr8_r9dhc0000gn/T/ipykernel_14091/501096422.py:8: FutureWarning: Series.__getitem__ treating keys as positions is deprecated. In a future version, integer keys will always be treated as labels (consistent with DataFrame behavior). To access a value by position, use `ser.iloc[pos]`\n",
      "  st_avil_site = pd.DataFrame(  {'site': [ df_202406['site_no'][0] ]}  )\n"
     ]
    },
    {
     "name": "stdout",
     "output_type": "stream",
     "text": [
      "        site\n",
      "0   00000000\n",
      "0   10039500\n",
      "0   10068500\n",
      "0   10092700\n",
      "0   10125500\n",
      "..       ...\n",
      "0   13081500\n",
      "0   13082500\n",
      "0   13083000\n",
      "0   13087995\n",
      "0   13089500\n",
      "\n",
      "[79 rows x 1 columns]\n",
      "13090000\n",
      "13090370\n",
      "13090460\n",
      "13090500\n"
     ]
    },
    {
     "name": "stderr",
     "output_type": "stream",
     "text": [
      "/var/folders/_4/klhstfsn73nfrxlfr8_r9dhc0000gn/T/ipykernel_14091/501096422.py:8: FutureWarning: Series.__getitem__ treating keys as positions is deprecated. In a future version, integer keys will always be treated as labels (consistent with DataFrame behavior). To access a value by position, use `ser.iloc[pos]`\n",
      "  st_avil_site = pd.DataFrame(  {'site': [ df_202406['site_no'][0] ]}  )\n"
     ]
    },
    {
     "name": "stdout",
     "output_type": "stream",
     "text": [
      "        site\n",
      "0   00000000\n",
      "0   10039500\n",
      "0   10068500\n",
      "0   10092700\n",
      "0   10125500\n",
      "..       ...\n",
      "0   13082500\n",
      "0   13083000\n",
      "0   13087995\n",
      "0   13089500\n",
      "0   13090500\n",
      "\n",
      "[80 rows x 1 columns]\n",
      "13090995\n",
      "13090999\n",
      "13091500\n",
      "13091700\n",
      "13091995\n",
      "13092000\n",
      "13092050\n",
      "13092094\n",
      "13092095\n",
      "13092105\n",
      "13092300\n",
      "13092400\n",
      "13092551\n",
      "13092552\n",
      "13092620\n",
      "13092703\n",
      "13092704\n",
      "13092710\n",
      "13092712\n",
      "13092713\n",
      "13092715\n",
      "130927235\n",
      "13092724\n",
      "13092730\n",
      "13092731\n",
      "13092735\n",
      "13092738\n",
      "13092742\n",
      "13092747\n"
     ]
    },
    {
     "name": "stderr",
     "output_type": "stream",
     "text": [
      "/var/folders/_4/klhstfsn73nfrxlfr8_r9dhc0000gn/T/ipykernel_14091/501096422.py:8: FutureWarning: Series.__getitem__ treating keys as positions is deprecated. In a future version, integer keys will always be treated as labels (consistent with DataFrame behavior). To access a value by position, use `ser.iloc[pos]`\n",
      "  st_avil_site = pd.DataFrame(  {'site': [ df_202406['site_no'][0] ]}  )\n"
     ]
    },
    {
     "name": "stdout",
     "output_type": "stream",
     "text": [
      "        site\n",
      "0   00000000\n",
      "0   10039500\n",
      "0   10068500\n",
      "0   10092700\n",
      "0   10125500\n",
      "..       ...\n",
      "0   13083000\n",
      "0   13087995\n",
      "0   13089500\n",
      "0   13090500\n",
      "0   13092747\n",
      "\n",
      "[81 rows x 1 columns]\n",
      "13092752\n",
      "13092754\n",
      "13092830\n",
      "13092835\n",
      "13092850\n",
      "13093000\n",
      "13093040\n",
      "13093095\n",
      "13093100\n",
      "13093310\n",
      "13093370\n",
      "13093375\n",
      "13093383\n"
     ]
    },
    {
     "name": "stderr",
     "output_type": "stream",
     "text": [
      "/var/folders/_4/klhstfsn73nfrxlfr8_r9dhc0000gn/T/ipykernel_14091/501096422.py:8: FutureWarning: Series.__getitem__ treating keys as positions is deprecated. In a future version, integer keys will always be treated as labels (consistent with DataFrame behavior). To access a value by position, use `ser.iloc[pos]`\n",
      "  st_avil_site = pd.DataFrame(  {'site': [ df_202406['site_no'][0] ]}  )\n"
     ]
    },
    {
     "name": "stdout",
     "output_type": "stream",
     "text": [
      "        site\n",
      "0   00000000\n",
      "0   10039500\n",
      "0   10068500\n",
      "0   10092700\n",
      "0   10125500\n",
      "..       ...\n",
      "0   13087995\n",
      "0   13089500\n",
      "0   13090500\n",
      "0   13092747\n",
      "0   13093383\n",
      "\n",
      "[82 rows x 1 columns]\n",
      "13093384\n",
      "13093470\n",
      "13093475\n",
      "13093478\n",
      "13093481\n",
      "13093484\n",
      "13093488\n",
      "13093492\n",
      "13093493\n",
      "13093494\n",
      "13093495\n",
      "13093496\n",
      "13093497\n",
      "13093499\n",
      "13093500\n",
      "13093510\n",
      "13093520\n",
      "13093530\n",
      "13093550\n",
      "13093900\n",
      "13094000\n"
     ]
    },
    {
     "name": "stderr",
     "output_type": "stream",
     "text": [
      "/var/folders/_4/klhstfsn73nfrxlfr8_r9dhc0000gn/T/ipykernel_14091/501096422.py:8: FutureWarning: Series.__getitem__ treating keys as positions is deprecated. In a future version, integer keys will always be treated as labels (consistent with DataFrame behavior). To access a value by position, use `ser.iloc[pos]`\n",
      "  st_avil_site = pd.DataFrame(  {'site': [ df_202406['site_no'][0] ]}  )\n"
     ]
    },
    {
     "name": "stdout",
     "output_type": "stream",
     "text": [
      "        site\n",
      "0   00000000\n",
      "0   10039500\n",
      "0   10068500\n",
      "0   10092700\n",
      "0   10125500\n",
      "..       ...\n",
      "0   13089500\n",
      "0   13090500\n",
      "0   13092747\n",
      "0   13093383\n",
      "0   13094000\n",
      "\n",
      "[83 rows x 1 columns]\n",
      "13094600\n",
      "13094680\n",
      "13094700\n",
      "13094900\n",
      "13095000\n",
      "13095050\n",
      "13095360\n",
      "13106535\n",
      "13107200\n",
      "13108150\n"
     ]
    },
    {
     "name": "stderr",
     "output_type": "stream",
     "text": [
      "/var/folders/_4/klhstfsn73nfrxlfr8_r9dhc0000gn/T/ipykernel_14091/501096422.py:8: FutureWarning: Series.__getitem__ treating keys as positions is deprecated. In a future version, integer keys will always be treated as labels (consistent with DataFrame behavior). To access a value by position, use `ser.iloc[pos]`\n",
      "  st_avil_site = pd.DataFrame(  {'site': [ df_202406['site_no'][0] ]}  )\n"
     ]
    },
    {
     "name": "stdout",
     "output_type": "stream",
     "text": [
      "        site\n",
      "0   00000000\n",
      "0   10039500\n",
      "0   10068500\n",
      "0   10092700\n",
      "0   10125500\n",
      "..       ...\n",
      "0   13090500\n",
      "0   13092747\n",
      "0   13093383\n",
      "0   13094000\n",
      "0   13108150\n",
      "\n",
      "[84 rows x 1 columns]\n",
      "13108160\n",
      "13108200\n",
      "13108500\n",
      "13108900\n",
      "13109600\n",
      "13112000\n"
     ]
    },
    {
     "name": "stderr",
     "output_type": "stream",
     "text": [
      "/var/folders/_4/klhstfsn73nfrxlfr8_r9dhc0000gn/T/ipykernel_14091/501096422.py:8: FutureWarning: Series.__getitem__ treating keys as positions is deprecated. In a future version, integer keys will always be treated as labels (consistent with DataFrame behavior). To access a value by position, use `ser.iloc[pos]`\n",
      "  st_avil_site = pd.DataFrame(  {'site': [ df_202406['site_no'][0] ]}  )\n"
     ]
    },
    {
     "name": "stdout",
     "output_type": "stream",
     "text": [
      "        site\n",
      "0   00000000\n",
      "0   10039500\n",
      "0   10068500\n",
      "0   10092700\n",
      "0   10125500\n",
      "..       ...\n",
      "0   13092747\n",
      "0   13093383\n",
      "0   13094000\n",
      "0   13108150\n",
      "0   13112000\n",
      "\n",
      "[85 rows x 1 columns]\n",
      "13112300\n",
      "13112500\n",
      "13112900\n",
      "13113000\n",
      "13113500\n",
      "13114000\n",
      "13114150\n",
      "13116000\n",
      "13116500\n"
     ]
    },
    {
     "name": "stderr",
     "output_type": "stream",
     "text": [
      "/var/folders/_4/klhstfsn73nfrxlfr8_r9dhc0000gn/T/ipykernel_14091/501096422.py:8: FutureWarning: Series.__getitem__ treating keys as positions is deprecated. In a future version, integer keys will always be treated as labels (consistent with DataFrame behavior). To access a value by position, use `ser.iloc[pos]`\n",
      "  st_avil_site = pd.DataFrame(  {'site': [ df_202406['site_no'][0] ]}  )\n"
     ]
    },
    {
     "name": "stdout",
     "output_type": "stream",
     "text": [
      "        site\n",
      "0   00000000\n",
      "0   10039500\n",
      "0   10068500\n",
      "0   10092700\n",
      "0   10125500\n",
      "..       ...\n",
      "0   13093383\n",
      "0   13094000\n",
      "0   13108150\n",
      "0   13112000\n",
      "0   13116500\n",
      "\n",
      "[86 rows x 1 columns]\n",
      "13116510\n",
      "13116970\n",
      "13116980\n",
      "13116990\n",
      "13117000\n",
      "13117020\n",
      "13117030\n",
      "13117200\n",
      "13117300\n",
      "13117360\n",
      "13117390\n",
      "13117600\n",
      "13118100\n",
      "13118400\n",
      "13118700\n"
     ]
    },
    {
     "name": "stderr",
     "output_type": "stream",
     "text": [
      "/var/folders/_4/klhstfsn73nfrxlfr8_r9dhc0000gn/T/ipykernel_14091/501096422.py:8: FutureWarning: Series.__getitem__ treating keys as positions is deprecated. In a future version, integer keys will always be treated as labels (consistent with DataFrame behavior). To access a value by position, use `ser.iloc[pos]`\n",
      "  st_avil_site = pd.DataFrame(  {'site': [ df_202406['site_no'][0] ]}  )\n"
     ]
    },
    {
     "name": "stdout",
     "output_type": "stream",
     "text": [
      "        site\n",
      "0   00000000\n",
      "0   10039500\n",
      "0   10068500\n",
      "0   10092700\n",
      "0   10125500\n",
      "..       ...\n",
      "0   13094000\n",
      "0   13108150\n",
      "0   13112000\n",
      "0   13116500\n",
      "0   13118700\n",
      "\n",
      "[87 rows x 1 columns]\n",
      "13118895\n",
      "13118920\n",
      "13119000\n"
     ]
    },
    {
     "name": "stderr",
     "output_type": "stream",
     "text": [
      "/var/folders/_4/klhstfsn73nfrxlfr8_r9dhc0000gn/T/ipykernel_14091/501096422.py:8: FutureWarning: Series.__getitem__ treating keys as positions is deprecated. In a future version, integer keys will always be treated as labels (consistent with DataFrame behavior). To access a value by position, use `ser.iloc[pos]`\n",
      "  st_avil_site = pd.DataFrame(  {'site': [ df_202406['site_no'][0] ]}  )\n"
     ]
    },
    {
     "name": "stdout",
     "output_type": "stream",
     "text": [
      "        site\n",
      "0   00000000\n",
      "0   10039500\n",
      "0   10068500\n",
      "0   10092700\n",
      "0   10125500\n",
      "..       ...\n",
      "0   13108150\n",
      "0   13112000\n",
      "0   13116500\n",
      "0   13118700\n",
      "0   13119000\n",
      "\n",
      "[88 rows x 1 columns]\n",
      "13119800\n",
      "13120000\n"
     ]
    },
    {
     "name": "stderr",
     "output_type": "stream",
     "text": [
      "/var/folders/_4/klhstfsn73nfrxlfr8_r9dhc0000gn/T/ipykernel_14091/501096422.py:8: FutureWarning: Series.__getitem__ treating keys as positions is deprecated. In a future version, integer keys will always be treated as labels (consistent with DataFrame behavior). To access a value by position, use `ser.iloc[pos]`\n",
      "  st_avil_site = pd.DataFrame(  {'site': [ df_202406['site_no'][0] ]}  )\n"
     ]
    },
    {
     "name": "stdout",
     "output_type": "stream",
     "text": [
      "        site\n",
      "0   00000000\n",
      "0   10039500\n",
      "0   10068500\n",
      "0   10092700\n",
      "0   10125500\n",
      "..       ...\n",
      "0   13112000\n",
      "0   13116500\n",
      "0   13118700\n",
      "0   13119000\n",
      "0   13120000\n",
      "\n",
      "[89 rows x 1 columns]\n",
      "13120240\n",
      "13120300\n",
      "13120400\n",
      "13120420\n",
      "13120450\n",
      "13120460\n",
      "13120500\n"
     ]
    },
    {
     "name": "stderr",
     "output_type": "stream",
     "text": [
      "/var/folders/_4/klhstfsn73nfrxlfr8_r9dhc0000gn/T/ipykernel_14091/501096422.py:8: FutureWarning: Series.__getitem__ treating keys as positions is deprecated. In a future version, integer keys will always be treated as labels (consistent with DataFrame behavior). To access a value by position, use `ser.iloc[pos]`\n",
      "  st_avil_site = pd.DataFrame(  {'site': [ df_202406['site_no'][0] ]}  )\n"
     ]
    },
    {
     "name": "stdout",
     "output_type": "stream",
     "text": [
      "        site\n",
      "0   00000000\n",
      "0   10039500\n",
      "0   10068500\n",
      "0   10092700\n",
      "0   10125500\n",
      "..       ...\n",
      "0   13116500\n",
      "0   13118700\n",
      "0   13119000\n",
      "0   13120000\n",
      "0   13120500\n",
      "\n",
      "[90 rows x 1 columns]\n",
      "13120650\n",
      "13121000\n",
      "13121500\n",
      "13121700\n",
      "13121750\n",
      "13121900\n",
      "13122000\n"
     ]
    },
    {
     "name": "stderr",
     "output_type": "stream",
     "text": [
      "/var/folders/_4/klhstfsn73nfrxlfr8_r9dhc0000gn/T/ipykernel_14091/501096422.py:8: FutureWarning: Series.__getitem__ treating keys as positions is deprecated. In a future version, integer keys will always be treated as labels (consistent with DataFrame behavior). To access a value by position, use `ser.iloc[pos]`\n",
      "  st_avil_site = pd.DataFrame(  {'site': [ df_202406['site_no'][0] ]}  )\n"
     ]
    },
    {
     "name": "stdout",
     "output_type": "stream",
     "text": [
      "        site\n",
      "0   00000000\n",
      "0   10039500\n",
      "0   10068500\n",
      "0   10092700\n",
      "0   10125500\n",
      "..       ...\n",
      "0   13118700\n",
      "0   13119000\n",
      "0   13120000\n",
      "0   13120500\n",
      "0   13122000\n",
      "\n",
      "[91 rows x 1 columns]\n",
      "13122100\n",
      "13122400\n",
      "13122500\n",
      "13123400\n",
      "13124030\n",
      "13125500\n",
      "13125800\n",
      "13127000\n"
     ]
    },
    {
     "name": "stderr",
     "output_type": "stream",
     "text": [
      "/var/folders/_4/klhstfsn73nfrxlfr8_r9dhc0000gn/T/ipykernel_14091/501096422.py:8: FutureWarning: Series.__getitem__ treating keys as positions is deprecated. In a future version, integer keys will always be treated as labels (consistent with DataFrame behavior). To access a value by position, use `ser.iloc[pos]`\n",
      "  st_avil_site = pd.DataFrame(  {'site': [ df_202406['site_no'][0] ]}  )\n"
     ]
    },
    {
     "name": "stdout",
     "output_type": "stream",
     "text": [
      "        site\n",
      "0   00000000\n",
      "0   10039500\n",
      "0   10068500\n",
      "0   10092700\n",
      "0   10125500\n",
      "..       ...\n",
      "0   13119000\n",
      "0   13120000\n",
      "0   13120500\n",
      "0   13122000\n",
      "0   13127000\n",
      "\n",
      "[92 rows x 1 columns]\n",
      "13127700\n",
      "13127780\n",
      "13128900\n"
     ]
    },
    {
     "name": "stderr",
     "output_type": "stream",
     "text": [
      "/var/folders/_4/klhstfsn73nfrxlfr8_r9dhc0000gn/T/ipykernel_14091/501096422.py:8: FutureWarning: Series.__getitem__ treating keys as positions is deprecated. In a future version, integer keys will always be treated as labels (consistent with DataFrame behavior). To access a value by position, use `ser.iloc[pos]`\n",
      "  st_avil_site = pd.DataFrame(  {'site': [ df_202406['site_no'][0] ]}  )\n"
     ]
    },
    {
     "name": "stdout",
     "output_type": "stream",
     "text": [
      "        site\n",
      "0   00000000\n",
      "0   10039500\n",
      "0   10068500\n",
      "0   10092700\n",
      "0   10125500\n",
      "..       ...\n",
      "0   13120000\n",
      "0   13120500\n",
      "0   13122000\n",
      "0   13127000\n",
      "0   13128900\n",
      "\n",
      "[93 rows x 1 columns]\n",
      "13129800\n",
      "13130200\n",
      "13130300\n"
     ]
    },
    {
     "name": "stderr",
     "output_type": "stream",
     "text": [
      "/var/folders/_4/klhstfsn73nfrxlfr8_r9dhc0000gn/T/ipykernel_14091/501096422.py:8: FutureWarning: Series.__getitem__ treating keys as positions is deprecated. In a future version, integer keys will always be treated as labels (consistent with DataFrame behavior). To access a value by position, use `ser.iloc[pos]`\n",
      "  st_avil_site = pd.DataFrame(  {'site': [ df_202406['site_no'][0] ]}  )\n"
     ]
    },
    {
     "name": "stdout",
     "output_type": "stream",
     "text": [
      "        site\n",
      "0   00000000\n",
      "0   10039500\n",
      "0   10068500\n",
      "0   10092700\n",
      "0   10125500\n",
      "..       ...\n",
      "0   13120500\n",
      "0   13122000\n",
      "0   13127000\n",
      "0   13128900\n",
      "0   13130300\n",
      "\n",
      "[94 rows x 1 columns]\n",
      "13130800\n",
      "13130847\n",
      "13130900\n",
      "13130920\n",
      "13131000\n"
     ]
    },
    {
     "name": "stderr",
     "output_type": "stream",
     "text": [
      "/var/folders/_4/klhstfsn73nfrxlfr8_r9dhc0000gn/T/ipykernel_14091/501096422.py:8: FutureWarning: Series.__getitem__ treating keys as positions is deprecated. In a future version, integer keys will always be treated as labels (consistent with DataFrame behavior). To access a value by position, use `ser.iloc[pos]`\n",
      "  st_avil_site = pd.DataFrame(  {'site': [ df_202406['site_no'][0] ]}  )\n"
     ]
    },
    {
     "name": "stdout",
     "output_type": "stream",
     "text": [
      "        site\n",
      "0   00000000\n",
      "0   10039500\n",
      "0   10068500\n",
      "0   10092700\n",
      "0   10125500\n",
      "..       ...\n",
      "0   13122000\n",
      "0   13127000\n",
      "0   13128900\n",
      "0   13130300\n",
      "0   13131000\n",
      "\n",
      "[95 rows x 1 columns]\n",
      "13131500\n",
      "13132050\n",
      "13132150\n",
      "13132310\n",
      "13132375\n",
      "13132500\n"
     ]
    },
    {
     "name": "stderr",
     "output_type": "stream",
     "text": [
      "/var/folders/_4/klhstfsn73nfrxlfr8_r9dhc0000gn/T/ipykernel_14091/501096422.py:8: FutureWarning: Series.__getitem__ treating keys as positions is deprecated. In a future version, integer keys will always be treated as labels (consistent with DataFrame behavior). To access a value by position, use `ser.iloc[pos]`\n",
      "  st_avil_site = pd.DataFrame(  {'site': [ df_202406['site_no'][0] ]}  )\n"
     ]
    },
    {
     "name": "stdout",
     "output_type": "stream",
     "text": [
      "        site\n",
      "0   00000000\n",
      "0   10039500\n",
      "0   10068500\n",
      "0   10092700\n",
      "0   10125500\n",
      "..       ...\n",
      "0   13127000\n",
      "0   13128900\n",
      "0   13130300\n",
      "0   13131000\n",
      "0   13132500\n",
      "\n",
      "[96 rows x 1 columns]\n",
      "13132513\n"
     ]
    },
    {
     "name": "stderr",
     "output_type": "stream",
     "text": [
      "/var/folders/_4/klhstfsn73nfrxlfr8_r9dhc0000gn/T/ipykernel_14091/501096422.py:8: FutureWarning: Series.__getitem__ treating keys as positions is deprecated. In a future version, integer keys will always be treated as labels (consistent with DataFrame behavior). To access a value by position, use `ser.iloc[pos]`\n",
      "  st_avil_site = pd.DataFrame(  {'site': [ df_202406['site_no'][0] ]}  )\n"
     ]
    },
    {
     "name": "stdout",
     "output_type": "stream",
     "text": [
      "        site\n",
      "0   00000000\n",
      "0   10039500\n",
      "0   10068500\n",
      "0   10092700\n",
      "0   10125500\n",
      "..       ...\n",
      "0   13128900\n",
      "0   13130300\n",
      "0   13131000\n",
      "0   13132500\n",
      "0   13132513\n",
      "\n",
      "[97 rows x 1 columns]\n",
      "13132515\n",
      "13132520\n"
     ]
    },
    {
     "name": "stderr",
     "output_type": "stream",
     "text": [
      "/var/folders/_4/klhstfsn73nfrxlfr8_r9dhc0000gn/T/ipykernel_14091/501096422.py:8: FutureWarning: Series.__getitem__ treating keys as positions is deprecated. In a future version, integer keys will always be treated as labels (consistent with DataFrame behavior). To access a value by position, use `ser.iloc[pos]`\n",
      "  st_avil_site = pd.DataFrame(  {'site': [ df_202406['site_no'][0] ]}  )\n"
     ]
    },
    {
     "name": "stdout",
     "output_type": "stream",
     "text": [
      "        site\n",
      "0   00000000\n",
      "0   10039500\n",
      "0   10068500\n",
      "0   10092700\n",
      "0   10125500\n",
      "..       ...\n",
      "0   13130300\n",
      "0   13131000\n",
      "0   13132500\n",
      "0   13132513\n",
      "0   13132520\n",
      "\n",
      "[98 rows x 1 columns]\n",
      "13132530\n",
      "13132535\n"
     ]
    },
    {
     "name": "stderr",
     "output_type": "stream",
     "text": [
      "/var/folders/_4/klhstfsn73nfrxlfr8_r9dhc0000gn/T/ipykernel_14091/501096422.py:8: FutureWarning: Series.__getitem__ treating keys as positions is deprecated. In a future version, integer keys will always be treated as labels (consistent with DataFrame behavior). To access a value by position, use `ser.iloc[pos]`\n",
      "  st_avil_site = pd.DataFrame(  {'site': [ df_202406['site_no'][0] ]}  )\n"
     ]
    },
    {
     "name": "stdout",
     "output_type": "stream",
     "text": [
      "        site\n",
      "0   00000000\n",
      "0   10039500\n",
      "0   10068500\n",
      "0   10092700\n",
      "0   10125500\n",
      "..       ...\n",
      "0   13131000\n",
      "0   13132500\n",
      "0   13132513\n",
      "0   13132520\n",
      "0   13132535\n",
      "\n",
      "[99 rows x 1 columns]\n",
      "13132545\n",
      "13132565\n"
     ]
    },
    {
     "name": "stderr",
     "output_type": "stream",
     "text": [
      "/var/folders/_4/klhstfsn73nfrxlfr8_r9dhc0000gn/T/ipykernel_14091/501096422.py:8: FutureWarning: Series.__getitem__ treating keys as positions is deprecated. In a future version, integer keys will always be treated as labels (consistent with DataFrame behavior). To access a value by position, use `ser.iloc[pos]`\n",
      "  st_avil_site = pd.DataFrame(  {'site': [ df_202406['site_no'][0] ]}  )\n"
     ]
    },
    {
     "name": "stdout",
     "output_type": "stream",
     "text": [
      "        site\n",
      "0   00000000\n",
      "0   10039500\n",
      "0   10068500\n",
      "0   10092700\n",
      "0   10125500\n",
      "..       ...\n",
      "0   13132500\n",
      "0   13132513\n",
      "0   13132520\n",
      "0   13132535\n",
      "0   13132565\n",
      "\n",
      "[100 rows x 1 columns]\n",
      "13132580\n",
      "13132590\n",
      "13132622\n",
      "13132801\n",
      "13133785\n",
      "13133800\n",
      "13134300\n",
      "13134500\n",
      "13134556\n",
      "1313457010\n",
      "13135000\n",
      "13135200\n",
      "13135350\n",
      "13135500\n"
     ]
    },
    {
     "name": "stderr",
     "output_type": "stream",
     "text": [
      "/var/folders/_4/klhstfsn73nfrxlfr8_r9dhc0000gn/T/ipykernel_14091/501096422.py:8: FutureWarning: Series.__getitem__ treating keys as positions is deprecated. In a future version, integer keys will always be treated as labels (consistent with DataFrame behavior). To access a value by position, use `ser.iloc[pos]`\n",
      "  st_avil_site = pd.DataFrame(  {'site': [ df_202406['site_no'][0] ]}  )\n"
     ]
    },
    {
     "name": "stdout",
     "output_type": "stream",
     "text": [
      "        site\n",
      "0   00000000\n",
      "0   10039500\n",
      "0   10068500\n",
      "0   10092700\n",
      "0   10125500\n",
      "..       ...\n",
      "0   13132513\n",
      "0   13132520\n",
      "0   13132535\n",
      "0   13132565\n",
      "0   13135500\n",
      "\n",
      "[101 rows x 1 columns]\n",
      "13135520\n"
     ]
    },
    {
     "name": "stderr",
     "output_type": "stream",
     "text": [
      "/var/folders/_4/klhstfsn73nfrxlfr8_r9dhc0000gn/T/ipykernel_14091/501096422.py:8: FutureWarning: Series.__getitem__ treating keys as positions is deprecated. In a future version, integer keys will always be treated as labels (consistent with DataFrame behavior). To access a value by position, use `ser.iloc[pos]`\n",
      "  st_avil_site = pd.DataFrame(  {'site': [ df_202406['site_no'][0] ]}  )\n"
     ]
    },
    {
     "name": "stdout",
     "output_type": "stream",
     "text": [
      "        site\n",
      "0   00000000\n",
      "0   10039500\n",
      "0   10068500\n",
      "0   10092700\n",
      "0   10125500\n",
      "..       ...\n",
      "0   13132520\n",
      "0   13132535\n",
      "0   13132565\n",
      "0   13135500\n",
      "0   13135520\n",
      "\n",
      "[102 rows x 1 columns]\n",
      "13135800\n",
      "13135850\n",
      "13136500\n",
      "13136550\n"
     ]
    },
    {
     "name": "stderr",
     "output_type": "stream",
     "text": [
      "/var/folders/_4/klhstfsn73nfrxlfr8_r9dhc0000gn/T/ipykernel_14091/501096422.py:8: FutureWarning: Series.__getitem__ treating keys as positions is deprecated. In a future version, integer keys will always be treated as labels (consistent with DataFrame behavior). To access a value by position, use `ser.iloc[pos]`\n",
      "  st_avil_site = pd.DataFrame(  {'site': [ df_202406['site_no'][0] ]}  )\n"
     ]
    },
    {
     "name": "stdout",
     "output_type": "stream",
     "text": [
      "        site\n",
      "0   00000000\n",
      "0   10039500\n",
      "0   10068500\n",
      "0   10092700\n",
      "0   10125500\n",
      "..       ...\n",
      "0   13132535\n",
      "0   13132565\n",
      "0   13135500\n",
      "0   13135520\n",
      "0   13136550\n",
      "\n",
      "[103 rows x 1 columns]\n",
      "13137000\n"
     ]
    },
    {
     "name": "stderr",
     "output_type": "stream",
     "text": [
      "/var/folders/_4/klhstfsn73nfrxlfr8_r9dhc0000gn/T/ipykernel_14091/501096422.py:8: FutureWarning: Series.__getitem__ treating keys as positions is deprecated. In a future version, integer keys will always be treated as labels (consistent with DataFrame behavior). To access a value by position, use `ser.iloc[pos]`\n",
      "  st_avil_site = pd.DataFrame(  {'site': [ df_202406['site_no'][0] ]}  )\n"
     ]
    },
    {
     "name": "stdout",
     "output_type": "stream",
     "text": [
      "        site\n",
      "0   00000000\n",
      "0   10039500\n",
      "0   10068500\n",
      "0   10092700\n",
      "0   10125500\n",
      "..       ...\n",
      "0   13132565\n",
      "0   13135500\n",
      "0   13135520\n",
      "0   13136550\n",
      "0   13137000\n",
      "\n",
      "[104 rows x 1 columns]\n",
      "13137300\n"
     ]
    },
    {
     "name": "stderr",
     "output_type": "stream",
     "text": [
      "/var/folders/_4/klhstfsn73nfrxlfr8_r9dhc0000gn/T/ipykernel_14091/501096422.py:8: FutureWarning: Series.__getitem__ treating keys as positions is deprecated. In a future version, integer keys will always be treated as labels (consistent with DataFrame behavior). To access a value by position, use `ser.iloc[pos]`\n",
      "  st_avil_site = pd.DataFrame(  {'site': [ df_202406['site_no'][0] ]}  )\n"
     ]
    },
    {
     "name": "stdout",
     "output_type": "stream",
     "text": [
      "        site\n",
      "0   00000000\n",
      "0   10039500\n",
      "0   10068500\n",
      "0   10092700\n",
      "0   10125500\n",
      "..       ...\n",
      "0   13135500\n",
      "0   13135520\n",
      "0   13136550\n",
      "0   13137000\n",
      "0   13137300\n",
      "\n",
      "[105 rows x 1 columns]\n",
      "13137500\n"
     ]
    },
    {
     "name": "stderr",
     "output_type": "stream",
     "text": [
      "/var/folders/_4/klhstfsn73nfrxlfr8_r9dhc0000gn/T/ipykernel_14091/501096422.py:8: FutureWarning: Series.__getitem__ treating keys as positions is deprecated. In a future version, integer keys will always be treated as labels (consistent with DataFrame behavior). To access a value by position, use `ser.iloc[pos]`\n",
      "  st_avil_site = pd.DataFrame(  {'site': [ df_202406['site_no'][0] ]}  )\n"
     ]
    },
    {
     "name": "stdout",
     "output_type": "stream",
     "text": [
      "        site\n",
      "0   00000000\n",
      "0   10039500\n",
      "0   10068500\n",
      "0   10092700\n",
      "0   10125500\n",
      "..       ...\n",
      "0   13135520\n",
      "0   13136550\n",
      "0   13137000\n",
      "0   13137300\n",
      "0   13137500\n",
      "\n",
      "[106 rows x 1 columns]\n",
      "13137600\n",
      "13138000\n"
     ]
    },
    {
     "name": "stderr",
     "output_type": "stream",
     "text": [
      "/var/folders/_4/klhstfsn73nfrxlfr8_r9dhc0000gn/T/ipykernel_14091/501096422.py:8: FutureWarning: Series.__getitem__ treating keys as positions is deprecated. In a future version, integer keys will always be treated as labels (consistent with DataFrame behavior). To access a value by position, use `ser.iloc[pos]`\n",
      "  st_avil_site = pd.DataFrame(  {'site': [ df_202406['site_no'][0] ]}  )\n"
     ]
    },
    {
     "name": "stdout",
     "output_type": "stream",
     "text": [
      "        site\n",
      "0   00000000\n",
      "0   10039500\n",
      "0   10068500\n",
      "0   10092700\n",
      "0   10125500\n",
      "..       ...\n",
      "0   13136550\n",
      "0   13137000\n",
      "0   13137300\n",
      "0   13137500\n",
      "0   13138000\n",
      "\n",
      "[107 rows x 1 columns]\n",
      "13139000\n",
      "13139500\n",
      "13139510\n"
     ]
    },
    {
     "name": "stderr",
     "output_type": "stream",
     "text": [
      "/var/folders/_4/klhstfsn73nfrxlfr8_r9dhc0000gn/T/ipykernel_14091/501096422.py:8: FutureWarning: Series.__getitem__ treating keys as positions is deprecated. In a future version, integer keys will always be treated as labels (consistent with DataFrame behavior). To access a value by position, use `ser.iloc[pos]`\n",
      "  st_avil_site = pd.DataFrame(  {'site': [ df_202406['site_no'][0] ]}  )\n"
     ]
    },
    {
     "name": "stdout",
     "output_type": "stream",
     "text": [
      "        site\n",
      "0   00000000\n",
      "0   10039500\n",
      "0   10068500\n",
      "0   10092700\n",
      "0   10125500\n",
      "..       ...\n",
      "0   13137000\n",
      "0   13137300\n",
      "0   13137500\n",
      "0   13138000\n",
      "0   13139510\n",
      "\n",
      "[108 rows x 1 columns]\n",
      "13139560\n",
      "13140335\n"
     ]
    },
    {
     "name": "stderr",
     "output_type": "stream",
     "text": [
      "/var/folders/_4/klhstfsn73nfrxlfr8_r9dhc0000gn/T/ipykernel_14091/501096422.py:8: FutureWarning: Series.__getitem__ treating keys as positions is deprecated. In a future version, integer keys will always be treated as labels (consistent with DataFrame behavior). To access a value by position, use `ser.iloc[pos]`\n",
      "  st_avil_site = pd.DataFrame(  {'site': [ df_202406['site_no'][0] ]}  )\n"
     ]
    },
    {
     "name": "stdout",
     "output_type": "stream",
     "text": [
      "        site\n",
      "0   00000000\n",
      "0   10039500\n",
      "0   10068500\n",
      "0   10092700\n",
      "0   10125500\n",
      "..       ...\n",
      "0   13137300\n",
      "0   13137500\n",
      "0   13138000\n",
      "0   13139510\n",
      "0   13140335\n",
      "\n",
      "[109 rows x 1 columns]\n",
      "13140500\n",
      "13140800\n"
     ]
    },
    {
     "name": "stderr",
     "output_type": "stream",
     "text": [
      "/var/folders/_4/klhstfsn73nfrxlfr8_r9dhc0000gn/T/ipykernel_14091/501096422.py:8: FutureWarning: Series.__getitem__ treating keys as positions is deprecated. In a future version, integer keys will always be treated as labels (consistent with DataFrame behavior). To access a value by position, use `ser.iloc[pos]`\n",
      "  st_avil_site = pd.DataFrame(  {'site': [ df_202406['site_no'][0] ]}  )\n"
     ]
    },
    {
     "name": "stdout",
     "output_type": "stream",
     "text": [
      "        site\n",
      "0   00000000\n",
      "0   10039500\n",
      "0   10068500\n",
      "0   10092700\n",
      "0   10125500\n",
      "..       ...\n",
      "0   13137500\n",
      "0   13138000\n",
      "0   13139510\n",
      "0   13140335\n",
      "0   13140800\n",
      "\n",
      "[110 rows x 1 columns]\n",
      "13140900\n",
      "13141000\n",
      "13141070\n",
      "13141100\n",
      "13141220\n",
      "13141230\n",
      "13141250\n",
      "13141270\n",
      "13141345\n",
      "13141350\n",
      "13141445\n",
      "13141475\n",
      "13141500\n"
     ]
    },
    {
     "name": "stderr",
     "output_type": "stream",
     "text": [
      "/var/folders/_4/klhstfsn73nfrxlfr8_r9dhc0000gn/T/ipykernel_14091/501096422.py:8: FutureWarning: Series.__getitem__ treating keys as positions is deprecated. In a future version, integer keys will always be treated as labels (consistent with DataFrame behavior). To access a value by position, use `ser.iloc[pos]`\n",
      "  st_avil_site = pd.DataFrame(  {'site': [ df_202406['site_no'][0] ]}  )\n"
     ]
    },
    {
     "name": "stdout",
     "output_type": "stream",
     "text": [
      "        site\n",
      "0   00000000\n",
      "0   10039500\n",
      "0   10068500\n",
      "0   10092700\n",
      "0   10125500\n",
      "..       ...\n",
      "0   13138000\n",
      "0   13139510\n",
      "0   13140335\n",
      "0   13140800\n",
      "0   13141500\n",
      "\n",
      "[111 rows x 1 columns]\n",
      "13141600\n",
      "13141700\n",
      "13142500\n"
     ]
    },
    {
     "name": "stderr",
     "output_type": "stream",
     "text": [
      "/var/folders/_4/klhstfsn73nfrxlfr8_r9dhc0000gn/T/ipykernel_14091/501096422.py:8: FutureWarning: Series.__getitem__ treating keys as positions is deprecated. In a future version, integer keys will always be treated as labels (consistent with DataFrame behavior). To access a value by position, use `ser.iloc[pos]`\n",
      "  st_avil_site = pd.DataFrame(  {'site': [ df_202406['site_no'][0] ]}  )\n"
     ]
    },
    {
     "name": "stdout",
     "output_type": "stream",
     "text": [
      "        site\n",
      "0   00000000\n",
      "0   10039500\n",
      "0   10068500\n",
      "0   10092700\n",
      "0   10125500\n",
      "..       ...\n",
      "0   13139510\n",
      "0   13140335\n",
      "0   13140800\n",
      "0   13141500\n",
      "0   13142500\n",
      "\n",
      "[112 rows x 1 columns]\n",
      "13145700\n",
      "13147300\n",
      "13147900\n"
     ]
    },
    {
     "name": "stderr",
     "output_type": "stream",
     "text": [
      "/var/folders/_4/klhstfsn73nfrxlfr8_r9dhc0000gn/T/ipykernel_14091/501096422.py:8: FutureWarning: Series.__getitem__ treating keys as positions is deprecated. In a future version, integer keys will always be treated as labels (consistent with DataFrame behavior). To access a value by position, use `ser.iloc[pos]`\n",
      "  st_avil_site = pd.DataFrame(  {'site': [ df_202406['site_no'][0] ]}  )\n"
     ]
    },
    {
     "name": "stdout",
     "output_type": "stream",
     "text": [
      "        site\n",
      "0   00000000\n",
      "0   10039500\n",
      "0   10068500\n",
      "0   10092700\n",
      "0   10125500\n",
      "..       ...\n",
      "0   13140335\n",
      "0   13140800\n",
      "0   13141500\n",
      "0   13142500\n",
      "0   13147900\n",
      "\n",
      "[113 rows x 1 columns]\n",
      "13148500\n"
     ]
    },
    {
     "name": "stderr",
     "output_type": "stream",
     "text": [
      "/var/folders/_4/klhstfsn73nfrxlfr8_r9dhc0000gn/T/ipykernel_14091/501096422.py:8: FutureWarning: Series.__getitem__ treating keys as positions is deprecated. In a future version, integer keys will always be treated as labels (consistent with DataFrame behavior). To access a value by position, use `ser.iloc[pos]`\n",
      "  st_avil_site = pd.DataFrame(  {'site': [ df_202406['site_no'][0] ]}  )\n"
     ]
    },
    {
     "name": "stdout",
     "output_type": "stream",
     "text": [
      "        site\n",
      "0   00000000\n",
      "0   10039500\n",
      "0   10068500\n",
      "0   10092700\n",
      "0   10125500\n",
      "..       ...\n",
      "0   13140800\n",
      "0   13141500\n",
      "0   13142500\n",
      "0   13147900\n",
      "0   13148500\n",
      "\n",
      "[114 rows x 1 columns]\n",
      "13148950\n",
      "13149000\n",
      "13150200\n",
      "13150400\n",
      "13150430\n"
     ]
    },
    {
     "name": "stderr",
     "output_type": "stream",
     "text": [
      "/var/folders/_4/klhstfsn73nfrxlfr8_r9dhc0000gn/T/ipykernel_14091/501096422.py:8: FutureWarning: Series.__getitem__ treating keys as positions is deprecated. In a future version, integer keys will always be treated as labels (consistent with DataFrame behavior). To access a value by position, use `ser.iloc[pos]`\n",
      "  st_avil_site = pd.DataFrame(  {'site': [ df_202406['site_no'][0] ]}  )\n"
     ]
    },
    {
     "name": "stdout",
     "output_type": "stream",
     "text": [
      "        site\n",
      "0   00000000\n",
      "0   10039500\n",
      "0   10068500\n",
      "0   10092700\n",
      "0   10125500\n",
      "..       ...\n",
      "0   13141500\n",
      "0   13142500\n",
      "0   13147900\n",
      "0   13148500\n",
      "0   13150430\n",
      "\n",
      "[115 rows x 1 columns]\n",
      "13150500\n",
      "13152500\n"
     ]
    },
    {
     "name": "stderr",
     "output_type": "stream",
     "text": [
      "/var/folders/_4/klhstfsn73nfrxlfr8_r9dhc0000gn/T/ipykernel_14091/501096422.py:8: FutureWarning: Series.__getitem__ treating keys as positions is deprecated. In a future version, integer keys will always be treated as labels (consistent with DataFrame behavior). To access a value by position, use `ser.iloc[pos]`\n",
      "  st_avil_site = pd.DataFrame(  {'site': [ df_202406['site_no'][0] ]}  )\n"
     ]
    },
    {
     "name": "stdout",
     "output_type": "stream",
     "text": [
      "        site\n",
      "0   00000000\n",
      "0   10039500\n",
      "0   10068500\n",
      "0   10092700\n",
      "0   10125500\n",
      "..       ...\n",
      "0   13142500\n",
      "0   13147900\n",
      "0   13148500\n",
      "0   13150430\n",
      "0   13152500\n",
      "\n",
      "[116 rows x 1 columns]\n",
      "13152850\n",
      "13152950\n",
      "13153500\n",
      "13153714\n",
      "13153735\n",
      "13153772\n",
      "13153776\n",
      "13154000\n",
      "13154400\n",
      "13154500\n"
     ]
    },
    {
     "name": "stderr",
     "output_type": "stream",
     "text": [
      "/var/folders/_4/klhstfsn73nfrxlfr8_r9dhc0000gn/T/ipykernel_14091/501096422.py:8: FutureWarning: Series.__getitem__ treating keys as positions is deprecated. In a future version, integer keys will always be treated as labels (consistent with DataFrame behavior). To access a value by position, use `ser.iloc[pos]`\n",
      "  st_avil_site = pd.DataFrame(  {'site': [ df_202406['site_no'][0] ]}  )\n"
     ]
    },
    {
     "name": "stdout",
     "output_type": "stream",
     "text": [
      "        site\n",
      "0   00000000\n",
      "0   10039500\n",
      "0   10068500\n",
      "0   10092700\n",
      "0   10125500\n",
      "..       ...\n",
      "0   13147900\n",
      "0   13148500\n",
      "0   13150430\n",
      "0   13152500\n",
      "0   13154500\n",
      "\n",
      "[117 rows x 1 columns]\n",
      "13155100\n",
      "13155300\n",
      "13155620\n",
      "13155700\n",
      "13155800\n",
      "13156000\n",
      "13157000\n",
      "13157100\n",
      "13157150\n",
      "13159800\n"
     ]
    },
    {
     "name": "stderr",
     "output_type": "stream",
     "text": [
      "/var/folders/_4/klhstfsn73nfrxlfr8_r9dhc0000gn/T/ipykernel_14091/501096422.py:8: FutureWarning: Series.__getitem__ treating keys as positions is deprecated. In a future version, integer keys will always be treated as labels (consistent with DataFrame behavior). To access a value by position, use `ser.iloc[pos]`\n",
      "  st_avil_site = pd.DataFrame(  {'site': [ df_202406['site_no'][0] ]}  )\n"
     ]
    },
    {
     "name": "stdout",
     "output_type": "stream",
     "text": [
      "        site\n",
      "0   00000000\n",
      "0   10039500\n",
      "0   10068500\n",
      "0   10092700\n",
      "0   10125500\n",
      "..       ...\n",
      "0   13148500\n",
      "0   13150430\n",
      "0   13152500\n",
      "0   13154500\n",
      "0   13159800\n",
      "\n",
      "[118 rows x 1 columns]\n",
      "131610556\n",
      "13161930\n"
     ]
    },
    {
     "name": "stderr",
     "output_type": "stream",
     "text": [
      "/var/folders/_4/klhstfsn73nfrxlfr8_r9dhc0000gn/T/ipykernel_14091/501096422.py:8: FutureWarning: Series.__getitem__ treating keys as positions is deprecated. In a future version, integer keys will always be treated as labels (consistent with DataFrame behavior). To access a value by position, use `ser.iloc[pos]`\n",
      "  st_avil_site = pd.DataFrame(  {'site': [ df_202406['site_no'][0] ]}  )\n"
     ]
    },
    {
     "name": "stdout",
     "output_type": "stream",
     "text": [
      "        site\n",
      "0   00000000\n",
      "0   10039500\n",
      "0   10068500\n",
      "0   10092700\n",
      "0   10125500\n",
      "..       ...\n",
      "0   13150430\n",
      "0   13152500\n",
      "0   13154500\n",
      "0   13159800\n",
      "0   13161930\n",
      "\n",
      "[119 rows x 1 columns]\n",
      "13162300\n",
      "13162410\n",
      "13162500\n",
      "13167500\n",
      "13168500\n"
     ]
    },
    {
     "name": "stderr",
     "output_type": "stream",
     "text": [
      "/var/folders/_4/klhstfsn73nfrxlfr8_r9dhc0000gn/T/ipykernel_14091/501096422.py:8: FutureWarning: Series.__getitem__ treating keys as positions is deprecated. In a future version, integer keys will always be treated as labels (consistent with DataFrame behavior). To access a value by position, use `ser.iloc[pos]`\n",
      "  st_avil_site = pd.DataFrame(  {'site': [ df_202406['site_no'][0] ]}  )\n"
     ]
    },
    {
     "name": "stdout",
     "output_type": "stream",
     "text": [
      "        site\n",
      "0   00000000\n",
      "0   10039500\n",
      "0   10068500\n",
      "0   10092700\n",
      "0   10125500\n",
      "..       ...\n",
      "0   13152500\n",
      "0   13154500\n",
      "0   13159800\n",
      "0   13161930\n",
      "0   13168500\n",
      "\n",
      "[120 rows x 1 columns]\n",
      "13169450\n",
      "13169500\n",
      "13170800\n",
      "13170900\n",
      "13171000\n",
      "13171620\n",
      "13171700\n",
      "13171750\n",
      "13171760\n",
      "13172290\n",
      "13172500\n"
     ]
    },
    {
     "name": "stderr",
     "output_type": "stream",
     "text": [
      "/var/folders/_4/klhstfsn73nfrxlfr8_r9dhc0000gn/T/ipykernel_14091/501096422.py:8: FutureWarning: Series.__getitem__ treating keys as positions is deprecated. In a future version, integer keys will always be treated as labels (consistent with DataFrame behavior). To access a value by position, use `ser.iloc[pos]`\n",
      "  st_avil_site = pd.DataFrame(  {'site': [ df_202406['site_no'][0] ]}  )\n"
     ]
    },
    {
     "name": "stdout",
     "output_type": "stream",
     "text": [
      "        site\n",
      "0   00000000\n",
      "0   10039500\n",
      "0   10068500\n",
      "0   10092700\n",
      "0   10125500\n",
      "..       ...\n",
      "0   13154500\n",
      "0   13159800\n",
      "0   13161930\n",
      "0   13168500\n",
      "0   13172500\n",
      "\n",
      "[121 rows x 1 columns]\n",
      "13172800\n",
      "13172840\n",
      "13172850\n",
      "13172890\n",
      "13173500\n",
      "13173520\n",
      "13173550\n",
      "13173630\n",
      "13173635\n",
      "13176100\n",
      "13176400\n"
     ]
    },
    {
     "name": "stderr",
     "output_type": "stream",
     "text": [
      "/var/folders/_4/klhstfsn73nfrxlfr8_r9dhc0000gn/T/ipykernel_14091/501096422.py:8: FutureWarning: Series.__getitem__ treating keys as positions is deprecated. In a future version, integer keys will always be treated as labels (consistent with DataFrame behavior). To access a value by position, use `ser.iloc[pos]`\n",
      "  st_avil_site = pd.DataFrame(  {'site': [ df_202406['site_no'][0] ]}  )\n"
     ]
    },
    {
     "name": "stdout",
     "output_type": "stream",
     "text": [
      "        site\n",
      "0   00000000\n",
      "0   10039500\n",
      "0   10068500\n",
      "0   10092700\n",
      "0   10125500\n",
      "..       ...\n",
      "0   13159800\n",
      "0   13161930\n",
      "0   13168500\n",
      "0   13172500\n",
      "0   13176400\n",
      "\n",
      "[122 rows x 1 columns]\n",
      "13177985\n",
      "13178000\n",
      "13184200\n",
      "13184500\n",
      "13184800\n",
      "13184870\n",
      "13184955\n",
      "13185000\n"
     ]
    },
    {
     "name": "stderr",
     "output_type": "stream",
     "text": [
      "/var/folders/_4/klhstfsn73nfrxlfr8_r9dhc0000gn/T/ipykernel_14091/501096422.py:8: FutureWarning: Series.__getitem__ treating keys as positions is deprecated. In a future version, integer keys will always be treated as labels (consistent with DataFrame behavior). To access a value by position, use `ser.iloc[pos]`\n",
      "  st_avil_site = pd.DataFrame(  {'site': [ df_202406['site_no'][0] ]}  )\n"
     ]
    },
    {
     "name": "stdout",
     "output_type": "stream",
     "text": [
      "        site\n",
      "0   00000000\n",
      "0   10039500\n",
      "0   10068500\n",
      "0   10092700\n",
      "0   10125500\n",
      "..       ...\n",
      "0   13161930\n",
      "0   13168500\n",
      "0   13172500\n",
      "0   13176400\n",
      "0   13185000\n",
      "\n",
      "[123 rows x 1 columns]\n",
      "13185500\n",
      "13186000\n"
     ]
    },
    {
     "name": "stderr",
     "output_type": "stream",
     "text": [
      "/var/folders/_4/klhstfsn73nfrxlfr8_r9dhc0000gn/T/ipykernel_14091/501096422.py:8: FutureWarning: Series.__getitem__ treating keys as positions is deprecated. In a future version, integer keys will always be treated as labels (consistent with DataFrame behavior). To access a value by position, use `ser.iloc[pos]`\n",
      "  st_avil_site = pd.DataFrame(  {'site': [ df_202406['site_no'][0] ]}  )\n"
     ]
    },
    {
     "name": "stdout",
     "output_type": "stream",
     "text": [
      "        site\n",
      "0   00000000\n",
      "0   10039500\n",
      "0   10068500\n",
      "0   10092700\n",
      "0   10125500\n",
      "..       ...\n",
      "0   13168500\n",
      "0   13172500\n",
      "0   13176400\n",
      "0   13185000\n",
      "0   13186000\n",
      "\n",
      "[124 rows x 1 columns]\n",
      "13186500\n",
      "13187000\n",
      "13190500\n"
     ]
    },
    {
     "name": "stderr",
     "output_type": "stream",
     "text": [
      "/var/folders/_4/klhstfsn73nfrxlfr8_r9dhc0000gn/T/ipykernel_14091/501096422.py:8: FutureWarning: Series.__getitem__ treating keys as positions is deprecated. In a future version, integer keys will always be treated as labels (consistent with DataFrame behavior). To access a value by position, use `ser.iloc[pos]`\n",
      "  st_avil_site = pd.DataFrame(  {'site': [ df_202406['site_no'][0] ]}  )\n"
     ]
    },
    {
     "name": "stdout",
     "output_type": "stream",
     "text": [
      "        site\n",
      "0   00000000\n",
      "0   10039500\n",
      "0   10068500\n",
      "0   10092700\n",
      "0   10125500\n",
      "..       ...\n",
      "0   13172500\n",
      "0   13176400\n",
      "0   13185000\n",
      "0   13186000\n",
      "0   13190500\n",
      "\n",
      "[125 rows x 1 columns]\n",
      "13190505\n",
      "13190565\n",
      "13192200\n"
     ]
    },
    {
     "name": "stderr",
     "output_type": "stream",
     "text": [
      "/var/folders/_4/klhstfsn73nfrxlfr8_r9dhc0000gn/T/ipykernel_14091/501096422.py:8: FutureWarning: Series.__getitem__ treating keys as positions is deprecated. In a future version, integer keys will always be treated as labels (consistent with DataFrame behavior). To access a value by position, use `ser.iloc[pos]`\n",
      "  st_avil_site = pd.DataFrame(  {'site': [ df_202406['site_no'][0] ]}  )\n"
     ]
    },
    {
     "name": "stdout",
     "output_type": "stream",
     "text": [
      "        site\n",
      "0   00000000\n",
      "0   10039500\n",
      "0   10068500\n",
      "0   10092700\n",
      "0   10125500\n",
      "..       ...\n",
      "0   13176400\n",
      "0   13185000\n",
      "0   13186000\n",
      "0   13190500\n",
      "0   13192200\n",
      "\n",
      "[126 rows x 1 columns]\n",
      "13192500\n",
      "13193500\n",
      "13196500\n",
      "13199800\n",
      "13200000\n"
     ]
    },
    {
     "name": "stderr",
     "output_type": "stream",
     "text": [
      "/var/folders/_4/klhstfsn73nfrxlfr8_r9dhc0000gn/T/ipykernel_14091/501096422.py:8: FutureWarning: Series.__getitem__ treating keys as positions is deprecated. In a future version, integer keys will always be treated as labels (consistent with DataFrame behavior). To access a value by position, use `ser.iloc[pos]`\n",
      "  st_avil_site = pd.DataFrame(  {'site': [ df_202406['site_no'][0] ]}  )\n"
     ]
    },
    {
     "name": "stdout",
     "output_type": "stream",
     "text": [
      "        site\n",
      "0   00000000\n",
      "0   10039500\n",
      "0   10068500\n",
      "0   10092700\n",
      "0   10125500\n",
      "..       ...\n",
      "0   13185000\n",
      "0   13186000\n",
      "0   13190500\n",
      "0   13192200\n",
      "0   13200000\n",
      "\n",
      "[127 rows x 1 columns]\n",
      "13200500\n",
      "13201400\n",
      "13202000\n",
      "13202180\n",
      "13203510\n",
      "13203600\n",
      "13203760\n",
      "13204300\n",
      "13204800\n",
      "13205000\n",
      "13205500\n",
      "13205520\n",
      "13205610\n",
      "13205633\n",
      "13205642\n",
      "13205645\n",
      "13206000\n"
     ]
    },
    {
     "name": "stderr",
     "output_type": "stream",
     "text": [
      "/var/folders/_4/klhstfsn73nfrxlfr8_r9dhc0000gn/T/ipykernel_14091/501096422.py:8: FutureWarning: Series.__getitem__ treating keys as positions is deprecated. In a future version, integer keys will always be treated as labels (consistent with DataFrame behavior). To access a value by position, use `ser.iloc[pos]`\n",
      "  st_avil_site = pd.DataFrame(  {'site': [ df_202406['site_no'][0] ]}  )\n"
     ]
    },
    {
     "name": "stdout",
     "output_type": "stream",
     "text": [
      "        site\n",
      "0   00000000\n",
      "0   10039500\n",
      "0   10068500\n",
      "0   10092700\n",
      "0   10125500\n",
      "..       ...\n",
      "0   13186000\n",
      "0   13190500\n",
      "0   13192200\n",
      "0   13200000\n",
      "0   13206000\n",
      "\n",
      "[128 rows x 1 columns]\n",
      "13206200\n",
      "13206210\n",
      "13206300\n",
      "13206305\n"
     ]
    },
    {
     "name": "stderr",
     "output_type": "stream",
     "text": [
      "/var/folders/_4/klhstfsn73nfrxlfr8_r9dhc0000gn/T/ipykernel_14091/501096422.py:8: FutureWarning: Series.__getitem__ treating keys as positions is deprecated. In a future version, integer keys will always be treated as labels (consistent with DataFrame behavior). To access a value by position, use `ser.iloc[pos]`\n",
      "  st_avil_site = pd.DataFrame(  {'site': [ df_202406['site_no'][0] ]}  )\n"
     ]
    },
    {
     "name": "stdout",
     "output_type": "stream",
     "text": [
      "        site\n",
      "0   00000000\n",
      "0   10039500\n",
      "0   10068500\n",
      "0   10092700\n",
      "0   10125500\n",
      "..       ...\n",
      "0   13190500\n",
      "0   13192200\n",
      "0   13200000\n",
      "0   13206000\n",
      "0   13206305\n",
      "\n",
      "[129 rows x 1 columns]\n",
      "13207500\n",
      "13208000\n",
      "13208600\n",
      "13208750\n",
      "13208800\n",
      "13209450\n",
      "13209500\n",
      "13209800\n",
      "13210000\n",
      "13210007\n",
      "13210050\n",
      "13210300\n",
      "13210360\n",
      "13210470\n",
      "13210500\n",
      "13210510\n",
      "13210572\n",
      "13210580\n",
      "13210600\n",
      "13210660\n",
      "13210700\n",
      "13210780\n",
      "13210795\n",
      "13210800\n",
      "13210810\n"
     ]
    },
    {
     "name": "stderr",
     "output_type": "stream",
     "text": [
      "/var/folders/_4/klhstfsn73nfrxlfr8_r9dhc0000gn/T/ipykernel_14091/501096422.py:8: FutureWarning: Series.__getitem__ treating keys as positions is deprecated. In a future version, integer keys will always be treated as labels (consistent with DataFrame behavior). To access a value by position, use `ser.iloc[pos]`\n",
      "  st_avil_site = pd.DataFrame(  {'site': [ df_202406['site_no'][0] ]}  )\n"
     ]
    },
    {
     "name": "stdout",
     "output_type": "stream",
     "text": [
      "        site\n",
      "0   00000000\n",
      "0   10039500\n",
      "0   10068500\n",
      "0   10092700\n",
      "0   10125500\n",
      "..       ...\n",
      "0   13192200\n",
      "0   13200000\n",
      "0   13206000\n",
      "0   13206305\n",
      "0   13210810\n",
      "\n",
      "[130 rows x 1 columns]\n",
      "13210815\n",
      "13210820\n",
      "13210824\n"
     ]
    },
    {
     "name": "stderr",
     "output_type": "stream",
     "text": [
      "/var/folders/_4/klhstfsn73nfrxlfr8_r9dhc0000gn/T/ipykernel_14091/501096422.py:8: FutureWarning: Series.__getitem__ treating keys as positions is deprecated. In a future version, integer keys will always be treated as labels (consistent with DataFrame behavior). To access a value by position, use `ser.iloc[pos]`\n",
      "  st_avil_site = pd.DataFrame(  {'site': [ df_202406['site_no'][0] ]}  )\n"
     ]
    },
    {
     "name": "stdout",
     "output_type": "stream",
     "text": [
      "        site\n",
      "0   00000000\n",
      "0   10039500\n",
      "0   10068500\n",
      "0   10092700\n",
      "0   10125500\n",
      "..       ...\n",
      "0   13200000\n",
      "0   13206000\n",
      "0   13206305\n",
      "0   13210810\n",
      "0   13210824\n",
      "\n",
      "[131 rows x 1 columns]\n",
      "132108247\n",
      "13210825\n",
      "13210831\n"
     ]
    },
    {
     "name": "stderr",
     "output_type": "stream",
     "text": [
      "/var/folders/_4/klhstfsn73nfrxlfr8_r9dhc0000gn/T/ipykernel_14091/501096422.py:8: FutureWarning: Series.__getitem__ treating keys as positions is deprecated. In a future version, integer keys will always be treated as labels (consistent with DataFrame behavior). To access a value by position, use `ser.iloc[pos]`\n",
      "  st_avil_site = pd.DataFrame(  {'site': [ df_202406['site_no'][0] ]}  )\n"
     ]
    },
    {
     "name": "stdout",
     "output_type": "stream",
     "text": [
      "        site\n",
      "0   00000000\n",
      "0   10039500\n",
      "0   10068500\n",
      "0   10092700\n",
      "0   10125500\n",
      "..       ...\n",
      "0   13206000\n",
      "0   13206305\n",
      "0   13210810\n",
      "0   13210824\n",
      "0   13210831\n",
      "\n",
      "[132 rows x 1 columns]\n",
      "13210835\n",
      "13210849\n",
      "13210850\n",
      "13210890\n",
      "13210965\n",
      "13210966\n",
      "13210976\n",
      "13210980\n"
     ]
    },
    {
     "name": "stderr",
     "output_type": "stream",
     "text": [
      "/var/folders/_4/klhstfsn73nfrxlfr8_r9dhc0000gn/T/ipykernel_14091/501096422.py:8: FutureWarning: Series.__getitem__ treating keys as positions is deprecated. In a future version, integer keys will always be treated as labels (consistent with DataFrame behavior). To access a value by position, use `ser.iloc[pos]`\n",
      "  st_avil_site = pd.DataFrame(  {'site': [ df_202406['site_no'][0] ]}  )\n"
     ]
    },
    {
     "name": "stdout",
     "output_type": "stream",
     "text": [
      "        site\n",
      "0   00000000\n",
      "0   10039500\n",
      "0   10068500\n",
      "0   10092700\n",
      "0   10125500\n",
      "..       ...\n",
      "0   13206305\n",
      "0   13210810\n",
      "0   13210824\n",
      "0   13210831\n",
      "0   13210980\n",
      "\n",
      "[133 rows x 1 columns]\n",
      "13210983\n",
      "13210985\n",
      "13210986\n"
     ]
    },
    {
     "name": "stderr",
     "output_type": "stream",
     "text": [
      "/var/folders/_4/klhstfsn73nfrxlfr8_r9dhc0000gn/T/ipykernel_14091/501096422.py:8: FutureWarning: Series.__getitem__ treating keys as positions is deprecated. In a future version, integer keys will always be treated as labels (consistent with DataFrame behavior). To access a value by position, use `ser.iloc[pos]`\n",
      "  st_avil_site = pd.DataFrame(  {'site': [ df_202406['site_no'][0] ]}  )\n"
     ]
    },
    {
     "name": "stdout",
     "output_type": "stream",
     "text": [
      "        site\n",
      "0   00000000\n",
      "0   10039500\n",
      "0   10068500\n",
      "0   10092700\n",
      "0   10125500\n",
      "..       ...\n",
      "0   13210810\n",
      "0   13210824\n",
      "0   13210831\n",
      "0   13210980\n",
      "0   13210986\n",
      "\n",
      "[134 rows x 1 columns]\n",
      "132109867\n"
     ]
    },
    {
     "name": "stderr",
     "output_type": "stream",
     "text": [
      "/var/folders/_4/klhstfsn73nfrxlfr8_r9dhc0000gn/T/ipykernel_14091/501096422.py:8: FutureWarning: Series.__getitem__ treating keys as positions is deprecated. In a future version, integer keys will always be treated as labels (consistent with DataFrame behavior). To access a value by position, use `ser.iloc[pos]`\n",
      "  st_avil_site = pd.DataFrame(  {'site': [ df_202406['site_no'][0] ]}  )\n"
     ]
    },
    {
     "name": "stdout",
     "output_type": "stream",
     "text": [
      "         site\n",
      "0    00000000\n",
      "0    10039500\n",
      "0    10068500\n",
      "0    10092700\n",
      "0    10125500\n",
      "..        ...\n",
      "0    13210824\n",
      "0    13210831\n",
      "0    13210980\n",
      "0    13210986\n",
      "0   132109867\n",
      "\n",
      "[135 rows x 1 columns]\n",
      "13210987\n",
      "13210988\n",
      "13210990\n",
      "13211000\n",
      "13211100\n",
      "13211205\n"
     ]
    },
    {
     "name": "stderr",
     "output_type": "stream",
     "text": [
      "/var/folders/_4/klhstfsn73nfrxlfr8_r9dhc0000gn/T/ipykernel_14091/501096422.py:8: FutureWarning: Series.__getitem__ treating keys as positions is deprecated. In a future version, integer keys will always be treated as labels (consistent with DataFrame behavior). To access a value by position, use `ser.iloc[pos]`\n",
      "  st_avil_site = pd.DataFrame(  {'site': [ df_202406['site_no'][0] ]}  )\n"
     ]
    },
    {
     "name": "stdout",
     "output_type": "stream",
     "text": [
      "         site\n",
      "0    00000000\n",
      "0    10039500\n",
      "0    10068500\n",
      "0    10092700\n",
      "0    10125500\n",
      "..        ...\n",
      "0    13210831\n",
      "0    13210980\n",
      "0    13210986\n",
      "0   132109867\n",
      "0    13211205\n",
      "\n",
      "[136 rows x 1 columns]\n",
      "13211210\n"
     ]
    },
    {
     "name": "stderr",
     "output_type": "stream",
     "text": [
      "/var/folders/_4/klhstfsn73nfrxlfr8_r9dhc0000gn/T/ipykernel_14091/501096422.py:8: FutureWarning: Series.__getitem__ treating keys as positions is deprecated. In a future version, integer keys will always be treated as labels (consistent with DataFrame behavior). To access a value by position, use `ser.iloc[pos]`\n",
      "  st_avil_site = pd.DataFrame(  {'site': [ df_202406['site_no'][0] ]}  )\n"
     ]
    },
    {
     "name": "stdout",
     "output_type": "stream",
     "text": [
      "         site\n",
      "0    00000000\n",
      "0    10039500\n",
      "0    10068500\n",
      "0    10092700\n",
      "0    10125500\n",
      "..        ...\n",
      "0    13210980\n",
      "0    13210986\n",
      "0   132109867\n",
      "0    13211205\n",
      "0    13211210\n",
      "\n",
      "[137 rows x 1 columns]\n",
      "13211259\n",
      "13211260\n",
      "13211307\n",
      "13211309\n",
      "13211345\n",
      "13211350\n",
      "13211355\n",
      "13211436\n",
      "13211440\n",
      "13211441\n",
      "13211445\n",
      "13211600\n",
      "13212500\n",
      "13212549\n"
     ]
    },
    {
     "name": "stderr",
     "output_type": "stream",
     "text": [
      "/var/folders/_4/klhstfsn73nfrxlfr8_r9dhc0000gn/T/ipykernel_14091/501096422.py:8: FutureWarning: Series.__getitem__ treating keys as positions is deprecated. In a future version, integer keys will always be treated as labels (consistent with DataFrame behavior). To access a value by position, use `ser.iloc[pos]`\n",
      "  st_avil_site = pd.DataFrame(  {'site': [ df_202406['site_no'][0] ]}  )\n"
     ]
    },
    {
     "name": "stdout",
     "output_type": "stream",
     "text": [
      "         site\n",
      "0    00000000\n",
      "0    10039500\n",
      "0    10068500\n",
      "0    10092700\n",
      "0    10125500\n",
      "..        ...\n",
      "0    13210986\n",
      "0   132109867\n",
      "0    13211205\n",
      "0    13211210\n",
      "0    13212549\n",
      "\n",
      "[138 rows x 1 columns]\n",
      "13212550\n",
      "13212870\n",
      "13212875\n",
      "13212880\n",
      "13212890\n"
     ]
    },
    {
     "name": "stderr",
     "output_type": "stream",
     "text": [
      "/var/folders/_4/klhstfsn73nfrxlfr8_r9dhc0000gn/T/ipykernel_14091/501096422.py:8: FutureWarning: Series.__getitem__ treating keys as positions is deprecated. In a future version, integer keys will always be treated as labels (consistent with DataFrame behavior). To access a value by position, use `ser.iloc[pos]`\n",
      "  st_avil_site = pd.DataFrame(  {'site': [ df_202406['site_no'][0] ]}  )\n"
     ]
    },
    {
     "name": "stdout",
     "output_type": "stream",
     "text": [
      "         site\n",
      "0    00000000\n",
      "0    10039500\n",
      "0    10068500\n",
      "0    10092700\n",
      "0    10125500\n",
      "..        ...\n",
      "0   132109867\n",
      "0    13211205\n",
      "0    13211210\n",
      "0    13212549\n",
      "0    13212890\n",
      "\n",
      "[139 rows x 1 columns]\n",
      "13212900\n",
      "13213000\n"
     ]
    },
    {
     "name": "stderr",
     "output_type": "stream",
     "text": [
      "/var/folders/_4/klhstfsn73nfrxlfr8_r9dhc0000gn/T/ipykernel_14091/501096422.py:8: FutureWarning: Series.__getitem__ treating keys as positions is deprecated. In a future version, integer keys will always be treated as labels (consistent with DataFrame behavior). To access a value by position, use `ser.iloc[pos]`\n",
      "  st_avil_site = pd.DataFrame(  {'site': [ df_202406['site_no'][0] ]}  )\n"
     ]
    },
    {
     "name": "stdout",
     "output_type": "stream",
     "text": [
      "        site\n",
      "0   00000000\n",
      "0   10039500\n",
      "0   10068500\n",
      "0   10092700\n",
      "0   10125500\n",
      "..       ...\n",
      "0   13211205\n",
      "0   13211210\n",
      "0   13212549\n",
      "0   13212890\n",
      "0   13213000\n",
      "\n",
      "[140 rows x 1 columns]\n",
      "13213030\n",
      "13213072\n"
     ]
    },
    {
     "name": "stderr",
     "output_type": "stream",
     "text": [
      "/var/folders/_4/klhstfsn73nfrxlfr8_r9dhc0000gn/T/ipykernel_14091/501096422.py:8: FutureWarning: Series.__getitem__ treating keys as positions is deprecated. In a future version, integer keys will always be treated as labels (consistent with DataFrame behavior). To access a value by position, use `ser.iloc[pos]`\n",
      "  st_avil_site = pd.DataFrame(  {'site': [ df_202406['site_no'][0] ]}  )\n"
     ]
    },
    {
     "name": "stdout",
     "output_type": "stream",
     "text": [
      "        site\n",
      "0   00000000\n",
      "0   10039500\n",
      "0   10068500\n",
      "0   10092700\n",
      "0   10125500\n",
      "..       ...\n",
      "0   13211210\n",
      "0   13212549\n",
      "0   13212890\n",
      "0   13213000\n",
      "0   13213072\n",
      "\n",
      "[141 rows x 1 columns]\n",
      "13213080\n",
      "13213100\n"
     ]
    },
    {
     "name": "stderr",
     "output_type": "stream",
     "text": [
      "/var/folders/_4/klhstfsn73nfrxlfr8_r9dhc0000gn/T/ipykernel_14091/501096422.py:8: FutureWarning: Series.__getitem__ treating keys as positions is deprecated. In a future version, integer keys will always be treated as labels (consistent with DataFrame behavior). To access a value by position, use `ser.iloc[pos]`\n",
      "  st_avil_site = pd.DataFrame(  {'site': [ df_202406['site_no'][0] ]}  )\n"
     ]
    },
    {
     "name": "stdout",
     "output_type": "stream",
     "text": [
      "        site\n",
      "0   00000000\n",
      "0   10039500\n",
      "0   10068500\n",
      "0   10092700\n",
      "0   10125500\n",
      "..       ...\n",
      "0   13212549\n",
      "0   13212890\n",
      "0   13213000\n",
      "0   13213072\n",
      "0   13213100\n",
      "\n",
      "[142 rows x 1 columns]\n",
      "13234300\n",
      "13234500\n",
      "13235000\n"
     ]
    },
    {
     "name": "stderr",
     "output_type": "stream",
     "text": [
      "/var/folders/_4/klhstfsn73nfrxlfr8_r9dhc0000gn/T/ipykernel_14091/501096422.py:8: FutureWarning: Series.__getitem__ treating keys as positions is deprecated. In a future version, integer keys will always be treated as labels (consistent with DataFrame behavior). To access a value by position, use `ser.iloc[pos]`\n",
      "  st_avil_site = pd.DataFrame(  {'site': [ df_202406['site_no'][0] ]}  )\n"
     ]
    },
    {
     "name": "stdout",
     "output_type": "stream",
     "text": [
      "        site\n",
      "0   00000000\n",
      "0   10039500\n",
      "0   10068500\n",
      "0   10092700\n",
      "0   10125500\n",
      "..       ...\n",
      "0   13212890\n",
      "0   13213000\n",
      "0   13213072\n",
      "0   13213100\n",
      "0   13235000\n",
      "\n",
      "[143 rows x 1 columns]\n",
      "13235100\n",
      "13236500\n"
     ]
    },
    {
     "name": "stderr",
     "output_type": "stream",
     "text": [
      "/var/folders/_4/klhstfsn73nfrxlfr8_r9dhc0000gn/T/ipykernel_14091/501096422.py:8: FutureWarning: Series.__getitem__ treating keys as positions is deprecated. In a future version, integer keys will always be treated as labels (consistent with DataFrame behavior). To access a value by position, use `ser.iloc[pos]`\n",
      "  st_avil_site = pd.DataFrame(  {'site': [ df_202406['site_no'][0] ]}  )\n"
     ]
    },
    {
     "name": "stdout",
     "output_type": "stream",
     "text": [
      "        site\n",
      "0   00000000\n",
      "0   10039500\n",
      "0   10068500\n",
      "0   10092700\n",
      "0   10125500\n",
      "..       ...\n",
      "0   13213000\n",
      "0   13213072\n",
      "0   13213100\n",
      "0   13235000\n",
      "0   13236500\n",
      "\n",
      "[144 rows x 1 columns]\n",
      "13237300\n",
      "13237600\n",
      "13237920\n"
     ]
    },
    {
     "name": "stderr",
     "output_type": "stream",
     "text": [
      "/var/folders/_4/klhstfsn73nfrxlfr8_r9dhc0000gn/T/ipykernel_14091/501096422.py:8: FutureWarning: Series.__getitem__ treating keys as positions is deprecated. In a future version, integer keys will always be treated as labels (consistent with DataFrame behavior). To access a value by position, use `ser.iloc[pos]`\n",
      "  st_avil_site = pd.DataFrame(  {'site': [ df_202406['site_no'][0] ]}  )\n"
     ]
    },
    {
     "name": "stdout",
     "output_type": "stream",
     "text": [
      "        site\n",
      "0   00000000\n",
      "0   10039500\n",
      "0   10068500\n",
      "0   10092700\n",
      "0   10125500\n",
      "..       ...\n",
      "0   13213072\n",
      "0   13213100\n",
      "0   13235000\n",
      "0   13236500\n",
      "0   13237920\n",
      "\n",
      "[145 rows x 1 columns]\n",
      "13238000\n",
      "13238300\n",
      "13238315\n",
      "13238320\n",
      "13238322\n",
      "13238330\n",
      "13239000\n"
     ]
    },
    {
     "name": "stderr",
     "output_type": "stream",
     "text": [
      "/var/folders/_4/klhstfsn73nfrxlfr8_r9dhc0000gn/T/ipykernel_14091/501096422.py:8: FutureWarning: Series.__getitem__ treating keys as positions is deprecated. In a future version, integer keys will always be treated as labels (consistent with DataFrame behavior). To access a value by position, use `ser.iloc[pos]`\n",
      "  st_avil_site = pd.DataFrame(  {'site': [ df_202406['site_no'][0] ]}  )\n"
     ]
    },
    {
     "name": "stdout",
     "output_type": "stream",
     "text": [
      "        site\n",
      "0   00000000\n",
      "0   10039500\n",
      "0   10068500\n",
      "0   10092700\n",
      "0   10125500\n",
      "..       ...\n",
      "0   13213100\n",
      "0   13235000\n",
      "0   13236500\n",
      "0   13237920\n",
      "0   13239000\n",
      "\n",
      "[146 rows x 1 columns]\n",
      "13239600\n",
      "13240000\n"
     ]
    },
    {
     "name": "stderr",
     "output_type": "stream",
     "text": [
      "/var/folders/_4/klhstfsn73nfrxlfr8_r9dhc0000gn/T/ipykernel_14091/501096422.py:8: FutureWarning: Series.__getitem__ treating keys as positions is deprecated. In a future version, integer keys will always be treated as labels (consistent with DataFrame behavior). To access a value by position, use `ser.iloc[pos]`\n",
      "  st_avil_site = pd.DataFrame(  {'site': [ df_202406['site_no'][0] ]}  )\n"
     ]
    },
    {
     "name": "stdout",
     "output_type": "stream",
     "text": [
      "        site\n",
      "0   00000000\n",
      "0   10039500\n",
      "0   10068500\n",
      "0   10092700\n",
      "0   10125500\n",
      "..       ...\n",
      "0   13235000\n",
      "0   13236500\n",
      "0   13237920\n",
      "0   13239000\n",
      "0   13240000\n",
      "\n",
      "[147 rows x 1 columns]\n",
      "13242500\n",
      "13243110\n",
      "13243200\n",
      "13243500\n",
      "13245000\n",
      "13245400\n",
      "13246000\n"
     ]
    },
    {
     "name": "stderr",
     "output_type": "stream",
     "text": [
      "/var/folders/_4/klhstfsn73nfrxlfr8_r9dhc0000gn/T/ipykernel_14091/501096422.py:8: FutureWarning: Series.__getitem__ treating keys as positions is deprecated. In a future version, integer keys will always be treated as labels (consistent with DataFrame behavior). To access a value by position, use `ser.iloc[pos]`\n",
      "  st_avil_site = pd.DataFrame(  {'site': [ df_202406['site_no'][0] ]}  )\n"
     ]
    },
    {
     "name": "stdout",
     "output_type": "stream",
     "text": [
      "        site\n",
      "0   00000000\n",
      "0   10039500\n",
      "0   10068500\n",
      "0   10092700\n",
      "0   10125500\n",
      "..       ...\n",
      "0   13236500\n",
      "0   13237920\n",
      "0   13239000\n",
      "0   13240000\n",
      "0   13246000\n",
      "\n",
      "[148 rows x 1 columns]\n",
      "13247000\n",
      "13247500\n"
     ]
    },
    {
     "name": "stderr",
     "output_type": "stream",
     "text": [
      "/var/folders/_4/klhstfsn73nfrxlfr8_r9dhc0000gn/T/ipykernel_14091/501096422.py:8: FutureWarning: Series.__getitem__ treating keys as positions is deprecated. In a future version, integer keys will always be treated as labels (consistent with DataFrame behavior). To access a value by position, use `ser.iloc[pos]`\n",
      "  st_avil_site = pd.DataFrame(  {'site': [ df_202406['site_no'][0] ]}  )\n"
     ]
    },
    {
     "name": "stdout",
     "output_type": "stream",
     "text": [
      "        site\n",
      "0   00000000\n",
      "0   10039500\n",
      "0   10068500\n",
      "0   10092700\n",
      "0   10125500\n",
      "..       ...\n",
      "0   13237920\n",
      "0   13239000\n",
      "0   13240000\n",
      "0   13246000\n",
      "0   13247500\n",
      "\n",
      "[149 rows x 1 columns]\n",
      "13248500\n",
      "13248900\n",
      "13248970\n",
      "13249500\n"
     ]
    },
    {
     "name": "stderr",
     "output_type": "stream",
     "text": [
      "/var/folders/_4/klhstfsn73nfrxlfr8_r9dhc0000gn/T/ipykernel_14091/501096422.py:8: FutureWarning: Series.__getitem__ treating keys as positions is deprecated. In a future version, integer keys will always be treated as labels (consistent with DataFrame behavior). To access a value by position, use `ser.iloc[pos]`\n",
      "  st_avil_site = pd.DataFrame(  {'site': [ df_202406['site_no'][0] ]}  )\n"
     ]
    },
    {
     "name": "stdout",
     "output_type": "stream",
     "text": [
      "        site\n",
      "0   00000000\n",
      "0   10039500\n",
      "0   10068500\n",
      "0   10092700\n",
      "0   10125500\n",
      "..       ...\n",
      "0   13239000\n",
      "0   13240000\n",
      "0   13246000\n",
      "0   13247500\n",
      "0   13249500\n",
      "\n",
      "[150 rows x 1 columns]\n",
      "13250000\n"
     ]
    },
    {
     "name": "stderr",
     "output_type": "stream",
     "text": [
      "/var/folders/_4/klhstfsn73nfrxlfr8_r9dhc0000gn/T/ipykernel_14091/501096422.py:8: FutureWarning: Series.__getitem__ treating keys as positions is deprecated. In a future version, integer keys will always be treated as labels (consistent with DataFrame behavior). To access a value by position, use `ser.iloc[pos]`\n",
      "  st_avil_site = pd.DataFrame(  {'site': [ df_202406['site_no'][0] ]}  )\n"
     ]
    },
    {
     "name": "stdout",
     "output_type": "stream",
     "text": [
      "        site\n",
      "0   00000000\n",
      "0   10039500\n",
      "0   10068500\n",
      "0   10092700\n",
      "0   10125500\n",
      "..       ...\n",
      "0   13240000\n",
      "0   13246000\n",
      "0   13247500\n",
      "0   13249500\n",
      "0   13250000\n",
      "\n",
      "[151 rows x 1 columns]\n",
      "13250600\n",
      "13250650\n",
      "13251000\n"
     ]
    },
    {
     "name": "stderr",
     "output_type": "stream",
     "text": [
      "/var/folders/_4/klhstfsn73nfrxlfr8_r9dhc0000gn/T/ipykernel_14091/501096422.py:8: FutureWarning: Series.__getitem__ treating keys as positions is deprecated. In a future version, integer keys will always be treated as labels (consistent with DataFrame behavior). To access a value by position, use `ser.iloc[pos]`\n",
      "  st_avil_site = pd.DataFrame(  {'site': [ df_202406['site_no'][0] ]}  )\n"
     ]
    },
    {
     "name": "stdout",
     "output_type": "stream",
     "text": [
      "        site\n",
      "0   00000000\n",
      "0   10039500\n",
      "0   10068500\n",
      "0   10092700\n",
      "0   10125500\n",
      "..       ...\n",
      "0   13246000\n",
      "0   13247500\n",
      "0   13249500\n",
      "0   13250000\n",
      "0   13251000\n",
      "\n",
      "[152 rows x 1 columns]\n",
      "13251300\n",
      "13251490\n",
      "13251500\n",
      "13251700\n",
      "13252000\n",
      "13253000\n",
      "13253200\n",
      "13253500\n",
      "13253750\n",
      "13253900\n",
      "13254500\n",
      "13255000\n",
      "13255050\n",
      "13255060\n",
      "13255065\n",
      "13255070\n",
      "13255080\n",
      "13255280\n",
      "13255500\n",
      "13255630\n",
      "13255750\n",
      "13255800\n",
      "13256000\n",
      "13256800\n",
      "13257000\n",
      "13257050\n",
      "13257600\n",
      "13257610\n",
      "13257700\n",
      "13257710\n",
      "13257800\n",
      "13257995\n",
      "13258050\n",
      "13258350\n",
      "13258500\n"
     ]
    },
    {
     "name": "stderr",
     "output_type": "stream",
     "text": [
      "/var/folders/_4/klhstfsn73nfrxlfr8_r9dhc0000gn/T/ipykernel_14091/501096422.py:8: FutureWarning: Series.__getitem__ treating keys as positions is deprecated. In a future version, integer keys will always be treated as labels (consistent with DataFrame behavior). To access a value by position, use `ser.iloc[pos]`\n",
      "  st_avil_site = pd.DataFrame(  {'site': [ df_202406['site_no'][0] ]}  )\n"
     ]
    },
    {
     "name": "stdout",
     "output_type": "stream",
     "text": [
      "        site\n",
      "0   00000000\n",
      "0   10039500\n",
      "0   10068500\n",
      "0   10092700\n",
      "0   10125500\n",
      "..       ...\n",
      "0   13247500\n",
      "0   13249500\n",
      "0   13250000\n",
      "0   13251000\n",
      "0   13258500\n",
      "\n",
      "[153 rows x 1 columns]\n",
      "13259500\n",
      "13259520\n",
      "13259800\n",
      "13260000\n",
      "13260090\n",
      "13260300\n",
      "13260500\n",
      "13261000\n",
      "13261600\n",
      "13261647\n",
      "13261650\n",
      "13261670\n",
      "13261830\n",
      "13261840\n",
      "13261880\n",
      "13261962\n",
      "13261965\n",
      "13261995\n",
      "13263150\n",
      "13263400\n",
      "13263500\n",
      "13263700\n",
      "13263750\n",
      "13263800\n",
      "13263930\n",
      "13263950\n",
      "13264500\n",
      "13265500\n"
     ]
    },
    {
     "name": "stderr",
     "output_type": "stream",
     "text": [
      "/var/folders/_4/klhstfsn73nfrxlfr8_r9dhc0000gn/T/ipykernel_14091/501096422.py:8: FutureWarning: Series.__getitem__ treating keys as positions is deprecated. In a future version, integer keys will always be treated as labels (consistent with DataFrame behavior). To access a value by position, use `ser.iloc[pos]`\n",
      "  st_avil_site = pd.DataFrame(  {'site': [ df_202406['site_no'][0] ]}  )\n"
     ]
    },
    {
     "name": "stdout",
     "output_type": "stream",
     "text": [
      "        site\n",
      "0   00000000\n",
      "0   10039500\n",
      "0   10068500\n",
      "0   10092700\n",
      "0   10125500\n",
      "..       ...\n",
      "0   13249500\n",
      "0   13250000\n",
      "0   13251000\n",
      "0   13258500\n",
      "0   13265500\n",
      "\n",
      "[154 rows x 1 columns]\n",
      "13266000\n"
     ]
    },
    {
     "name": "stderr",
     "output_type": "stream",
     "text": [
      "/var/folders/_4/klhstfsn73nfrxlfr8_r9dhc0000gn/T/ipykernel_14091/501096422.py:8: FutureWarning: Series.__getitem__ treating keys as positions is deprecated. In a future version, integer keys will always be treated as labels (consistent with DataFrame behavior). To access a value by position, use `ser.iloc[pos]`\n",
      "  st_avil_site = pd.DataFrame(  {'site': [ df_202406['site_no'][0] ]}  )\n"
     ]
    },
    {
     "name": "stdout",
     "output_type": "stream",
     "text": [
      "        site\n",
      "0   00000000\n",
      "0   10039500\n",
      "0   10068500\n",
      "0   10092700\n",
      "0   10125500\n",
      "..       ...\n",
      "0   13250000\n",
      "0   13251000\n",
      "0   13258500\n",
      "0   13265500\n",
      "0   13266000\n",
      "\n",
      "[155 rows x 1 columns]\n",
      "13266600\n",
      "13266850\n",
      "13267350\n",
      "13267400\n",
      "13267410\n",
      "13268500\n",
      "13268800\n",
      "13269000\n"
     ]
    },
    {
     "name": "stderr",
     "output_type": "stream",
     "text": [
      "/var/folders/_4/klhstfsn73nfrxlfr8_r9dhc0000gn/T/ipykernel_14091/501096422.py:8: FutureWarning: Series.__getitem__ treating keys as positions is deprecated. In a future version, integer keys will always be treated as labels (consistent with DataFrame behavior). To access a value by position, use `ser.iloc[pos]`\n",
      "  st_avil_site = pd.DataFrame(  {'site': [ df_202406['site_no'][0] ]}  )\n"
     ]
    },
    {
     "name": "stdout",
     "output_type": "stream",
     "text": [
      "        site\n",
      "0   00000000\n",
      "0   10039500\n",
      "0   10068500\n",
      "0   10092700\n",
      "0   10125500\n",
      "..       ...\n",
      "0   13251000\n",
      "0   13258500\n",
      "0   13265500\n",
      "0   13266000\n",
      "0   13269000\n",
      "\n",
      "[156 rows x 1 columns]\n",
      "13269210\n",
      "13269228\n",
      "13289600\n",
      "13289720\n",
      "13289800\n",
      "13289960\n",
      "13290200\n",
      "13292200\n",
      "13292400\n",
      "13292500\n",
      "13293000\n",
      "13293200\n",
      "13293400\n",
      "13293800\n",
      "13293890\n",
      "13293900\n",
      "13294500\n",
      "13295000\n"
     ]
    },
    {
     "name": "stderr",
     "output_type": "stream",
     "text": [
      "/var/folders/_4/klhstfsn73nfrxlfr8_r9dhc0000gn/T/ipykernel_14091/501096422.py:8: FutureWarning: Series.__getitem__ treating keys as positions is deprecated. In a future version, integer keys will always be treated as labels (consistent with DataFrame behavior). To access a value by position, use `ser.iloc[pos]`\n",
      "  st_avil_site = pd.DataFrame(  {'site': [ df_202406['site_no'][0] ]}  )\n"
     ]
    },
    {
     "name": "stdout",
     "output_type": "stream",
     "text": [
      "        site\n",
      "0   00000000\n",
      "0   10039500\n",
      "0   10068500\n",
      "0   10092700\n",
      "0   10125500\n",
      "..       ...\n",
      "0   13258500\n",
      "0   13265500\n",
      "0   13266000\n",
      "0   13269000\n",
      "0   13295000\n",
      "\n",
      "[157 rows x 1 columns]\n",
      "13295500\n",
      "13295650\n",
      "13295850\n",
      "13295875\n",
      "13295900\n",
      "13296000\n"
     ]
    },
    {
     "name": "stderr",
     "output_type": "stream",
     "text": [
      "/var/folders/_4/klhstfsn73nfrxlfr8_r9dhc0000gn/T/ipykernel_14091/501096422.py:8: FutureWarning: Series.__getitem__ treating keys as positions is deprecated. In a future version, integer keys will always be treated as labels (consistent with DataFrame behavior). To access a value by position, use `ser.iloc[pos]`\n",
      "  st_avil_site = pd.DataFrame(  {'site': [ df_202406['site_no'][0] ]}  )\n"
     ]
    },
    {
     "name": "stdout",
     "output_type": "stream",
     "text": [
      "        site\n",
      "0   00000000\n",
      "0   10039500\n",
      "0   10068500\n",
      "0   10092700\n",
      "0   10125500\n",
      "..       ...\n",
      "0   13265500\n",
      "0   13266000\n",
      "0   13269000\n",
      "0   13295000\n",
      "0   13296000\n",
      "\n",
      "[158 rows x 1 columns]\n",
      "13296500\n"
     ]
    },
    {
     "name": "stderr",
     "output_type": "stream",
     "text": [
      "/var/folders/_4/klhstfsn73nfrxlfr8_r9dhc0000gn/T/ipykernel_14091/501096422.py:8: FutureWarning: Series.__getitem__ treating keys as positions is deprecated. In a future version, integer keys will always be treated as labels (consistent with DataFrame behavior). To access a value by position, use `ser.iloc[pos]`\n",
      "  st_avil_site = pd.DataFrame(  {'site': [ df_202406['site_no'][0] ]}  )\n"
     ]
    },
    {
     "name": "stdout",
     "output_type": "stream",
     "text": [
      "        site\n",
      "0   00000000\n",
      "0   10039500\n",
      "0   10068500\n",
      "0   10092700\n",
      "0   10125500\n",
      "..       ...\n",
      "0   13266000\n",
      "0   13269000\n",
      "0   13295000\n",
      "0   13296000\n",
      "0   13296500\n",
      "\n",
      "[159 rows x 1 columns]\n",
      "13297000\n",
      "13297100\n",
      "13297250\n",
      "13297300\n",
      "13297310\n",
      "13297312\n",
      "13297314\n",
      "13297320\n",
      "13297330\n"
     ]
    },
    {
     "name": "stderr",
     "output_type": "stream",
     "text": [
      "/var/folders/_4/klhstfsn73nfrxlfr8_r9dhc0000gn/T/ipykernel_14091/501096422.py:8: FutureWarning: Series.__getitem__ treating keys as positions is deprecated. In a future version, integer keys will always be treated as labels (consistent with DataFrame behavior). To access a value by position, use `ser.iloc[pos]`\n",
      "  st_avil_site = pd.DataFrame(  {'site': [ df_202406['site_no'][0] ]}  )\n"
     ]
    },
    {
     "name": "stdout",
     "output_type": "stream",
     "text": [
      "        site\n",
      "0   00000000\n",
      "0   10039500\n",
      "0   10068500\n",
      "0   10092700\n",
      "0   10125500\n",
      "..       ...\n",
      "0   13269000\n",
      "0   13295000\n",
      "0   13296000\n",
      "0   13296500\n",
      "0   13297330\n",
      "\n",
      "[160 rows x 1 columns]\n",
      "13297340\n",
      "13297350\n"
     ]
    },
    {
     "name": "stderr",
     "output_type": "stream",
     "text": [
      "/var/folders/_4/klhstfsn73nfrxlfr8_r9dhc0000gn/T/ipykernel_14091/501096422.py:8: FutureWarning: Series.__getitem__ treating keys as positions is deprecated. In a future version, integer keys will always be treated as labels (consistent with DataFrame behavior). To access a value by position, use `ser.iloc[pos]`\n",
      "  st_avil_site = pd.DataFrame(  {'site': [ df_202406['site_no'][0] ]}  )\n"
     ]
    },
    {
     "name": "stdout",
     "output_type": "stream",
     "text": [
      "        site\n",
      "0   00000000\n",
      "0   10039500\n",
      "0   10068500\n",
      "0   10092700\n",
      "0   10125500\n",
      "..       ...\n",
      "0   13295000\n",
      "0   13296000\n",
      "0   13296500\n",
      "0   13297330\n",
      "0   13297350\n",
      "\n",
      "[161 rows x 1 columns]\n",
      "13297355\n"
     ]
    },
    {
     "name": "stderr",
     "output_type": "stream",
     "text": [
      "/var/folders/_4/klhstfsn73nfrxlfr8_r9dhc0000gn/T/ipykernel_14091/501096422.py:8: FutureWarning: Series.__getitem__ treating keys as positions is deprecated. In a future version, integer keys will always be treated as labels (consistent with DataFrame behavior). To access a value by position, use `ser.iloc[pos]`\n",
      "  st_avil_site = pd.DataFrame(  {'site': [ df_202406['site_no'][0] ]}  )\n"
     ]
    },
    {
     "name": "stdout",
     "output_type": "stream",
     "text": [
      "        site\n",
      "0   00000000\n",
      "0   10039500\n",
      "0   10068500\n",
      "0   10092700\n",
      "0   10125500\n",
      "..       ...\n",
      "0   13296000\n",
      "0   13296500\n",
      "0   13297330\n",
      "0   13297350\n",
      "0   13297355\n",
      "\n",
      "[162 rows x 1 columns]\n",
      "13297360\n",
      "13297380\n"
     ]
    },
    {
     "name": "stderr",
     "output_type": "stream",
     "text": [
      "/var/folders/_4/klhstfsn73nfrxlfr8_r9dhc0000gn/T/ipykernel_14091/501096422.py:8: FutureWarning: Series.__getitem__ treating keys as positions is deprecated. In a future version, integer keys will always be treated as labels (consistent with DataFrame behavior). To access a value by position, use `ser.iloc[pos]`\n",
      "  st_avil_site = pd.DataFrame(  {'site': [ df_202406['site_no'][0] ]}  )\n"
     ]
    },
    {
     "name": "stdout",
     "output_type": "stream",
     "text": [
      "        site\n",
      "0   00000000\n",
      "0   10039500\n",
      "0   10068500\n",
      "0   10092700\n",
      "0   10125500\n",
      "..       ...\n",
      "0   13296500\n",
      "0   13297330\n",
      "0   13297350\n",
      "0   13297355\n",
      "0   13297380\n",
      "\n",
      "[163 rows x 1 columns]\n",
      "13297384\n",
      "13297388\n",
      "13297394\n",
      "13297396\n",
      "13297400\n",
      "13297402\n",
      "13297404\n",
      "13297418\n",
      "13297425\n",
      "13297434\n",
      "13297436\n",
      "13297438\n",
      "13297440\n",
      "13297445\n",
      "13297450\n",
      "13297453\n",
      "13297460\n",
      "13297462\n",
      "13297466\n",
      "13297470\n",
      "13297474\n",
      "13297480\n",
      "13297485\n",
      "13297500\n",
      "13297530\n",
      "13297580\n",
      "13297590\n",
      "13297597\n",
      "13297600\n",
      "13297670\n",
      "13297680\n",
      "13297700\n",
      "13297880\n",
      "13297900\n",
      "13298000\n",
      "13298400\n",
      "13298500\n",
      "13298570\n",
      "13298600\n",
      "13299390\n",
      "13299705\n",
      "13299850\n",
      "13299900\n",
      "13300100\n",
      "13301000\n",
      "13301100\n",
      "13301500\n",
      "13301504\n",
      "13301510\n",
      "13301515\n",
      "13301520\n",
      "13301525\n",
      "13301530\n",
      "13301532\n",
      "13301535\n",
      "13301595\n",
      "13301600\n",
      "13301620\n",
      "13301700\n",
      "13301850\n",
      "13301900\n",
      "13301990\n",
      "13301995\n",
      "13302000\n",
      "13302005\n"
     ]
    },
    {
     "name": "stderr",
     "output_type": "stream",
     "text": [
      "/var/folders/_4/klhstfsn73nfrxlfr8_r9dhc0000gn/T/ipykernel_14091/501096422.py:8: FutureWarning: Series.__getitem__ treating keys as positions is deprecated. In a future version, integer keys will always be treated as labels (consistent with DataFrame behavior). To access a value by position, use `ser.iloc[pos]`\n",
      "  st_avil_site = pd.DataFrame(  {'site': [ df_202406['site_no'][0] ]}  )\n"
     ]
    },
    {
     "name": "stdout",
     "output_type": "stream",
     "text": [
      "        site\n",
      "0   00000000\n",
      "0   10039500\n",
      "0   10068500\n",
      "0   10092700\n",
      "0   10125500\n",
      "..       ...\n",
      "0   13297330\n",
      "0   13297350\n",
      "0   13297355\n",
      "0   13297380\n",
      "0   13302005\n",
      "\n",
      "[164 rows x 1 columns]\n",
      "13302180\n",
      "13302500\n"
     ]
    },
    {
     "name": "stderr",
     "output_type": "stream",
     "text": [
      "/var/folders/_4/klhstfsn73nfrxlfr8_r9dhc0000gn/T/ipykernel_14091/501096422.py:8: FutureWarning: Series.__getitem__ treating keys as positions is deprecated. In a future version, integer keys will always be treated as labels (consistent with DataFrame behavior). To access a value by position, use `ser.iloc[pos]`\n",
      "  st_avil_site = pd.DataFrame(  {'site': [ df_202406['site_no'][0] ]}  )\n"
     ]
    },
    {
     "name": "stdout",
     "output_type": "stream",
     "text": [
      "        site\n",
      "0   00000000\n",
      "0   10039500\n",
      "0   10068500\n",
      "0   10092700\n",
      "0   10125500\n",
      "..       ...\n",
      "0   13297350\n",
      "0   13297355\n",
      "0   13297380\n",
      "0   13302005\n",
      "0   13302500\n",
      "\n",
      "[165 rows x 1 columns]\n",
      "13303000\n",
      "13303300\n",
      "13304050\n"
     ]
    },
    {
     "name": "stderr",
     "output_type": "stream",
     "text": [
      "/var/folders/_4/klhstfsn73nfrxlfr8_r9dhc0000gn/T/ipykernel_14091/501096422.py:8: FutureWarning: Series.__getitem__ treating keys as positions is deprecated. In a future version, integer keys will always be treated as labels (consistent with DataFrame behavior). To access a value by position, use `ser.iloc[pos]`\n",
      "  st_avil_site = pd.DataFrame(  {'site': [ df_202406['site_no'][0] ]}  )\n"
     ]
    },
    {
     "name": "stdout",
     "output_type": "stream",
     "text": [
      "        site\n",
      "0   00000000\n",
      "0   10039500\n",
      "0   10068500\n",
      "0   10092700\n",
      "0   10125500\n",
      "..       ...\n",
      "0   13297355\n",
      "0   13297380\n",
      "0   13302005\n",
      "0   13302500\n",
      "0   13304050\n",
      "\n",
      "[166 rows x 1 columns]\n",
      "13304185\n",
      "13304200\n",
      "13304875\n",
      "13305000\n"
     ]
    },
    {
     "name": "stderr",
     "output_type": "stream",
     "text": [
      "/var/folders/_4/klhstfsn73nfrxlfr8_r9dhc0000gn/T/ipykernel_14091/501096422.py:8: FutureWarning: Series.__getitem__ treating keys as positions is deprecated. In a future version, integer keys will always be treated as labels (consistent with DataFrame behavior). To access a value by position, use `ser.iloc[pos]`\n",
      "  st_avil_site = pd.DataFrame(  {'site': [ df_202406['site_no'][0] ]}  )\n"
     ]
    },
    {
     "name": "stdout",
     "output_type": "stream",
     "text": [
      "        site\n",
      "0   00000000\n",
      "0   10039500\n",
      "0   10068500\n",
      "0   10092700\n",
      "0   10125500\n",
      "..       ...\n",
      "0   13297380\n",
      "0   13302005\n",
      "0   13302500\n",
      "0   13304050\n",
      "0   13305000\n",
      "\n",
      "[167 rows x 1 columns]\n",
      "13305300\n",
      "13305310\n"
     ]
    },
    {
     "name": "stderr",
     "output_type": "stream",
     "text": [
      "/var/folders/_4/klhstfsn73nfrxlfr8_r9dhc0000gn/T/ipykernel_14091/501096422.py:8: FutureWarning: Series.__getitem__ treating keys as positions is deprecated. In a future version, integer keys will always be treated as labels (consistent with DataFrame behavior). To access a value by position, use `ser.iloc[pos]`\n",
      "  st_avil_site = pd.DataFrame(  {'site': [ df_202406['site_no'][0] ]}  )\n"
     ]
    },
    {
     "name": "stdout",
     "output_type": "stream",
     "text": [
      "        site\n",
      "0   00000000\n",
      "0   10039500\n",
      "0   10068500\n",
      "0   10092700\n",
      "0   10125500\n",
      "..       ...\n",
      "0   13302005\n",
      "0   13302500\n",
      "0   13304050\n",
      "0   13305000\n",
      "0   13305310\n",
      "\n",
      "[168 rows x 1 columns]\n",
      "13305500\n",
      "13305700\n",
      "13305800\n",
      "13306000\n",
      "13306300\n",
      "13306320\n",
      "13306330\n",
      "13306375\n",
      "13306385\n"
     ]
    },
    {
     "name": "stderr",
     "output_type": "stream",
     "text": [
      "/var/folders/_4/klhstfsn73nfrxlfr8_r9dhc0000gn/T/ipykernel_14091/501096422.py:8: FutureWarning: Series.__getitem__ treating keys as positions is deprecated. In a future version, integer keys will always be treated as labels (consistent with DataFrame behavior). To access a value by position, use `ser.iloc[pos]`\n",
      "  st_avil_site = pd.DataFrame(  {'site': [ df_202406['site_no'][0] ]}  )\n"
     ]
    },
    {
     "name": "stdout",
     "output_type": "stream",
     "text": [
      "        site\n",
      "0   00000000\n",
      "0   10039500\n",
      "0   10068500\n",
      "0   10092700\n",
      "0   10125500\n",
      "..       ...\n",
      "0   13302500\n",
      "0   13304050\n",
      "0   13305000\n",
      "0   13305310\n",
      "0   13306385\n",
      "\n",
      "[169 rows x 1 columns]\n",
      "13306440\n",
      "13306500\n",
      "13307000\n"
     ]
    },
    {
     "name": "stderr",
     "output_type": "stream",
     "text": [
      "/var/folders/_4/klhstfsn73nfrxlfr8_r9dhc0000gn/T/ipykernel_14091/501096422.py:8: FutureWarning: Series.__getitem__ treating keys as positions is deprecated. In a future version, integer keys will always be treated as labels (consistent with DataFrame behavior). To access a value by position, use `ser.iloc[pos]`\n",
      "  st_avil_site = pd.DataFrame(  {'site': [ df_202406['site_no'][0] ]}  )\n"
     ]
    },
    {
     "name": "stdout",
     "output_type": "stream",
     "text": [
      "        site\n",
      "0   00000000\n",
      "0   10039500\n",
      "0   10068500\n",
      "0   10092700\n",
      "0   10125500\n",
      "..       ...\n",
      "0   13304050\n",
      "0   13305000\n",
      "0   13305310\n",
      "0   13306385\n",
      "0   13307000\n",
      "\n",
      "[170 rows x 1 columns]\n",
      "13307050\n",
      "13308500\n",
      "13309000\n",
      "13309200\n",
      "13309220\n"
     ]
    },
    {
     "name": "stderr",
     "output_type": "stream",
     "text": [
      "/var/folders/_4/klhstfsn73nfrxlfr8_r9dhc0000gn/T/ipykernel_14091/501096422.py:8: FutureWarning: Series.__getitem__ treating keys as positions is deprecated. In a future version, integer keys will always be treated as labels (consistent with DataFrame behavior). To access a value by position, use `ser.iloc[pos]`\n",
      "  st_avil_site = pd.DataFrame(  {'site': [ df_202406['site_no'][0] ]}  )\n"
     ]
    },
    {
     "name": "stdout",
     "output_type": "stream",
     "text": [
      "        site\n",
      "0   00000000\n",
      "0   10039500\n",
      "0   10068500\n",
      "0   10092700\n",
      "0   10125500\n",
      "..       ...\n",
      "0   13305000\n",
      "0   13305310\n",
      "0   13306385\n",
      "0   13307000\n",
      "0   13309220\n",
      "\n",
      "[171 rows x 1 columns]\n",
      "13310000\n",
      "13310199\n"
     ]
    },
    {
     "name": "stderr",
     "output_type": "stream",
     "text": [
      "/var/folders/_4/klhstfsn73nfrxlfr8_r9dhc0000gn/T/ipykernel_14091/501096422.py:8: FutureWarning: Series.__getitem__ treating keys as positions is deprecated. In a future version, integer keys will always be treated as labels (consistent with DataFrame behavior). To access a value by position, use `ser.iloc[pos]`\n",
      "  st_avil_site = pd.DataFrame(  {'site': [ df_202406['site_no'][0] ]}  )\n"
     ]
    },
    {
     "name": "stdout",
     "output_type": "stream",
     "text": [
      "        site\n",
      "0   00000000\n",
      "0   10039500\n",
      "0   10068500\n",
      "0   10092700\n",
      "0   10125500\n",
      "..       ...\n",
      "0   13305310\n",
      "0   13306385\n",
      "0   13307000\n",
      "0   13309220\n",
      "0   13310199\n",
      "\n",
      "[172 rows x 1 columns]\n",
      "13310470\n",
      "13310480\n",
      "13310500\n",
      "13310520\n",
      "13310565\n",
      "13310570\n",
      "13310660\n",
      "13310670\n",
      "13310700\n"
     ]
    },
    {
     "name": "stderr",
     "output_type": "stream",
     "text": [
      "/var/folders/_4/klhstfsn73nfrxlfr8_r9dhc0000gn/T/ipykernel_14091/501096422.py:8: FutureWarning: Series.__getitem__ treating keys as positions is deprecated. In a future version, integer keys will always be treated as labels (consistent with DataFrame behavior). To access a value by position, use `ser.iloc[pos]`\n",
      "  st_avil_site = pd.DataFrame(  {'site': [ df_202406['site_no'][0] ]}  )\n"
     ]
    },
    {
     "name": "stdout",
     "output_type": "stream",
     "text": [
      "        site\n",
      "0   00000000\n",
      "0   10039500\n",
      "0   10068500\n",
      "0   10092700\n",
      "0   10125500\n",
      "..       ...\n",
      "0   13306385\n",
      "0   13307000\n",
      "0   13309220\n",
      "0   13310199\n",
      "0   13310700\n",
      "\n",
      "[173 rows x 1 columns]\n",
      "13310800\n"
     ]
    },
    {
     "name": "stderr",
     "output_type": "stream",
     "text": [
      "/var/folders/_4/klhstfsn73nfrxlfr8_r9dhc0000gn/T/ipykernel_14091/501096422.py:8: FutureWarning: Series.__getitem__ treating keys as positions is deprecated. In a future version, integer keys will always be treated as labels (consistent with DataFrame behavior). To access a value by position, use `ser.iloc[pos]`\n",
      "  st_avil_site = pd.DataFrame(  {'site': [ df_202406['site_no'][0] ]}  )\n"
     ]
    },
    {
     "name": "stdout",
     "output_type": "stream",
     "text": [
      "        site\n",
      "0   00000000\n",
      "0   10039500\n",
      "0   10068500\n",
      "0   10092700\n",
      "0   10125500\n",
      "..       ...\n",
      "0   13307000\n",
      "0   13309220\n",
      "0   13310199\n",
      "0   13310700\n",
      "0   13310800\n",
      "\n",
      "[174 rows x 1 columns]\n",
      "13310850\n"
     ]
    },
    {
     "name": "stderr",
     "output_type": "stream",
     "text": [
      "/var/folders/_4/klhstfsn73nfrxlfr8_r9dhc0000gn/T/ipykernel_14091/501096422.py:8: FutureWarning: Series.__getitem__ treating keys as positions is deprecated. In a future version, integer keys will always be treated as labels (consistent with DataFrame behavior). To access a value by position, use `ser.iloc[pos]`\n",
      "  st_avil_site = pd.DataFrame(  {'site': [ df_202406['site_no'][0] ]}  )\n"
     ]
    },
    {
     "name": "stdout",
     "output_type": "stream",
     "text": [
      "        site\n",
      "0   00000000\n",
      "0   10039500\n",
      "0   10068500\n",
      "0   10092700\n",
      "0   10125500\n",
      "..       ...\n",
      "0   13309220\n",
      "0   13310199\n",
      "0   13310700\n",
      "0   13310800\n",
      "0   13310850\n",
      "\n",
      "[175 rows x 1 columns]\n",
      "13311000\n"
     ]
    },
    {
     "name": "stderr",
     "output_type": "stream",
     "text": [
      "/var/folders/_4/klhstfsn73nfrxlfr8_r9dhc0000gn/T/ipykernel_14091/501096422.py:8: FutureWarning: Series.__getitem__ treating keys as positions is deprecated. In a future version, integer keys will always be treated as labels (consistent with DataFrame behavior). To access a value by position, use `ser.iloc[pos]`\n",
      "  st_avil_site = pd.DataFrame(  {'site': [ df_202406['site_no'][0] ]}  )\n"
     ]
    },
    {
     "name": "stdout",
     "output_type": "stream",
     "text": [
      "        site\n",
      "0   00000000\n",
      "0   10039500\n",
      "0   10068500\n",
      "0   10092700\n",
      "0   10125500\n",
      "..       ...\n",
      "0   13310199\n",
      "0   13310700\n",
      "0   13310800\n",
      "0   13310850\n",
      "0   13311000\n",
      "\n",
      "[176 rows x 1 columns]\n",
      "13311250\n"
     ]
    },
    {
     "name": "stderr",
     "output_type": "stream",
     "text": [
      "/var/folders/_4/klhstfsn73nfrxlfr8_r9dhc0000gn/T/ipykernel_14091/501096422.py:8: FutureWarning: Series.__getitem__ treating keys as positions is deprecated. In a future version, integer keys will always be treated as labels (consistent with DataFrame behavior). To access a value by position, use `ser.iloc[pos]`\n",
      "  st_avil_site = pd.DataFrame(  {'site': [ df_202406['site_no'][0] ]}  )\n"
     ]
    },
    {
     "name": "stdout",
     "output_type": "stream",
     "text": [
      "        site\n",
      "0   00000000\n",
      "0   10039500\n",
      "0   10068500\n",
      "0   10092700\n",
      "0   10125500\n",
      "..       ...\n",
      "0   13310700\n",
      "0   13310800\n",
      "0   13310850\n",
      "0   13311000\n",
      "0   13311250\n",
      "\n",
      "[177 rows x 1 columns]\n",
      "13311450\n"
     ]
    },
    {
     "name": "stderr",
     "output_type": "stream",
     "text": [
      "/var/folders/_4/klhstfsn73nfrxlfr8_r9dhc0000gn/T/ipykernel_14091/501096422.py:8: FutureWarning: Series.__getitem__ treating keys as positions is deprecated. In a future version, integer keys will always be treated as labels (consistent with DataFrame behavior). To access a value by position, use `ser.iloc[pos]`\n",
      "  st_avil_site = pd.DataFrame(  {'site': [ df_202406['site_no'][0] ]}  )\n"
     ]
    },
    {
     "name": "stdout",
     "output_type": "stream",
     "text": [
      "        site\n",
      "0   00000000\n",
      "0   10039500\n",
      "0   10068500\n",
      "0   10092700\n",
      "0   10125500\n",
      "..       ...\n",
      "0   13310800\n",
      "0   13310850\n",
      "0   13311000\n",
      "0   13311250\n",
      "0   13311450\n",
      "\n",
      "[178 rows x 1 columns]\n",
      "13311500\n",
      "13312300\n",
      "13312500\n",
      "13312850\n",
      "13313000\n"
     ]
    },
    {
     "name": "stderr",
     "output_type": "stream",
     "text": [
      "/var/folders/_4/klhstfsn73nfrxlfr8_r9dhc0000gn/T/ipykernel_14091/501096422.py:8: FutureWarning: Series.__getitem__ treating keys as positions is deprecated. In a future version, integer keys will always be treated as labels (consistent with DataFrame behavior). To access a value by position, use `ser.iloc[pos]`\n",
      "  st_avil_site = pd.DataFrame(  {'site': [ df_202406['site_no'][0] ]}  )\n"
     ]
    },
    {
     "name": "stdout",
     "output_type": "stream",
     "text": [
      "        site\n",
      "0   00000000\n",
      "0   10039500\n",
      "0   10068500\n",
      "0   10092700\n",
      "0   10125500\n",
      "..       ...\n",
      "0   13310850\n",
      "0   13311000\n",
      "0   13311250\n",
      "0   13311450\n",
      "0   13313000\n",
      "\n",
      "[179 rows x 1 columns]\n",
      "13313200\n",
      "13313500\n",
      "13313700\n",
      "13314000\n",
      "13314300\n",
      "13314500\n",
      "13315500\n",
      "13315750\n",
      "13315755\n",
      "13315760\n",
      "13315765\n",
      "13316000\n",
      "13316300\n",
      "13316390\n",
      "13316500\n"
     ]
    },
    {
     "name": "stderr",
     "output_type": "stream",
     "text": [
      "/var/folders/_4/klhstfsn73nfrxlfr8_r9dhc0000gn/T/ipykernel_14091/501096422.py:8: FutureWarning: Series.__getitem__ treating keys as positions is deprecated. In a future version, integer keys will always be treated as labels (consistent with DataFrame behavior). To access a value by position, use `ser.iloc[pos]`\n",
      "  st_avil_site = pd.DataFrame(  {'site': [ df_202406['site_no'][0] ]}  )\n"
     ]
    },
    {
     "name": "stdout",
     "output_type": "stream",
     "text": [
      "        site\n",
      "0   00000000\n",
      "0   10039500\n",
      "0   10068500\n",
      "0   10092700\n",
      "0   10125500\n",
      "..       ...\n",
      "0   13311000\n",
      "0   13311250\n",
      "0   13311450\n",
      "0   13313000\n",
      "0   13316500\n",
      "\n",
      "[180 rows x 1 columns]\n",
      "13316530\n",
      "13316535\n",
      "13316600\n",
      "13316800\n",
      "13317000\n"
     ]
    },
    {
     "name": "stderr",
     "output_type": "stream",
     "text": [
      "/var/folders/_4/klhstfsn73nfrxlfr8_r9dhc0000gn/T/ipykernel_14091/501096422.py:8: FutureWarning: Series.__getitem__ treating keys as positions is deprecated. In a future version, integer keys will always be treated as labels (consistent with DataFrame behavior). To access a value by position, use `ser.iloc[pos]`\n",
      "  st_avil_site = pd.DataFrame(  {'site': [ df_202406['site_no'][0] ]}  )\n"
     ]
    },
    {
     "name": "stdout",
     "output_type": "stream",
     "text": [
      "        site\n",
      "0   00000000\n",
      "0   10039500\n",
      "0   10068500\n",
      "0   10092700\n",
      "0   10125500\n",
      "..       ...\n",
      "0   13311250\n",
      "0   13311450\n",
      "0   13313000\n",
      "0   13316500\n",
      "0   13317000\n",
      "\n",
      "[181 rows x 1 columns]\n",
      "13317045\n",
      "13317046\n",
      "133170462\n",
      "13317048\n",
      "13317200\n",
      "13317500\n",
      "13317660\n"
     ]
    },
    {
     "name": "stderr",
     "output_type": "stream",
     "text": [
      "/var/folders/_4/klhstfsn73nfrxlfr8_r9dhc0000gn/T/ipykernel_14091/501096422.py:8: FutureWarning: Series.__getitem__ treating keys as positions is deprecated. In a future version, integer keys will always be treated as labels (consistent with DataFrame behavior). To access a value by position, use `ser.iloc[pos]`\n",
      "  st_avil_site = pd.DataFrame(  {'site': [ df_202406['site_no'][0] ]}  )\n"
     ]
    },
    {
     "name": "stdout",
     "output_type": "stream",
     "text": [
      "        site\n",
      "0   00000000\n",
      "0   10039500\n",
      "0   10068500\n",
      "0   10092700\n",
      "0   10125500\n",
      "..       ...\n",
      "0   13311450\n",
      "0   13313000\n",
      "0   13316500\n",
      "0   13317000\n",
      "0   13317660\n",
      "\n",
      "[182 rows x 1 columns]\n",
      "13335500\n",
      "13335600\n",
      "13335690\n",
      "13335700\n",
      "13336000\n",
      "13336100\n",
      "13336300\n",
      "13336450\n",
      "13336500\n"
     ]
    },
    {
     "name": "stderr",
     "output_type": "stream",
     "text": [
      "/var/folders/_4/klhstfsn73nfrxlfr8_r9dhc0000gn/T/ipykernel_14091/501096422.py:8: FutureWarning: Series.__getitem__ treating keys as positions is deprecated. In a future version, integer keys will always be treated as labels (consistent with DataFrame behavior). To access a value by position, use `ser.iloc[pos]`\n",
      "  st_avil_site = pd.DataFrame(  {'site': [ df_202406['site_no'][0] ]}  )\n"
     ]
    },
    {
     "name": "stdout",
     "output_type": "stream",
     "text": [
      "        site\n",
      "0   00000000\n",
      "0   10039500\n",
      "0   10068500\n",
      "0   10092700\n",
      "0   10125500\n",
      "..       ...\n",
      "0   13313000\n",
      "0   13316500\n",
      "0   13317000\n",
      "0   13317660\n",
      "0   13336500\n",
      "\n",
      "[183 rows x 1 columns]\n",
      "13336600\n",
      "13336620\n",
      "13336630\n",
      "13336635\n",
      "13336650\n",
      "13336700\n",
      "13336750\n",
      "13336800\n",
      "13336850\n",
      "13336900\n",
      "13337000\n"
     ]
    },
    {
     "name": "stderr",
     "output_type": "stream",
     "text": [
      "/var/folders/_4/klhstfsn73nfrxlfr8_r9dhc0000gn/T/ipykernel_14091/501096422.py:8: FutureWarning: Series.__getitem__ treating keys as positions is deprecated. In a future version, integer keys will always be treated as labels (consistent with DataFrame behavior). To access a value by position, use `ser.iloc[pos]`\n",
      "  st_avil_site = pd.DataFrame(  {'site': [ df_202406['site_no'][0] ]}  )\n"
     ]
    },
    {
     "name": "stdout",
     "output_type": "stream",
     "text": [
      "        site\n",
      "0   00000000\n",
      "0   10039500\n",
      "0   10068500\n",
      "0   10092700\n",
      "0   10125500\n",
      "..       ...\n",
      "0   13316500\n",
      "0   13317000\n",
      "0   13317660\n",
      "0   13336500\n",
      "0   13337000\n",
      "\n",
      "[184 rows x 1 columns]\n",
      "13337095\n"
     ]
    },
    {
     "name": "stderr",
     "output_type": "stream",
     "text": [
      "/var/folders/_4/klhstfsn73nfrxlfr8_r9dhc0000gn/T/ipykernel_14091/501096422.py:8: FutureWarning: Series.__getitem__ treating keys as positions is deprecated. In a future version, integer keys will always be treated as labels (consistent with DataFrame behavior). To access a value by position, use `ser.iloc[pos]`\n",
      "  st_avil_site = pd.DataFrame(  {'site': [ df_202406['site_no'][0] ]}  )\n"
     ]
    },
    {
     "name": "stdout",
     "output_type": "stream",
     "text": [
      "        site\n",
      "0   00000000\n",
      "0   10039500\n",
      "0   10068500\n",
      "0   10092700\n",
      "0   10125500\n",
      "..       ...\n",
      "0   13317000\n",
      "0   13317660\n",
      "0   13336500\n",
      "0   13337000\n",
      "0   13337095\n",
      "\n",
      "[185 rows x 1 columns]\n",
      "13337099\n",
      "13337100\n",
      "13337120\n",
      "13337177\n",
      "13337180\n",
      "13337200\n",
      "13337500\n"
     ]
    },
    {
     "name": "stderr",
     "output_type": "stream",
     "text": [
      "/var/folders/_4/klhstfsn73nfrxlfr8_r9dhc0000gn/T/ipykernel_14091/501096422.py:8: FutureWarning: Series.__getitem__ treating keys as positions is deprecated. In a future version, integer keys will always be treated as labels (consistent with DataFrame behavior). To access a value by position, use `ser.iloc[pos]`\n",
      "  st_avil_site = pd.DataFrame(  {'site': [ df_202406['site_no'][0] ]}  )\n"
     ]
    },
    {
     "name": "stdout",
     "output_type": "stream",
     "text": [
      "        site\n",
      "0   00000000\n",
      "0   10039500\n",
      "0   10068500\n",
      "0   10092700\n",
      "0   10125500\n",
      "..       ...\n",
      "0   13317660\n",
      "0   13336500\n",
      "0   13337000\n",
      "0   13337095\n",
      "0   13337500\n",
      "\n",
      "[186 rows x 1 columns]\n",
      "13337510\n",
      "13337520\n",
      "13337540\n",
      "13337700\n",
      "13338000\n",
      "13338100\n",
      "13338200\n",
      "13338500\n"
     ]
    },
    {
     "name": "stderr",
     "output_type": "stream",
     "text": [
      "/var/folders/_4/klhstfsn73nfrxlfr8_r9dhc0000gn/T/ipykernel_14091/501096422.py:8: FutureWarning: Series.__getitem__ treating keys as positions is deprecated. In a future version, integer keys will always be treated as labels (consistent with DataFrame behavior). To access a value by position, use `ser.iloc[pos]`\n",
      "  st_avil_site = pd.DataFrame(  {'site': [ df_202406['site_no'][0] ]}  )\n"
     ]
    },
    {
     "name": "stdout",
     "output_type": "stream",
     "text": [
      "        site\n",
      "0   00000000\n",
      "0   10039500\n",
      "0   10068500\n",
      "0   10092700\n",
      "0   10125500\n",
      "..       ...\n",
      "0   13336500\n",
      "0   13337000\n",
      "0   13337095\n",
      "0   13337500\n",
      "0   13338500\n",
      "\n",
      "[187 rows x 1 columns]\n",
      "13338650\n",
      "13338800\n",
      "13339000\n",
      "13339500\n"
     ]
    },
    {
     "name": "stderr",
     "output_type": "stream",
     "text": [
      "/var/folders/_4/klhstfsn73nfrxlfr8_r9dhc0000gn/T/ipykernel_14091/501096422.py:8: FutureWarning: Series.__getitem__ treating keys as positions is deprecated. In a future version, integer keys will always be treated as labels (consistent with DataFrame behavior). To access a value by position, use `ser.iloc[pos]`\n",
      "  st_avil_site = pd.DataFrame(  {'site': [ df_202406['site_no'][0] ]}  )\n"
     ]
    },
    {
     "name": "stdout",
     "output_type": "stream",
     "text": [
      "        site\n",
      "0   00000000\n",
      "0   10039500\n",
      "0   10068500\n",
      "0   10092700\n",
      "0   10125500\n",
      "..       ...\n",
      "0   13337000\n",
      "0   13337095\n",
      "0   13337500\n",
      "0   13338500\n",
      "0   13339500\n",
      "\n",
      "[188 rows x 1 columns]\n",
      "13339800\n",
      "13339900\n",
      "13340000\n"
     ]
    },
    {
     "name": "stderr",
     "output_type": "stream",
     "text": [
      "/var/folders/_4/klhstfsn73nfrxlfr8_r9dhc0000gn/T/ipykernel_14091/501096422.py:8: FutureWarning: Series.__getitem__ treating keys as positions is deprecated. In a future version, integer keys will always be treated as labels (consistent with DataFrame behavior). To access a value by position, use `ser.iloc[pos]`\n",
      "  st_avil_site = pd.DataFrame(  {'site': [ df_202406['site_no'][0] ]}  )\n"
     ]
    },
    {
     "name": "stdout",
     "output_type": "stream",
     "text": [
      "        site\n",
      "0   00000000\n",
      "0   10039500\n",
      "0   10068500\n",
      "0   10092700\n",
      "0   10125500\n",
      "..       ...\n",
      "0   13337095\n",
      "0   13337500\n",
      "0   13338500\n",
      "0   13339500\n",
      "0   13340000\n",
      "\n",
      "[189 rows x 1 columns]\n",
      "13340600\n"
     ]
    },
    {
     "name": "stderr",
     "output_type": "stream",
     "text": [
      "/var/folders/_4/klhstfsn73nfrxlfr8_r9dhc0000gn/T/ipykernel_14091/501096422.py:8: FutureWarning: Series.__getitem__ treating keys as positions is deprecated. In a future version, integer keys will always be treated as labels (consistent with DataFrame behavior). To access a value by position, use `ser.iloc[pos]`\n",
      "  st_avil_site = pd.DataFrame(  {'site': [ df_202406['site_no'][0] ]}  )\n"
     ]
    },
    {
     "name": "stdout",
     "output_type": "stream",
     "text": [
      "        site\n",
      "0   00000000\n",
      "0   10039500\n",
      "0   10068500\n",
      "0   10092700\n",
      "0   10125500\n",
      "..       ...\n",
      "0   13337500\n",
      "0   13338500\n",
      "0   13339500\n",
      "0   13340000\n",
      "0   13340600\n",
      "\n",
      "[190 rows x 1 columns]\n",
      "13340612\n",
      "13340615\n",
      "13340760\n",
      "13340780\n",
      "13340855\n",
      "13340859\n",
      "13341000\n",
      "13341050\n"
     ]
    },
    {
     "name": "stderr",
     "output_type": "stream",
     "text": [
      "/var/folders/_4/klhstfsn73nfrxlfr8_r9dhc0000gn/T/ipykernel_14091/501096422.py:8: FutureWarning: Series.__getitem__ treating keys as positions is deprecated. In a future version, integer keys will always be treated as labels (consistent with DataFrame behavior). To access a value by position, use `ser.iloc[pos]`\n",
      "  st_avil_site = pd.DataFrame(  {'site': [ df_202406['site_no'][0] ]}  )\n"
     ]
    },
    {
     "name": "stdout",
     "output_type": "stream",
     "text": [
      "        site\n",
      "0   00000000\n",
      "0   10039500\n",
      "0   10068500\n",
      "0   10092700\n",
      "0   10125500\n",
      "..       ...\n",
      "0   13338500\n",
      "0   13339500\n",
      "0   13340000\n",
      "0   13340600\n",
      "0   13341050\n",
      "\n",
      "[191 rows x 1 columns]\n",
      "13341100\n",
      "13341128\n",
      "13341200\n",
      "13341300\n",
      "13341400\n",
      "13341470\n",
      "13341500\n",
      "13341570\n"
     ]
    },
    {
     "name": "stderr",
     "output_type": "stream",
     "text": [
      "/var/folders/_4/klhstfsn73nfrxlfr8_r9dhc0000gn/T/ipykernel_14091/501096422.py:8: FutureWarning: Series.__getitem__ treating keys as positions is deprecated. In a future version, integer keys will always be treated as labels (consistent with DataFrame behavior). To access a value by position, use `ser.iloc[pos]`\n",
      "  st_avil_site = pd.DataFrame(  {'site': [ df_202406['site_no'][0] ]}  )\n"
     ]
    },
    {
     "name": "stdout",
     "output_type": "stream",
     "text": [
      "        site\n",
      "0   00000000\n",
      "0   10039500\n",
      "0   10068500\n",
      "0   10092700\n",
      "0   10125500\n",
      "..       ...\n",
      "0   13339500\n",
      "0   13340000\n",
      "0   13340600\n",
      "0   13341050\n",
      "0   13341570\n",
      "\n",
      "[192 rows x 1 columns]\n",
      "13342000\n",
      "13342150\n",
      "13342200\n",
      "13342450\n"
     ]
    },
    {
     "name": "stderr",
     "output_type": "stream",
     "text": [
      "/var/folders/_4/klhstfsn73nfrxlfr8_r9dhc0000gn/T/ipykernel_14091/501096422.py:8: FutureWarning: Series.__getitem__ treating keys as positions is deprecated. In a future version, integer keys will always be treated as labels (consistent with DataFrame behavior). To access a value by position, use `ser.iloc[pos]`\n",
      "  st_avil_site = pd.DataFrame(  {'site': [ df_202406['site_no'][0] ]}  )\n"
     ]
    },
    {
     "name": "stdout",
     "output_type": "stream",
     "text": [
      "        site\n",
      "0   00000000\n",
      "0   10039500\n",
      "0   10068500\n",
      "0   10092700\n",
      "0   10125500\n",
      "..       ...\n",
      "0   13340000\n",
      "0   13340600\n",
      "0   13341050\n",
      "0   13341570\n",
      "0   13342450\n",
      "\n",
      "[193 rows x 1 columns]\n",
      "13342490\n",
      "13342500\n"
     ]
    },
    {
     "name": "stderr",
     "output_type": "stream",
     "text": [
      "/var/folders/_4/klhstfsn73nfrxlfr8_r9dhc0000gn/T/ipykernel_14091/501096422.py:8: FutureWarning: Series.__getitem__ treating keys as positions is deprecated. In a future version, integer keys will always be treated as labels (consistent with DataFrame behavior). To access a value by position, use `ser.iloc[pos]`\n",
      "  st_avil_site = pd.DataFrame(  {'site': [ df_202406['site_no'][0] ]}  )\n"
     ]
    },
    {
     "name": "stdout",
     "output_type": "stream",
     "text": [
      "        site\n",
      "0   00000000\n",
      "0   10039500\n",
      "0   10068500\n",
      "0   10092700\n",
      "0   10125500\n",
      "..       ...\n",
      "0   13340600\n",
      "0   13341050\n",
      "0   13341570\n",
      "0   13342450\n",
      "0   13342500\n",
      "\n",
      "[194 rows x 1 columns]\n",
      "13343000\n",
      "13343010\n",
      "13343100\n",
      "13344620\n",
      "13344700\n",
      "13344800\n",
      "13345000\n"
     ]
    },
    {
     "name": "stderr",
     "output_type": "stream",
     "text": [
      "/var/folders/_4/klhstfsn73nfrxlfr8_r9dhc0000gn/T/ipykernel_14091/501096422.py:8: FutureWarning: Series.__getitem__ treating keys as positions is deprecated. In a future version, integer keys will always be treated as labels (consistent with DataFrame behavior). To access a value by position, use `ser.iloc[pos]`\n",
      "  st_avil_site = pd.DataFrame(  {'site': [ df_202406['site_no'][0] ]}  )\n"
     ]
    },
    {
     "name": "stdout",
     "output_type": "stream",
     "text": [
      "        site\n",
      "0   00000000\n",
      "0   10039500\n",
      "0   10068500\n",
      "0   10092700\n",
      "0   10125500\n",
      "..       ...\n",
      "0   13341050\n",
      "0   13341570\n",
      "0   13342450\n",
      "0   13342500\n",
      "0   13345000\n",
      "\n",
      "[195 rows x 1 columns]\n",
      "13346450\n",
      "13346750\n",
      "13346760\n",
      "13346770\n",
      "13346800\n"
     ]
    },
    {
     "name": "stderr",
     "output_type": "stream",
     "text": [
      "/var/folders/_4/klhstfsn73nfrxlfr8_r9dhc0000gn/T/ipykernel_14091/501096422.py:8: FutureWarning: Series.__getitem__ treating keys as positions is deprecated. In a future version, integer keys will always be treated as labels (consistent with DataFrame behavior). To access a value by position, use `ser.iloc[pos]`\n",
      "  st_avil_site = pd.DataFrame(  {'site': [ df_202406['site_no'][0] ]}  )\n"
     ]
    },
    {
     "name": "stdout",
     "output_type": "stream",
     "text": [
      "        site\n",
      "0   00000000\n",
      "0   10039500\n",
      "0   10068500\n",
      "0   10092700\n",
      "0   10125500\n",
      "..       ...\n",
      "0   13341570\n",
      "0   13342450\n",
      "0   13342500\n",
      "0   13345000\n",
      "0   13346800\n",
      "\n",
      "[196 rows x 1 columns]\n",
      "13350448\n",
      "420049111490201\n",
      "420050111512601\n",
      "420129111555901\n",
      "420549111545901\n",
      "420600111554901\n",
      "420716111555201\n",
      "420821111544401\n",
      "420959111495301\n",
      "421138111463501\n",
      "421249111042001\n",
      "421457111162201\n",
      "421519111452101\n",
      "421943111220601\n",
      "422428111433201\n",
      "422430111435901\n",
      "422714111431501\n",
      "422835111243801\n",
      "422843111221601\n",
      "422943111473901\n",
      "423105113415500\n",
      "423126113400000\n",
      "423215111474501\n",
      "423223113535000\n",
      "423315113383000\n",
      "423412113375700\n",
      "423545111311301\n",
      "423601114273500\n",
      "423621111343001\n",
      "423638114290500\n",
      "423638114291800\n",
      "423822114332900\n",
      "423859111365901\n",
      "423922111370401\n",
      "424013113411101\n",
      "424013113411201\n",
      "4247071112310\n",
      "4247101112310\n",
      "4247171112308\n",
      "4247361112214\n",
      "430738112304801\n",
      "431103115430501\n",
      "431854114091200\n",
      "4319471153100\n",
      "4320101153213\n",
      "4321581153306\n",
      "4322361153302\n",
      "433224116054300\n",
      "433422116323200\n",
      "433447113344400\n",
      "433457113344200\n",
      "433505113344300\n",
      "433511113342800\n",
      "433516113344700\n",
      "433518113344800\n",
      "433519113344700\n",
      "433519113344800\n",
      "433520113344600\n",
      "433520113344700\n",
      "433520113344800\n",
      "433520113344900\n",
      "433523113344900\n",
      "433937116164000\n",
      "434006116112100\n",
      "434049116414000\n",
      "434050116260100\n",
      "434101116343100\n",
      "434146116393700\n",
      "434318116474600\n",
      "434613116571000\n",
      "434659116581600\n",
      "434756116595300\n",
      "434759116582800\n",
      "434821116444300\n",
      "440530111271801\n",
      "4453211152110\n",
      "4453221152106\n",
      "4453231152057\n",
      "4453231152101\n",
      "4453231152114\n",
      "4453241152047\n",
      "4453241152049\n",
      "4453241152051\n",
      "4453241152057\n",
      "4453251152043\n",
      "4453251152046\n",
      "4453251152047\n",
      "4453261152043\n",
      "4453271152039\n",
      "4453301152035\n",
      "4453311152034\n",
      "4453321152032\n",
      "4453331152032\n",
      "4453351152032\n",
      "4453391152028\n",
      "4453391152029\n",
      "4453401152025\n",
      "4453411152025\n",
      "4453421152023\n",
      "4453421152024\n",
      "4453431152023\n",
      "4453441152021\n",
      "4453451152017\n",
      "4453461152013\n",
      "4453461152017\n",
      "4453481152006\n",
      "4453481152009\n",
      "4453521152000\n",
      "4453551151954\n",
      "4453591151950\n",
      "4454021151948\n",
      "4454061151943\n",
      "4454071151940\n",
      "4454081151940\n",
      "4454081151941\n",
      "4454121151943\n",
      "4454161151944\n",
      "4454171151944\n",
      "4454201151946\n",
      "4454251151948\n",
      "4454271151947\n",
      "4454301151950\n",
      "4454361151952\n",
      "4454401151949\n",
      "4454421151949\n",
      "462805116455701\n",
      "465537116422500\n",
      "465637116381400\n",
      "465753116334700\n",
      "473051116083200\n",
      "473210116070601\n",
      "473214116101200\n",
      "473221116081700\n",
      "473221116081701\n",
      "473223116121500\n",
      "473224116083500\n",
      "473225116090300\n",
      "473227116104900\n",
      "473230116091700\n",
      "473241116092900\n",
      "473250116131300\n",
      "473251116101701\n",
      "473252116095301\n",
      "473253116095501\n",
      "473254116091200\n",
      "473254116092401\n",
      "473254116092701\n",
      "473255116092001\n",
      "473255116092701\n",
      "473256116084001\n",
      "473256116090601\n",
      "473309116132600\n",
      "473328115545601\n",
      "473329115541800\n",
      "473330115541500\n",
      "473344115525600\n",
      "473344115531400\n",
      "473345115524500\n",
      "473347115534600\n",
      "473348115533600\n",
      "473349115532201\n",
      "473350115532201\n",
      "473356115515201\n",
      "473404115554801\n",
      "473421115522200\n",
      "473423115520300\n",
      "473505115555601\n",
      "473525115440301\n",
      "473532115475301\n",
      "473541115453201\n",
      "473545115451201\n",
      "473551115474201\n",
      "473553115473901\n",
      "473554115473601\n",
      "473555115561701\n",
      "473605115475401\n",
      "473630115562901\n",
      "473641115492701\n",
      "473648115493501\n",
      "473655115470201\n",
      "473702115572501\n",
      "473705115573300\n",
      "473732115513001\n",
      "473733115513000\n",
      "473840115551701\n",
      "473841115551601\n",
      "473925115530200\n",
      "473930115530101\n",
      "474011115450401\n",
      "474017115530601\n",
      "474041115484401\n",
      "474111115465201\n",
      "474118115463101\n",
      "474118115463201\n",
      "474212115513501\n",
      "481445116380000\n",
      "4841461161932\n",
      "4842061161430\n",
      "4842231161104\n",
      "4842541161056\n",
      "4845421162319\n"
     ]
    }
   ],
   "source": [
    "st_avil_sites = pd.DataFrame(  {'site': ['00000000']}  )\n",
    "print(st_avil_sites)\n",
    "\n",
    "for site in q_avil_sites['site']:\n",
    "    print(site)\n",
    "    #df_202406 = nwis.get_record(sites=site, service='dv', start='2024-06-01', end='2024-06-02', parameterCd = \"00010\")\n",
    "    df_202406 = nwis.get_dv(sites=site , start='2024-06-01', end='2024-06-02', parameterCd = \"00010\")\n",
    "    if df_202406.shape[0]>0:\n",
    "        st_avil_site = pd.DataFrame(  {'site': [ df_202406['site_no'][0] ]}  )\n",
    "        st_avil_sites = pd.concat( [ st_avil_sites, st_avil_site    ]   )\n",
    "        print( st_avil_sites)"
   ]
  },
  {
   "cell_type": "code",
   "execution_count": 7,
   "id": "e718f532-4966-4d38-8e0e-70886b497d87",
   "metadata": {},
   "outputs": [
    {
     "name": "stdout",
     "output_type": "stream",
     "text": [
      "        site\n",
      "0   00000000\n",
      "0   10039500\n",
      "0   10068500\n",
      "0   10092700\n",
      "0   10125500\n",
      "..       ...\n",
      "0   13341570\n",
      "0   13342450\n",
      "0   13342500\n",
      "0   13345000\n",
      "0   13346800\n",
      "\n",
      "[194 rows x 1 columns]\n"
     ]
    }
   ],
   "source": [
    "st_q_avil_sites = st_avil_sites[ st_avil_sites['site'].isin(q_avil_sites['site']) ]\n",
    "print(st_q_avil_sites)"
   ]
  }
 ],
 "metadata": {
  "kernelspec": {
   "display_name": "Python 3 (ipykernel)",
   "language": "python",
   "name": "python3"
  },
  "language_info": {
   "codemirror_mode": {
    "name": "ipython",
    "version": 3
   },
   "file_extension": ".py",
   "mimetype": "text/x-python",
   "name": "python",
   "nbconvert_exporter": "python",
   "pygments_lexer": "ipython3",
   "version": "3.12.4"
  }
 },
 "nbformat": 4,
 "nbformat_minor": 5
}
