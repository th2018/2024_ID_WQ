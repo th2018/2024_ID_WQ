{
 "cells": [
  {
   "cell_type": "code",
   "execution_count": 1,
   "id": "f6a664fe-31d5-4777-bcfc-9d069d56e053",
   "metadata": {},
   "outputs": [
    {
     "name": "stdout",
     "output_type": "stream",
     "text": [
      "Current time: 2025-01-07 14:59:38.871169\n"
     ]
    }
   ],
   "source": [
    "import dataretrieval.nwis as nwis\n",
    "import pandas as pd\n",
    "from datetime import datetime\n",
    "\n",
    "# Get the current time\n",
    "current_time = datetime.now()\n",
    "\n",
    "# Print the current time\n",
    "print(\"Current time:\", current_time)\n"
   ]
  },
  {
   "cell_type": "code",
   "execution_count": 2,
   "id": "f594da3e-f551-4a29-9643-95f32d51caaf",
   "metadata": {},
   "outputs": [],
   "source": [
    "#https://maps.waterdata.usgs.gov/mapper/help/sitetype.html\n",
    "#print(    siteList_df['site_tp_cd'].unique()    )"
   ]
  },
  {
   "cell_type": "code",
   "execution_count": 3,
   "id": "278ad6f5-6c58-4d38-8943-95747d3534ae",
   "metadata": {},
   "outputs": [
    {
     "name": "stdout",
     "output_type": "stream",
     "text": [
      "     agency_cd        site_no  \\\n",
      "0         USGS       10039500   \n",
      "1         USGS       10042500   \n",
      "2         USGS       10044000   \n",
      "5         USGS       10046500   \n",
      "6         USGS       10047000   \n",
      "...        ...            ...   \n",
      "1054      USGS       13346800   \n",
      "1055      USGS       13350448   \n",
      "1125      USGS  4323401155133   \n",
      "1149      USGS  4355501121634   \n",
      "1150      USGS  4357331144813   \n",
      "\n",
      "                                            station_nm site_tp_cd  dec_lat_va  \\\n",
      "0                             BEAR RIVER AT BORDER, WY         ST   42.211043   \n",
      "1                            THOMAS FORK NR RAYMOND ID         ST   42.258889   \n",
      "2                              BEAR RIVER AT HARER, ID         ST   42.197153   \n",
      "5           BEAR RIVER BL STEWART DAM NR MONTPELIER ID         ST   42.253056   \n",
      "6                    MONTPELIER CREEK NR MONTPELIER ID         ST   42.342778   \n",
      "...                                                ...        ...         ...   \n",
      "1054   PARADISE CR AT UNIVERSITY OF IDAHO AT MOSCOW ID         ST   46.731944   \n",
      "1055                           COW CREEK AT GENESEE ID         ST   46.546554   \n",
      "1125                      BOWNS CREEK NEAR MAYFIELD ID         ST   43.394444   \n",
      "1149                      Camas Creek near Toomey Pond         ST   43.930583   \n",
      "1150  SALMON RIVER AT BUSTERBACK DIVERSION NR OBSIDIAN         ST   43.959167   \n",
      "\n",
      "      dec_long_va coord_acy_cd dec_coord_datum_cd   alt_va  alt_acy_va  \\\n",
      "0     -111.053802            S              NAD83  6056.85        0.23   \n",
      "1     -111.076111            S              NAD83  6080.00       20.00   \n",
      "2     -111.168808            F              NAD83  6000.00       20.00   \n",
      "5     -111.289722            S              NAD83  5950.00       20.00   \n",
      "6     -111.176111            S              NAD83  6427.46        0.01   \n",
      "...           ...          ...                ...      ...         ...   \n",
      "1054  -117.024167            S              NAD83  2536.50        0.17   \n",
      "1055  -116.927936            F              NAD83  2660.00       20.00   \n",
      "1125  -115.859167            S              NAD83  3602.00        1.00   \n",
      "1149  -112.276114            1              NAD83  4792.00        4.30   \n",
      "1150  -114.803611            S              NAD83      NaN         NaN   \n",
      "\n",
      "     alt_datum_cd      huc_cd  \n",
      "0          NAVD88  16010102.0  \n",
      "1          NGVD29  16010102.0  \n",
      "2          NGVD29  16010102.0  \n",
      "5          NGVD29  16010201.0  \n",
      "6          NGVD29  16010201.0  \n",
      "...           ...         ...  \n",
      "1054       NAVD88  17060108.0  \n",
      "1055       NGVD29  17060108.0  \n",
      "1125       NAVD88  17050114.0  \n",
      "1149       NAVD88  17040214.0  \n",
      "1150          NaN  17060201.0  \n",
      "\n",
      "[945 rows x 12 columns]\n"
     ]
    }
   ],
   "source": [
    "siteList_q  = nwis.what_sites(stateCd = \"ID\",  parameterCd = \"00060\")\n",
    "siteList_q_df =siteList_q[0]\n",
    "siteList_q_df_ST= siteList_q_df[  siteList_q_df['site_tp_cd'] == \"ST\"   ]\n",
    "print( siteList_q_df_ST )"
   ]
  },
  {
   "cell_type": "code",
   "execution_count": 5,
   "id": "01675a5d-9b9b-4244-9d1f-4656037dcb83",
   "metadata": {},
   "outputs": [
    {
     "name": "stdout",
     "output_type": "stream",
     "text": [
      "       site\n",
      "0  00000000\n",
      "10039500\n"
     ]
    },
    {
     "name": "stderr",
     "output_type": "stream",
     "text": [
      "/var/folders/_4/klhstfsn73nfrxlfr8_r9dhc0000gn/T/ipykernel_14417/427570331.py:10: FutureWarning: Series.__getitem__ treating keys as positions is deprecated. In a future version, integer keys will always be treated as labels (consistent with DataFrame behavior). To access a value by position, use `ser.iloc[pos]`\n",
      "  q_avil_site = pd.DataFrame(  {'site': [ df_202406['site_no'][0] ]}  )\n"
     ]
    },
    {
     "name": "stdout",
     "output_type": "stream",
     "text": [
      "10042500\n",
      "10044000\n",
      "10046500\n",
      "10047000\n",
      "10047500\n",
      "10054600\n",
      "10058500\n",
      "10058600\n",
      "10060500\n",
      "10063000\n",
      "10068500\n"
     ]
    },
    {
     "name": "stderr",
     "output_type": "stream",
     "text": [
      "/var/folders/_4/klhstfsn73nfrxlfr8_r9dhc0000gn/T/ipykernel_14417/427570331.py:10: FutureWarning: Series.__getitem__ treating keys as positions is deprecated. In a future version, integer keys will always be treated as labels (consistent with DataFrame behavior). To access a value by position, use `ser.iloc[pos]`\n",
      "  q_avil_site = pd.DataFrame(  {'site': [ df_202406['site_no'][0] ]}  )\n"
     ]
    },
    {
     "name": "stdout",
     "output_type": "stream",
     "text": [
      "10069000\n",
      "10071500\n",
      "10072000\n",
      "10072800\n",
      "10075000\n",
      "10076400\n",
      "10076500\n",
      "10077000\n",
      "10079500\n",
      "10080000\n",
      "10084500\n",
      "10086500\n",
      "10087500\n",
      "10089500\n",
      "10090500\n",
      "10091100\n",
      "10091200\n",
      "10091250\n",
      "10092700\n"
     ]
    },
    {
     "name": "stderr",
     "output_type": "stream",
     "text": [
      "/var/folders/_4/klhstfsn73nfrxlfr8_r9dhc0000gn/T/ipykernel_14417/427570331.py:10: FutureWarning: Series.__getitem__ treating keys as positions is deprecated. In a future version, integer keys will always be treated as labels (consistent with DataFrame behavior). To access a value by position, use `ser.iloc[pos]`\n",
      "  q_avil_site = pd.DataFrame(  {'site': [ df_202406['site_no'][0] ]}  )\n"
     ]
    },
    {
     "name": "stdout",
     "output_type": "stream",
     "text": [
      "10093000\n",
      "10096000\n",
      "10096500\n",
      "10098000\n",
      "10098800\n",
      "10118200\n",
      "10118500\n",
      "10119000\n",
      "10120000\n",
      "10120350\n",
      "10120500\n",
      "10120700\n",
      "10122500\n",
      "10123000\n",
      "10123500\n",
      "10124000\n",
      "10124500\n",
      "10125000\n",
      "10125500\n"
     ]
    },
    {
     "name": "stderr",
     "output_type": "stream",
     "text": [
      "/var/folders/_4/klhstfsn73nfrxlfr8_r9dhc0000gn/T/ipykernel_14417/427570331.py:10: FutureWarning: Series.__getitem__ treating keys as positions is deprecated. In a future version, integer keys will always be treated as labels (consistent with DataFrame behavior). To access a value by position, use `ser.iloc[pos]`\n",
      "  q_avil_site = pd.DataFrame(  {'site': [ df_202406['site_no'][0] ]}  )\n"
     ]
    },
    {
     "name": "stdout",
     "output_type": "stream",
     "text": [
      "12305000\n"
     ]
    },
    {
     "name": "stderr",
     "output_type": "stream",
     "text": [
      "/var/folders/_4/klhstfsn73nfrxlfr8_r9dhc0000gn/T/ipykernel_14417/427570331.py:10: FutureWarning: Series.__getitem__ treating keys as positions is deprecated. In a future version, integer keys will always be treated as labels (consistent with DataFrame behavior). To access a value by position, use `ser.iloc[pos]`\n",
      "  q_avil_site = pd.DataFrame(  {'site': [ df_202406['site_no'][0] ]}  )\n"
     ]
    },
    {
     "name": "stdout",
     "output_type": "stream",
     "text": [
      "12305500\n",
      "12306000\n",
      "12306500\n"
     ]
    },
    {
     "name": "stderr",
     "output_type": "stream",
     "text": [
      "/var/folders/_4/klhstfsn73nfrxlfr8_r9dhc0000gn/T/ipykernel_14417/427570331.py:10: FutureWarning: Series.__getitem__ treating keys as positions is deprecated. In a future version, integer keys will always be treated as labels (consistent with DataFrame behavior). To access a value by position, use `ser.iloc[pos]`\n",
      "  q_avil_site = pd.DataFrame(  {'site': [ df_202406['site_no'][0] ]}  )\n"
     ]
    },
    {
     "name": "stdout",
     "output_type": "stream",
     "text": [
      "12307000\n",
      "12307500\n",
      "12308000\n"
     ]
    },
    {
     "name": "stderr",
     "output_type": "stream",
     "text": [
      "/var/folders/_4/klhstfsn73nfrxlfr8_r9dhc0000gn/T/ipykernel_14417/427570331.py:10: FutureWarning: Series.__getitem__ treating keys as positions is deprecated. In a future version, integer keys will always be treated as labels (consistent with DataFrame behavior). To access a value by position, use `ser.iloc[pos]`\n",
      "  q_avil_site = pd.DataFrame(  {'site': [ df_202406['site_no'][0] ]}  )\n"
     ]
    },
    {
     "name": "stdout",
     "output_type": "stream",
     "text": [
      "12309000\n",
      "12310100\n",
      "12311000\n",
      "12311500\n",
      "12312000\n",
      "12313000\n",
      "12313500\n",
      "12315200\n",
      "12315400\n",
      "12316800\n",
      "12317000\n",
      "12318500\n",
      "12319500\n",
      "12319501\n",
      "12320500\n",
      "12320700\n",
      "12321000\n",
      "12321500\n"
     ]
    },
    {
     "name": "stderr",
     "output_type": "stream",
     "text": [
      "/var/folders/_4/klhstfsn73nfrxlfr8_r9dhc0000gn/T/ipykernel_14417/427570331.py:10: FutureWarning: Series.__getitem__ treating keys as positions is deprecated. In a future version, integer keys will always be treated as labels (consistent with DataFrame behavior). To access a value by position, use `ser.iloc[pos]`\n",
      "  q_avil_site = pd.DataFrame(  {'site': [ df_202406['site_no'][0] ]}  )\n"
     ]
    },
    {
     "name": "stdout",
     "output_type": "stream",
     "text": [
      "12322000\n"
     ]
    },
    {
     "name": "stderr",
     "output_type": "stream",
     "text": [
      "/var/folders/_4/klhstfsn73nfrxlfr8_r9dhc0000gn/T/ipykernel_14417/427570331.py:10: FutureWarning: Series.__getitem__ treating keys as positions is deprecated. In a future version, integer keys will always be treated as labels (consistent with DataFrame behavior). To access a value by position, use `ser.iloc[pos]`\n",
      "  q_avil_site = pd.DataFrame(  {'site': [ df_202406['site_no'][0] ]}  )\n"
     ]
    },
    {
     "name": "stdout",
     "output_type": "stream",
     "text": [
      "12322001\n"
     ]
    },
    {
     "name": "stderr",
     "output_type": "stream",
     "text": [
      "/var/folders/_4/klhstfsn73nfrxlfr8_r9dhc0000gn/T/ipykernel_14417/427570331.py:10: FutureWarning: Series.__getitem__ treating keys as positions is deprecated. In a future version, integer keys will always be treated as labels (consistent with DataFrame behavior). To access a value by position, use `ser.iloc[pos]`\n",
      "  q_avil_site = pd.DataFrame(  {'site': [ df_202406['site_no'][0] ]}  )\n"
     ]
    },
    {
     "name": "stdout",
     "output_type": "stream",
     "text": [
      "12391950\n"
     ]
    },
    {
     "name": "stderr",
     "output_type": "stream",
     "text": [
      "/var/folders/_4/klhstfsn73nfrxlfr8_r9dhc0000gn/T/ipykernel_14417/427570331.py:10: FutureWarning: Series.__getitem__ treating keys as positions is deprecated. In a future version, integer keys will always be treated as labels (consistent with DataFrame behavior). To access a value by position, use `ser.iloc[pos]`\n",
      "  q_avil_site = pd.DataFrame(  {'site': [ df_202406['site_no'][0] ]}  )\n"
     ]
    },
    {
     "name": "stdout",
     "output_type": "stream",
     "text": [
      "12392000\n",
      "12392050\n",
      "12392155\n"
     ]
    },
    {
     "name": "stderr",
     "output_type": "stream",
     "text": [
      "/var/folders/_4/klhstfsn73nfrxlfr8_r9dhc0000gn/T/ipykernel_14417/427570331.py:10: FutureWarning: Series.__getitem__ treating keys as positions is deprecated. In a future version, integer keys will always be treated as labels (consistent with DataFrame behavior). To access a value by position, use `ser.iloc[pos]`\n",
      "  q_avil_site = pd.DataFrame(  {'site': [ df_202406['site_no'][0] ]}  )\n"
     ]
    },
    {
     "name": "stdout",
     "output_type": "stream",
     "text": [
      "12392300\n"
     ]
    },
    {
     "name": "stderr",
     "output_type": "stream",
     "text": [
      "/var/folders/_4/klhstfsn73nfrxlfr8_r9dhc0000gn/T/ipykernel_14417/427570331.py:10: FutureWarning: Series.__getitem__ treating keys as positions is deprecated. In a future version, integer keys will always be treated as labels (consistent with DataFrame behavior). To access a value by position, use `ser.iloc[pos]`\n",
      "  q_avil_site = pd.DataFrame(  {'site': [ df_202406['site_no'][0] ]}  )\n"
     ]
    },
    {
     "name": "stdout",
     "output_type": "stream",
     "text": [
      "12392390\n",
      "12392400\n",
      "12392450\n",
      "12392660\n",
      "12392895\n",
      "12393500\n",
      "12393501\n"
     ]
    },
    {
     "name": "stderr",
     "output_type": "stream",
     "text": [
      "/var/folders/_4/klhstfsn73nfrxlfr8_r9dhc0000gn/T/ipykernel_14417/427570331.py:10: FutureWarning: Series.__getitem__ treating keys as positions is deprecated. In a future version, integer keys will always be treated as labels (consistent with DataFrame behavior). To access a value by position, use `ser.iloc[pos]`\n",
      "  q_avil_site = pd.DataFrame(  {'site': [ df_202406['site_no'][0] ]}  )\n"
     ]
    },
    {
     "name": "stdout",
     "output_type": "stream",
     "text": [
      "12394000\n",
      "12394500\n",
      "12395000\n"
     ]
    },
    {
     "name": "stderr",
     "output_type": "stream",
     "text": [
      "/var/folders/_4/klhstfsn73nfrxlfr8_r9dhc0000gn/T/ipykernel_14417/427570331.py:10: FutureWarning: Series.__getitem__ treating keys as positions is deprecated. In a future version, integer keys will always be treated as labels (consistent with DataFrame behavior). To access a value by position, use `ser.iloc[pos]`\n",
      "  q_avil_site = pd.DataFrame(  {'site': [ df_202406['site_no'][0] ]}  )\n"
     ]
    },
    {
     "name": "stdout",
     "output_type": "stream",
     "text": [
      "12395500\n"
     ]
    },
    {
     "name": "stderr",
     "output_type": "stream",
     "text": [
      "/var/folders/_4/klhstfsn73nfrxlfr8_r9dhc0000gn/T/ipykernel_14417/427570331.py:10: FutureWarning: Series.__getitem__ treating keys as positions is deprecated. In a future version, integer keys will always be treated as labels (consistent with DataFrame behavior). To access a value by position, use `ser.iloc[pos]`\n",
      "  q_avil_site = pd.DataFrame(  {'site': [ df_202406['site_no'][0] ]}  )\n"
     ]
    },
    {
     "name": "stdout",
     "output_type": "stream",
     "text": [
      "12411000\n"
     ]
    },
    {
     "name": "stderr",
     "output_type": "stream",
     "text": [
      "/var/folders/_4/klhstfsn73nfrxlfr8_r9dhc0000gn/T/ipykernel_14417/427570331.py:10: FutureWarning: Series.__getitem__ treating keys as positions is deprecated. In a future version, integer keys will always be treated as labels (consistent with DataFrame behavior). To access a value by position, use `ser.iloc[pos]`\n",
      "  q_avil_site = pd.DataFrame(  {'site': [ df_202406['site_no'][0] ]}  )\n"
     ]
    },
    {
     "name": "stdout",
     "output_type": "stream",
     "text": [
      "12411500\n",
      "12411935\n",
      "12412000\n",
      "12412500\n",
      "12413000\n"
     ]
    },
    {
     "name": "stderr",
     "output_type": "stream",
     "text": [
      "/var/folders/_4/klhstfsn73nfrxlfr8_r9dhc0000gn/T/ipykernel_14417/427570331.py:10: FutureWarning: Series.__getitem__ treating keys as positions is deprecated. In a future version, integer keys will always be treated as labels (consistent with DataFrame behavior). To access a value by position, use `ser.iloc[pos]`\n",
      "  q_avil_site = pd.DataFrame(  {'site': [ df_202406['site_no'][0] ]}  )\n"
     ]
    },
    {
     "name": "stdout",
     "output_type": "stream",
     "text": [
      "12413040\n",
      "12413080\n",
      "12413125\n"
     ]
    },
    {
     "name": "stderr",
     "output_type": "stream",
     "text": [
      "/var/folders/_4/klhstfsn73nfrxlfr8_r9dhc0000gn/T/ipykernel_14417/427570331.py:10: FutureWarning: Series.__getitem__ treating keys as positions is deprecated. In a future version, integer keys will always be treated as labels (consistent with DataFrame behavior). To access a value by position, use `ser.iloc[pos]`\n",
      "  q_avil_site = pd.DataFrame(  {'site': [ df_202406['site_no'][0] ]}  )\n"
     ]
    },
    {
     "name": "stdout",
     "output_type": "stream",
     "text": [
      "12413130\n"
     ]
    },
    {
     "name": "stderr",
     "output_type": "stream",
     "text": [
      "/var/folders/_4/klhstfsn73nfrxlfr8_r9dhc0000gn/T/ipykernel_14417/427570331.py:10: FutureWarning: Series.__getitem__ treating keys as positions is deprecated. In a future version, integer keys will always be treated as labels (consistent with DataFrame behavior). To access a value by position, use `ser.iloc[pos]`\n",
      "  q_avil_site = pd.DataFrame(  {'site': [ df_202406['site_no'][0] ]}  )\n"
     ]
    },
    {
     "name": "stdout",
     "output_type": "stream",
     "text": [
      "12413131\n"
     ]
    },
    {
     "name": "stderr",
     "output_type": "stream",
     "text": [
      "/var/folders/_4/klhstfsn73nfrxlfr8_r9dhc0000gn/T/ipykernel_14417/427570331.py:10: FutureWarning: Series.__getitem__ treating keys as positions is deprecated. In a future version, integer keys will always be treated as labels (consistent with DataFrame behavior). To access a value by position, use `ser.iloc[pos]`\n",
      "  q_avil_site = pd.DataFrame(  {'site': [ df_202406['site_no'][0] ]}  )\n"
     ]
    },
    {
     "name": "stdout",
     "output_type": "stream",
     "text": [
      "12413140\n",
      "12413150\n",
      "12413180\n",
      "12413210\n"
     ]
    },
    {
     "name": "stderr",
     "output_type": "stream",
     "text": [
      "/var/folders/_4/klhstfsn73nfrxlfr8_r9dhc0000gn/T/ipykernel_14417/427570331.py:10: FutureWarning: Series.__getitem__ treating keys as positions is deprecated. In a future version, integer keys will always be treated as labels (consistent with DataFrame behavior). To access a value by position, use `ser.iloc[pos]`\n",
      "  q_avil_site = pd.DataFrame(  {'site': [ df_202406['site_no'][0] ]}  )\n"
     ]
    },
    {
     "name": "stdout",
     "output_type": "stream",
     "text": [
      "12413250\n",
      "12413300\n",
      "12413355\n"
     ]
    },
    {
     "name": "stderr",
     "output_type": "stream",
     "text": [
      "/var/folders/_4/klhstfsn73nfrxlfr8_r9dhc0000gn/T/ipykernel_14417/427570331.py:10: FutureWarning: Series.__getitem__ treating keys as positions is deprecated. In a future version, integer keys will always be treated as labels (consistent with DataFrame behavior). To access a value by position, use `ser.iloc[pos]`\n",
      "  q_avil_site = pd.DataFrame(  {'site': [ df_202406['site_no'][0] ]}  )\n"
     ]
    },
    {
     "name": "stdout",
     "output_type": "stream",
     "text": [
      "12413360\n",
      "12413370\n",
      "12413400\n",
      "12413445\n",
      "12413470\n"
     ]
    },
    {
     "name": "stderr",
     "output_type": "stream",
     "text": [
      "/var/folders/_4/klhstfsn73nfrxlfr8_r9dhc0000gn/T/ipykernel_14417/427570331.py:10: FutureWarning: Series.__getitem__ treating keys as positions is deprecated. In a future version, integer keys will always be treated as labels (consistent with DataFrame behavior). To access a value by position, use `ser.iloc[pos]`\n",
      "  q_avil_site = pd.DataFrame(  {'site': [ df_202406['site_no'][0] ]}  )\n"
     ]
    },
    {
     "name": "stdout",
     "output_type": "stream",
     "text": [
      "12413490\n",
      "12413500\n"
     ]
    },
    {
     "name": "stderr",
     "output_type": "stream",
     "text": [
      "/var/folders/_4/klhstfsn73nfrxlfr8_r9dhc0000gn/T/ipykernel_14417/427570331.py:10: FutureWarning: Series.__getitem__ treating keys as positions is deprecated. In a future version, integer keys will always be treated as labels (consistent with DataFrame behavior). To access a value by position, use `ser.iloc[pos]`\n",
      "  q_avil_site = pd.DataFrame(  {'site': [ df_202406['site_no'][0] ]}  )\n"
     ]
    },
    {
     "name": "stdout",
     "output_type": "stream",
     "text": [
      "12413700\n",
      "12413810\n",
      "12413860\n"
     ]
    },
    {
     "name": "stderr",
     "output_type": "stream",
     "text": [
      "/var/folders/_4/klhstfsn73nfrxlfr8_r9dhc0000gn/T/ipykernel_14417/427570331.py:10: FutureWarning: Series.__getitem__ treating keys as positions is deprecated. In a future version, integer keys will always be treated as labels (consistent with DataFrame behavior). To access a value by position, use `ser.iloc[pos]`\n",
      "  q_avil_site = pd.DataFrame(  {'site': [ df_202406['site_no'][0] ]}  )\n"
     ]
    },
    {
     "name": "stdout",
     "output_type": "stream",
     "text": [
      "12413875\n"
     ]
    },
    {
     "name": "stderr",
     "output_type": "stream",
     "text": [
      "/var/folders/_4/klhstfsn73nfrxlfr8_r9dhc0000gn/T/ipykernel_14417/427570331.py:10: FutureWarning: Series.__getitem__ treating keys as positions is deprecated. In a future version, integer keys will always be treated as labels (consistent with DataFrame behavior). To access a value by position, use `ser.iloc[pos]`\n",
      "  q_avil_site = pd.DataFrame(  {'site': [ df_202406['site_no'][0] ]}  )\n"
     ]
    },
    {
     "name": "stdout",
     "output_type": "stream",
     "text": [
      "12414000\n",
      "12414200\n",
      "12414350\n",
      "12414500\n"
     ]
    },
    {
     "name": "stderr",
     "output_type": "stream",
     "text": [
      "/var/folders/_4/klhstfsn73nfrxlfr8_r9dhc0000gn/T/ipykernel_14417/427570331.py:10: FutureWarning: Series.__getitem__ treating keys as positions is deprecated. In a future version, integer keys will always be treated as labels (consistent with DataFrame behavior). To access a value by position, use `ser.iloc[pos]`\n",
      "  q_avil_site = pd.DataFrame(  {'site': [ df_202406['site_no'][0] ]}  )\n"
     ]
    },
    {
     "name": "stdout",
     "output_type": "stream",
     "text": [
      "12414900\n"
     ]
    },
    {
     "name": "stderr",
     "output_type": "stream",
     "text": [
      "/var/folders/_4/klhstfsn73nfrxlfr8_r9dhc0000gn/T/ipykernel_14417/427570331.py:10: FutureWarning: Series.__getitem__ treating keys as positions is deprecated. In a future version, integer keys will always be treated as labels (consistent with DataFrame behavior). To access a value by position, use `ser.iloc[pos]`\n",
      "  q_avil_site = pd.DataFrame(  {'site': [ df_202406['site_no'][0] ]}  )\n"
     ]
    },
    {
     "name": "stdout",
     "output_type": "stream",
     "text": [
      "12415000\n",
      "12415075\n",
      "12415135\n"
     ]
    },
    {
     "name": "stderr",
     "output_type": "stream",
     "text": [
      "/var/folders/_4/klhstfsn73nfrxlfr8_r9dhc0000gn/T/ipykernel_14417/427570331.py:10: FutureWarning: Series.__getitem__ treating keys as positions is deprecated. In a future version, integer keys will always be treated as labels (consistent with DataFrame behavior). To access a value by position, use `ser.iloc[pos]`\n",
      "  q_avil_site = pd.DataFrame(  {'site': [ df_202406['site_no'][0] ]}  )\n"
     ]
    },
    {
     "name": "stdout",
     "output_type": "stream",
     "text": [
      "12415140\n",
      "12415250\n",
      "12415285\n",
      "12415290\n",
      "12415350\n",
      "12416000\n",
      "12416500\n",
      "12417610\n",
      "12417650\n"
     ]
    },
    {
     "name": "stderr",
     "output_type": "stream",
     "text": [
      "/var/folders/_4/klhstfsn73nfrxlfr8_r9dhc0000gn/T/ipykernel_14417/427570331.py:10: FutureWarning: Series.__getitem__ treating keys as positions is deprecated. In a future version, integer keys will always be treated as labels (consistent with DataFrame behavior). To access a value by position, use `ser.iloc[pos]`\n",
      "  q_avil_site = pd.DataFrame(  {'site': [ df_202406['site_no'][0] ]}  )\n"
     ]
    },
    {
     "name": "stdout",
     "output_type": "stream",
     "text": [
      "12419000\n"
     ]
    },
    {
     "name": "stderr",
     "output_type": "stream",
     "text": [
      "/var/folders/_4/klhstfsn73nfrxlfr8_r9dhc0000gn/T/ipykernel_14417/427570331.py:10: FutureWarning: Series.__getitem__ treating keys as positions is deprecated. In a future version, integer keys will always be treated as labels (consistent with DataFrame behavior). To access a value by position, use `ser.iloc[pos]`\n",
      "  q_avil_site = pd.DataFrame(  {'site': [ df_202406['site_no'][0] ]}  )\n"
     ]
    },
    {
     "name": "stdout",
     "output_type": "stream",
     "text": [
      "12422950\n",
      "13026000\n",
      "13028500\n",
      "13029000\n",
      "13029500\n",
      "13030000\n",
      "13030500\n",
      "13031500\n",
      "13032000\n",
      "13032500\n"
     ]
    },
    {
     "name": "stderr",
     "output_type": "stream",
     "text": [
      "/var/folders/_4/klhstfsn73nfrxlfr8_r9dhc0000gn/T/ipykernel_14417/427570331.py:10: FutureWarning: Series.__getitem__ treating keys as positions is deprecated. In a future version, integer keys will always be treated as labels (consistent with DataFrame behavior). To access a value by position, use `ser.iloc[pos]`\n",
      "  q_avil_site = pd.DataFrame(  {'site': [ df_202406['site_no'][0] ]}  )\n"
     ]
    },
    {
     "name": "stdout",
     "output_type": "stream",
     "text": [
      "13033500\n",
      "13034000\n",
      "13034450\n",
      "13034500\n",
      "13035500\n",
      "13036000\n",
      "13036500\n",
      "13037000\n",
      "13037500\n"
     ]
    },
    {
     "name": "stderr",
     "output_type": "stream",
     "text": [
      "/var/folders/_4/klhstfsn73nfrxlfr8_r9dhc0000gn/T/ipykernel_14417/427570331.py:10: FutureWarning: Series.__getitem__ treating keys as positions is deprecated. In a future version, integer keys will always be treated as labels (consistent with DataFrame behavior). To access a value by position, use `ser.iloc[pos]`\n",
      "  q_avil_site = pd.DataFrame(  {'site': [ df_202406['site_no'][0] ]}  )\n"
     ]
    },
    {
     "name": "stdout",
     "output_type": "stream",
     "text": [
      "13038000\n"
     ]
    },
    {
     "name": "stderr",
     "output_type": "stream",
     "text": [
      "/var/folders/_4/klhstfsn73nfrxlfr8_r9dhc0000gn/T/ipykernel_14417/427570331.py:10: FutureWarning: Series.__getitem__ treating keys as positions is deprecated. In a future version, integer keys will always be treated as labels (consistent with DataFrame behavior). To access a value by position, use `ser.iloc[pos]`\n",
      "  q_avil_site = pd.DataFrame(  {'site': [ df_202406['site_no'][0] ]}  )\n"
     ]
    },
    {
     "name": "stdout",
     "output_type": "stream",
     "text": [
      "13038380\n",
      "13038500\n"
     ]
    },
    {
     "name": "stderr",
     "output_type": "stream",
     "text": [
      "/var/folders/_4/klhstfsn73nfrxlfr8_r9dhc0000gn/T/ipykernel_14417/427570331.py:10: FutureWarning: Series.__getitem__ treating keys as positions is deprecated. In a future version, integer keys will always be treated as labels (consistent with DataFrame behavior). To access a value by position, use `ser.iloc[pos]`\n",
      "  q_avil_site = pd.DataFrame(  {'site': [ df_202406['site_no'][0] ]}  )\n"
     ]
    },
    {
     "name": "stdout",
     "output_type": "stream",
     "text": [
      "13039500\n"
     ]
    },
    {
     "name": "stderr",
     "output_type": "stream",
     "text": [
      "/var/folders/_4/klhstfsn73nfrxlfr8_r9dhc0000gn/T/ipykernel_14417/427570331.py:10: FutureWarning: Series.__getitem__ treating keys as positions is deprecated. In a future version, integer keys will always be treated as labels (consistent with DataFrame behavior). To access a value by position, use `ser.iloc[pos]`\n",
      "  q_avil_site = pd.DataFrame(  {'site': [ df_202406['site_no'][0] ]}  )\n"
     ]
    },
    {
     "name": "stdout",
     "output_type": "stream",
     "text": [
      "13040000\n",
      "13040500\n"
     ]
    },
    {
     "name": "stderr",
     "output_type": "stream",
     "text": [
      "/var/folders/_4/klhstfsn73nfrxlfr8_r9dhc0000gn/T/ipykernel_14417/427570331.py:10: FutureWarning: Series.__getitem__ treating keys as positions is deprecated. In a future version, integer keys will always be treated as labels (consistent with DataFrame behavior). To access a value by position, use `ser.iloc[pos]`\n",
      "  q_avil_site = pd.DataFrame(  {'site': [ df_202406['site_no'][0] ]}  )\n"
     ]
    },
    {
     "name": "stdout",
     "output_type": "stream",
     "text": [
      "13041000\n",
      "13041010\n",
      "13041500\n",
      "13042500\n"
     ]
    },
    {
     "name": "stderr",
     "output_type": "stream",
     "text": [
      "/var/folders/_4/klhstfsn73nfrxlfr8_r9dhc0000gn/T/ipykernel_14417/427570331.py:10: FutureWarning: Series.__getitem__ treating keys as positions is deprecated. In a future version, integer keys will always be treated as labels (consistent with DataFrame behavior). To access a value by position, use `ser.iloc[pos]`\n",
      "  q_avil_site = pd.DataFrame(  {'site': [ df_202406['site_no'][0] ]}  )\n"
     ]
    },
    {
     "name": "stdout",
     "output_type": "stream",
     "text": [
      "13043000\n",
      "13043500\n",
      "13044000\n",
      "13044500\n",
      "13045000\n",
      "13045500\n",
      "13046000\n"
     ]
    },
    {
     "name": "stderr",
     "output_type": "stream",
     "text": [
      "/var/folders/_4/klhstfsn73nfrxlfr8_r9dhc0000gn/T/ipykernel_14417/427570331.py:10: FutureWarning: Series.__getitem__ treating keys as positions is deprecated. In a future version, integer keys will always be treated as labels (consistent with DataFrame behavior). To access a value by position, use `ser.iloc[pos]`\n",
      "  q_avil_site = pd.DataFrame(  {'site': [ df_202406['site_no'][0] ]}  )\n"
     ]
    },
    {
     "name": "stdout",
     "output_type": "stream",
     "text": [
      "13046995\n"
     ]
    },
    {
     "name": "stderr",
     "output_type": "stream",
     "text": [
      "/var/folders/_4/klhstfsn73nfrxlfr8_r9dhc0000gn/T/ipykernel_14417/427570331.py:10: FutureWarning: Series.__getitem__ treating keys as positions is deprecated. In a future version, integer keys will always be treated as labels (consistent with DataFrame behavior). To access a value by position, use `ser.iloc[pos]`\n",
      "  q_avil_site = pd.DataFrame(  {'site': [ df_202406['site_no'][0] ]}  )\n"
     ]
    },
    {
     "name": "stdout",
     "output_type": "stream",
     "text": [
      "13047000\n",
      "13047500\n"
     ]
    },
    {
     "name": "stderr",
     "output_type": "stream",
     "text": [
      "/var/folders/_4/klhstfsn73nfrxlfr8_r9dhc0000gn/T/ipykernel_14417/427570331.py:10: FutureWarning: Series.__getitem__ treating keys as positions is deprecated. In a future version, integer keys will always be treated as labels (consistent with DataFrame behavior). To access a value by position, use `ser.iloc[pos]`\n",
      "  q_avil_site = pd.DataFrame(  {'site': [ df_202406['site_no'][0] ]}  )\n"
     ]
    },
    {
     "name": "stdout",
     "output_type": "stream",
     "text": [
      "13047600\n"
     ]
    },
    {
     "name": "stderr",
     "output_type": "stream",
     "text": [
      "/var/folders/_4/klhstfsn73nfrxlfr8_r9dhc0000gn/T/ipykernel_14417/427570331.py:10: FutureWarning: Series.__getitem__ treating keys as positions is deprecated. In a future version, integer keys will always be treated as labels (consistent with DataFrame behavior). To access a value by position, use `ser.iloc[pos]`\n",
      "  q_avil_site = pd.DataFrame(  {'site': [ df_202406['site_no'][0] ]}  )\n"
     ]
    },
    {
     "name": "stdout",
     "output_type": "stream",
     "text": [
      "13048500\n",
      "13049000\n",
      "13049500\n"
     ]
    },
    {
     "name": "stderr",
     "output_type": "stream",
     "text": [
      "/var/folders/_4/klhstfsn73nfrxlfr8_r9dhc0000gn/T/ipykernel_14417/427570331.py:10: FutureWarning: Series.__getitem__ treating keys as positions is deprecated. In a future version, integer keys will always be treated as labels (consistent with DataFrame behavior). To access a value by position, use `ser.iloc[pos]`\n",
      "  q_avil_site = pd.DataFrame(  {'site': [ df_202406['site_no'][0] ]}  )\n"
     ]
    },
    {
     "name": "stdout",
     "output_type": "stream",
     "text": [
      "13050000\n",
      "13050500\n"
     ]
    },
    {
     "name": "stderr",
     "output_type": "stream",
     "text": [
      "/var/folders/_4/klhstfsn73nfrxlfr8_r9dhc0000gn/T/ipykernel_14417/427570331.py:10: FutureWarning: Series.__getitem__ treating keys as positions is deprecated. In a future version, integer keys will always be treated as labels (consistent with DataFrame behavior). To access a value by position, use `ser.iloc[pos]`\n",
      "  q_avil_site = pd.DataFrame(  {'site': [ df_202406['site_no'][0] ]}  )\n"
     ]
    },
    {
     "name": "stdout",
     "output_type": "stream",
     "text": [
      "13051000\n",
      "13052000\n",
      "13052200\n"
     ]
    },
    {
     "name": "stderr",
     "output_type": "stream",
     "text": [
      "/var/folders/_4/klhstfsn73nfrxlfr8_r9dhc0000gn/T/ipykernel_14417/427570331.py:10: FutureWarning: Series.__getitem__ treating keys as positions is deprecated. In a future version, integer keys will always be treated as labels (consistent with DataFrame behavior). To access a value by position, use `ser.iloc[pos]`\n",
      "  q_avil_site = pd.DataFrame(  {'site': [ df_202406['site_no'][0] ]}  )\n"
     ]
    },
    {
     "name": "stdout",
     "output_type": "stream",
     "text": [
      "13052500\n",
      "13053000\n",
      "13053500\n",
      "13054000\n",
      "13054200\n",
      "13054300\n",
      "13054500\n",
      "13054600\n",
      "13054805\n",
      "13055000\n"
     ]
    },
    {
     "name": "stderr",
     "output_type": "stream",
     "text": [
      "/var/folders/_4/klhstfsn73nfrxlfr8_r9dhc0000gn/T/ipykernel_14417/427570331.py:10: FutureWarning: Series.__getitem__ treating keys as positions is deprecated. In a future version, integer keys will always be treated as labels (consistent with DataFrame behavior). To access a value by position, use `ser.iloc[pos]`\n",
      "  q_avil_site = pd.DataFrame(  {'site': [ df_202406['site_no'][0] ]}  )\n"
     ]
    },
    {
     "name": "stdout",
     "output_type": "stream",
     "text": [
      "13055198\n",
      "13055210\n",
      "13055230\n",
      "13055250\n"
     ]
    },
    {
     "name": "stderr",
     "output_type": "stream",
     "text": [
      "/var/folders/_4/klhstfsn73nfrxlfr8_r9dhc0000gn/T/ipykernel_14417/427570331.py:10: FutureWarning: Series.__getitem__ treating keys as positions is deprecated. In a future version, integer keys will always be treated as labels (consistent with DataFrame behavior). To access a value by position, use `ser.iloc[pos]`\n",
      "  q_avil_site = pd.DataFrame(  {'site': [ df_202406['site_no'][0] ]}  )\n"
     ]
    },
    {
     "name": "stdout",
     "output_type": "stream",
     "text": [
      "13055270\n",
      "13055300\n",
      "13055319\n",
      "13055340\n"
     ]
    },
    {
     "name": "stderr",
     "output_type": "stream",
     "text": [
      "/var/folders/_4/klhstfsn73nfrxlfr8_r9dhc0000gn/T/ipykernel_14417/427570331.py:10: FutureWarning: Series.__getitem__ treating keys as positions is deprecated. In a future version, integer keys will always be treated as labels (consistent with DataFrame behavior). To access a value by position, use `ser.iloc[pos]`\n",
      "  q_avil_site = pd.DataFrame(  {'site': [ df_202406['site_no'][0] ]}  )\n"
     ]
    },
    {
     "name": "stdout",
     "output_type": "stream",
     "text": [
      "13055500\n",
      "13056000\n",
      "13056500\n"
     ]
    },
    {
     "name": "stderr",
     "output_type": "stream",
     "text": [
      "/var/folders/_4/klhstfsn73nfrxlfr8_r9dhc0000gn/T/ipykernel_14417/427570331.py:10: FutureWarning: Series.__getitem__ treating keys as positions is deprecated. In a future version, integer keys will always be treated as labels (consistent with DataFrame behavior). To access a value by position, use `ser.iloc[pos]`\n",
      "  q_avil_site = pd.DataFrame(  {'site': [ df_202406['site_no'][0] ]}  )\n"
     ]
    },
    {
     "name": "stdout",
     "output_type": "stream",
     "text": [
      "13056600\n",
      "13057000\n"
     ]
    },
    {
     "name": "stderr",
     "output_type": "stream",
     "text": [
      "/var/folders/_4/klhstfsn73nfrxlfr8_r9dhc0000gn/T/ipykernel_14417/427570331.py:10: FutureWarning: Series.__getitem__ treating keys as positions is deprecated. In a future version, integer keys will always be treated as labels (consistent with DataFrame behavior). To access a value by position, use `ser.iloc[pos]`\n",
      "  q_avil_site = pd.DataFrame(  {'site': [ df_202406['site_no'][0] ]}  )\n"
     ]
    },
    {
     "name": "stdout",
     "output_type": "stream",
     "text": [
      "13057090\n",
      "13057132\n"
     ]
    },
    {
     "name": "stderr",
     "output_type": "stream",
     "text": [
      "/var/folders/_4/klhstfsn73nfrxlfr8_r9dhc0000gn/T/ipykernel_14417/427570331.py:10: FutureWarning: Series.__getitem__ treating keys as positions is deprecated. In a future version, integer keys will always be treated as labels (consistent with DataFrame behavior). To access a value by position, use `ser.iloc[pos]`\n",
      "  q_avil_site = pd.DataFrame(  {'site': [ df_202406['site_no'][0] ]}  )\n"
     ]
    },
    {
     "name": "stdout",
     "output_type": "stream",
     "text": [
      "13057150\n",
      "13057155\n"
     ]
    },
    {
     "name": "stderr",
     "output_type": "stream",
     "text": [
      "/var/folders/_4/klhstfsn73nfrxlfr8_r9dhc0000gn/T/ipykernel_14417/427570331.py:10: FutureWarning: Series.__getitem__ treating keys as positions is deprecated. In a future version, integer keys will always be treated as labels (consistent with DataFrame behavior). To access a value by position, use `ser.iloc[pos]`\n",
      "  q_avil_site = pd.DataFrame(  {'site': [ df_202406['site_no'][0] ]}  )\n"
     ]
    },
    {
     "name": "stdout",
     "output_type": "stream",
     "text": [
      "13057160\n",
      "13057300\n",
      "13057500\n",
      "13057940\n"
     ]
    },
    {
     "name": "stderr",
     "output_type": "stream",
     "text": [
      "/var/folders/_4/klhstfsn73nfrxlfr8_r9dhc0000gn/T/ipykernel_14417/427570331.py:10: FutureWarning: Series.__getitem__ treating keys as positions is deprecated. In a future version, integer keys will always be treated as labels (consistent with DataFrame behavior). To access a value by position, use `ser.iloc[pos]`\n",
      "  q_avil_site = pd.DataFrame(  {'site': [ df_202406['site_no'][0] ]}  )\n"
     ]
    },
    {
     "name": "stdout",
     "output_type": "stream",
     "text": [
      "13058000\n"
     ]
    },
    {
     "name": "stderr",
     "output_type": "stream",
     "text": [
      "/var/folders/_4/klhstfsn73nfrxlfr8_r9dhc0000gn/T/ipykernel_14417/427570331.py:10: FutureWarning: Series.__getitem__ treating keys as positions is deprecated. In a future version, integer keys will always be treated as labels (consistent with DataFrame behavior). To access a value by position, use `ser.iloc[pos]`\n",
      "  q_avil_site = pd.DataFrame(  {'site': [ df_202406['site_no'][0] ]}  )\n"
     ]
    },
    {
     "name": "stdout",
     "output_type": "stream",
     "text": [
      "13058500\n",
      "13058510\n"
     ]
    },
    {
     "name": "stderr",
     "output_type": "stream",
     "text": [
      "/var/folders/_4/klhstfsn73nfrxlfr8_r9dhc0000gn/T/ipykernel_14417/427570331.py:10: FutureWarning: Series.__getitem__ treating keys as positions is deprecated. In a future version, integer keys will always be treated as labels (consistent with DataFrame behavior). To access a value by position, use `ser.iloc[pos]`\n",
      "  q_avil_site = pd.DataFrame(  {'site': [ df_202406['site_no'][0] ]}  )\n"
     ]
    },
    {
     "name": "stdout",
     "output_type": "stream",
     "text": [
      "13058520\n"
     ]
    },
    {
     "name": "stderr",
     "output_type": "stream",
     "text": [
      "/var/folders/_4/klhstfsn73nfrxlfr8_r9dhc0000gn/T/ipykernel_14417/427570331.py:10: FutureWarning: Series.__getitem__ treating keys as positions is deprecated. In a future version, integer keys will always be treated as labels (consistent with DataFrame behavior). To access a value by position, use `ser.iloc[pos]`\n",
      "  q_avil_site = pd.DataFrame(  {'site': [ df_202406['site_no'][0] ]}  )\n"
     ]
    },
    {
     "name": "stdout",
     "output_type": "stream",
     "text": [
      "13058529\n"
     ]
    },
    {
     "name": "stderr",
     "output_type": "stream",
     "text": [
      "/var/folders/_4/klhstfsn73nfrxlfr8_r9dhc0000gn/T/ipykernel_14417/427570331.py:10: FutureWarning: Series.__getitem__ treating keys as positions is deprecated. In a future version, integer keys will always be treated as labels (consistent with DataFrame behavior). To access a value by position, use `ser.iloc[pos]`\n",
      "  q_avil_site = pd.DataFrame(  {'site': [ df_202406['site_no'][0] ]}  )\n"
     ]
    },
    {
     "name": "stdout",
     "output_type": "stream",
     "text": [
      "13058530\n"
     ]
    },
    {
     "name": "stderr",
     "output_type": "stream",
     "text": [
      "/var/folders/_4/klhstfsn73nfrxlfr8_r9dhc0000gn/T/ipykernel_14417/427570331.py:10: FutureWarning: Series.__getitem__ treating keys as positions is deprecated. In a future version, integer keys will always be treated as labels (consistent with DataFrame behavior). To access a value by position, use `ser.iloc[pos]`\n",
      "  q_avil_site = pd.DataFrame(  {'site': [ df_202406['site_no'][0] ]}  )\n"
     ]
    },
    {
     "name": "stdout",
     "output_type": "stream",
     "text": [
      "13059000\n",
      "13059500\n",
      "13060000\n"
     ]
    },
    {
     "name": "stderr",
     "output_type": "stream",
     "text": [
      "/var/folders/_4/klhstfsn73nfrxlfr8_r9dhc0000gn/T/ipykernel_14417/427570331.py:10: FutureWarning: Series.__getitem__ treating keys as positions is deprecated. In a future version, integer keys will always be treated as labels (consistent with DataFrame behavior). To access a value by position, use `ser.iloc[pos]`\n",
      "  q_avil_site = pd.DataFrame(  {'site': [ df_202406['site_no'][0] ]}  )\n"
     ]
    },
    {
     "name": "stdout",
     "output_type": "stream",
     "text": [
      "13061500\n",
      "13062000\n",
      "13062500\n"
     ]
    },
    {
     "name": "stderr",
     "output_type": "stream",
     "text": [
      "/var/folders/_4/klhstfsn73nfrxlfr8_r9dhc0000gn/T/ipykernel_14417/427570331.py:10: FutureWarning: Series.__getitem__ treating keys as positions is deprecated. In a future version, integer keys will always be treated as labels (consistent with DataFrame behavior). To access a value by position, use `ser.iloc[pos]`\n",
      "  q_avil_site = pd.DataFrame(  {'site': [ df_202406['site_no'][0] ]}  )\n"
     ]
    },
    {
     "name": "stdout",
     "output_type": "stream",
     "text": [
      "13062504\n",
      "13063000\n"
     ]
    },
    {
     "name": "stderr",
     "output_type": "stream",
     "text": [
      "/var/folders/_4/klhstfsn73nfrxlfr8_r9dhc0000gn/T/ipykernel_14417/427570331.py:10: FutureWarning: Series.__getitem__ treating keys as positions is deprecated. In a future version, integer keys will always be treated as labels (consistent with DataFrame behavior). To access a value by position, use `ser.iloc[pos]`\n",
      "  q_avil_site = pd.DataFrame(  {'site': [ df_202406['site_no'][0] ]}  )\n"
     ]
    },
    {
     "name": "stdout",
     "output_type": "stream",
     "text": [
      "13063500\n",
      "13064500\n",
      "13065500\n",
      "13065940\n",
      "13066000\n"
     ]
    },
    {
     "name": "stderr",
     "output_type": "stream",
     "text": [
      "/var/folders/_4/klhstfsn73nfrxlfr8_r9dhc0000gn/T/ipykernel_14417/427570331.py:10: FutureWarning: Series.__getitem__ treating keys as positions is deprecated. In a future version, integer keys will always be treated as labels (consistent with DataFrame behavior). To access a value by position, use `ser.iloc[pos]`\n",
      "  q_avil_site = pd.DataFrame(  {'site': [ df_202406['site_no'][0] ]}  )\n"
     ]
    },
    {
     "name": "stdout",
     "output_type": "stream",
     "text": [
      "13066500\n",
      "13067000\n",
      "13068300\n",
      "13068495\n"
     ]
    },
    {
     "name": "stderr",
     "output_type": "stream",
     "text": [
      "/var/folders/_4/klhstfsn73nfrxlfr8_r9dhc0000gn/T/ipykernel_14417/427570331.py:10: FutureWarning: Series.__getitem__ treating keys as positions is deprecated. In a future version, integer keys will always be treated as labels (consistent with DataFrame behavior). To access a value by position, use `ser.iloc[pos]`\n",
      "  q_avil_site = pd.DataFrame(  {'site': [ df_202406['site_no'][0] ]}  )\n"
     ]
    },
    {
     "name": "stdout",
     "output_type": "stream",
     "text": [
      "13068500\n"
     ]
    },
    {
     "name": "stderr",
     "output_type": "stream",
     "text": [
      "/var/folders/_4/klhstfsn73nfrxlfr8_r9dhc0000gn/T/ipykernel_14417/427570331.py:10: FutureWarning: Series.__getitem__ treating keys as positions is deprecated. In a future version, integer keys will always be treated as labels (consistent with DataFrame behavior). To access a value by position, use `ser.iloc[pos]`\n",
      "  q_avil_site = pd.DataFrame(  {'site': [ df_202406['site_no'][0] ]}  )\n"
     ]
    },
    {
     "name": "stdout",
     "output_type": "stream",
     "text": [
      "13068501\n"
     ]
    },
    {
     "name": "stderr",
     "output_type": "stream",
     "text": [
      "/var/folders/_4/klhstfsn73nfrxlfr8_r9dhc0000gn/T/ipykernel_14417/427570331.py:10: FutureWarning: Series.__getitem__ treating keys as positions is deprecated. In a future version, integer keys will always be treated as labels (consistent with DataFrame behavior). To access a value by position, use `ser.iloc[pos]`\n",
      "  q_avil_site = pd.DataFrame(  {'site': [ df_202406['site_no'][0] ]}  )\n"
     ]
    },
    {
     "name": "stdout",
     "output_type": "stream",
     "text": [
      "13069000\n",
      "13069500\n"
     ]
    },
    {
     "name": "stderr",
     "output_type": "stream",
     "text": [
      "/var/folders/_4/klhstfsn73nfrxlfr8_r9dhc0000gn/T/ipykernel_14417/427570331.py:10: FutureWarning: Series.__getitem__ treating keys as positions is deprecated. In a future version, integer keys will always be treated as labels (consistent with DataFrame behavior). To access a value by position, use `ser.iloc[pos]`\n",
      "  q_avil_site = pd.DataFrame(  {'site': [ df_202406['site_no'][0] ]}  )\n"
     ]
    },
    {
     "name": "stdout",
     "output_type": "stream",
     "text": [
      "13069532\n",
      "13069540\n",
      "13069565\n",
      "13070000\n",
      "13070500\n",
      "13071000\n",
      "13071010\n"
     ]
    },
    {
     "name": "stderr",
     "output_type": "stream",
     "text": [
      "/var/folders/_4/klhstfsn73nfrxlfr8_r9dhc0000gn/T/ipykernel_14417/427570331.py:10: FutureWarning: Series.__getitem__ treating keys as positions is deprecated. In a future version, integer keys will always be treated as labels (consistent with DataFrame behavior). To access a value by position, use `ser.iloc[pos]`\n",
      "  q_avil_site = pd.DataFrame(  {'site': [ df_202406['site_no'][0] ]}  )\n"
     ]
    },
    {
     "name": "stdout",
     "output_type": "stream",
     "text": [
      "13071500\n",
      "13072000\n",
      "13072400\n",
      "13072500\n",
      "13073000\n"
     ]
    },
    {
     "name": "stderr",
     "output_type": "stream",
     "text": [
      "/var/folders/_4/klhstfsn73nfrxlfr8_r9dhc0000gn/T/ipykernel_14417/427570331.py:10: FutureWarning: Series.__getitem__ treating keys as positions is deprecated. In a future version, integer keys will always be treated as labels (consistent with DataFrame behavior). To access a value by position, use `ser.iloc[pos]`\n",
      "  q_avil_site = pd.DataFrame(  {'site': [ df_202406['site_no'][0] ]}  )\n"
     ]
    },
    {
     "name": "stdout",
     "output_type": "stream",
     "text": [
      "13073500\n",
      "13073750\n",
      "13073950\n",
      "13074000\n",
      "13074400\n"
     ]
    },
    {
     "name": "stderr",
     "output_type": "stream",
     "text": [
      "/var/folders/_4/klhstfsn73nfrxlfr8_r9dhc0000gn/T/ipykernel_14417/427570331.py:10: FutureWarning: Series.__getitem__ treating keys as positions is deprecated. In a future version, integer keys will always be treated as labels (consistent with DataFrame behavior). To access a value by position, use `ser.iloc[pos]`\n",
      "  q_avil_site = pd.DataFrame(  {'site': [ df_202406['site_no'][0] ]}  )\n"
     ]
    },
    {
     "name": "stdout",
     "output_type": "stream",
     "text": [
      "13075000\n"
     ]
    },
    {
     "name": "stderr",
     "output_type": "stream",
     "text": [
      "/var/folders/_4/klhstfsn73nfrxlfr8_r9dhc0000gn/T/ipykernel_14417/427570331.py:10: FutureWarning: Series.__getitem__ treating keys as positions is deprecated. In a future version, integer keys will always be treated as labels (consistent with DataFrame behavior). To access a value by position, use `ser.iloc[pos]`\n",
      "  q_avil_site = pd.DataFrame(  {'site': [ df_202406['site_no'][0] ]}  )\n"
     ]
    },
    {
     "name": "stdout",
     "output_type": "stream",
     "text": [
      "13075100\n",
      "13075500\n"
     ]
    },
    {
     "name": "stderr",
     "output_type": "stream",
     "text": [
      "/var/folders/_4/klhstfsn73nfrxlfr8_r9dhc0000gn/T/ipykernel_14417/427570331.py:10: FutureWarning: Series.__getitem__ treating keys as positions is deprecated. In a future version, integer keys will always be treated as labels (consistent with DataFrame behavior). To access a value by position, use `ser.iloc[pos]`\n",
      "  q_avil_site = pd.DataFrame(  {'site': [ df_202406['site_no'][0] ]}  )\n"
     ]
    },
    {
     "name": "stdout",
     "output_type": "stream",
     "text": [
      "13075700\n",
      "13075909\n",
      "13075910\n"
     ]
    },
    {
     "name": "stderr",
     "output_type": "stream",
     "text": [
      "/var/folders/_4/klhstfsn73nfrxlfr8_r9dhc0000gn/T/ipykernel_14417/427570331.py:10: FutureWarning: Series.__getitem__ treating keys as positions is deprecated. In a future version, integer keys will always be treated as labels (consistent with DataFrame behavior). To access a value by position, use `ser.iloc[pos]`\n",
      "  q_avil_site = pd.DataFrame(  {'site': [ df_202406['site_no'][0] ]}  )\n"
     ]
    },
    {
     "name": "stdout",
     "output_type": "stream",
     "text": [
      "13075920\n",
      "13075958\n",
      "13075970\n",
      "13075980\n",
      "13075981\n",
      "13075983\n"
     ]
    },
    {
     "name": "stderr",
     "output_type": "stream",
     "text": [
      "/var/folders/_4/klhstfsn73nfrxlfr8_r9dhc0000gn/T/ipykernel_14417/427570331.py:10: FutureWarning: Series.__getitem__ treating keys as positions is deprecated. In a future version, integer keys will always be treated as labels (consistent with DataFrame behavior). To access a value by position, use `ser.iloc[pos]`\n",
      "  q_avil_site = pd.DataFrame(  {'site': [ df_202406['site_no'][0] ]}  )\n"
     ]
    },
    {
     "name": "stdout",
     "output_type": "stream",
     "text": [
      "13075985\n",
      "1307599660\n",
      "1307599910\n",
      "13076000\n",
      "13076100\n",
      "13076110\n",
      "13076200\n",
      "13076300\n",
      "13076600\n",
      "13077000\n"
     ]
    },
    {
     "name": "stderr",
     "output_type": "stream",
     "text": [
      "/var/folders/_4/klhstfsn73nfrxlfr8_r9dhc0000gn/T/ipykernel_14417/427570331.py:10: FutureWarning: Series.__getitem__ treating keys as positions is deprecated. In a future version, integer keys will always be treated as labels (consistent with DataFrame behavior). To access a value by position, use `ser.iloc[pos]`\n",
      "  q_avil_site = pd.DataFrame(  {'site': [ df_202406['site_no'][0] ]}  )\n"
     ]
    },
    {
     "name": "stdout",
     "output_type": "stream",
     "text": [
      "13077500\n",
      "13077600\n",
      "13077650\n",
      "13077670\n",
      "13077680\n",
      "13078000\n"
     ]
    },
    {
     "name": "stderr",
     "output_type": "stream",
     "text": [
      "/var/folders/_4/klhstfsn73nfrxlfr8_r9dhc0000gn/T/ipykernel_14417/427570331.py:10: FutureWarning: Series.__getitem__ treating keys as positions is deprecated. In a future version, integer keys will always be treated as labels (consistent with DataFrame behavior). To access a value by position, use `ser.iloc[pos]`\n",
      "  q_avil_site = pd.DataFrame(  {'site': [ df_202406['site_no'][0] ]}  )\n"
     ]
    },
    {
     "name": "stdout",
     "output_type": "stream",
     "text": [
      "13078205\n",
      "13078500\n",
      "13079050\n",
      "13079100\n",
      "13079105\n",
      "13079110\n",
      "13079120\n",
      "13079140\n",
      "13079150\n",
      "13079200\n",
      "13079300\n"
     ]
    },
    {
     "name": "stderr",
     "output_type": "stream",
     "text": [
      "/var/folders/_4/klhstfsn73nfrxlfr8_r9dhc0000gn/T/ipykernel_14417/427570331.py:10: FutureWarning: Series.__getitem__ treating keys as positions is deprecated. In a future version, integer keys will always be treated as labels (consistent with DataFrame behavior). To access a value by position, use `ser.iloc[pos]`\n",
      "  q_avil_site = pd.DataFrame(  {'site': [ df_202406['site_no'][0] ]}  )\n"
     ]
    },
    {
     "name": "stdout",
     "output_type": "stream",
     "text": [
      "13079500\n",
      "13079600\n",
      "13079900\n",
      "13079901\n",
      "13081500\n"
     ]
    },
    {
     "name": "stderr",
     "output_type": "stream",
     "text": [
      "/var/folders/_4/klhstfsn73nfrxlfr8_r9dhc0000gn/T/ipykernel_14417/427570331.py:10: FutureWarning: Series.__getitem__ treating keys as positions is deprecated. In a future version, integer keys will always be treated as labels (consistent with DataFrame behavior). To access a value by position, use `ser.iloc[pos]`\n",
      "  q_avil_site = pd.DataFrame(  {'site': [ df_202406['site_no'][0] ]}  )\n"
     ]
    },
    {
     "name": "stdout",
     "output_type": "stream",
     "text": [
      "13082000\n",
      "13082060\n",
      "13082300\n",
      "13082320\n",
      "13082500\n"
     ]
    },
    {
     "name": "stderr",
     "output_type": "stream",
     "text": [
      "/var/folders/_4/klhstfsn73nfrxlfr8_r9dhc0000gn/T/ipykernel_14417/427570331.py:10: FutureWarning: Series.__getitem__ treating keys as positions is deprecated. In a future version, integer keys will always be treated as labels (consistent with DataFrame behavior). To access a value by position, use `ser.iloc[pos]`\n",
      "  q_avil_site = pd.DataFrame(  {'site': [ df_202406['site_no'][0] ]}  )\n"
     ]
    },
    {
     "name": "stdout",
     "output_type": "stream",
     "text": [
      "13083000\n"
     ]
    },
    {
     "name": "stderr",
     "output_type": "stream",
     "text": [
      "/var/folders/_4/klhstfsn73nfrxlfr8_r9dhc0000gn/T/ipykernel_14417/427570331.py:10: FutureWarning: Series.__getitem__ treating keys as positions is deprecated. In a future version, integer keys will always be treated as labels (consistent with DataFrame behavior). To access a value by position, use `ser.iloc[pos]`\n",
      "  q_avil_site = pd.DataFrame(  {'site': [ df_202406['site_no'][0] ]}  )\n"
     ]
    },
    {
     "name": "stdout",
     "output_type": "stream",
     "text": [
      "13084000\n",
      "13084400\n",
      "13084500\n",
      "13084700\n",
      "13085000\n",
      "13085800\n",
      "130875048\n",
      "130875049\n",
      "13087505\n",
      "13087995\n"
     ]
    },
    {
     "name": "stderr",
     "output_type": "stream",
     "text": [
      "/var/folders/_4/klhstfsn73nfrxlfr8_r9dhc0000gn/T/ipykernel_14417/427570331.py:10: FutureWarning: Series.__getitem__ treating keys as positions is deprecated. In a future version, integer keys will always be treated as labels (consistent with DataFrame behavior). To access a value by position, use `ser.iloc[pos]`\n",
      "  q_avil_site = pd.DataFrame(  {'site': [ df_202406['site_no'][0] ]}  )\n"
     ]
    },
    {
     "name": "stdout",
     "output_type": "stream",
     "text": [
      "13088000\n",
      "13088400\n",
      "13088404\n",
      "13088500\n",
      "13088510\n",
      "13089500\n"
     ]
    },
    {
     "name": "stderr",
     "output_type": "stream",
     "text": [
      "/var/folders/_4/klhstfsn73nfrxlfr8_r9dhc0000gn/T/ipykernel_14417/427570331.py:10: FutureWarning: Series.__getitem__ treating keys as positions is deprecated. In a future version, integer keys will always be treated as labels (consistent with DataFrame behavior). To access a value by position, use `ser.iloc[pos]`\n",
      "  q_avil_site = pd.DataFrame(  {'site': [ df_202406['site_no'][0] ]}  )\n"
     ]
    },
    {
     "name": "stdout",
     "output_type": "stream",
     "text": [
      "13090000\n",
      "13090370\n",
      "13090500\n"
     ]
    },
    {
     "name": "stderr",
     "output_type": "stream",
     "text": [
      "/var/folders/_4/klhstfsn73nfrxlfr8_r9dhc0000gn/T/ipykernel_14417/427570331.py:10: FutureWarning: Series.__getitem__ treating keys as positions is deprecated. In a future version, integer keys will always be treated as labels (consistent with DataFrame behavior). To access a value by position, use `ser.iloc[pos]`\n",
      "  q_avil_site = pd.DataFrame(  {'site': [ df_202406['site_no'][0] ]}  )\n"
     ]
    },
    {
     "name": "stdout",
     "output_type": "stream",
     "text": [
      "13090999\n",
      "13091500\n",
      "13091700\n",
      "13091733\n",
      "13092000\n",
      "13092500\n",
      "13092730\n",
      "13092747\n"
     ]
    },
    {
     "name": "stderr",
     "output_type": "stream",
     "text": [
      "/var/folders/_4/klhstfsn73nfrxlfr8_r9dhc0000gn/T/ipykernel_14417/427570331.py:10: FutureWarning: Series.__getitem__ treating keys as positions is deprecated. In a future version, integer keys will always be treated as labels (consistent with DataFrame behavior). To access a value by position, use `ser.iloc[pos]`\n",
      "  q_avil_site = pd.DataFrame(  {'site': [ df_202406['site_no'][0] ]}  )\n"
     ]
    },
    {
     "name": "stdout",
     "output_type": "stream",
     "text": [
      "13093000\n",
      "13093095\n",
      "13093100\n",
      "13093150\n",
      "13093383\n"
     ]
    },
    {
     "name": "stderr",
     "output_type": "stream",
     "text": [
      "/var/folders/_4/klhstfsn73nfrxlfr8_r9dhc0000gn/T/ipykernel_14417/427570331.py:10: FutureWarning: Series.__getitem__ treating keys as positions is deprecated. In a future version, integer keys will always be treated as labels (consistent with DataFrame behavior). To access a value by position, use `ser.iloc[pos]`\n",
      "  q_avil_site = pd.DataFrame(  {'site': [ df_202406['site_no'][0] ]}  )\n"
     ]
    },
    {
     "name": "stdout",
     "output_type": "stream",
     "text": [
      "13093475\n",
      "13093500\n",
      "13093550\n",
      "13094000\n"
     ]
    },
    {
     "name": "stderr",
     "output_type": "stream",
     "text": [
      "/var/folders/_4/klhstfsn73nfrxlfr8_r9dhc0000gn/T/ipykernel_14417/427570331.py:10: FutureWarning: Series.__getitem__ treating keys as positions is deprecated. In a future version, integer keys will always be treated as labels (consistent with DataFrame behavior). To access a value by position, use `ser.iloc[pos]`\n",
      "  q_avil_site = pd.DataFrame(  {'site': [ df_202406['site_no'][0] ]}  )\n"
     ]
    },
    {
     "name": "stdout",
     "output_type": "stream",
     "text": [
      "13094700\n",
      "13094900\n",
      "13095000\n",
      "13095050\n",
      "13095360\n",
      "13105500\n",
      "13106600\n",
      "13106650\n",
      "13107000\n",
      "13107500\n",
      "13108000\n",
      "13108150\n"
     ]
    },
    {
     "name": "stderr",
     "output_type": "stream",
     "text": [
      "/var/folders/_4/klhstfsn73nfrxlfr8_r9dhc0000gn/T/ipykernel_14417/427570331.py:10: FutureWarning: Series.__getitem__ treating keys as positions is deprecated. In a future version, integer keys will always be treated as labels (consistent with DataFrame behavior). To access a value by position, use `ser.iloc[pos]`\n",
      "  q_avil_site = pd.DataFrame(  {'site': [ df_202406['site_no'][0] ]}  )\n"
     ]
    },
    {
     "name": "stdout",
     "output_type": "stream",
     "text": [
      "13108160\n",
      "13108500\n",
      "13108900\n",
      "13109000\n",
      "13109600\n",
      "13111500\n",
      "13112000\n"
     ]
    },
    {
     "name": "stderr",
     "output_type": "stream",
     "text": [
      "/var/folders/_4/klhstfsn73nfrxlfr8_r9dhc0000gn/T/ipykernel_14417/427570331.py:10: FutureWarning: Series.__getitem__ treating keys as positions is deprecated. In a future version, integer keys will always be treated as labels (consistent with DataFrame behavior). To access a value by position, use `ser.iloc[pos]`\n",
      "  q_avil_site = pd.DataFrame(  {'site': [ df_202406['site_no'][0] ]}  )\n"
     ]
    },
    {
     "name": "stdout",
     "output_type": "stream",
     "text": [
      "13112500\n",
      "13113000\n",
      "13113500\n",
      "13114000\n",
      "13114500\n",
      "13115500\n",
      "13116000\n",
      "13116500\n"
     ]
    },
    {
     "name": "stderr",
     "output_type": "stream",
     "text": [
      "/var/folders/_4/klhstfsn73nfrxlfr8_r9dhc0000gn/T/ipykernel_14417/427570331.py:10: FutureWarning: Series.__getitem__ treating keys as positions is deprecated. In a future version, integer keys will always be treated as labels (consistent with DataFrame behavior). To access a value by position, use `ser.iloc[pos]`\n",
      "  q_avil_site = pd.DataFrame(  {'site': [ df_202406['site_no'][0] ]}  )\n"
     ]
    },
    {
     "name": "stdout",
     "output_type": "stream",
     "text": [
      "13117000\n",
      "13117020\n",
      "13117030\n",
      "13117300\n",
      "13117360\n",
      "13117500\n",
      "13118000\n",
      "13118700\n"
     ]
    },
    {
     "name": "stderr",
     "output_type": "stream",
     "text": [
      "/var/folders/_4/klhstfsn73nfrxlfr8_r9dhc0000gn/T/ipykernel_14417/427570331.py:10: FutureWarning: Series.__getitem__ treating keys as positions is deprecated. In a future version, integer keys will always be treated as labels (consistent with DataFrame behavior). To access a value by position, use `ser.iloc[pos]`\n",
      "  q_avil_site = pd.DataFrame(  {'site': [ df_202406['site_no'][0] ]}  )\n"
     ]
    },
    {
     "name": "stdout",
     "output_type": "stream",
     "text": [
      "13118975\n"
     ]
    },
    {
     "name": "stderr",
     "output_type": "stream",
     "text": [
      "/var/folders/_4/klhstfsn73nfrxlfr8_r9dhc0000gn/T/ipykernel_14417/427570331.py:10: FutureWarning: Series.__getitem__ treating keys as positions is deprecated. In a future version, integer keys will always be treated as labels (consistent with DataFrame behavior). To access a value by position, use `ser.iloc[pos]`\n",
      "  q_avil_site = pd.DataFrame(  {'site': [ df_202406['site_no'][0] ]}  )\n"
     ]
    },
    {
     "name": "stdout",
     "output_type": "stream",
     "text": [
      "13119000\n"
     ]
    },
    {
     "name": "stderr",
     "output_type": "stream",
     "text": [
      "/var/folders/_4/klhstfsn73nfrxlfr8_r9dhc0000gn/T/ipykernel_14417/427570331.py:10: FutureWarning: Series.__getitem__ treating keys as positions is deprecated. In a future version, integer keys will always be treated as labels (consistent with DataFrame behavior). To access a value by position, use `ser.iloc[pos]`\n",
      "  q_avil_site = pd.DataFrame(  {'site': [ df_202406['site_no'][0] ]}  )\n"
     ]
    },
    {
     "name": "stdout",
     "output_type": "stream",
     "text": [
      "13120000\n"
     ]
    },
    {
     "name": "stderr",
     "output_type": "stream",
     "text": [
      "/var/folders/_4/klhstfsn73nfrxlfr8_r9dhc0000gn/T/ipykernel_14417/427570331.py:10: FutureWarning: Series.__getitem__ treating keys as positions is deprecated. In a future version, integer keys will always be treated as labels (consistent with DataFrame behavior). To access a value by position, use `ser.iloc[pos]`\n",
      "  q_avil_site = pd.DataFrame(  {'site': [ df_202406['site_no'][0] ]}  )\n"
     ]
    },
    {
     "name": "stdout",
     "output_type": "stream",
     "text": [
      "13120500\n"
     ]
    },
    {
     "name": "stderr",
     "output_type": "stream",
     "text": [
      "/var/folders/_4/klhstfsn73nfrxlfr8_r9dhc0000gn/T/ipykernel_14417/427570331.py:10: FutureWarning: Series.__getitem__ treating keys as positions is deprecated. In a future version, integer keys will always be treated as labels (consistent with DataFrame behavior). To access a value by position, use `ser.iloc[pos]`\n",
      "  q_avil_site = pd.DataFrame(  {'site': [ df_202406['site_no'][0] ]}  )\n"
     ]
    },
    {
     "name": "stdout",
     "output_type": "stream",
     "text": [
      "13121000\n",
      "13121500\n",
      "13122000\n"
     ]
    },
    {
     "name": "stderr",
     "output_type": "stream",
     "text": [
      "/var/folders/_4/klhstfsn73nfrxlfr8_r9dhc0000gn/T/ipykernel_14417/427570331.py:10: FutureWarning: Series.__getitem__ treating keys as positions is deprecated. In a future version, integer keys will always be treated as labels (consistent with DataFrame behavior). To access a value by position, use `ser.iloc[pos]`\n",
      "  q_avil_site = pd.DataFrame(  {'site': [ df_202406['site_no'][0] ]}  )\n"
     ]
    },
    {
     "name": "stdout",
     "output_type": "stream",
     "text": [
      "13122500\n",
      "13123000\n",
      "13123500\n",
      "13124000\n",
      "13124265\n"
     ]
    },
    {
     "name": "stderr",
     "output_type": "stream",
     "text": [
      "/var/folders/_4/klhstfsn73nfrxlfr8_r9dhc0000gn/T/ipykernel_14417/427570331.py:10: FutureWarning: Series.__getitem__ treating keys as positions is deprecated. In a future version, integer keys will always be treated as labels (consistent with DataFrame behavior). To access a value by position, use `ser.iloc[pos]`\n",
      "  q_avil_site = pd.DataFrame(  {'site': [ df_202406['site_no'][0] ]}  )\n"
     ]
    },
    {
     "name": "stdout",
     "output_type": "stream",
     "text": [
      "13124500\n",
      "13125000\n",
      "13125500\n",
      "13127000\n"
     ]
    },
    {
     "name": "stderr",
     "output_type": "stream",
     "text": [
      "/var/folders/_4/klhstfsn73nfrxlfr8_r9dhc0000gn/T/ipykernel_14417/427570331.py:10: FutureWarning: Series.__getitem__ treating keys as positions is deprecated. In a future version, integer keys will always be treated as labels (consistent with DataFrame behavior). To access a value by position, use `ser.iloc[pos]`\n",
      "  q_avil_site = pd.DataFrame(  {'site': [ df_202406['site_no'][0] ]}  )\n"
     ]
    },
    {
     "name": "stdout",
     "output_type": "stream",
     "text": [
      "13128000\n",
      "13128500\n",
      "13128900\n"
     ]
    },
    {
     "name": "stderr",
     "output_type": "stream",
     "text": [
      "/var/folders/_4/klhstfsn73nfrxlfr8_r9dhc0000gn/T/ipykernel_14417/427570331.py:10: FutureWarning: Series.__getitem__ treating keys as positions is deprecated. In a future version, integer keys will always be treated as labels (consistent with DataFrame behavior). To access a value by position, use `ser.iloc[pos]`\n",
      "  q_avil_site = pd.DataFrame(  {'site': [ df_202406['site_no'][0] ]}  )\n"
     ]
    },
    {
     "name": "stdout",
     "output_type": "stream",
     "text": [
      "13129500\n",
      "13129800\n",
      "13130000\n",
      "13130300\n"
     ]
    },
    {
     "name": "stderr",
     "output_type": "stream",
     "text": [
      "/var/folders/_4/klhstfsn73nfrxlfr8_r9dhc0000gn/T/ipykernel_14417/427570331.py:10: FutureWarning: Series.__getitem__ treating keys as positions is deprecated. In a future version, integer keys will always be treated as labels (consistent with DataFrame behavior). To access a value by position, use `ser.iloc[pos]`\n",
      "  q_avil_site = pd.DataFrame(  {'site': [ df_202406['site_no'][0] ]}  )\n"
     ]
    },
    {
     "name": "stdout",
     "output_type": "stream",
     "text": [
      "13130500\n",
      "13130800\n",
      "13130900\n",
      "13131000\n"
     ]
    },
    {
     "name": "stderr",
     "output_type": "stream",
     "text": [
      "/var/folders/_4/klhstfsn73nfrxlfr8_r9dhc0000gn/T/ipykernel_14417/427570331.py:10: FutureWarning: Series.__getitem__ treating keys as positions is deprecated. In a future version, integer keys will always be treated as labels (consistent with DataFrame behavior). To access a value by position, use `ser.iloc[pos]`\n",
      "  q_avil_site = pd.DataFrame(  {'site': [ df_202406['site_no'][0] ]}  )\n"
     ]
    },
    {
     "name": "stdout",
     "output_type": "stream",
     "text": [
      "13131500\n",
      "13132000\n",
      "13132100\n"
     ]
    },
    {
     "name": "stderr",
     "output_type": "stream",
     "text": [
      "/var/folders/_4/klhstfsn73nfrxlfr8_r9dhc0000gn/T/ipykernel_14417/427570331.py:10: FutureWarning: Series.__getitem__ treating keys as positions is deprecated. In a future version, integer keys will always be treated as labels (consistent with DataFrame behavior). To access a value by position, use `ser.iloc[pos]`\n",
      "  q_avil_site = pd.DataFrame(  {'site': [ df_202406['site_no'][0] ]}  )\n"
     ]
    },
    {
     "name": "stdout",
     "output_type": "stream",
     "text": [
      "13132373\n"
     ]
    },
    {
     "name": "stderr",
     "output_type": "stream",
     "text": [
      "/var/folders/_4/klhstfsn73nfrxlfr8_r9dhc0000gn/T/ipykernel_14417/427570331.py:10: FutureWarning: Series.__getitem__ treating keys as positions is deprecated. In a future version, integer keys will always be treated as labels (consistent with DataFrame behavior). To access a value by position, use `ser.iloc[pos]`\n",
      "  q_avil_site = pd.DataFrame(  {'site': [ df_202406['site_no'][0] ]}  )\n"
     ]
    },
    {
     "name": "stdout",
     "output_type": "stream",
     "text": [
      "13132500\n"
     ]
    },
    {
     "name": "stderr",
     "output_type": "stream",
     "text": [
      "/var/folders/_4/klhstfsn73nfrxlfr8_r9dhc0000gn/T/ipykernel_14417/427570331.py:10: FutureWarning: Series.__getitem__ treating keys as positions is deprecated. In a future version, integer keys will always be treated as labels (consistent with DataFrame behavior). To access a value by position, use `ser.iloc[pos]`\n",
      "  q_avil_site = pd.DataFrame(  {'site': [ df_202406['site_no'][0] ]}  )\n"
     ]
    },
    {
     "name": "stdout",
     "output_type": "stream",
     "text": [
      "13132513\n"
     ]
    },
    {
     "name": "stderr",
     "output_type": "stream",
     "text": [
      "/var/folders/_4/klhstfsn73nfrxlfr8_r9dhc0000gn/T/ipykernel_14417/427570331.py:10: FutureWarning: Series.__getitem__ treating keys as positions is deprecated. In a future version, integer keys will always be treated as labels (consistent with DataFrame behavior). To access a value by position, use `ser.iloc[pos]`\n",
      "  q_avil_site = pd.DataFrame(  {'site': [ df_202406['site_no'][0] ]}  )\n"
     ]
    },
    {
     "name": "stdout",
     "output_type": "stream",
     "text": [
      "13132515\n",
      "13132520\n"
     ]
    },
    {
     "name": "stderr",
     "output_type": "stream",
     "text": [
      "/var/folders/_4/klhstfsn73nfrxlfr8_r9dhc0000gn/T/ipykernel_14417/427570331.py:10: FutureWarning: Series.__getitem__ treating keys as positions is deprecated. In a future version, integer keys will always be treated as labels (consistent with DataFrame behavior). To access a value by position, use `ser.iloc[pos]`\n",
      "  q_avil_site = pd.DataFrame(  {'site': [ df_202406['site_no'][0] ]}  )\n"
     ]
    },
    {
     "name": "stdout",
     "output_type": "stream",
     "text": [
      "13132530\n",
      "13132535\n"
     ]
    },
    {
     "name": "stderr",
     "output_type": "stream",
     "text": [
      "/var/folders/_4/klhstfsn73nfrxlfr8_r9dhc0000gn/T/ipykernel_14417/427570331.py:10: FutureWarning: Series.__getitem__ treating keys as positions is deprecated. In a future version, integer keys will always be treated as labels (consistent with DataFrame behavior). To access a value by position, use `ser.iloc[pos]`\n",
      "  q_avil_site = pd.DataFrame(  {'site': [ df_202406['site_no'][0] ]}  )\n"
     ]
    },
    {
     "name": "stdout",
     "output_type": "stream",
     "text": [
      "13132565\n"
     ]
    },
    {
     "name": "stderr",
     "output_type": "stream",
     "text": [
      "/var/folders/_4/klhstfsn73nfrxlfr8_r9dhc0000gn/T/ipykernel_14417/427570331.py:10: FutureWarning: Series.__getitem__ treating keys as positions is deprecated. In a future version, integer keys will always be treated as labels (consistent with DataFrame behavior). To access a value by position, use `ser.iloc[pos]`\n",
      "  q_avil_site = pd.DataFrame(  {'site': [ df_202406['site_no'][0] ]}  )\n"
     ]
    },
    {
     "name": "stdout",
     "output_type": "stream",
     "text": [
      "13132622\n",
      "13132801\n",
      "13133800\n",
      "13134000\n",
      "13134300\n",
      "13134500\n",
      "13134520\n",
      "13134556\n",
      "1313457010\n",
      "13135000\n",
      "13135500\n"
     ]
    },
    {
     "name": "stderr",
     "output_type": "stream",
     "text": [
      "/var/folders/_4/klhstfsn73nfrxlfr8_r9dhc0000gn/T/ipykernel_14417/427570331.py:10: FutureWarning: Series.__getitem__ treating keys as positions is deprecated. In a future version, integer keys will always be treated as labels (consistent with DataFrame behavior). To access a value by position, use `ser.iloc[pos]`\n",
      "  q_avil_site = pd.DataFrame(  {'site': [ df_202406['site_no'][0] ]}  )\n"
     ]
    },
    {
     "name": "stdout",
     "output_type": "stream",
     "text": [
      "13135520\n"
     ]
    },
    {
     "name": "stderr",
     "output_type": "stream",
     "text": [
      "/var/folders/_4/klhstfsn73nfrxlfr8_r9dhc0000gn/T/ipykernel_14417/427570331.py:10: FutureWarning: Series.__getitem__ treating keys as positions is deprecated. In a future version, integer keys will always be treated as labels (consistent with DataFrame behavior). To access a value by position, use `ser.iloc[pos]`\n",
      "  q_avil_site = pd.DataFrame(  {'site': [ df_202406['site_no'][0] ]}  )\n"
     ]
    },
    {
     "name": "stdout",
     "output_type": "stream",
     "text": [
      "13136000\n",
      "13136500\n",
      "13136550\n"
     ]
    },
    {
     "name": "stderr",
     "output_type": "stream",
     "text": [
      "/var/folders/_4/klhstfsn73nfrxlfr8_r9dhc0000gn/T/ipykernel_14417/427570331.py:10: FutureWarning: Series.__getitem__ treating keys as positions is deprecated. In a future version, integer keys will always be treated as labels (consistent with DataFrame behavior). To access a value by position, use `ser.iloc[pos]`\n",
      "  q_avil_site = pd.DataFrame(  {'site': [ df_202406['site_no'][0] ]}  )\n"
     ]
    },
    {
     "name": "stdout",
     "output_type": "stream",
     "text": [
      "13137000\n"
     ]
    },
    {
     "name": "stderr",
     "output_type": "stream",
     "text": [
      "/var/folders/_4/klhstfsn73nfrxlfr8_r9dhc0000gn/T/ipykernel_14417/427570331.py:10: FutureWarning: Series.__getitem__ treating keys as positions is deprecated. In a future version, integer keys will always be treated as labels (consistent with DataFrame behavior). To access a value by position, use `ser.iloc[pos]`\n",
      "  q_avil_site = pd.DataFrame(  {'site': [ df_202406['site_no'][0] ]}  )\n"
     ]
    },
    {
     "name": "stdout",
     "output_type": "stream",
     "text": [
      "13137300\n"
     ]
    },
    {
     "name": "stderr",
     "output_type": "stream",
     "text": [
      "/var/folders/_4/klhstfsn73nfrxlfr8_r9dhc0000gn/T/ipykernel_14417/427570331.py:10: FutureWarning: Series.__getitem__ treating keys as positions is deprecated. In a future version, integer keys will always be treated as labels (consistent with DataFrame behavior). To access a value by position, use `ser.iloc[pos]`\n",
      "  q_avil_site = pd.DataFrame(  {'site': [ df_202406['site_no'][0] ]}  )\n"
     ]
    },
    {
     "name": "stdout",
     "output_type": "stream",
     "text": [
      "13137500\n"
     ]
    },
    {
     "name": "stderr",
     "output_type": "stream",
     "text": [
      "/var/folders/_4/klhstfsn73nfrxlfr8_r9dhc0000gn/T/ipykernel_14417/427570331.py:10: FutureWarning: Series.__getitem__ treating keys as positions is deprecated. In a future version, integer keys will always be treated as labels (consistent with DataFrame behavior). To access a value by position, use `ser.iloc[pos]`\n",
      "  q_avil_site = pd.DataFrame(  {'site': [ df_202406['site_no'][0] ]}  )\n"
     ]
    },
    {
     "name": "stdout",
     "output_type": "stream",
     "text": [
      "13138000\n"
     ]
    },
    {
     "name": "stderr",
     "output_type": "stream",
     "text": [
      "/var/folders/_4/klhstfsn73nfrxlfr8_r9dhc0000gn/T/ipykernel_14417/427570331.py:10: FutureWarning: Series.__getitem__ treating keys as positions is deprecated. In a future version, integer keys will always be treated as labels (consistent with DataFrame behavior). To access a value by position, use `ser.iloc[pos]`\n",
      "  q_avil_site = pd.DataFrame(  {'site': [ df_202406['site_no'][0] ]}  )\n"
     ]
    },
    {
     "name": "stdout",
     "output_type": "stream",
     "text": [
      "13138500\n",
      "13138650\n",
      "13139000\n",
      "13139500\n",
      "13139510\n"
     ]
    },
    {
     "name": "stderr",
     "output_type": "stream",
     "text": [
      "/var/folders/_4/klhstfsn73nfrxlfr8_r9dhc0000gn/T/ipykernel_14417/427570331.py:10: FutureWarning: Series.__getitem__ treating keys as positions is deprecated. In a future version, integer keys will always be treated as labels (consistent with DataFrame behavior). To access a value by position, use `ser.iloc[pos]`\n",
      "  q_avil_site = pd.DataFrame(  {'site': [ df_202406['site_no'][0] ]}  )\n"
     ]
    },
    {
     "name": "stdout",
     "output_type": "stream",
     "text": [
      "13140335\n"
     ]
    },
    {
     "name": "stderr",
     "output_type": "stream",
     "text": [
      "/var/folders/_4/klhstfsn73nfrxlfr8_r9dhc0000gn/T/ipykernel_14417/427570331.py:10: FutureWarning: Series.__getitem__ treating keys as positions is deprecated. In a future version, integer keys will always be treated as labels (consistent with DataFrame behavior). To access a value by position, use `ser.iloc[pos]`\n",
      "  q_avil_site = pd.DataFrame(  {'site': [ df_202406['site_no'][0] ]}  )\n"
     ]
    },
    {
     "name": "stdout",
     "output_type": "stream",
     "text": [
      "13140500\n",
      "13140800\n"
     ]
    },
    {
     "name": "stderr",
     "output_type": "stream",
     "text": [
      "/var/folders/_4/klhstfsn73nfrxlfr8_r9dhc0000gn/T/ipykernel_14417/427570331.py:10: FutureWarning: Series.__getitem__ treating keys as positions is deprecated. In a future version, integer keys will always be treated as labels (consistent with DataFrame behavior). To access a value by position, use `ser.iloc[pos]`\n",
      "  q_avil_site = pd.DataFrame(  {'site': [ df_202406['site_no'][0] ]}  )\n"
     ]
    },
    {
     "name": "stdout",
     "output_type": "stream",
     "text": [
      "13141000\n",
      "13141500\n"
     ]
    },
    {
     "name": "stderr",
     "output_type": "stream",
     "text": [
      "/var/folders/_4/klhstfsn73nfrxlfr8_r9dhc0000gn/T/ipykernel_14417/427570331.py:10: FutureWarning: Series.__getitem__ treating keys as positions is deprecated. In a future version, integer keys will always be treated as labels (consistent with DataFrame behavior). To access a value by position, use `ser.iloc[pos]`\n",
      "  q_avil_site = pd.DataFrame(  {'site': [ df_202406['site_no'][0] ]}  )\n"
     ]
    },
    {
     "name": "stdout",
     "output_type": "stream",
     "text": [
      "13142500\n"
     ]
    },
    {
     "name": "stderr",
     "output_type": "stream",
     "text": [
      "/var/folders/_4/klhstfsn73nfrxlfr8_r9dhc0000gn/T/ipykernel_14417/427570331.py:10: FutureWarning: Series.__getitem__ treating keys as positions is deprecated. In a future version, integer keys will always be treated as labels (consistent with DataFrame behavior). To access a value by position, use `ser.iloc[pos]`\n",
      "  q_avil_site = pd.DataFrame(  {'site': [ df_202406['site_no'][0] ]}  )\n"
     ]
    },
    {
     "name": "stdout",
     "output_type": "stream",
     "text": [
      "13142900\n",
      "13144000\n",
      "13144500\n",
      "13145000\n",
      "13145500\n",
      "13146000\n",
      "13146500\n",
      "13147000\n",
      "13147500\n",
      "13147900\n"
     ]
    },
    {
     "name": "stderr",
     "output_type": "stream",
     "text": [
      "/var/folders/_4/klhstfsn73nfrxlfr8_r9dhc0000gn/T/ipykernel_14417/427570331.py:10: FutureWarning: Series.__getitem__ treating keys as positions is deprecated. In a future version, integer keys will always be treated as labels (consistent with DataFrame behavior). To access a value by position, use `ser.iloc[pos]`\n",
      "  q_avil_site = pd.DataFrame(  {'site': [ df_202406['site_no'][0] ]}  )\n"
     ]
    },
    {
     "name": "stdout",
     "output_type": "stream",
     "text": [
      "13148000\n",
      "13148500\n"
     ]
    },
    {
     "name": "stderr",
     "output_type": "stream",
     "text": [
      "/var/folders/_4/klhstfsn73nfrxlfr8_r9dhc0000gn/T/ipykernel_14417/427570331.py:10: FutureWarning: Series.__getitem__ treating keys as positions is deprecated. In a future version, integer keys will always be treated as labels (consistent with DataFrame behavior). To access a value by position, use `ser.iloc[pos]`\n",
      "  q_avil_site = pd.DataFrame(  {'site': [ df_202406['site_no'][0] ]}  )\n"
     ]
    },
    {
     "name": "stdout",
     "output_type": "stream",
     "text": [
      "13149000\n",
      "13149500\n",
      "13150000\n",
      "13150430\n"
     ]
    },
    {
     "name": "stderr",
     "output_type": "stream",
     "text": [
      "/var/folders/_4/klhstfsn73nfrxlfr8_r9dhc0000gn/T/ipykernel_14417/427570331.py:10: FutureWarning: Series.__getitem__ treating keys as positions is deprecated. In a future version, integer keys will always be treated as labels (consistent with DataFrame behavior). To access a value by position, use `ser.iloc[pos]`\n",
      "  q_avil_site = pd.DataFrame(  {'site': [ df_202406['site_no'][0] ]}  )\n"
     ]
    },
    {
     "name": "stdout",
     "output_type": "stream",
     "text": [
      "131504301\n",
      "13150500\n",
      "13151000\n",
      "13151500\n",
      "13152000\n",
      "13152500\n"
     ]
    },
    {
     "name": "stderr",
     "output_type": "stream",
     "text": [
      "/var/folders/_4/klhstfsn73nfrxlfr8_r9dhc0000gn/T/ipykernel_14417/427570331.py:10: FutureWarning: Series.__getitem__ treating keys as positions is deprecated. In a future version, integer keys will always be treated as labels (consistent with DataFrame behavior). To access a value by position, use `ser.iloc[pos]`\n",
      "  q_avil_site = pd.DataFrame(  {'site': [ df_202406['site_no'][0] ]}  )\n"
     ]
    },
    {
     "name": "stdout",
     "output_type": "stream",
     "text": [
      "13152895\n",
      "13152940\n",
      "13153500\n",
      "13153501\n",
      "13153714\n",
      "13153735\n",
      "1315377299\n",
      "13153776\n",
      "13153778\n",
      "13154000\n",
      "13154400\n",
      "13154500\n"
     ]
    },
    {
     "name": "stderr",
     "output_type": "stream",
     "text": [
      "/var/folders/_4/klhstfsn73nfrxlfr8_r9dhc0000gn/T/ipykernel_14417/427570331.py:10: FutureWarning: Series.__getitem__ treating keys as positions is deprecated. In a future version, integer keys will always be treated as labels (consistent with DataFrame behavior). To access a value by position, use `ser.iloc[pos]`\n",
      "  q_avil_site = pd.DataFrame(  {'site': [ df_202406['site_no'][0] ]}  )\n"
     ]
    },
    {
     "name": "stdout",
     "output_type": "stream",
     "text": [
      "13154510\n",
      "13155000\n",
      "13155074\n",
      "13155300\n",
      "13155400\n",
      "13155500\n",
      "13155620\n",
      "13155700\n",
      "13155750\n",
      "13155800\n",
      "13156000\n",
      "13156500\n",
      "13157000\n",
      "13157015\n",
      "13157100\n",
      "13157105\n",
      "13157110\n",
      "13157130\n",
      "13157150\n",
      "13157160\n",
      "13157293\n",
      "13157305\n",
      "13157310\n",
      "13157315\n",
      "13157325\n",
      "13157340\n",
      "13157370\n",
      "13158000\n",
      "13159000\n",
      "13159500\n",
      "13159800\n"
     ]
    },
    {
     "name": "stderr",
     "output_type": "stream",
     "text": [
      "/var/folders/_4/klhstfsn73nfrxlfr8_r9dhc0000gn/T/ipykernel_14417/427570331.py:10: FutureWarning: Series.__getitem__ treating keys as positions is deprecated. In a future version, integer keys will always be treated as labels (consistent with DataFrame behavior). To access a value by position, use `ser.iloc[pos]`\n",
      "  q_avil_site = pd.DataFrame(  {'site': [ df_202406['site_no'][0] ]}  )\n"
     ]
    },
    {
     "name": "stdout",
     "output_type": "stream",
     "text": [
      "13160000\n",
      "131610556\n",
      "13161930\n"
     ]
    },
    {
     "name": "stderr",
     "output_type": "stream",
     "text": [
      "/var/folders/_4/klhstfsn73nfrxlfr8_r9dhc0000gn/T/ipykernel_14417/427570331.py:10: FutureWarning: Series.__getitem__ treating keys as positions is deprecated. In a future version, integer keys will always be treated as labels (consistent with DataFrame behavior). To access a value by position, use `ser.iloc[pos]`\n",
      "  q_avil_site = pd.DataFrame(  {'site': [ df_202406['site_no'][0] ]}  )\n"
     ]
    },
    {
     "name": "stdout",
     "output_type": "stream",
     "text": [
      "13162000\n",
      "13162050\n"
     ]
    },
    {
     "name": "stderr",
     "output_type": "stream",
     "text": [
      "/var/folders/_4/klhstfsn73nfrxlfr8_r9dhc0000gn/T/ipykernel_14417/427570331.py:10: FutureWarning: Series.__getitem__ treating keys as positions is deprecated. In a future version, integer keys will always be treated as labels (consistent with DataFrame behavior). To access a value by position, use `ser.iloc[pos]`\n",
      "  q_avil_site = pd.DataFrame(  {'site': [ df_202406['site_no'][0] ]}  )\n"
     ]
    },
    {
     "name": "stdout",
     "output_type": "stream",
     "text": [
      "13162500\n",
      "13163000\n",
      "13163500\n",
      "13164000\n",
      "13164500\n",
      "13164600\n"
     ]
    },
    {
     "name": "stderr",
     "output_type": "stream",
     "text": [
      "/var/folders/_4/klhstfsn73nfrxlfr8_r9dhc0000gn/T/ipykernel_14417/427570331.py:10: FutureWarning: Series.__getitem__ treating keys as positions is deprecated. In a future version, integer keys will always be treated as labels (consistent with DataFrame behavior). To access a value by position, use `ser.iloc[pos]`\n",
      "  q_avil_site = pd.DataFrame(  {'site': [ df_202406['site_no'][0] ]}  )\n"
     ]
    },
    {
     "name": "stdout",
     "output_type": "stream",
     "text": [
      "13165000\n",
      "13165500\n",
      "13166000\n",
      "13166500\n",
      "13167000\n",
      "13167500\n",
      "13168000\n",
      "13168500\n"
     ]
    },
    {
     "name": "stderr",
     "output_type": "stream",
     "text": [
      "/var/folders/_4/klhstfsn73nfrxlfr8_r9dhc0000gn/T/ipykernel_14417/427570331.py:10: FutureWarning: Series.__getitem__ treating keys as positions is deprecated. In a future version, integer keys will always be treated as labels (consistent with DataFrame behavior). To access a value by position, use `ser.iloc[pos]`\n",
      "  q_avil_site = pd.DataFrame(  {'site': [ df_202406['site_no'][0] ]}  )\n"
     ]
    },
    {
     "name": "stdout",
     "output_type": "stream",
     "text": [
      "13169400\n"
     ]
    },
    {
     "name": "stderr",
     "output_type": "stream",
     "text": [
      "/var/folders/_4/klhstfsn73nfrxlfr8_r9dhc0000gn/T/ipykernel_14417/427570331.py:10: FutureWarning: Series.__getitem__ treating keys as positions is deprecated. In a future version, integer keys will always be treated as labels (consistent with DataFrame behavior). To access a value by position, use `ser.iloc[pos]`\n",
      "  q_avil_site = pd.DataFrame(  {'site': [ df_202406['site_no'][0] ]}  )\n"
     ]
    },
    {
     "name": "stdout",
     "output_type": "stream",
     "text": [
      "13169420\n"
     ]
    },
    {
     "name": "stderr",
     "output_type": "stream",
     "text": [
      "/var/folders/_4/klhstfsn73nfrxlfr8_r9dhc0000gn/T/ipykernel_14417/427570331.py:10: FutureWarning: Series.__getitem__ treating keys as positions is deprecated. In a future version, integer keys will always be treated as labels (consistent with DataFrame behavior). To access a value by position, use `ser.iloc[pos]`\n",
      "  q_avil_site = pd.DataFrame(  {'site': [ df_202406['site_no'][0] ]}  )\n"
     ]
    },
    {
     "name": "stdout",
     "output_type": "stream",
     "text": [
      "13169450\n",
      "13169500\n",
      "13169800\n"
     ]
    },
    {
     "name": "stderr",
     "output_type": "stream",
     "text": [
      "/var/folders/_4/klhstfsn73nfrxlfr8_r9dhc0000gn/T/ipykernel_14417/427570331.py:10: FutureWarning: Series.__getitem__ treating keys as positions is deprecated. In a future version, integer keys will always be treated as labels (consistent with DataFrame behavior). To access a value by position, use `ser.iloc[pos]`\n",
      "  q_avil_site = pd.DataFrame(  {'site': [ df_202406['site_no'][0] ]}  )\n"
     ]
    },
    {
     "name": "stdout",
     "output_type": "stream",
     "text": [
      "13170000\n",
      "13170050\n",
      "13170350\n",
      "13170800\n",
      "13170900\n",
      "13171000\n",
      "13171620\n",
      "13172000\n",
      "13172454\n",
      "13172455\n",
      "13172500\n"
     ]
    },
    {
     "name": "stderr",
     "output_type": "stream",
     "text": [
      "/var/folders/_4/klhstfsn73nfrxlfr8_r9dhc0000gn/T/ipykernel_14417/427570331.py:10: FutureWarning: Series.__getitem__ treating keys as positions is deprecated. In a future version, integer keys will always be treated as labels (consistent with DataFrame behavior). To access a value by position, use `ser.iloc[pos]`\n",
      "  q_avil_site = pd.DataFrame(  {'site': [ df_202406['site_no'][0] ]}  )\n"
     ]
    },
    {
     "name": "stdout",
     "output_type": "stream",
     "text": [
      "13172800\n",
      "13172840\n",
      "13172850\n",
      "13172890\n",
      "13173500\n",
      "13173520\n",
      "13173630\n",
      "13173635\n",
      "13176195\n"
     ]
    },
    {
     "name": "stderr",
     "output_type": "stream",
     "text": [
      "/var/folders/_4/klhstfsn73nfrxlfr8_r9dhc0000gn/T/ipykernel_14417/427570331.py:10: FutureWarning: Series.__getitem__ treating keys as positions is deprecated. In a future version, integer keys will always be treated as labels (consistent with DataFrame behavior). To access a value by position, use `ser.iloc[pos]`\n",
      "  q_avil_site = pd.DataFrame(  {'site': [ df_202406['site_no'][0] ]}  )\n"
     ]
    },
    {
     "name": "stdout",
     "output_type": "stream",
     "text": [
      "13176305\n"
     ]
    },
    {
     "name": "stderr",
     "output_type": "stream",
     "text": [
      "/var/folders/_4/klhstfsn73nfrxlfr8_r9dhc0000gn/T/ipykernel_14417/427570331.py:10: FutureWarning: Series.__getitem__ treating keys as positions is deprecated. In a future version, integer keys will always be treated as labels (consistent with DataFrame behavior). To access a value by position, use `ser.iloc[pos]`\n",
      "  q_avil_site = pd.DataFrame(  {'site': [ df_202406['site_no'][0] ]}  )\n"
     ]
    },
    {
     "name": "stdout",
     "output_type": "stream",
     "text": [
      "13176400\n"
     ]
    },
    {
     "name": "stderr",
     "output_type": "stream",
     "text": [
      "/var/folders/_4/klhstfsn73nfrxlfr8_r9dhc0000gn/T/ipykernel_14417/427570331.py:10: FutureWarning: Series.__getitem__ treating keys as positions is deprecated. In a future version, integer keys will always be treated as labels (consistent with DataFrame behavior). To access a value by position, use `ser.iloc[pos]`\n",
      "  q_avil_site = pd.DataFrame(  {'site': [ df_202406['site_no'][0] ]}  )\n"
     ]
    },
    {
     "name": "stdout",
     "output_type": "stream",
     "text": [
      "13177845\n"
     ]
    },
    {
     "name": "stderr",
     "output_type": "stream",
     "text": [
      "/var/folders/_4/klhstfsn73nfrxlfr8_r9dhc0000gn/T/ipykernel_14417/427570331.py:10: FutureWarning: Series.__getitem__ treating keys as positions is deprecated. In a future version, integer keys will always be treated as labels (consistent with DataFrame behavior). To access a value by position, use `ser.iloc[pos]`\n",
      "  q_avil_site = pd.DataFrame(  {'site': [ df_202406['site_no'][0] ]}  )\n"
     ]
    },
    {
     "name": "stdout",
     "output_type": "stream",
     "text": [
      "13177985\n",
      "13178000\n",
      "13184500\n",
      "13184870\n",
      "13185000\n"
     ]
    },
    {
     "name": "stderr",
     "output_type": "stream",
     "text": [
      "/var/folders/_4/klhstfsn73nfrxlfr8_r9dhc0000gn/T/ipykernel_14417/427570331.py:10: FutureWarning: Series.__getitem__ treating keys as positions is deprecated. In a future version, integer keys will always be treated as labels (consistent with DataFrame behavior). To access a value by position, use `ser.iloc[pos]`\n",
      "  q_avil_site = pd.DataFrame(  {'site': [ df_202406['site_no'][0] ]}  )\n"
     ]
    },
    {
     "name": "stdout",
     "output_type": "stream",
     "text": [
      "13185500\n",
      "13186000\n"
     ]
    },
    {
     "name": "stderr",
     "output_type": "stream",
     "text": [
      "/var/folders/_4/klhstfsn73nfrxlfr8_r9dhc0000gn/T/ipykernel_14417/427570331.py:10: FutureWarning: Series.__getitem__ treating keys as positions is deprecated. In a future version, integer keys will always be treated as labels (consistent with DataFrame behavior). To access a value by position, use `ser.iloc[pos]`\n",
      "  q_avil_site = pd.DataFrame(  {'site': [ df_202406['site_no'][0] ]}  )\n"
     ]
    },
    {
     "name": "stdout",
     "output_type": "stream",
     "text": [
      "13186500\n",
      "13187000\n",
      "13190500\n"
     ]
    },
    {
     "name": "stderr",
     "output_type": "stream",
     "text": [
      "/var/folders/_4/klhstfsn73nfrxlfr8_r9dhc0000gn/T/ipykernel_14417/427570331.py:10: FutureWarning: Series.__getitem__ treating keys as positions is deprecated. In a future version, integer keys will always be treated as labels (consistent with DataFrame behavior). To access a value by position, use `ser.iloc[pos]`\n",
      "  q_avil_site = pd.DataFrame(  {'site': [ df_202406['site_no'][0] ]}  )\n"
     ]
    },
    {
     "name": "stdout",
     "output_type": "stream",
     "text": [
      "13190505\n",
      "13190565\n",
      "13191000\n",
      "13191500\n",
      "13192000\n",
      "13192200\n"
     ]
    },
    {
     "name": "stderr",
     "output_type": "stream",
     "text": [
      "/var/folders/_4/klhstfsn73nfrxlfr8_r9dhc0000gn/T/ipykernel_14417/427570331.py:10: FutureWarning: Series.__getitem__ treating keys as positions is deprecated. In a future version, integer keys will always be treated as labels (consistent with DataFrame behavior). To access a value by position, use `ser.iloc[pos]`\n",
      "  q_avil_site = pd.DataFrame(  {'site': [ df_202406['site_no'][0] ]}  )\n"
     ]
    },
    {
     "name": "stdout",
     "output_type": "stream",
     "text": [
      "13192500\n",
      "13193000\n",
      "13193500\n",
      "13194500\n",
      "13195000\n",
      "13196000\n",
      "13196500\n",
      "13197000\n",
      "13197500\n",
      "13198000\n",
      "13198500\n",
      "13199000\n",
      "13199500\n",
      "13200000\n"
     ]
    },
    {
     "name": "stderr",
     "output_type": "stream",
     "text": [
      "/var/folders/_4/klhstfsn73nfrxlfr8_r9dhc0000gn/T/ipykernel_14417/427570331.py:10: FutureWarning: Series.__getitem__ treating keys as positions is deprecated. In a future version, integer keys will always be treated as labels (consistent with DataFrame behavior). To access a value by position, use `ser.iloc[pos]`\n",
      "  q_avil_site = pd.DataFrame(  {'site': [ df_202406['site_no'][0] ]}  )\n"
     ]
    },
    {
     "name": "stdout",
     "output_type": "stream",
     "text": [
      "13200500\n",
      "13201000\n",
      "13202000\n",
      "13203510\n",
      "13203700\n",
      "13204300\n",
      "13204500\n",
      "13204640\n",
      "13205000\n",
      "13205500\n",
      "13205520\n",
      "13205610\n",
      "13205633\n",
      "13205995\n",
      "13206000\n"
     ]
    },
    {
     "name": "stderr",
     "output_type": "stream",
     "text": [
      "/var/folders/_4/klhstfsn73nfrxlfr8_r9dhc0000gn/T/ipykernel_14417/427570331.py:10: FutureWarning: Series.__getitem__ treating keys as positions is deprecated. In a future version, integer keys will always be treated as labels (consistent with DataFrame behavior). To access a value by position, use `ser.iloc[pos]`\n",
      "  q_avil_site = pd.DataFrame(  {'site': [ df_202406['site_no'][0] ]}  )\n"
     ]
    },
    {
     "name": "stdout",
     "output_type": "stream",
     "text": [
      "13206305\n"
     ]
    },
    {
     "name": "stderr",
     "output_type": "stream",
     "text": [
      "/var/folders/_4/klhstfsn73nfrxlfr8_r9dhc0000gn/T/ipykernel_14417/427570331.py:10: FutureWarning: Series.__getitem__ treating keys as positions is deprecated. In a future version, integer keys will always be treated as labels (consistent with DataFrame behavior). To access a value by position, use `ser.iloc[pos]`\n",
      "  q_avil_site = pd.DataFrame(  {'site': [ df_202406['site_no'][0] ]}  )\n"
     ]
    },
    {
     "name": "stdout",
     "output_type": "stream",
     "text": [
      "13206500\n",
      "13207000\n",
      "13207500\n",
      "13208000\n",
      "13208500\n",
      "13209450\n",
      "13209500\n",
      "13210045\n"
     ]
    },
    {
     "name": "stderr",
     "output_type": "stream",
     "text": [
      "/var/folders/_4/klhstfsn73nfrxlfr8_r9dhc0000gn/T/ipykernel_14417/427570331.py:10: FutureWarning: Series.__getitem__ treating keys as positions is deprecated. In a future version, integer keys will always be treated as labels (consistent with DataFrame behavior). To access a value by position, use `ser.iloc[pos]`\n",
      "  q_avil_site = pd.DataFrame(  {'site': [ df_202406['site_no'][0] ]}  )\n"
     ]
    },
    {
     "name": "stdout",
     "output_type": "stream",
     "text": [
      "13210050\n",
      "13210280\n",
      "13210600\n",
      "13210650\n",
      "13210660\n",
      "13210700\n",
      "13210780\n",
      "13210795\n",
      "13210810\n"
     ]
    },
    {
     "name": "stderr",
     "output_type": "stream",
     "text": [
      "/var/folders/_4/klhstfsn73nfrxlfr8_r9dhc0000gn/T/ipykernel_14417/427570331.py:10: FutureWarning: Series.__getitem__ treating keys as positions is deprecated. In a future version, integer keys will always be treated as labels (consistent with DataFrame behavior). To access a value by position, use `ser.iloc[pos]`\n",
      "  q_avil_site = pd.DataFrame(  {'site': [ df_202406['site_no'][0] ]}  )\n"
     ]
    },
    {
     "name": "stdout",
     "output_type": "stream",
     "text": [
      "13210815\n",
      "13210824\n"
     ]
    },
    {
     "name": "stderr",
     "output_type": "stream",
     "text": [
      "/var/folders/_4/klhstfsn73nfrxlfr8_r9dhc0000gn/T/ipykernel_14417/427570331.py:10: FutureWarning: Series.__getitem__ treating keys as positions is deprecated. In a future version, integer keys will always be treated as labels (consistent with DataFrame behavior). To access a value by position, use `ser.iloc[pos]`\n",
      "  q_avil_site = pd.DataFrame(  {'site': [ df_202406['site_no'][0] ]}  )\n"
     ]
    },
    {
     "name": "stdout",
     "output_type": "stream",
     "text": [
      "132108247\n",
      "13210825\n",
      "13210831\n"
     ]
    },
    {
     "name": "stderr",
     "output_type": "stream",
     "text": [
      "/var/folders/_4/klhstfsn73nfrxlfr8_r9dhc0000gn/T/ipykernel_14417/427570331.py:10: FutureWarning: Series.__getitem__ treating keys as positions is deprecated. In a future version, integer keys will always be treated as labels (consistent with DataFrame behavior). To access a value by position, use `ser.iloc[pos]`\n",
      "  q_avil_site = pd.DataFrame(  {'site': [ df_202406['site_no'][0] ]}  )\n"
     ]
    },
    {
     "name": "stdout",
     "output_type": "stream",
     "text": [
      "13210835\n",
      "13210980\n"
     ]
    },
    {
     "name": "stderr",
     "output_type": "stream",
     "text": [
      "/var/folders/_4/klhstfsn73nfrxlfr8_r9dhc0000gn/T/ipykernel_14417/427570331.py:10: FutureWarning: Series.__getitem__ treating keys as positions is deprecated. In a future version, integer keys will always be treated as labels (consistent with DataFrame behavior). To access a value by position, use `ser.iloc[pos]`\n",
      "  q_avil_site = pd.DataFrame(  {'site': [ df_202406['site_no'][0] ]}  )\n"
     ]
    },
    {
     "name": "stdout",
     "output_type": "stream",
     "text": [
      "13210983\n",
      "13210986\n"
     ]
    },
    {
     "name": "stderr",
     "output_type": "stream",
     "text": [
      "/var/folders/_4/klhstfsn73nfrxlfr8_r9dhc0000gn/T/ipykernel_14417/427570331.py:10: FutureWarning: Series.__getitem__ treating keys as positions is deprecated. In a future version, integer keys will always be treated as labels (consistent with DataFrame behavior). To access a value by position, use `ser.iloc[pos]`\n",
      "  q_avil_site = pd.DataFrame(  {'site': [ df_202406['site_no'][0] ]}  )\n"
     ]
    },
    {
     "name": "stdout",
     "output_type": "stream",
     "text": [
      "132109867\n"
     ]
    },
    {
     "name": "stderr",
     "output_type": "stream",
     "text": [
      "/var/folders/_4/klhstfsn73nfrxlfr8_r9dhc0000gn/T/ipykernel_14417/427570331.py:10: FutureWarning: Series.__getitem__ treating keys as positions is deprecated. In a future version, integer keys will always be treated as labels (consistent with DataFrame behavior). To access a value by position, use `ser.iloc[pos]`\n",
      "  q_avil_site = pd.DataFrame(  {'site': [ df_202406['site_no'][0] ]}  )\n"
     ]
    },
    {
     "name": "stdout",
     "output_type": "stream",
     "text": [
      "13210988\n",
      "13210990\n",
      "13211000\n",
      "13211100\n",
      "13211130\n",
      "13211205\n"
     ]
    },
    {
     "name": "stderr",
     "output_type": "stream",
     "text": [
      "/var/folders/_4/klhstfsn73nfrxlfr8_r9dhc0000gn/T/ipykernel_14417/427570331.py:10: FutureWarning: Series.__getitem__ treating keys as positions is deprecated. In a future version, integer keys will always be treated as labels (consistent with DataFrame behavior). To access a value by position, use `ser.iloc[pos]`\n",
      "  q_avil_site = pd.DataFrame(  {'site': [ df_202406['site_no'][0] ]}  )\n"
     ]
    },
    {
     "name": "stdout",
     "output_type": "stream",
     "text": [
      "13211260\n",
      "13211309\n",
      "13211350\n",
      "13211440\n",
      "13211445\n",
      "13212000\n",
      "13212500\n",
      "13212549\n"
     ]
    },
    {
     "name": "stderr",
     "output_type": "stream",
     "text": [
      "/var/folders/_4/klhstfsn73nfrxlfr8_r9dhc0000gn/T/ipykernel_14417/427570331.py:10: FutureWarning: Series.__getitem__ treating keys as positions is deprecated. In a future version, integer keys will always be treated as labels (consistent with DataFrame behavior). To access a value by position, use `ser.iloc[pos]`\n",
      "  q_avil_site = pd.DataFrame(  {'site': [ df_202406['site_no'][0] ]}  )\n"
     ]
    },
    {
     "name": "stdout",
     "output_type": "stream",
     "text": [
      "13212550\n",
      "13212870\n",
      "13212875\n",
      "13212880\n",
      "13212890\n"
     ]
    },
    {
     "name": "stderr",
     "output_type": "stream",
     "text": [
      "/var/folders/_4/klhstfsn73nfrxlfr8_r9dhc0000gn/T/ipykernel_14417/427570331.py:10: FutureWarning: Series.__getitem__ treating keys as positions is deprecated. In a future version, integer keys will always be treated as labels (consistent with DataFrame behavior). To access a value by position, use `ser.iloc[pos]`\n",
      "  q_avil_site = pd.DataFrame(  {'site': [ df_202406['site_no'][0] ]}  )\n"
     ]
    },
    {
     "name": "stdout",
     "output_type": "stream",
     "text": [
      "13212995\n",
      "13212996\n",
      "13213000\n"
     ]
    },
    {
     "name": "stderr",
     "output_type": "stream",
     "text": [
      "/var/folders/_4/klhstfsn73nfrxlfr8_r9dhc0000gn/T/ipykernel_14417/427570331.py:10: FutureWarning: Series.__getitem__ treating keys as positions is deprecated. In a future version, integer keys will always be treated as labels (consistent with DataFrame behavior). To access a value by position, use `ser.iloc[pos]`\n",
      "  q_avil_site = pd.DataFrame(  {'site': [ df_202406['site_no'][0] ]}  )\n"
     ]
    },
    {
     "name": "stdout",
     "output_type": "stream",
     "text": [
      "13213030\n",
      "13213072\n"
     ]
    },
    {
     "name": "stderr",
     "output_type": "stream",
     "text": [
      "/var/folders/_4/klhstfsn73nfrxlfr8_r9dhc0000gn/T/ipykernel_14417/427570331.py:10: FutureWarning: Series.__getitem__ treating keys as positions is deprecated. In a future version, integer keys will always be treated as labels (consistent with DataFrame behavior). To access a value by position, use `ser.iloc[pos]`\n",
      "  q_avil_site = pd.DataFrame(  {'site': [ df_202406['site_no'][0] ]}  )\n"
     ]
    },
    {
     "name": "stdout",
     "output_type": "stream",
     "text": [
      "13213080\n",
      "13213100\n"
     ]
    },
    {
     "name": "stderr",
     "output_type": "stream",
     "text": [
      "/var/folders/_4/klhstfsn73nfrxlfr8_r9dhc0000gn/T/ipykernel_14417/427570331.py:10: FutureWarning: Series.__getitem__ treating keys as positions is deprecated. In a future version, integer keys will always be treated as labels (consistent with DataFrame behavior). To access a value by position, use `ser.iloc[pos]`\n",
      "  q_avil_site = pd.DataFrame(  {'site': [ df_202406['site_no'][0] ]}  )\n"
     ]
    },
    {
     "name": "stdout",
     "output_type": "stream",
     "text": [
      "13234500\n",
      "13235000\n"
     ]
    },
    {
     "name": "stderr",
     "output_type": "stream",
     "text": [
      "/var/folders/_4/klhstfsn73nfrxlfr8_r9dhc0000gn/T/ipykernel_14417/427570331.py:10: FutureWarning: Series.__getitem__ treating keys as positions is deprecated. In a future version, integer keys will always be treated as labels (consistent with DataFrame behavior). To access a value by position, use `ser.iloc[pos]`\n",
      "  q_avil_site = pd.DataFrame(  {'site': [ df_202406['site_no'][0] ]}  )\n"
     ]
    },
    {
     "name": "stdout",
     "output_type": "stream",
     "text": [
      "13235500\n",
      "13236500\n"
     ]
    },
    {
     "name": "stderr",
     "output_type": "stream",
     "text": [
      "/var/folders/_4/klhstfsn73nfrxlfr8_r9dhc0000gn/T/ipykernel_14417/427570331.py:10: FutureWarning: Series.__getitem__ treating keys as positions is deprecated. In a future version, integer keys will always be treated as labels (consistent with DataFrame behavior). To access a value by position, use `ser.iloc[pos]`\n",
      "  q_avil_site = pd.DataFrame(  {'site': [ df_202406['site_no'][0] ]}  )\n"
     ]
    },
    {
     "name": "stdout",
     "output_type": "stream",
     "text": [
      "13237000\n",
      "13237500\n",
      "13237600\n",
      "13237700\n",
      "13237920\n"
     ]
    },
    {
     "name": "stderr",
     "output_type": "stream",
     "text": [
      "/var/folders/_4/klhstfsn73nfrxlfr8_r9dhc0000gn/T/ipykernel_14417/427570331.py:10: FutureWarning: Series.__getitem__ treating keys as positions is deprecated. In a future version, integer keys will always be treated as labels (consistent with DataFrame behavior). To access a value by position, use `ser.iloc[pos]`\n",
      "  q_avil_site = pd.DataFrame(  {'site': [ df_202406['site_no'][0] ]}  )\n"
     ]
    },
    {
     "name": "stdout",
     "output_type": "stream",
     "text": [
      "13238000\n",
      "13238322\n",
      "13239000\n"
     ]
    },
    {
     "name": "stderr",
     "output_type": "stream",
     "text": [
      "/var/folders/_4/klhstfsn73nfrxlfr8_r9dhc0000gn/T/ipykernel_14417/427570331.py:10: FutureWarning: Series.__getitem__ treating keys as positions is deprecated. In a future version, integer keys will always be treated as labels (consistent with DataFrame behavior). To access a value by position, use `ser.iloc[pos]`\n",
      "  q_avil_site = pd.DataFrame(  {'site': [ df_202406['site_no'][0] ]}  )\n"
     ]
    },
    {
     "name": "stdout",
     "output_type": "stream",
     "text": [
      "13239500\n",
      "13240000\n"
     ]
    },
    {
     "name": "stderr",
     "output_type": "stream",
     "text": [
      "/var/folders/_4/klhstfsn73nfrxlfr8_r9dhc0000gn/T/ipykernel_14417/427570331.py:10: FutureWarning: Series.__getitem__ treating keys as positions is deprecated. In a future version, integer keys will always be treated as labels (consistent with DataFrame behavior). To access a value by position, use `ser.iloc[pos]`\n",
      "  q_avil_site = pd.DataFrame(  {'site': [ df_202406['site_no'][0] ]}  )\n"
     ]
    },
    {
     "name": "stdout",
     "output_type": "stream",
     "text": [
      "13240500\n",
      "13241500\n",
      "13242500\n",
      "13243500\n",
      "13244000\n",
      "13245000\n",
      "13245500\n",
      "13246000\n"
     ]
    },
    {
     "name": "stderr",
     "output_type": "stream",
     "text": [
      "/var/folders/_4/klhstfsn73nfrxlfr8_r9dhc0000gn/T/ipykernel_14417/427570331.py:10: FutureWarning: Series.__getitem__ treating keys as positions is deprecated. In a future version, integer keys will always be treated as labels (consistent with DataFrame behavior). To access a value by position, use `ser.iloc[pos]`\n",
      "  q_avil_site = pd.DataFrame(  {'site': [ df_202406['site_no'][0] ]}  )\n"
     ]
    },
    {
     "name": "stdout",
     "output_type": "stream",
     "text": [
      "13246500\n",
      "13247000\n",
      "13247500\n"
     ]
    },
    {
     "name": "stderr",
     "output_type": "stream",
     "text": [
      "/var/folders/_4/klhstfsn73nfrxlfr8_r9dhc0000gn/T/ipykernel_14417/427570331.py:10: FutureWarning: Series.__getitem__ treating keys as positions is deprecated. In a future version, integer keys will always be treated as labels (consistent with DataFrame behavior). To access a value by position, use `ser.iloc[pos]`\n",
      "  q_avil_site = pd.DataFrame(  {'site': [ df_202406['site_no'][0] ]}  )\n"
     ]
    },
    {
     "name": "stdout",
     "output_type": "stream",
     "text": [
      "13248000\n",
      "13248500\n",
      "13249000\n",
      "13249500\n"
     ]
    },
    {
     "name": "stderr",
     "output_type": "stream",
     "text": [
      "/var/folders/_4/klhstfsn73nfrxlfr8_r9dhc0000gn/T/ipykernel_14417/427570331.py:10: FutureWarning: Series.__getitem__ treating keys as positions is deprecated. In a future version, integer keys will always be treated as labels (consistent with DataFrame behavior). To access a value by position, use `ser.iloc[pos]`\n",
      "  q_avil_site = pd.DataFrame(  {'site': [ df_202406['site_no'][0] ]}  )\n"
     ]
    },
    {
     "name": "stdout",
     "output_type": "stream",
     "text": [
      "13250000\n"
     ]
    },
    {
     "name": "stderr",
     "output_type": "stream",
     "text": [
      "/var/folders/_4/klhstfsn73nfrxlfr8_r9dhc0000gn/T/ipykernel_14417/427570331.py:10: FutureWarning: Series.__getitem__ treating keys as positions is deprecated. In a future version, integer keys will always be treated as labels (consistent with DataFrame behavior). To access a value by position, use `ser.iloc[pos]`\n",
      "  q_avil_site = pd.DataFrame(  {'site': [ df_202406['site_no'][0] ]}  )\n"
     ]
    },
    {
     "name": "stdout",
     "output_type": "stream",
     "text": [
      "13250500\n",
      "13250600\n",
      "13251000\n"
     ]
    },
    {
     "name": "stderr",
     "output_type": "stream",
     "text": [
      "/var/folders/_4/klhstfsn73nfrxlfr8_r9dhc0000gn/T/ipykernel_14417/427570331.py:10: FutureWarning: Series.__getitem__ treating keys as positions is deprecated. In a future version, integer keys will always be treated as labels (consistent with DataFrame behavior). To access a value by position, use `ser.iloc[pos]`\n",
      "  q_avil_site = pd.DataFrame(  {'site': [ df_202406['site_no'][0] ]}  )\n"
     ]
    },
    {
     "name": "stdout",
     "output_type": "stream",
     "text": [
      "13251300\n",
      "13251500\n",
      "13252000\n",
      "13252500\n",
      "13253000\n",
      "13253500\n",
      "13254500\n",
      "13255000\n",
      "13255050\n",
      "13255060\n",
      "13255500\n",
      "13256000\n",
      "13256800\n",
      "13257000\n",
      "13257500\n",
      "13258000\n",
      "13258500\n"
     ]
    },
    {
     "name": "stderr",
     "output_type": "stream",
     "text": [
      "/var/folders/_4/klhstfsn73nfrxlfr8_r9dhc0000gn/T/ipykernel_14417/427570331.py:10: FutureWarning: Series.__getitem__ treating keys as positions is deprecated. In a future version, integer keys will always be treated as labels (consistent with DataFrame behavior). To access a value by position, use `ser.iloc[pos]`\n",
      "  q_avil_site = pd.DataFrame(  {'site': [ df_202406['site_no'][0] ]}  )\n"
     ]
    },
    {
     "name": "stdout",
     "output_type": "stream",
     "text": [
      "13259500\n",
      "13260000\n",
      "13260500\n",
      "13261000\n",
      "13261500\n",
      "13262000\n",
      "13263000\n",
      "13263500\n",
      "13264500\n",
      "13265500\n"
     ]
    },
    {
     "name": "stderr",
     "output_type": "stream",
     "text": [
      "/var/folders/_4/klhstfsn73nfrxlfr8_r9dhc0000gn/T/ipykernel_14417/427570331.py:10: FutureWarning: Series.__getitem__ treating keys as positions is deprecated. In a future version, integer keys will always be treated as labels (consistent with DataFrame behavior). To access a value by position, use `ser.iloc[pos]`\n",
      "  q_avil_site = pd.DataFrame(  {'site': [ df_202406['site_no'][0] ]}  )\n"
     ]
    },
    {
     "name": "stdout",
     "output_type": "stream",
     "text": [
      "13266000\n"
     ]
    },
    {
     "name": "stderr",
     "output_type": "stream",
     "text": [
      "/var/folders/_4/klhstfsn73nfrxlfr8_r9dhc0000gn/T/ipykernel_14417/427570331.py:10: FutureWarning: Series.__getitem__ treating keys as positions is deprecated. In a future version, integer keys will always be treated as labels (consistent with DataFrame behavior). To access a value by position, use `ser.iloc[pos]`\n",
      "  q_avil_site = pd.DataFrame(  {'site': [ df_202406['site_no'][0] ]}  )\n"
     ]
    },
    {
     "name": "stdout",
     "output_type": "stream",
     "text": [
      "13267000\n",
      "13267050\n",
      "13267400\n",
      "13267500\n",
      "13268000\n",
      "13268500\n",
      "13269000\n"
     ]
    },
    {
     "name": "stderr",
     "output_type": "stream",
     "text": [
      "/var/folders/_4/klhstfsn73nfrxlfr8_r9dhc0000gn/T/ipykernel_14417/427570331.py:10: FutureWarning: Series.__getitem__ treating keys as positions is deprecated. In a future version, integer keys will always be treated as labels (consistent with DataFrame behavior). To access a value by position, use `ser.iloc[pos]`\n",
      "  q_avil_site = pd.DataFrame(  {'site': [ df_202406['site_no'][0] ]}  )\n"
     ]
    },
    {
     "name": "stdout",
     "output_type": "stream",
     "text": [
      "13289720\n",
      "13289960\n",
      "13290200\n",
      "13290500\n",
      "13292200\n",
      "13292280\n",
      "13292380\n",
      "13292400\n",
      "13292500\n",
      "13293000\n",
      "13293200\n",
      "13293350\n",
      "13293400\n",
      "13293500\n",
      "13294000\n",
      "13294500\n",
      "13294600\n",
      "13294640\n",
      "13294880\n",
      "13295000\n"
     ]
    },
    {
     "name": "stderr",
     "output_type": "stream",
     "text": [
      "/var/folders/_4/klhstfsn73nfrxlfr8_r9dhc0000gn/T/ipykernel_14417/427570331.py:10: FutureWarning: Series.__getitem__ treating keys as positions is deprecated. In a future version, integer keys will always be treated as labels (consistent with DataFrame behavior). To access a value by position, use `ser.iloc[pos]`\n",
      "  q_avil_site = pd.DataFrame(  {'site': [ df_202406['site_no'][0] ]}  )\n"
     ]
    },
    {
     "name": "stdout",
     "output_type": "stream",
     "text": [
      "13295500\n",
      "13295650\n",
      "13295900\n",
      "13296000\n"
     ]
    },
    {
     "name": "stderr",
     "output_type": "stream",
     "text": [
      "/var/folders/_4/klhstfsn73nfrxlfr8_r9dhc0000gn/T/ipykernel_14417/427570331.py:10: FutureWarning: Series.__getitem__ treating keys as positions is deprecated. In a future version, integer keys will always be treated as labels (consistent with DataFrame behavior). To access a value by position, use `ser.iloc[pos]`\n",
      "  q_avil_site = pd.DataFrame(  {'site': [ df_202406['site_no'][0] ]}  )\n"
     ]
    },
    {
     "name": "stdout",
     "output_type": "stream",
     "text": [
      "13296500\n"
     ]
    },
    {
     "name": "stderr",
     "output_type": "stream",
     "text": [
      "/var/folders/_4/klhstfsn73nfrxlfr8_r9dhc0000gn/T/ipykernel_14417/427570331.py:10: FutureWarning: Series.__getitem__ treating keys as positions is deprecated. In a future version, integer keys will always be treated as labels (consistent with DataFrame behavior). To access a value by position, use `ser.iloc[pos]`\n",
      "  q_avil_site = pd.DataFrame(  {'site': [ df_202406['site_no'][0] ]}  )\n"
     ]
    },
    {
     "name": "stdout",
     "output_type": "stream",
     "text": [
      "13297000\n",
      "13297100\n",
      "13297250\n",
      "13297300\n",
      "13297310\n",
      "13297320\n",
      "13297330\n"
     ]
    },
    {
     "name": "stderr",
     "output_type": "stream",
     "text": [
      "/var/folders/_4/klhstfsn73nfrxlfr8_r9dhc0000gn/T/ipykernel_14417/427570331.py:10: FutureWarning: Series.__getitem__ treating keys as positions is deprecated. In a future version, integer keys will always be treated as labels (consistent with DataFrame behavior). To access a value by position, use `ser.iloc[pos]`\n",
      "  q_avil_site = pd.DataFrame(  {'site': [ df_202406['site_no'][0] ]}  )\n"
     ]
    },
    {
     "name": "stdout",
     "output_type": "stream",
     "text": [
      "13297340\n",
      "13297350\n"
     ]
    },
    {
     "name": "stderr",
     "output_type": "stream",
     "text": [
      "/var/folders/_4/klhstfsn73nfrxlfr8_r9dhc0000gn/T/ipykernel_14417/427570331.py:10: FutureWarning: Series.__getitem__ treating keys as positions is deprecated. In a future version, integer keys will always be treated as labels (consistent with DataFrame behavior). To access a value by position, use `ser.iloc[pos]`\n",
      "  q_avil_site = pd.DataFrame(  {'site': [ df_202406['site_no'][0] ]}  )\n"
     ]
    },
    {
     "name": "stdout",
     "output_type": "stream",
     "text": [
      "13297355\n"
     ]
    },
    {
     "name": "stderr",
     "output_type": "stream",
     "text": [
      "/var/folders/_4/klhstfsn73nfrxlfr8_r9dhc0000gn/T/ipykernel_14417/427570331.py:10: FutureWarning: Series.__getitem__ treating keys as positions is deprecated. In a future version, integer keys will always be treated as labels (consistent with DataFrame behavior). To access a value by position, use `ser.iloc[pos]`\n",
      "  q_avil_site = pd.DataFrame(  {'site': [ df_202406['site_no'][0] ]}  )\n"
     ]
    },
    {
     "name": "stdout",
     "output_type": "stream",
     "text": [
      "13297360\n",
      "13297380\n"
     ]
    },
    {
     "name": "stderr",
     "output_type": "stream",
     "text": [
      "/var/folders/_4/klhstfsn73nfrxlfr8_r9dhc0000gn/T/ipykernel_14417/427570331.py:10: FutureWarning: Series.__getitem__ treating keys as positions is deprecated. In a future version, integer keys will always be treated as labels (consistent with DataFrame behavior). To access a value by position, use `ser.iloc[pos]`\n",
      "  q_avil_site = pd.DataFrame(  {'site': [ df_202406['site_no'][0] ]}  )\n"
     ]
    },
    {
     "name": "stdout",
     "output_type": "stream",
     "text": [
      "13297384\n",
      "13297388\n",
      "13297394\n",
      "13297396\n",
      "13297400\n",
      "13297402\n",
      "13297404\n",
      "13297418\n",
      "13297425\n",
      "13297434\n",
      "13297436\n",
      "13297438\n",
      "13297440\n",
      "13297445\n",
      "13297450\n",
      "13297460\n",
      "13297462\n",
      "13297466\n",
      "13297470\n",
      "13297474\n",
      "13297480\n",
      "13297485\n",
      "13297500\n",
      "13297530\n",
      "13297580\n",
      "13297590\n",
      "13297597\n",
      "13297600\n",
      "13297670\n",
      "13297680\n",
      "13297700\n",
      "13297880\n",
      "13297900\n",
      "13298000\n",
      "13298500\n",
      "13299000\n",
      "13299200\n",
      "13299255\n",
      "13299280\n",
      "13299390\n",
      "13299500\n",
      "13300000\n",
      "13300500\n",
      "13301000\n",
      "13301500\n",
      "13301510\n",
      "13301520\n",
      "13301530\n",
      "13301595\n",
      "13301600\n",
      "13301620\n",
      "13301700\n",
      "13301900\n",
      "13301990\n",
      "13302000\n",
      "13302005\n"
     ]
    },
    {
     "name": "stderr",
     "output_type": "stream",
     "text": [
      "/var/folders/_4/klhstfsn73nfrxlfr8_r9dhc0000gn/T/ipykernel_14417/427570331.py:10: FutureWarning: Series.__getitem__ treating keys as positions is deprecated. In a future version, integer keys will always be treated as labels (consistent with DataFrame behavior). To access a value by position, use `ser.iloc[pos]`\n",
      "  q_avil_site = pd.DataFrame(  {'site': [ df_202406['site_no'][0] ]}  )\n"
     ]
    },
    {
     "name": "stdout",
     "output_type": "stream",
     "text": [
      "13302500\n"
     ]
    },
    {
     "name": "stderr",
     "output_type": "stream",
     "text": [
      "/var/folders/_4/klhstfsn73nfrxlfr8_r9dhc0000gn/T/ipykernel_14417/427570331.py:10: FutureWarning: Series.__getitem__ treating keys as positions is deprecated. In a future version, integer keys will always be treated as labels (consistent with DataFrame behavior). To access a value by position, use `ser.iloc[pos]`\n",
      "  q_avil_site = pd.DataFrame(  {'site': [ df_202406['site_no'][0] ]}  )\n"
     ]
    },
    {
     "name": "stdout",
     "output_type": "stream",
     "text": [
      "13302600\n",
      "13303000\n",
      "13303030\n",
      "13303070\n",
      "13303200\n",
      "13303500\n",
      "13303800\n",
      "13304000\n",
      "13304050\n"
     ]
    },
    {
     "name": "stderr",
     "output_type": "stream",
     "text": [
      "/var/folders/_4/klhstfsn73nfrxlfr8_r9dhc0000gn/T/ipykernel_14417/427570331.py:10: FutureWarning: Series.__getitem__ treating keys as positions is deprecated. In a future version, integer keys will always be treated as labels (consistent with DataFrame behavior). To access a value by position, use `ser.iloc[pos]`\n",
      "  q_avil_site = pd.DataFrame(  {'site': [ df_202406['site_no'][0] ]}  )\n"
     ]
    },
    {
     "name": "stdout",
     "output_type": "stream",
     "text": [
      "13304170\n",
      "13304200\n",
      "13304490\n",
      "13304500\n",
      "13304700\n"
     ]
    },
    {
     "name": "stderr",
     "output_type": "stream",
     "text": [
      "/var/folders/_4/klhstfsn73nfrxlfr8_r9dhc0000gn/T/ipykernel_14417/427570331.py:10: FutureWarning: Series.__getitem__ treating keys as positions is deprecated. In a future version, integer keys will always be treated as labels (consistent with DataFrame behavior). To access a value by position, use `ser.iloc[pos]`\n",
      "  q_avil_site = pd.DataFrame(  {'site': [ df_202406['site_no'][0] ]}  )\n"
     ]
    },
    {
     "name": "stdout",
     "output_type": "stream",
     "text": [
      "13305000\n"
     ]
    },
    {
     "name": "stderr",
     "output_type": "stream",
     "text": [
      "/var/folders/_4/klhstfsn73nfrxlfr8_r9dhc0000gn/T/ipykernel_14417/427570331.py:10: FutureWarning: Series.__getitem__ treating keys as positions is deprecated. In a future version, integer keys will always be treated as labels (consistent with DataFrame behavior). To access a value by position, use `ser.iloc[pos]`\n",
      "  q_avil_site = pd.DataFrame(  {'site': [ df_202406['site_no'][0] ]}  )\n"
     ]
    },
    {
     "name": "stdout",
     "output_type": "stream",
     "text": [
      "13305260\n",
      "13305300\n",
      "13305310\n"
     ]
    },
    {
     "name": "stderr",
     "output_type": "stream",
     "text": [
      "/var/folders/_4/klhstfsn73nfrxlfr8_r9dhc0000gn/T/ipykernel_14417/427570331.py:10: FutureWarning: Series.__getitem__ treating keys as positions is deprecated. In a future version, integer keys will always be treated as labels (consistent with DataFrame behavior). To access a value by position, use `ser.iloc[pos]`\n",
      "  q_avil_site = pd.DataFrame(  {'site': [ df_202406['site_no'][0] ]}  )\n"
     ]
    },
    {
     "name": "stdout",
     "output_type": "stream",
     "text": [
      "13305500\n",
      "13306000\n",
      "13306336\n",
      "13306370\n"
     ]
    },
    {
     "name": "stderr",
     "output_type": "stream",
     "text": [
      "/var/folders/_4/klhstfsn73nfrxlfr8_r9dhc0000gn/T/ipykernel_14417/427570331.py:10: FutureWarning: Series.__getitem__ treating keys as positions is deprecated. In a future version, integer keys will always be treated as labels (consistent with DataFrame behavior). To access a value by position, use `ser.iloc[pos]`\n",
      "  q_avil_site = pd.DataFrame(  {'site': [ df_202406['site_no'][0] ]}  )\n"
     ]
    },
    {
     "name": "stdout",
     "output_type": "stream",
     "text": [
      "13306375\n",
      "13306385\n"
     ]
    },
    {
     "name": "stderr",
     "output_type": "stream",
     "text": [
      "/var/folders/_4/klhstfsn73nfrxlfr8_r9dhc0000gn/T/ipykernel_14417/427570331.py:10: FutureWarning: Series.__getitem__ treating keys as positions is deprecated. In a future version, integer keys will always be treated as labels (consistent with DataFrame behavior). To access a value by position, use `ser.iloc[pos]`\n",
      "  q_avil_site = pd.DataFrame(  {'site': [ df_202406['site_no'][0] ]}  )\n"
     ]
    },
    {
     "name": "stdout",
     "output_type": "stream",
     "text": [
      "13306500\n",
      "13307000\n"
     ]
    },
    {
     "name": "stderr",
     "output_type": "stream",
     "text": [
      "/var/folders/_4/klhstfsn73nfrxlfr8_r9dhc0000gn/T/ipykernel_14417/427570331.py:10: FutureWarning: Series.__getitem__ treating keys as positions is deprecated. In a future version, integer keys will always be treated as labels (consistent with DataFrame behavior). To access a value by position, use `ser.iloc[pos]`\n",
      "  q_avil_site = pd.DataFrame(  {'site': [ df_202406['site_no'][0] ]}  )\n"
     ]
    },
    {
     "name": "stdout",
     "output_type": "stream",
     "text": [
      "13307500\n",
      "13308000\n",
      "13308500\n",
      "13309000\n",
      "13309220\n"
     ]
    },
    {
     "name": "stderr",
     "output_type": "stream",
     "text": [
      "/var/folders/_4/klhstfsn73nfrxlfr8_r9dhc0000gn/T/ipykernel_14417/427570331.py:10: FutureWarning: Series.__getitem__ treating keys as positions is deprecated. In a future version, integer keys will always be treated as labels (consistent with DataFrame behavior). To access a value by position, use `ser.iloc[pos]`\n",
      "  q_avil_site = pd.DataFrame(  {'site': [ df_202406['site_no'][0] ]}  )\n"
     ]
    },
    {
     "name": "stdout",
     "output_type": "stream",
     "text": [
      "13309500\n",
      "13310000\n",
      "13310199\n"
     ]
    },
    {
     "name": "stderr",
     "output_type": "stream",
     "text": [
      "/var/folders/_4/klhstfsn73nfrxlfr8_r9dhc0000gn/T/ipykernel_14417/427570331.py:10: FutureWarning: Series.__getitem__ treating keys as positions is deprecated. In a future version, integer keys will always be treated as labels (consistent with DataFrame behavior). To access a value by position, use `ser.iloc[pos]`\n",
      "  q_avil_site = pd.DataFrame(  {'site': [ df_202406['site_no'][0] ]}  )\n"
     ]
    },
    {
     "name": "stdout",
     "output_type": "stream",
     "text": [
      "13310500\n",
      "13310520\n",
      "13310565\n",
      "13310570\n",
      "13310660\n",
      "13310670\n",
      "13310700\n"
     ]
    },
    {
     "name": "stderr",
     "output_type": "stream",
     "text": [
      "/var/folders/_4/klhstfsn73nfrxlfr8_r9dhc0000gn/T/ipykernel_14417/427570331.py:10: FutureWarning: Series.__getitem__ treating keys as positions is deprecated. In a future version, integer keys will always be treated as labels (consistent with DataFrame behavior). To access a value by position, use `ser.iloc[pos]`\n",
      "  q_avil_site = pd.DataFrame(  {'site': [ df_202406['site_no'][0] ]}  )\n"
     ]
    },
    {
     "name": "stdout",
     "output_type": "stream",
     "text": [
      "13310800\n"
     ]
    },
    {
     "name": "stderr",
     "output_type": "stream",
     "text": [
      "/var/folders/_4/klhstfsn73nfrxlfr8_r9dhc0000gn/T/ipykernel_14417/427570331.py:10: FutureWarning: Series.__getitem__ treating keys as positions is deprecated. In a future version, integer keys will always be treated as labels (consistent with DataFrame behavior). To access a value by position, use `ser.iloc[pos]`\n",
      "  q_avil_site = pd.DataFrame(  {'site': [ df_202406['site_no'][0] ]}  )\n"
     ]
    },
    {
     "name": "stdout",
     "output_type": "stream",
     "text": [
      "13310850\n"
     ]
    },
    {
     "name": "stderr",
     "output_type": "stream",
     "text": [
      "/var/folders/_4/klhstfsn73nfrxlfr8_r9dhc0000gn/T/ipykernel_14417/427570331.py:10: FutureWarning: Series.__getitem__ treating keys as positions is deprecated. In a future version, integer keys will always be treated as labels (consistent with DataFrame behavior). To access a value by position, use `ser.iloc[pos]`\n",
      "  q_avil_site = pd.DataFrame(  {'site': [ df_202406['site_no'][0] ]}  )\n"
     ]
    },
    {
     "name": "stdout",
     "output_type": "stream",
     "text": [
      "13311000\n"
     ]
    },
    {
     "name": "stderr",
     "output_type": "stream",
     "text": [
      "/var/folders/_4/klhstfsn73nfrxlfr8_r9dhc0000gn/T/ipykernel_14417/427570331.py:10: FutureWarning: Series.__getitem__ treating keys as positions is deprecated. In a future version, integer keys will always be treated as labels (consistent with DataFrame behavior). To access a value by position, use `ser.iloc[pos]`\n",
      "  q_avil_site = pd.DataFrame(  {'site': [ df_202406['site_no'][0] ]}  )\n"
     ]
    },
    {
     "name": "stdout",
     "output_type": "stream",
     "text": [
      "13311250\n"
     ]
    },
    {
     "name": "stderr",
     "output_type": "stream",
     "text": [
      "/var/folders/_4/klhstfsn73nfrxlfr8_r9dhc0000gn/T/ipykernel_14417/427570331.py:10: FutureWarning: Series.__getitem__ treating keys as positions is deprecated. In a future version, integer keys will always be treated as labels (consistent with DataFrame behavior). To access a value by position, use `ser.iloc[pos]`\n",
      "  q_avil_site = pd.DataFrame(  {'site': [ df_202406['site_no'][0] ]}  )\n"
     ]
    },
    {
     "name": "stdout",
     "output_type": "stream",
     "text": [
      "13311450\n"
     ]
    },
    {
     "name": "stderr",
     "output_type": "stream",
     "text": [
      "/var/folders/_4/klhstfsn73nfrxlfr8_r9dhc0000gn/T/ipykernel_14417/427570331.py:10: FutureWarning: Series.__getitem__ treating keys as positions is deprecated. In a future version, integer keys will always be treated as labels (consistent with DataFrame behavior). To access a value by position, use `ser.iloc[pos]`\n",
      "  q_avil_site = pd.DataFrame(  {'site': [ df_202406['site_no'][0] ]}  )\n"
     ]
    },
    {
     "name": "stdout",
     "output_type": "stream",
     "text": [
      "13311500\n",
      "13312000\n",
      "13312500\n",
      "13313000\n"
     ]
    },
    {
     "name": "stderr",
     "output_type": "stream",
     "text": [
      "/var/folders/_4/klhstfsn73nfrxlfr8_r9dhc0000gn/T/ipykernel_14417/427570331.py:10: FutureWarning: Series.__getitem__ treating keys as positions is deprecated. In a future version, integer keys will always be treated as labels (consistent with DataFrame behavior). To access a value by position, use `ser.iloc[pos]`\n",
      "  q_avil_site = pd.DataFrame(  {'site': [ df_202406['site_no'][0] ]}  )\n"
     ]
    },
    {
     "name": "stdout",
     "output_type": "stream",
     "text": [
      "13313500\n",
      "13313800\n",
      "13314000\n",
      "13314300\n",
      "13314500\n",
      "13315000\n",
      "13315500\n",
      "13315750\n",
      "13315755\n",
      "13315760\n",
      "13315765\n",
      "13316000\n",
      "13316500\n"
     ]
    },
    {
     "name": "stderr",
     "output_type": "stream",
     "text": [
      "/var/folders/_4/klhstfsn73nfrxlfr8_r9dhc0000gn/T/ipykernel_14417/427570331.py:10: FutureWarning: Series.__getitem__ treating keys as positions is deprecated. In a future version, integer keys will always be treated as labels (consistent with DataFrame behavior). To access a value by position, use `ser.iloc[pos]`\n",
      "  q_avil_site = pd.DataFrame(  {'site': [ df_202406['site_no'][0] ]}  )\n"
     ]
    },
    {
     "name": "stdout",
     "output_type": "stream",
     "text": [
      "13316530\n",
      "13316535\n",
      "13316800\n",
      "13317000\n"
     ]
    },
    {
     "name": "stderr",
     "output_type": "stream",
     "text": [
      "/var/folders/_4/klhstfsn73nfrxlfr8_r9dhc0000gn/T/ipykernel_14417/427570331.py:10: FutureWarning: Series.__getitem__ treating keys as positions is deprecated. In a future version, integer keys will always be treated as labels (consistent with DataFrame behavior). To access a value by position, use `ser.iloc[pos]`\n",
      "  q_avil_site = pd.DataFrame(  {'site': [ df_202406['site_no'][0] ]}  )\n"
     ]
    },
    {
     "name": "stdout",
     "output_type": "stream",
     "text": [
      "13317500\n",
      "13317660\n"
     ]
    },
    {
     "name": "stderr",
     "output_type": "stream",
     "text": [
      "/var/folders/_4/klhstfsn73nfrxlfr8_r9dhc0000gn/T/ipykernel_14417/427570331.py:10: FutureWarning: Series.__getitem__ treating keys as positions is deprecated. In a future version, integer keys will always be treated as labels (consistent with DataFrame behavior). To access a value by position, use `ser.iloc[pos]`\n",
      "  q_avil_site = pd.DataFrame(  {'site': [ df_202406['site_no'][0] ]}  )\n"
     ]
    },
    {
     "name": "stdout",
     "output_type": "stream",
     "text": [
      "13335690\n",
      "13335700\n",
      "13336000\n",
      "13336100\n",
      "13336300\n",
      "13336500\n"
     ]
    },
    {
     "name": "stderr",
     "output_type": "stream",
     "text": [
      "/var/folders/_4/klhstfsn73nfrxlfr8_r9dhc0000gn/T/ipykernel_14417/427570331.py:10: FutureWarning: Series.__getitem__ treating keys as positions is deprecated. In a future version, integer keys will always be treated as labels (consistent with DataFrame behavior). To access a value by position, use `ser.iloc[pos]`\n",
      "  q_avil_site = pd.DataFrame(  {'site': [ df_202406['site_no'][0] ]}  )\n"
     ]
    },
    {
     "name": "stdout",
     "output_type": "stream",
     "text": [
      "13336635\n",
      "13336800\n",
      "13336900\n",
      "13337000\n"
     ]
    },
    {
     "name": "stderr",
     "output_type": "stream",
     "text": [
      "/var/folders/_4/klhstfsn73nfrxlfr8_r9dhc0000gn/T/ipykernel_14417/427570331.py:10: FutureWarning: Series.__getitem__ treating keys as positions is deprecated. In a future version, integer keys will always be treated as labels (consistent with DataFrame behavior). To access a value by position, use `ser.iloc[pos]`\n",
      "  q_avil_site = pd.DataFrame(  {'site': [ df_202406['site_no'][0] ]}  )\n"
     ]
    },
    {
     "name": "stdout",
     "output_type": "stream",
     "text": [
      "13337095\n"
     ]
    },
    {
     "name": "stderr",
     "output_type": "stream",
     "text": [
      "/var/folders/_4/klhstfsn73nfrxlfr8_r9dhc0000gn/T/ipykernel_14417/427570331.py:10: FutureWarning: Series.__getitem__ treating keys as positions is deprecated. In a future version, integer keys will always be treated as labels (consistent with DataFrame behavior). To access a value by position, use `ser.iloc[pos]`\n",
      "  q_avil_site = pd.DataFrame(  {'site': [ df_202406['site_no'][0] ]}  )\n"
     ]
    },
    {
     "name": "stdout",
     "output_type": "stream",
     "text": [
      "13337099\n",
      "13337100\n",
      "13337500\n"
     ]
    },
    {
     "name": "stderr",
     "output_type": "stream",
     "text": [
      "/var/folders/_4/klhstfsn73nfrxlfr8_r9dhc0000gn/T/ipykernel_14417/427570331.py:10: FutureWarning: Series.__getitem__ treating keys as positions is deprecated. In a future version, integer keys will always be treated as labels (consistent with DataFrame behavior). To access a value by position, use `ser.iloc[pos]`\n",
      "  q_avil_site = pd.DataFrame(  {'site': [ df_202406['site_no'][0] ]}  )\n"
     ]
    },
    {
     "name": "stdout",
     "output_type": "stream",
     "text": [
      "13338000\n",
      "13338500\n"
     ]
    },
    {
     "name": "stderr",
     "output_type": "stream",
     "text": [
      "/var/folders/_4/klhstfsn73nfrxlfr8_r9dhc0000gn/T/ipykernel_14417/427570331.py:10: FutureWarning: Series.__getitem__ treating keys as positions is deprecated. In a future version, integer keys will always be treated as labels (consistent with DataFrame behavior). To access a value by position, use `ser.iloc[pos]`\n",
      "  q_avil_site = pd.DataFrame(  {'site': [ df_202406['site_no'][0] ]}  )\n"
     ]
    },
    {
     "name": "stdout",
     "output_type": "stream",
     "text": [
      "13338800\n",
      "13338950\n"
     ]
    },
    {
     "name": "stderr",
     "output_type": "stream",
     "text": [
      "/var/folders/_4/klhstfsn73nfrxlfr8_r9dhc0000gn/T/ipykernel_14417/427570331.py:10: FutureWarning: Series.__getitem__ treating keys as positions is deprecated. In a future version, integer keys will always be treated as labels (consistent with DataFrame behavior). To access a value by position, use `ser.iloc[pos]`\n",
      "  q_avil_site = pd.DataFrame(  {'site': [ df_202406['site_no'][0] ]}  )\n"
     ]
    },
    {
     "name": "stdout",
     "output_type": "stream",
     "text": [
      "13339000\n",
      "13339500\n"
     ]
    },
    {
     "name": "stderr",
     "output_type": "stream",
     "text": [
      "/var/folders/_4/klhstfsn73nfrxlfr8_r9dhc0000gn/T/ipykernel_14417/427570331.py:10: FutureWarning: Series.__getitem__ treating keys as positions is deprecated. In a future version, integer keys will always be treated as labels (consistent with DataFrame behavior). To access a value by position, use `ser.iloc[pos]`\n",
      "  q_avil_site = pd.DataFrame(  {'site': [ df_202406['site_no'][0] ]}  )\n"
     ]
    },
    {
     "name": "stdout",
     "output_type": "stream",
     "text": [
      "13339800\n",
      "13340000\n"
     ]
    },
    {
     "name": "stderr",
     "output_type": "stream",
     "text": [
      "/var/folders/_4/klhstfsn73nfrxlfr8_r9dhc0000gn/T/ipykernel_14417/427570331.py:10: FutureWarning: Series.__getitem__ treating keys as positions is deprecated. In a future version, integer keys will always be treated as labels (consistent with DataFrame behavior). To access a value by position, use `ser.iloc[pos]`\n",
      "  q_avil_site = pd.DataFrame(  {'site': [ df_202406['site_no'][0] ]}  )\n"
     ]
    },
    {
     "name": "stdout",
     "output_type": "stream",
     "text": [
      "13340500\n",
      "13340600\n"
     ]
    },
    {
     "name": "stderr",
     "output_type": "stream",
     "text": [
      "/var/folders/_4/klhstfsn73nfrxlfr8_r9dhc0000gn/T/ipykernel_14417/427570331.py:10: FutureWarning: Series.__getitem__ treating keys as positions is deprecated. In a future version, integer keys will always be treated as labels (consistent with DataFrame behavior). To access a value by position, use `ser.iloc[pos]`\n",
      "  q_avil_site = pd.DataFrame(  {'site': [ df_202406['site_no'][0] ]}  )\n"
     ]
    },
    {
     "name": "stdout",
     "output_type": "stream",
     "text": [
      "13340615\n",
      "13340760\n",
      "13340780\n",
      "13340855\n",
      "13341050\n"
     ]
    },
    {
     "name": "stderr",
     "output_type": "stream",
     "text": [
      "/var/folders/_4/klhstfsn73nfrxlfr8_r9dhc0000gn/T/ipykernel_14417/427570331.py:10: FutureWarning: Series.__getitem__ treating keys as positions is deprecated. In a future version, integer keys will always be treated as labels (consistent with DataFrame behavior). To access a value by position, use `ser.iloc[pos]`\n",
      "  q_avil_site = pd.DataFrame(  {'site': [ df_202406['site_no'][0] ]}  )\n"
     ]
    },
    {
     "name": "stdout",
     "output_type": "stream",
     "text": [
      "13341128\n",
      "13341140\n"
     ]
    },
    {
     "name": "stderr",
     "output_type": "stream",
     "text": [
      "/var/folders/_4/klhstfsn73nfrxlfr8_r9dhc0000gn/T/ipykernel_14417/427570331.py:10: FutureWarning: Series.__getitem__ treating keys as positions is deprecated. In a future version, integer keys will always be treated as labels (consistent with DataFrame behavior). To access a value by position, use `ser.iloc[pos]`\n",
      "  q_avil_site = pd.DataFrame(  {'site': [ df_202406['site_no'][0] ]}  )\n"
     ]
    },
    {
     "name": "stdout",
     "output_type": "stream",
     "text": [
      "13341200\n",
      "13341300\n",
      "13341400\n",
      "13341500\n",
      "13341570\n"
     ]
    },
    {
     "name": "stderr",
     "output_type": "stream",
     "text": [
      "/var/folders/_4/klhstfsn73nfrxlfr8_r9dhc0000gn/T/ipykernel_14417/427570331.py:10: FutureWarning: Series.__getitem__ treating keys as positions is deprecated. In a future version, integer keys will always be treated as labels (consistent with DataFrame behavior). To access a value by position, use `ser.iloc[pos]`\n",
      "  q_avil_site = pd.DataFrame(  {'site': [ df_202406['site_no'][0] ]}  )\n"
     ]
    },
    {
     "name": "stdout",
     "output_type": "stream",
     "text": [
      "13342000\n",
      "13342200\n",
      "13342245\n",
      "13342250\n",
      "13342295\n",
      "13342340\n",
      "13342450\n"
     ]
    },
    {
     "name": "stderr",
     "output_type": "stream",
     "text": [
      "/var/folders/_4/klhstfsn73nfrxlfr8_r9dhc0000gn/T/ipykernel_14417/427570331.py:10: FutureWarning: Series.__getitem__ treating keys as positions is deprecated. In a future version, integer keys will always be treated as labels (consistent with DataFrame behavior). To access a value by position, use `ser.iloc[pos]`\n",
      "  q_avil_site = pd.DataFrame(  {'site': [ df_202406['site_no'][0] ]}  )\n"
     ]
    },
    {
     "name": "stdout",
     "output_type": "stream",
     "text": [
      "13342500\n"
     ]
    },
    {
     "name": "stderr",
     "output_type": "stream",
     "text": [
      "/var/folders/_4/klhstfsn73nfrxlfr8_r9dhc0000gn/T/ipykernel_14417/427570331.py:10: FutureWarning: Series.__getitem__ treating keys as positions is deprecated. In a future version, integer keys will always be treated as labels (consistent with DataFrame behavior). To access a value by position, use `ser.iloc[pos]`\n",
      "  q_avil_site = pd.DataFrame(  {'site': [ df_202406['site_no'][0] ]}  )\n"
     ]
    },
    {
     "name": "stdout",
     "output_type": "stream",
     "text": [
      "13343100\n",
      "13345000\n"
     ]
    },
    {
     "name": "stderr",
     "output_type": "stream",
     "text": [
      "/var/folders/_4/klhstfsn73nfrxlfr8_r9dhc0000gn/T/ipykernel_14417/427570331.py:10: FutureWarning: Series.__getitem__ treating keys as positions is deprecated. In a future version, integer keys will always be treated as labels (consistent with DataFrame behavior). To access a value by position, use `ser.iloc[pos]`\n",
      "  q_avil_site = pd.DataFrame(  {'site': [ df_202406['site_no'][0] ]}  )\n"
     ]
    },
    {
     "name": "stdout",
     "output_type": "stream",
     "text": [
      "13346800\n"
     ]
    },
    {
     "name": "stderr",
     "output_type": "stream",
     "text": [
      "/var/folders/_4/klhstfsn73nfrxlfr8_r9dhc0000gn/T/ipykernel_14417/427570331.py:10: FutureWarning: Series.__getitem__ treating keys as positions is deprecated. In a future version, integer keys will always be treated as labels (consistent with DataFrame behavior). To access a value by position, use `ser.iloc[pos]`\n",
      "  q_avil_site = pd.DataFrame(  {'site': [ df_202406['site_no'][0] ]}  )\n"
     ]
    },
    {
     "name": "stdout",
     "output_type": "stream",
     "text": [
      "13350448\n",
      "4323401155133\n",
      "4355501121634\n",
      "4357331144813\n"
     ]
    }
   ],
   "source": [
    "q_avil_sites = pd.DataFrame(  {'site': ['00000000']}  )\n",
    "print(q_avil_sites)\n",
    "\n",
    "for site in siteList_q_df_ST['site_no']:\n",
    "    print(site)\n",
    "    df_202406 = nwis.get_record(sites=site, service='dv', start='2024-06-01', end='2024-06-02')\n",
    "    #print(df_202406)\n",
    "    if df_202406.shape[0]>0:\n",
    "        #print(df_202406['site_no'][0] )\n",
    "        q_avil_site = pd.DataFrame(  {'site': [ df_202406['site_no'][0] ]}  )\n",
    "\n",
    "        \n",
    "        q_avil_sites = pd.concat( [q_avil_sites,q_avil_site    ]   )\n",
    "        #print(q_avil_sites)\n",
    "        #print(df_202406.shape)"
   ]
  },
  {
   "cell_type": "code",
   "execution_count": 6,
   "id": "cad2bae4-c4ca-4a78-ad6e-16e890796486",
   "metadata": {},
   "outputs": [],
   "source": [
    "#siteList  = nwis.what_sites(stateCd = \"ID\",  parameterCd = \"00010\")\n",
    "#siteList_df =siteList[0]\n",
    "#siteList_df_ST=siteList_df[ siteList_df['site_tp_cd'] == \"ST\"   ]\n",
    "#print(siteList_df_ST)"
   ]
  },
  {
   "cell_type": "code",
   "execution_count": 15,
   "id": "97783b53-0bd1-4e8e-bb90-27216a653ee3",
   "metadata": {},
   "outputs": [
    {
     "name": "stdout",
     "output_type": "stream",
     "text": [
      "       site\n",
      "0  00000000\n",
      "00000000\n",
      "10039500\n",
      "10068500\n",
      "10092700\n",
      "10125500\n",
      "12305000\n"
     ]
    },
    {
     "name": "stderr",
     "output_type": "stream",
     "text": [
      "/var/folders/_4/klhstfsn73nfrxlfr8_r9dhc0000gn/T/ipykernel_14417/4257024704.py:10: FutureWarning: Series.__getitem__ treating keys as positions is deprecated. In a future version, integer keys will always be treated as labels (consistent with DataFrame behavior). To access a value by position, use `ser.iloc[pos]`\n",
      "  st_avil_site = pd.DataFrame(  {'site': [ df_202406['site_no'][0] ]}  )\n"
     ]
    },
    {
     "name": "stdout",
     "output_type": "stream",
     "text": [
      "       site\n",
      "0  00000000\n",
      "0  12305000\n",
      "12306500\n",
      "12308000\n",
      "12321500\n",
      "12322000\n"
     ]
    },
    {
     "name": "stderr",
     "output_type": "stream",
     "text": [
      "/var/folders/_4/klhstfsn73nfrxlfr8_r9dhc0000gn/T/ipykernel_14417/4257024704.py:10: FutureWarning: Series.__getitem__ treating keys as positions is deprecated. In a future version, integer keys will always be treated as labels (consistent with DataFrame behavior). To access a value by position, use `ser.iloc[pos]`\n",
      "  st_avil_site = pd.DataFrame(  {'site': [ df_202406['site_no'][0] ]}  )\n"
     ]
    },
    {
     "name": "stdout",
     "output_type": "stream",
     "text": [
      "       site\n",
      "0  00000000\n",
      "0  12305000\n",
      "0  12322000\n",
      "12322001\n",
      "12391950\n",
      "12392155\n",
      "12392300\n",
      "12393501\n",
      "12395000\n",
      "12395500\n",
      "12411000\n",
      "12413000\n",
      "12413125\n",
      "12413130\n",
      "12413131\n",
      "12413210\n",
      "12413355\n",
      "12413470\n",
      "12413500\n",
      "12413860\n",
      "12413875\n",
      "12414500\n",
      "12414900\n",
      "12415135\n",
      "12417650\n",
      "12419000\n",
      "13032500\n",
      "13037500\n",
      "13038000\n",
      "13038500\n",
      "13039500\n",
      "13040500\n",
      "13042500\n",
      "13046000\n",
      "13046995\n",
      "13047500\n",
      "13047600\n",
      "13049500\n",
      "13050500\n",
      "13052200\n",
      "13055000\n",
      "13055250\n",
      "13055340\n",
      "13056500\n",
      "13057000\n",
      "13057132\n",
      "13057155\n",
      "13057940\n",
      "13058000\n",
      "13058510\n",
      "13058520\n",
      "13058529\n",
      "13058530\n",
      "13060000\n",
      "13062500\n",
      "13063000\n",
      "13066000\n",
      "13068495\n",
      "13068500\n",
      "13068501\n",
      "13069500\n",
      "13071010\n",
      "13073000\n",
      "13074400\n",
      "13075000\n",
      "13075500\n",
      "13075910\n",
      "13075983\n",
      "13077000\n",
      "13078000\n",
      "13079300\n",
      "13081500\n",
      "13082500\n",
      "13083000\n",
      "13087995\n",
      "13089500\n",
      "13090500\n",
      "13092747\n"
     ]
    },
    {
     "name": "stderr",
     "output_type": "stream",
     "text": [
      "/var/folders/_4/klhstfsn73nfrxlfr8_r9dhc0000gn/T/ipykernel_14417/4257024704.py:10: FutureWarning: Series.__getitem__ treating keys as positions is deprecated. In a future version, integer keys will always be treated as labels (consistent with DataFrame behavior). To access a value by position, use `ser.iloc[pos]`\n",
      "  st_avil_site = pd.DataFrame(  {'site': [ df_202406['site_no'][0] ]}  )\n"
     ]
    },
    {
     "name": "stdout",
     "output_type": "stream",
     "text": [
      "       site\n",
      "0  00000000\n",
      "0  12305000\n",
      "0  12322000\n",
      "0  13092747\n",
      "13093383\n",
      "13094000\n",
      "13108150\n",
      "13112000\n",
      "13116500\n",
      "13118700\n",
      "13118975\n",
      "13119000\n",
      "13120000\n",
      "13120500\n",
      "13122000\n",
      "13124265\n",
      "13127000\n",
      "13128900\n",
      "13130300\n",
      "13131000\n",
      "13132100\n",
      "13132373\n",
      "13132500\n",
      "13132513\n",
      "13132520\n",
      "13132535\n",
      "13132565\n",
      "13135500\n",
      "13135520\n",
      "13136550\n",
      "13137000\n",
      "13137300\n",
      "13137500\n",
      "13138000\n",
      "13139510\n",
      "13140335\n",
      "13140800\n",
      "13141500\n",
      "13142500\n",
      "13147900\n",
      "13148500\n",
      "13150430\n"
     ]
    },
    {
     "name": "stderr",
     "output_type": "stream",
     "text": [
      "/var/folders/_4/klhstfsn73nfrxlfr8_r9dhc0000gn/T/ipykernel_14417/4257024704.py:10: FutureWarning: Series.__getitem__ treating keys as positions is deprecated. In a future version, integer keys will always be treated as labels (consistent with DataFrame behavior). To access a value by position, use `ser.iloc[pos]`\n",
      "  st_avil_site = pd.DataFrame(  {'site': [ df_202406['site_no'][0] ]}  )\n"
     ]
    },
    {
     "name": "stdout",
     "output_type": "stream",
     "text": [
      "       site\n",
      "0  00000000\n",
      "0  12305000\n",
      "0  12322000\n",
      "0  13092747\n",
      "0  13150430\n",
      "13152500\n",
      "13154500\n"
     ]
    },
    {
     "name": "stderr",
     "output_type": "stream",
     "text": [
      "/var/folders/_4/klhstfsn73nfrxlfr8_r9dhc0000gn/T/ipykernel_14417/4257024704.py:10: FutureWarning: Series.__getitem__ treating keys as positions is deprecated. In a future version, integer keys will always be treated as labels (consistent with DataFrame behavior). To access a value by position, use `ser.iloc[pos]`\n",
      "  st_avil_site = pd.DataFrame(  {'site': [ df_202406['site_no'][0] ]}  )\n"
     ]
    },
    {
     "name": "stdout",
     "output_type": "stream",
     "text": [
      "       site\n",
      "0  00000000\n",
      "0  12305000\n",
      "0  12322000\n",
      "0  13092747\n",
      "0  13150430\n",
      "0  13154500\n",
      "13159800\n",
      "13161930\n",
      "13162050\n",
      "13164600\n",
      "13168500\n",
      "13169400\n",
      "13169420\n",
      "13169800\n",
      "13172500\n",
      "13176195\n",
      "13176305\n",
      "13176400\n"
     ]
    },
    {
     "name": "stderr",
     "output_type": "stream",
     "text": [
      "/var/folders/_4/klhstfsn73nfrxlfr8_r9dhc0000gn/T/ipykernel_14417/4257024704.py:10: FutureWarning: Series.__getitem__ treating keys as positions is deprecated. In a future version, integer keys will always be treated as labels (consistent with DataFrame behavior). To access a value by position, use `ser.iloc[pos]`\n",
      "  st_avil_site = pd.DataFrame(  {'site': [ df_202406['site_no'][0] ]}  )\n"
     ]
    },
    {
     "name": "stdout",
     "output_type": "stream",
     "text": [
      "       site\n",
      "0  00000000\n",
      "0  12305000\n",
      "0  12322000\n",
      "0  13092747\n",
      "0  13150430\n",
      "0  13154500\n",
      "0  13176400\n",
      "13177845\n",
      "13185000\n",
      "13186000\n",
      "13190500\n"
     ]
    },
    {
     "name": "stderr",
     "output_type": "stream",
     "text": [
      "/var/folders/_4/klhstfsn73nfrxlfr8_r9dhc0000gn/T/ipykernel_14417/4257024704.py:10: FutureWarning: Series.__getitem__ treating keys as positions is deprecated. In a future version, integer keys will always be treated as labels (consistent with DataFrame behavior). To access a value by position, use `ser.iloc[pos]`\n",
      "  st_avil_site = pd.DataFrame(  {'site': [ df_202406['site_no'][0] ]}  )\n"
     ]
    },
    {
     "name": "stdout",
     "output_type": "stream",
     "text": [
      "       site\n",
      "0  00000000\n",
      "0  12305000\n",
      "0  12322000\n",
      "0  13092747\n",
      "0  13150430\n",
      "0  13154500\n",
      "0  13176400\n",
      "0  13190500\n",
      "13192200\n"
     ]
    },
    {
     "name": "stderr",
     "output_type": "stream",
     "text": [
      "/var/folders/_4/klhstfsn73nfrxlfr8_r9dhc0000gn/T/ipykernel_14417/4257024704.py:10: FutureWarning: Series.__getitem__ treating keys as positions is deprecated. In a future version, integer keys will always be treated as labels (consistent with DataFrame behavior). To access a value by position, use `ser.iloc[pos]`\n",
      "  st_avil_site = pd.DataFrame(  {'site': [ df_202406['site_no'][0] ]}  )\n"
     ]
    },
    {
     "name": "stdout",
     "output_type": "stream",
     "text": [
      "       site\n",
      "0  00000000\n",
      "0  12305000\n",
      "0  12322000\n",
      "0  13092747\n",
      "0  13150430\n",
      "0  13154500\n",
      "0  13176400\n",
      "0  13190500\n",
      "0  13192200\n",
      "13200000\n",
      "13206000\n",
      "13206305\n",
      "13210045\n",
      "13210810\n",
      "13210824\n",
      "13210831\n",
      "13210980\n",
      "13210986\n",
      "132109867\n",
      "13211205\n"
     ]
    },
    {
     "name": "stderr",
     "output_type": "stream",
     "text": [
      "/var/folders/_4/klhstfsn73nfrxlfr8_r9dhc0000gn/T/ipykernel_14417/4257024704.py:10: FutureWarning: Series.__getitem__ treating keys as positions is deprecated. In a future version, integer keys will always be treated as labels (consistent with DataFrame behavior). To access a value by position, use `ser.iloc[pos]`\n",
      "  st_avil_site = pd.DataFrame(  {'site': [ df_202406['site_no'][0] ]}  )\n"
     ]
    },
    {
     "name": "stdout",
     "output_type": "stream",
     "text": [
      "       site\n",
      "0  00000000\n",
      "0  12305000\n",
      "0  12322000\n",
      "0  13092747\n",
      "0  13150430\n",
      "0  13154500\n",
      "0  13176400\n",
      "0  13190500\n",
      "0  13192200\n",
      "0  13211205\n",
      "13212549\n",
      "13212890\n",
      "13213000\n"
     ]
    },
    {
     "name": "stderr",
     "output_type": "stream",
     "text": [
      "/var/folders/_4/klhstfsn73nfrxlfr8_r9dhc0000gn/T/ipykernel_14417/4257024704.py:10: FutureWarning: Series.__getitem__ treating keys as positions is deprecated. In a future version, integer keys will always be treated as labels (consistent with DataFrame behavior). To access a value by position, use `ser.iloc[pos]`\n",
      "  st_avil_site = pd.DataFrame(  {'site': [ df_202406['site_no'][0] ]}  )\n"
     ]
    },
    {
     "name": "stdout",
     "output_type": "stream",
     "text": [
      "       site\n",
      "0  00000000\n",
      "0  12305000\n",
      "0  12322000\n",
      "0  13092747\n",
      "0  13150430\n",
      "0  13154500\n",
      "0  13176400\n",
      "0  13190500\n",
      "0  13192200\n",
      "0  13211205\n",
      "0  13213000\n",
      "13213072\n",
      "13213100\n",
      "13235000\n",
      "13236500\n",
      "13237920\n",
      "13239000\n",
      "13240000\n",
      "13246000\n",
      "13247500\n",
      "13249500\n",
      "13250000\n",
      "13251000\n",
      "13258500\n",
      "13265500\n",
      "13266000\n",
      "13269000\n",
      "13295000\n",
      "13296000\n"
     ]
    },
    {
     "name": "stderr",
     "output_type": "stream",
     "text": [
      "/var/folders/_4/klhstfsn73nfrxlfr8_r9dhc0000gn/T/ipykernel_14417/4257024704.py:10: FutureWarning: Series.__getitem__ treating keys as positions is deprecated. In a future version, integer keys will always be treated as labels (consistent with DataFrame behavior). To access a value by position, use `ser.iloc[pos]`\n",
      "  st_avil_site = pd.DataFrame(  {'site': [ df_202406['site_no'][0] ]}  )\n"
     ]
    },
    {
     "name": "stdout",
     "output_type": "stream",
     "text": [
      "       site\n",
      "0  00000000\n",
      "0  12305000\n",
      "0  12322000\n",
      "0  13092747\n",
      "0  13150430\n",
      "0  13154500\n",
      "0  13176400\n",
      "0  13190500\n",
      "0  13192200\n",
      "0  13211205\n",
      "0  13213000\n",
      "0  13296000\n",
      "13296500\n",
      "13297330\n",
      "13297350\n",
      "13297355\n",
      "13297380\n",
      "13302005\n",
      "13302500\n",
      "13304050\n"
     ]
    },
    {
     "name": "stderr",
     "output_type": "stream",
     "text": [
      "/var/folders/_4/klhstfsn73nfrxlfr8_r9dhc0000gn/T/ipykernel_14417/4257024704.py:10: FutureWarning: Series.__getitem__ treating keys as positions is deprecated. In a future version, integer keys will always be treated as labels (consistent with DataFrame behavior). To access a value by position, use `ser.iloc[pos]`\n",
      "  st_avil_site = pd.DataFrame(  {'site': [ df_202406['site_no'][0] ]}  )\n"
     ]
    },
    {
     "name": "stdout",
     "output_type": "stream",
     "text": [
      "       site\n",
      "0  00000000\n",
      "0  12305000\n",
      "0  12322000\n",
      "0  13092747\n",
      "0  13150430\n",
      "0  13154500\n",
      "0  13176400\n",
      "0  13190500\n",
      "0  13192200\n",
      "0  13211205\n",
      "0  13213000\n",
      "0  13296000\n",
      "0  13304050\n",
      "13304700\n",
      "13305000\n",
      "13305310\n",
      "13306370\n",
      "13306385\n",
      "13307000\n"
     ]
    },
    {
     "name": "stderr",
     "output_type": "stream",
     "text": [
      "/var/folders/_4/klhstfsn73nfrxlfr8_r9dhc0000gn/T/ipykernel_14417/4257024704.py:10: FutureWarning: Series.__getitem__ treating keys as positions is deprecated. In a future version, integer keys will always be treated as labels (consistent with DataFrame behavior). To access a value by position, use `ser.iloc[pos]`\n",
      "  st_avil_site = pd.DataFrame(  {'site': [ df_202406['site_no'][0] ]}  )\n"
     ]
    },
    {
     "name": "stdout",
     "output_type": "stream",
     "text": [
      "       site\n",
      "0  00000000\n",
      "0  12305000\n",
      "0  12322000\n",
      "0  13092747\n",
      "0  13150430\n",
      "0  13154500\n",
      "0  13176400\n",
      "0  13190500\n",
      "0  13192200\n",
      "0  13211205\n",
      "0  13213000\n",
      "0  13296000\n",
      "0  13304050\n",
      "0  13307000\n",
      "13309220\n",
      "13310199\n",
      "13310700\n",
      "13310800\n"
     ]
    },
    {
     "name": "stderr",
     "output_type": "stream",
     "text": [
      "/var/folders/_4/klhstfsn73nfrxlfr8_r9dhc0000gn/T/ipykernel_14417/4257024704.py:10: FutureWarning: Series.__getitem__ treating keys as positions is deprecated. In a future version, integer keys will always be treated as labels (consistent with DataFrame behavior). To access a value by position, use `ser.iloc[pos]`\n",
      "  st_avil_site = pd.DataFrame(  {'site': [ df_202406['site_no'][0] ]}  )\n"
     ]
    },
    {
     "name": "stdout",
     "output_type": "stream",
     "text": [
      "       site\n",
      "0  00000000\n",
      "0  12305000\n",
      "0  12322000\n",
      "0  13092747\n",
      "0  13150430\n",
      "0  13154500\n",
      "0  13176400\n",
      "0  13190500\n",
      "0  13192200\n",
      "0  13211205\n",
      "0  13213000\n",
      "0  13296000\n",
      "0  13304050\n",
      "0  13307000\n",
      "0  13310800\n",
      "13310850\n"
     ]
    },
    {
     "name": "stderr",
     "output_type": "stream",
     "text": [
      "/var/folders/_4/klhstfsn73nfrxlfr8_r9dhc0000gn/T/ipykernel_14417/4257024704.py:10: FutureWarning: Series.__getitem__ treating keys as positions is deprecated. In a future version, integer keys will always be treated as labels (consistent with DataFrame behavior). To access a value by position, use `ser.iloc[pos]`\n",
      "  st_avil_site = pd.DataFrame(  {'site': [ df_202406['site_no'][0] ]}  )\n"
     ]
    },
    {
     "name": "stdout",
     "output_type": "stream",
     "text": [
      "       site\n",
      "0  00000000\n",
      "0  12305000\n",
      "0  12322000\n",
      "0  13092747\n",
      "0  13150430\n",
      "0  13154500\n",
      "0  13176400\n",
      "0  13190500\n",
      "0  13192200\n",
      "0  13211205\n",
      "0  13213000\n",
      "0  13296000\n",
      "0  13304050\n",
      "0  13307000\n",
      "0  13310800\n",
      "0  13310850\n",
      "13311000\n"
     ]
    },
    {
     "name": "stderr",
     "output_type": "stream",
     "text": [
      "/var/folders/_4/klhstfsn73nfrxlfr8_r9dhc0000gn/T/ipykernel_14417/4257024704.py:10: FutureWarning: Series.__getitem__ treating keys as positions is deprecated. In a future version, integer keys will always be treated as labels (consistent with DataFrame behavior). To access a value by position, use `ser.iloc[pos]`\n",
      "  st_avil_site = pd.DataFrame(  {'site': [ df_202406['site_no'][0] ]}  )\n"
     ]
    },
    {
     "name": "stdout",
     "output_type": "stream",
     "text": [
      "       site\n",
      "0  00000000\n",
      "0  12305000\n",
      "0  12322000\n",
      "0  13092747\n",
      "0  13150430\n",
      "0  13154500\n",
      "0  13176400\n",
      "0  13190500\n",
      "0  13192200\n",
      "0  13211205\n",
      "0  13213000\n",
      "0  13296000\n",
      "0  13304050\n",
      "0  13307000\n",
      "0  13310800\n",
      "0  13310850\n",
      "0  13311000\n",
      "13311250\n"
     ]
    },
    {
     "name": "stderr",
     "output_type": "stream",
     "text": [
      "/var/folders/_4/klhstfsn73nfrxlfr8_r9dhc0000gn/T/ipykernel_14417/4257024704.py:10: FutureWarning: Series.__getitem__ treating keys as positions is deprecated. In a future version, integer keys will always be treated as labels (consistent with DataFrame behavior). To access a value by position, use `ser.iloc[pos]`\n",
      "  st_avil_site = pd.DataFrame(  {'site': [ df_202406['site_no'][0] ]}  )\n"
     ]
    },
    {
     "name": "stdout",
     "output_type": "stream",
     "text": [
      "       site\n",
      "0  00000000\n",
      "0  12305000\n",
      "0  12322000\n",
      "0  13092747\n",
      "0  13150430\n",
      "0  13154500\n",
      "0  13176400\n",
      "0  13190500\n",
      "0  13192200\n",
      "0  13211205\n",
      "0  13213000\n",
      "0  13296000\n",
      "0  13304050\n",
      "0  13307000\n",
      "0  13310800\n",
      "0  13310850\n",
      "0  13311000\n",
      "0  13311250\n",
      "13311450\n"
     ]
    },
    {
     "name": "stderr",
     "output_type": "stream",
     "text": [
      "/var/folders/_4/klhstfsn73nfrxlfr8_r9dhc0000gn/T/ipykernel_14417/4257024704.py:10: FutureWarning: Series.__getitem__ treating keys as positions is deprecated. In a future version, integer keys will always be treated as labels (consistent with DataFrame behavior). To access a value by position, use `ser.iloc[pos]`\n",
      "  st_avil_site = pd.DataFrame(  {'site': [ df_202406['site_no'][0] ]}  )\n"
     ]
    },
    {
     "name": "stdout",
     "output_type": "stream",
     "text": [
      "       site\n",
      "0  00000000\n",
      "0  12305000\n",
      "0  12322000\n",
      "0  13092747\n",
      "0  13150430\n",
      "0  13154500\n",
      "0  13176400\n",
      "0  13190500\n",
      "0  13192200\n",
      "0  13211205\n",
      "0  13213000\n",
      "0  13296000\n",
      "0  13304050\n",
      "0  13307000\n",
      "0  13310800\n",
      "0  13310850\n",
      "0  13311000\n",
      "0  13311250\n",
      "0  13311450\n",
      "13313000\n",
      "13316500\n",
      "13317000\n",
      "13317660\n"
     ]
    },
    {
     "name": "stderr",
     "output_type": "stream",
     "text": [
      "/var/folders/_4/klhstfsn73nfrxlfr8_r9dhc0000gn/T/ipykernel_14417/4257024704.py:10: FutureWarning: Series.__getitem__ treating keys as positions is deprecated. In a future version, integer keys will always be treated as labels (consistent with DataFrame behavior). To access a value by position, use `ser.iloc[pos]`\n",
      "  st_avil_site = pd.DataFrame(  {'site': [ df_202406['site_no'][0] ]}  )\n"
     ]
    },
    {
     "name": "stdout",
     "output_type": "stream",
     "text": [
      "       site\n",
      "0  00000000\n",
      "0  12305000\n",
      "0  12322000\n",
      "0  13092747\n",
      "0  13150430\n",
      "0  13154500\n",
      "0  13176400\n",
      "0  13190500\n",
      "0  13192200\n",
      "0  13211205\n",
      "0  13213000\n",
      "0  13296000\n",
      "0  13304050\n",
      "0  13307000\n",
      "0  13310800\n",
      "0  13310850\n",
      "0  13311000\n",
      "0  13311250\n",
      "0  13311450\n",
      "0  13317660\n",
      "13336500\n",
      "13337000\n",
      "13337095\n"
     ]
    },
    {
     "name": "stderr",
     "output_type": "stream",
     "text": [
      "/var/folders/_4/klhstfsn73nfrxlfr8_r9dhc0000gn/T/ipykernel_14417/4257024704.py:10: FutureWarning: Series.__getitem__ treating keys as positions is deprecated. In a future version, integer keys will always be treated as labels (consistent with DataFrame behavior). To access a value by position, use `ser.iloc[pos]`\n",
      "  st_avil_site = pd.DataFrame(  {'site': [ df_202406['site_no'][0] ]}  )\n"
     ]
    },
    {
     "name": "stdout",
     "output_type": "stream",
     "text": [
      "       site\n",
      "0  00000000\n",
      "0  12305000\n",
      "0  12322000\n",
      "0  13092747\n",
      "0  13150430\n",
      "0  13154500\n",
      "0  13176400\n",
      "0  13190500\n",
      "0  13192200\n",
      "0  13211205\n",
      "0  13213000\n",
      "0  13296000\n",
      "0  13304050\n",
      "0  13307000\n",
      "0  13310800\n",
      "0  13310850\n",
      "0  13311000\n",
      "0  13311250\n",
      "0  13311450\n",
      "0  13317660\n",
      "0  13337095\n",
      "13337500\n",
      "13338500\n",
      "13338950\n",
      "13339500\n",
      "13340000\n"
     ]
    },
    {
     "name": "stderr",
     "output_type": "stream",
     "text": [
      "/var/folders/_4/klhstfsn73nfrxlfr8_r9dhc0000gn/T/ipykernel_14417/4257024704.py:10: FutureWarning: Series.__getitem__ treating keys as positions is deprecated. In a future version, integer keys will always be treated as labels (consistent with DataFrame behavior). To access a value by position, use `ser.iloc[pos]`\n",
      "  st_avil_site = pd.DataFrame(  {'site': [ df_202406['site_no'][0] ]}  )\n"
     ]
    },
    {
     "name": "stdout",
     "output_type": "stream",
     "text": [
      "       site\n",
      "0  00000000\n",
      "0  12305000\n",
      "0  12322000\n",
      "0  13092747\n",
      "0  13150430\n",
      "0  13154500\n",
      "0  13176400\n",
      "0  13190500\n",
      "0  13192200\n",
      "0  13211205\n",
      "0  13213000\n",
      "0  13296000\n",
      "0  13304050\n",
      "0  13307000\n",
      "0  13310800\n",
      "0  13310850\n",
      "0  13311000\n",
      "0  13311250\n",
      "0  13311450\n",
      "0  13317660\n",
      "0  13337095\n",
      "0  13340000\n",
      "13340600\n"
     ]
    },
    {
     "name": "stderr",
     "output_type": "stream",
     "text": [
      "/var/folders/_4/klhstfsn73nfrxlfr8_r9dhc0000gn/T/ipykernel_14417/4257024704.py:10: FutureWarning: Series.__getitem__ treating keys as positions is deprecated. In a future version, integer keys will always be treated as labels (consistent with DataFrame behavior). To access a value by position, use `ser.iloc[pos]`\n",
      "  st_avil_site = pd.DataFrame(  {'site': [ df_202406['site_no'][0] ]}  )\n"
     ]
    },
    {
     "name": "stdout",
     "output_type": "stream",
     "text": [
      "       site\n",
      "0  00000000\n",
      "0  12305000\n",
      "0  12322000\n",
      "0  13092747\n",
      "0  13150430\n",
      "0  13154500\n",
      "0  13176400\n",
      "0  13190500\n",
      "0  13192200\n",
      "0  13211205\n",
      "0  13213000\n",
      "0  13296000\n",
      "0  13304050\n",
      "0  13307000\n",
      "0  13310800\n",
      "0  13310850\n",
      "0  13311000\n",
      "0  13311250\n",
      "0  13311450\n",
      "0  13317660\n",
      "0  13337095\n",
      "0  13340000\n",
      "0  13340600\n",
      "13341050\n"
     ]
    },
    {
     "name": "stderr",
     "output_type": "stream",
     "text": [
      "/var/folders/_4/klhstfsn73nfrxlfr8_r9dhc0000gn/T/ipykernel_14417/4257024704.py:10: FutureWarning: Series.__getitem__ treating keys as positions is deprecated. In a future version, integer keys will always be treated as labels (consistent with DataFrame behavior). To access a value by position, use `ser.iloc[pos]`\n",
      "  st_avil_site = pd.DataFrame(  {'site': [ df_202406['site_no'][0] ]}  )\n"
     ]
    },
    {
     "name": "stdout",
     "output_type": "stream",
     "text": [
      "       site\n",
      "0  00000000\n",
      "0  12305000\n",
      "0  12322000\n",
      "0  13092747\n",
      "0  13150430\n",
      "0  13154500\n",
      "0  13176400\n",
      "0  13190500\n",
      "0  13192200\n",
      "0  13211205\n",
      "0  13213000\n",
      "0  13296000\n",
      "0  13304050\n",
      "0  13307000\n",
      "0  13310800\n",
      "0  13310850\n",
      "0  13311000\n",
      "0  13311250\n",
      "0  13311450\n",
      "0  13317660\n",
      "0  13337095\n",
      "0  13340000\n",
      "0  13340600\n",
      "0  13341050\n",
      "13341140\n",
      "13341570\n",
      "13342450\n",
      "13342500\n"
     ]
    },
    {
     "name": "stderr",
     "output_type": "stream",
     "text": [
      "/var/folders/_4/klhstfsn73nfrxlfr8_r9dhc0000gn/T/ipykernel_14417/4257024704.py:10: FutureWarning: Series.__getitem__ treating keys as positions is deprecated. In a future version, integer keys will always be treated as labels (consistent with DataFrame behavior). To access a value by position, use `ser.iloc[pos]`\n",
      "  st_avil_site = pd.DataFrame(  {'site': [ df_202406['site_no'][0] ]}  )\n"
     ]
    },
    {
     "name": "stdout",
     "output_type": "stream",
     "text": [
      "       site\n",
      "0  00000000\n",
      "0  12305000\n",
      "0  12322000\n",
      "0  13092747\n",
      "0  13150430\n",
      "0  13154500\n",
      "0  13176400\n",
      "0  13190500\n",
      "0  13192200\n",
      "0  13211205\n",
      "0  13213000\n",
      "0  13296000\n",
      "0  13304050\n",
      "0  13307000\n",
      "0  13310800\n",
      "0  13310850\n",
      "0  13311000\n",
      "0  13311250\n",
      "0  13311450\n",
      "0  13317660\n",
      "0  13337095\n",
      "0  13340000\n",
      "0  13340600\n",
      "0  13341050\n",
      "0  13342500\n",
      "13345000\n",
      "13346800\n"
     ]
    }
   ],
   "source": [
    "st_avil_sites = pd.DataFrame(  {'site': ['00000000']}  )\n",
    "print(st_avil_sites)\n",
    "\n",
    "for site in q_avil_sites['site']:\n",
    "    print(site)\n",
    "    #df_202406 = nwis.get_record(sites=site, service='dv', start='2024-06-01', end='2024-06-02', parameterCd = \"00010\")\n",
    "    df_202406 = nwis.get_dv(sites=site , start='2024-06-01', end='2024-06-02', parameterCd = \"00010\")\n",
    "    df_202406=df_202406[0]\n",
    "    if df_202406.shape[0]>0:\n",
    "        st_avil_site = pd.DataFrame(  {'site': [ df_202406['site_no'][0] ]}  )\n",
    "        st_avil_sites = pd.concat( [ st_avil_sites, st_avil_site    ]   )\n",
    "        print( st_avil_sites)"
   ]
  },
  {
   "cell_type": "code",
   "execution_count": 19,
   "id": "e718f532-4966-4d38-8e0e-70886b497d87",
   "metadata": {},
   "outputs": [
    {
     "name": "stdout",
     "output_type": "stream",
     "text": [
      "        site\n",
      "0   12305000\n",
      "1   12322000\n",
      "2   13092747\n",
      "3   13150430\n",
      "4   13154500\n",
      "5   13176400\n",
      "6   13190500\n",
      "7   13192200\n",
      "8   13211205\n",
      "9   13213000\n",
      "10  13296000\n",
      "11  13304050\n",
      "12  13307000\n",
      "13  13310800\n",
      "14  13310850\n",
      "15  13311000\n",
      "16  13311250\n",
      "17  13311450\n",
      "18  13317660\n",
      "19  13337095\n",
      "20  13340000\n",
      "21  13340600\n",
      "22  13341050\n",
      "23  13342500\n"
     ]
    }
   ],
   "source": [
    "st_q_avil_sites = st_avil_sites[ st_avil_sites['site'].isin(q_avil_sites['site']) ]\n",
    "st_q_avil_sites = st_q_avil_sites.iloc[1:].reset_index(drop=True)\n",
    "print(st_q_avil_sites)"
   ]
  },
  {
   "cell_type": "code",
   "execution_count": 20,
   "id": "9520a96e-edaa-4087-b401-b293b9098525",
   "metadata": {},
   "outputs": [],
   "source": [
    "st_q_avil_sites.to_csv(\"ID_00010_00060.csv\")"
   ]
  },
  {
   "cell_type": "code",
   "execution_count": 21,
   "id": "649904ad-b504-48f0-8232-edca8e2fdb1d",
   "metadata": {},
   "outputs": [
    {
     "name": "stdout",
     "output_type": "stream",
     "text": [
      "   agency_cd   site_no                                         station_nm  \\\n",
      "0       USGS  12305000                       KOOTENAI RIVER AT LEONIA, ID   \n",
      "1       USGS  12322000                      KOOTENAI RIVER AT PORTHILL ID   \n",
      "2       USGS  13092747      ROCK CREEK AB HWY 30/93 XING AT TWIN FALLS ID   \n",
      "3       USGS  13150430      SILVER CREEK AT SPORTSMAN ACCESS NR PICABO ID   \n",
      "4       USGS  13154500                        SNAKE RIVER AT KING HILL ID   \n",
      "5       USGS  13176400           EF OWYHEE RIVER AT CRUTCHER CROSSING, ID   \n",
      "6       USGS  13190500            SF BOISE RIVER AT ANDERSON RANCH DAM ID   \n",
      "7       USGS  13192200  SF BOISE RIVER AT NEAL BRIDGE NR ARROWROCK DAM ID   \n",
      "8       USGS  13211205                        BOISE RIVER AT CALDWELL, ID   \n",
      "9       USGS  13213000                            BOISE RIVER NR PARMA ID   \n",
      "10      USGS  13296000             YANKEE FORK SALMON RIVER NR CLAYTON ID   \n",
      "11      USGS  13304050           Big Timber Creek Abv Mouth at Leadore ID   \n",
      "12      USGS  13307000                           SALMON RIVER NR SHOUP ID   \n",
      "13      USGS  13310800       EFSF SALMON R ABV MEADOW CRK NR STIBNITE, ID   \n",
      "14      USGS  13310850                       MEADOW CREEK NR STIBNITE, ID   \n",
      "15      USGS  13311000              EF OF SF SALMON RIVER AT STIBNITE, ID   \n",
      "16      USGS  13311250        EFSF SALMON R ABV SUGAR CRK NR STIBNITE, ID   \n",
      "17      USGS  13311450                        SUGAR CREEK NR STIBNITE, ID   \n",
      "18      USGS  13317660    SNAKE RIVER AT McDUFF RAPIDS AT CHINA GARDEN ID   \n",
      "19      USGS  13337095                 UPPER CLEAR CREEK NEAR KOOSKIA, ID   \n",
      "20      USGS  13340000                     CLEARWATER RIVER AT OROFINO ID   \n",
      "21      USGS  13340600    NF CLEARWATER RIVER NR CANYON RANGER STATION ID   \n",
      "22      USGS  13341050                        CLEARWATER RIVER NR PECK ID   \n",
      "23      USGS  13342500                    CLEARWATER RIVER AT SPALDING ID   \n",
      "\n",
      "   site_tp_cd     lat_va     long_va  dec_lat_va  dec_long_va coord_meth_cd  \\\n",
      "0          ST  483700.78  1160257.10   48.616883  -116.049194             N   \n",
      "1          ST  485947.00  1163027.00   48.996389  -116.507500             G   \n",
      "2          ST  423345.00  1142941.00   42.562500  -114.494722             M   \n",
      "3          ST  431924.10  1140630.06   43.323361  -114.108350             N   \n",
      "4          ST  430008.00  1151209.00   43.002222  -115.202500             G   \n",
      "5          ST  421540.93  1165206.39   42.261369  -116.868442             N   \n",
      "6          ST  432037.00  1152839.00   43.343611  -115.477500             G   \n",
      "7          ST  433302.00  1154319.00   43.550556  -115.721944             G   \n",
      "8          ST  434038.47  1164204.07   43.677353  -116.701131             D   \n",
      "9          ST  434654.00  1165822.00   43.781667  -116.972778             G   \n",
      "10         ST  441632.00  1144404.00   44.278889  -114.733889             N   \n",
      "11         ST  444119.65  1132213.46   44.688792  -113.370406             N   \n",
      "12         ST  451921.00  1142624.00   45.322500  -114.440000             N   \n",
      "13         ST  445408.10  1151932.40   44.902250  -115.325667             G   \n",
      "14         ST  445322.30  1152136.80   44.889528  -115.360222             G   \n",
      "15         ST  445420.60  1151946.20   44.905722  -115.329500             N   \n",
      "16         ST  445605.20  1152012.10   44.934778  -115.336694             G   \n",
      "17         ST  445610.90  1152014.00   44.936361  -115.337222             G   \n",
      "18         ST  460011.00  1165501.00   46.003056  -116.916944             M   \n",
      "19         ST  460249.33  1155158.18   46.047036  -115.866161             N   \n",
      "20         ST  462842.00  1161527.00   46.478333  -116.257500             G   \n",
      "21         ST  465026.00  1153716.00   46.840556  -115.621111             G   \n",
      "22         ST  463001.00  1162333.00   46.500278  -116.392500             G   \n",
      "23         ST  462654.00  1164939.00   46.448333  -116.827500             N   \n",
      "\n",
      "   coord_acy_cd  ... local_time_fg reliability_cd  gw_file_cd  nat_aqfr_cd  \\\n",
      "0             1  ...             Y              C    NNNNNNNN          NaN   \n",
      "1             S  ...             Y            NaN    NNNNNNNN          NaN   \n",
      "2             S  ...             Y            NaN    NNNNNNNN          NaN   \n",
      "3             S  ...             Y              C    NNNNNNNN          NaN   \n",
      "4             S  ...             Y            NaN    NNNNNNNN          NaN   \n",
      "5             1  ...             Y            NaN    NNNNNNNN          NaN   \n",
      "6             S  ...             Y            NaN    NNNNNNNN          NaN   \n",
      "7             S  ...             Y            NaN    NNNNNNNN          NaN   \n",
      "8             1  ...             Y              C         NaN          NaN   \n",
      "9             S  ...             Y            NaN    NNNNNNNN          NaN   \n",
      "10            1  ...             Y            NaN    NNNNNNNN          NaN   \n",
      "11            S  ...             Y              C         NaN          NaN   \n",
      "12            S  ...             Y              C    NNNNNNNN          NaN   \n",
      "13            5  ...             Y            NaN         NaN          NaN   \n",
      "14            5  ...             Y            NaN         NaN          NaN   \n",
      "15            5  ...             Y            NaN    NNNNNNNN          NaN   \n",
      "16            5  ...             Y            NaN         NaN          NaN   \n",
      "17            5  ...             Y            NaN         NaN          NaN   \n",
      "18            1  ...             Y            NaN         NaN          NaN   \n",
      "19            1  ...             Y            NaN         NaN          NaN   \n",
      "20            S  ...             Y              C    NNNNNNNN          NaN   \n",
      "21            S  ...             Y              C    NNNNNNNN          NaN   \n",
      "22            S  ...             Y              C    NNNNNNNN          NaN   \n",
      "23            S  ...             Y              C    NNNNNNNN          NaN   \n",
      "\n",
      "    aqfr_cd aqfr_type_cd well_depth_va hole_depth_va  depth_src_cd  project_no  \n",
      "0       NaN          NaN           NaN           NaN           NaN         NaN  \n",
      "1       NaN          NaN           NaN           NaN           NaN         NaN  \n",
      "2       NaN          NaN           NaN           NaN           NaN         NaN  \n",
      "3       NaN          NaN           NaN           NaN           NaN         NaN  \n",
      "4       NaN          NaN           NaN           NaN           NaN         NaN  \n",
      "5       NaN          NaN           NaN           NaN           NaN         NaN  \n",
      "6       NaN          NaN           NaN           NaN           NaN         NaN  \n",
      "7       NaN          NaN           NaN           NaN           NaN         NaN  \n",
      "8       NaN          NaN           NaN           NaN           NaN         NaN  \n",
      "9       NaN          NaN           NaN           NaN           NaN         NaN  \n",
      "10      NaN          NaN           NaN           NaN           NaN         NaN  \n",
      "11      NaN          NaN           NaN           NaN           NaN         NaN  \n",
      "12      NaN          NaN           NaN           NaN           NaN         NaN  \n",
      "13      NaN          NaN           NaN           NaN           NaN         NaN  \n",
      "14      NaN          NaN           NaN           NaN           NaN         NaN  \n",
      "15      NaN          NaN           NaN           NaN           NaN         NaN  \n",
      "16      NaN          NaN           NaN           NaN           NaN         NaN  \n",
      "17      NaN          NaN           NaN           NaN           NaN         NaN  \n",
      "18      NaN          NaN           NaN           NaN           NaN         NaN  \n",
      "19      NaN          NaN           NaN           NaN           NaN         NaN  \n",
      "20      NaN          NaN           NaN           NaN           NaN         NaN  \n",
      "21      NaN          NaN           NaN           NaN           NaN         NaN  \n",
      "22      NaN          NaN           NaN           NaN           NaN         NaN  \n",
      "23      NaN          NaN           NaN           NaN           NaN         NaN  \n",
      "\n",
      "[24 rows x 42 columns]\n"
     ]
    },
    {
     "data": {
      "text/html": [
       "<div>\n",
       "<style scoped>\n",
       "    .dataframe tbody tr th:only-of-type {\n",
       "        vertical-align: middle;\n",
       "    }\n",
       "\n",
       "    .dataframe tbody tr th {\n",
       "        vertical-align: top;\n",
       "    }\n",
       "\n",
       "    .dataframe thead th {\n",
       "        text-align: right;\n",
       "    }\n",
       "</style>\n",
       "<table border=\"1\" class=\"dataframe\">\n",
       "  <thead>\n",
       "    <tr style=\"text-align: right;\">\n",
       "      <th></th>\n",
       "      <th>site_no</th>\n",
       "      <th>dec_lat_va</th>\n",
       "      <th>dec_long_va</th>\n",
       "    </tr>\n",
       "  </thead>\n",
       "  <tbody>\n",
       "    <tr>\n",
       "      <th>0</th>\n",
       "      <td>12305000</td>\n",
       "      <td>48.616883</td>\n",
       "      <td>-116.049194</td>\n",
       "    </tr>\n",
       "    <tr>\n",
       "      <th>1</th>\n",
       "      <td>12322000</td>\n",
       "      <td>48.996389</td>\n",
       "      <td>-116.507500</td>\n",
       "    </tr>\n",
       "    <tr>\n",
       "      <th>2</th>\n",
       "      <td>13092747</td>\n",
       "      <td>42.562500</td>\n",
       "      <td>-114.494722</td>\n",
       "    </tr>\n",
       "    <tr>\n",
       "      <th>3</th>\n",
       "      <td>13150430</td>\n",
       "      <td>43.323361</td>\n",
       "      <td>-114.108350</td>\n",
       "    </tr>\n",
       "    <tr>\n",
       "      <th>4</th>\n",
       "      <td>13154500</td>\n",
       "      <td>43.002222</td>\n",
       "      <td>-115.202500</td>\n",
       "    </tr>\n",
       "    <tr>\n",
       "      <th>5</th>\n",
       "      <td>13176400</td>\n",
       "      <td>42.261369</td>\n",
       "      <td>-116.868442</td>\n",
       "    </tr>\n",
       "    <tr>\n",
       "      <th>6</th>\n",
       "      <td>13190500</td>\n",
       "      <td>43.343611</td>\n",
       "      <td>-115.477500</td>\n",
       "    </tr>\n",
       "    <tr>\n",
       "      <th>7</th>\n",
       "      <td>13192200</td>\n",
       "      <td>43.550556</td>\n",
       "      <td>-115.721944</td>\n",
       "    </tr>\n",
       "    <tr>\n",
       "      <th>8</th>\n",
       "      <td>13211205</td>\n",
       "      <td>43.677353</td>\n",
       "      <td>-116.701131</td>\n",
       "    </tr>\n",
       "    <tr>\n",
       "      <th>9</th>\n",
       "      <td>13213000</td>\n",
       "      <td>43.781667</td>\n",
       "      <td>-116.972778</td>\n",
       "    </tr>\n",
       "    <tr>\n",
       "      <th>10</th>\n",
       "      <td>13296000</td>\n",
       "      <td>44.278889</td>\n",
       "      <td>-114.733889</td>\n",
       "    </tr>\n",
       "    <tr>\n",
       "      <th>11</th>\n",
       "      <td>13304050</td>\n",
       "      <td>44.688792</td>\n",
       "      <td>-113.370406</td>\n",
       "    </tr>\n",
       "    <tr>\n",
       "      <th>12</th>\n",
       "      <td>13307000</td>\n",
       "      <td>45.322500</td>\n",
       "      <td>-114.440000</td>\n",
       "    </tr>\n",
       "    <tr>\n",
       "      <th>13</th>\n",
       "      <td>13310800</td>\n",
       "      <td>44.902250</td>\n",
       "      <td>-115.325667</td>\n",
       "    </tr>\n",
       "    <tr>\n",
       "      <th>14</th>\n",
       "      <td>13310850</td>\n",
       "      <td>44.889528</td>\n",
       "      <td>-115.360222</td>\n",
       "    </tr>\n",
       "    <tr>\n",
       "      <th>15</th>\n",
       "      <td>13311000</td>\n",
       "      <td>44.905722</td>\n",
       "      <td>-115.329500</td>\n",
       "    </tr>\n",
       "    <tr>\n",
       "      <th>16</th>\n",
       "      <td>13311250</td>\n",
       "      <td>44.934778</td>\n",
       "      <td>-115.336694</td>\n",
       "    </tr>\n",
       "    <tr>\n",
       "      <th>17</th>\n",
       "      <td>13311450</td>\n",
       "      <td>44.936361</td>\n",
       "      <td>-115.337222</td>\n",
       "    </tr>\n",
       "    <tr>\n",
       "      <th>18</th>\n",
       "      <td>13317660</td>\n",
       "      <td>46.003056</td>\n",
       "      <td>-116.916944</td>\n",
       "    </tr>\n",
       "    <tr>\n",
       "      <th>19</th>\n",
       "      <td>13337095</td>\n",
       "      <td>46.047036</td>\n",
       "      <td>-115.866161</td>\n",
       "    </tr>\n",
       "    <tr>\n",
       "      <th>20</th>\n",
       "      <td>13340000</td>\n",
       "      <td>46.478333</td>\n",
       "      <td>-116.257500</td>\n",
       "    </tr>\n",
       "    <tr>\n",
       "      <th>21</th>\n",
       "      <td>13340600</td>\n",
       "      <td>46.840556</td>\n",
       "      <td>-115.621111</td>\n",
       "    </tr>\n",
       "    <tr>\n",
       "      <th>22</th>\n",
       "      <td>13341050</td>\n",
       "      <td>46.500278</td>\n",
       "      <td>-116.392500</td>\n",
       "    </tr>\n",
       "    <tr>\n",
       "      <th>23</th>\n",
       "      <td>13342500</td>\n",
       "      <td>46.448333</td>\n",
       "      <td>-116.827500</td>\n",
       "    </tr>\n",
       "  </tbody>\n",
       "</table>\n",
       "</div>"
      ],
      "text/plain": [
       "     site_no  dec_lat_va  dec_long_va\n",
       "0   12305000   48.616883  -116.049194\n",
       "1   12322000   48.996389  -116.507500\n",
       "2   13092747   42.562500  -114.494722\n",
       "3   13150430   43.323361  -114.108350\n",
       "4   13154500   43.002222  -115.202500\n",
       "5   13176400   42.261369  -116.868442\n",
       "6   13190500   43.343611  -115.477500\n",
       "7   13192200   43.550556  -115.721944\n",
       "8   13211205   43.677353  -116.701131\n",
       "9   13213000   43.781667  -116.972778\n",
       "10  13296000   44.278889  -114.733889\n",
       "11  13304050   44.688792  -113.370406\n",
       "12  13307000   45.322500  -114.440000\n",
       "13  13310800   44.902250  -115.325667\n",
       "14  13310850   44.889528  -115.360222\n",
       "15  13311000   44.905722  -115.329500\n",
       "16  13311250   44.934778  -115.336694\n",
       "17  13311450   44.936361  -115.337222\n",
       "18  13317660   46.003056  -116.916944\n",
       "19  13337095   46.047036  -115.866161\n",
       "20  13340000   46.478333  -116.257500\n",
       "21  13340600   46.840556  -115.621111\n",
       "22  13341050   46.500278  -116.392500\n",
       "23  13342500   46.448333  -116.827500"
      ]
     },
     "execution_count": 21,
     "metadata": {},
     "output_type": "execute_result"
    }
   ],
   "source": [
    "site_info = nwis.get_info(sites=  st_q_avil_sites['site'] )\n",
    "\n",
    "site_info_df = pd.DataFrame( site_info[0] )\n",
    "\n",
    "print( site_info_df )\n",
    "\n",
    "#print( site_info_df.columns )\n",
    "\n",
    "site_info_df[\"site_no\"]=site_info_df[\"site_no\"].astype(str)\n",
    "\n",
    "columns_to_save = ['site_no', 'dec_lat_va', 'dec_long_va']\n",
    "\n",
    "filtered_df = site_info_df[columns_to_save]\n",
    "\n",
    "filtered_df"
   ]
  },
  {
   "cell_type": "code",
   "execution_count": 23,
   "id": "22695441-1b4e-4f99-befa-dd74a4bcf401",
   "metadata": {},
   "outputs": [
    {
     "name": "stdout",
     "output_type": "stream",
     "text": [
      "0     12305000\n",
      "1     12322000\n",
      "2     13092747\n",
      "3     13150430\n",
      "4     13154500\n",
      "5     13176400\n",
      "6     13190500\n",
      "7     13192200\n",
      "8     13211205\n",
      "9     13213000\n",
      "10    13296000\n",
      "11    13304050\n",
      "12    13307000\n",
      "13    13310800\n",
      "14    13310850\n",
      "15    13311000\n",
      "16    13311250\n",
      "17    13311450\n",
      "18    13317660\n",
      "19    13337095\n",
      "20    13340000\n",
      "21    13340600\n",
      "22    13341050\n",
      "23    13342500\n",
      "Name: site_no, dtype: object\n",
      "<class 'pandas.core.series.Series'>\n",
      "0     48.616883\n",
      "1     48.996389\n",
      "2     42.562500\n",
      "3     43.323361\n",
      "4     43.002222\n",
      "5     42.261369\n",
      "6     43.343611\n",
      "7     43.550556\n",
      "8     43.677353\n",
      "9     43.781667\n",
      "10    44.278889\n",
      "11    44.688792\n",
      "12    45.322500\n",
      "13    44.902250\n",
      "14    44.889528\n",
      "15    44.905722\n",
      "16    44.934778\n",
      "17    44.936361\n",
      "18    46.003056\n",
      "19    46.047036\n",
      "20    46.478333\n",
      "21    46.840556\n",
      "22    46.500278\n",
      "23    46.448333\n",
      "Name: dec_lat_va, dtype: float64\n",
      "0    -116.049194\n",
      "1    -116.507500\n",
      "2    -114.494722\n",
      "3    -114.108350\n",
      "4    -115.202500\n",
      "5    -116.868442\n",
      "6    -115.477500\n",
      "7    -115.721944\n",
      "8    -116.701131\n",
      "9    -116.972778\n",
      "10   -114.733889\n",
      "11   -113.370406\n",
      "12   -114.440000\n",
      "13   -115.325667\n",
      "14   -115.360222\n",
      "15   -115.329500\n",
      "16   -115.336694\n",
      "17   -115.337222\n",
      "18   -116.916944\n",
      "19   -115.866161\n",
      "20   -116.257500\n",
      "21   -115.621111\n",
      "22   -116.392500\n",
      "23   -116.827500\n",
      "Name: dec_long_va, dtype: float64\n"
     ]
    }
   ],
   "source": [
    "print(filtered_df[ 'site_no' ])\n",
    "print( type(filtered_df[ 'site_no' ]) )\n",
    "\n",
    "print(filtered_df[ 'dec_lat_va'   ])\n",
    "print(filtered_df[ 'dec_long_va' ])"
   ]
  },
  {
   "cell_type": "code",
   "execution_count": 29,
   "id": "d3cbe13b-1f09-4404-bd2d-f58262a7d0bb",
   "metadata": {},
   "outputs": [
    {
     "name": "stdout",
     "output_type": "stream",
     "text": [
      "site_no_col_values\n",
      "12305000\",\"12322000\",\"13092747\",\"13150430\",\"13154500\",\"13176400\",\"13190500\",\"13192200\",\"13211205\",\"13213000\",\"13296000\",\"13304050\",\"13307000\",\"13310800\",\"13310850\",\"13311000\",\"13311250\",\"13311450\",\"13317660\",\"13337095\",\"13340000\",\"13340600\",\"13341050\",\"13342500\n",
      "dec_lat_va_col_values\n",
      "48.6168833,48.99638889,42.5625,43.3233611,43.0022222,42.26136944,43.3436111,43.55055556,43.67735278,43.78166667,44.27888889,44.68879167,45.3225,44.90225,44.88952778,44.9057222,44.93477778,44.9363611,46.00305556,46.0470361,46.4783333,46.84055556,46.50027778,46.4483333\n",
      "dec_long_va_col_values\n",
      "-116.0491944,-116.5075,-114.4947222,-114.10835,-115.2025,-116.8684417,-115.4775,-115.7219444,-116.7011306,-116.9727778,-114.7338889,-113.3704056,-114.44,-115.3256667,-115.3602222,-115.3295,-115.3366944,-115.3372222,-116.9169444,-115.866161,-116.2575,-115.621111,-116.3925,-116.8275\n"
     ]
    }
   ],
   "source": [
    "print(\"site_no_col_values\")\n",
    "site_no_col_values = '\",\"'.join( filtered_df[ 'site_no' ].astype(str).tolist()) \n",
    "print(site_no_col_values)\n",
    "print(\"dec_lat_va_col_values\")\n",
    "dec_lat_va_col_values = ','.join( filtered_df[ 'dec_lat_va' ].astype(str).tolist()) \n",
    "print(dec_lat_va_col_values)\n",
    "print(\"dec_long_va_col_values\")\n",
    "dec_long_va_col_values = ','.join( filtered_df[ 'dec_long_va' ].astype(str).tolist()) \n",
    "print(dec_long_va_col_values)"
   ]
  },
  {
   "cell_type": "code",
   "execution_count": null,
   "id": "b657b96e-4342-4a41-b57c-2642c619f84c",
   "metadata": {},
   "outputs": [],
   "source": []
  }
 ],
 "metadata": {
  "kernelspec": {
   "display_name": "Python 3 (ipykernel)",
   "language": "python",
   "name": "python3"
  },
  "language_info": {
   "codemirror_mode": {
    "name": "ipython",
    "version": 3
   },
   "file_extension": ".py",
   "mimetype": "text/x-python",
   "name": "python",
   "nbconvert_exporter": "python",
   "pygments_lexer": "ipython3",
   "version": "3.12.4"
  }
 },
 "nbformat": 4,
 "nbformat_minor": 5
}
