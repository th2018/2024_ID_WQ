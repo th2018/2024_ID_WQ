{
 "cells": [
  {
   "cell_type": "markdown",
   "id": "a422f10a-987d-442b-9fd7-8e342d72e498",
   "metadata": {},
   "source": [
    "https://github.com/simonpf/camels/tree/master"
   ]
  },
  {
   "cell_type": "code",
   "execution_count": 4,
   "id": "d370f4eb-f45b-4c86-bbc1-50eb949b1403",
   "metadata": {},
   "outputs": [],
   "source": [
    "#!pip install camels\n",
    "from camels.pytorch import Streamflow"
   ]
  },
  {
   "cell_type": "code",
   "execution_count": 5,
   "id": "62ce2711-d23a-4dda-abe7-5e642dff24ba",
   "metadata": {},
   "outputs": [],
   "source": [
    "gauge_id = 13331500\n",
    "\n",
    "training_data = Streamflow(gauge_id, \"training\")\n",
    "validation_data = Streamflow(gauge_id, \"validation\")\n",
    "test_data = Streamflow(gauge_id, \"testing\")"
   ]
  },
  {
   "cell_type": "code",
   "execution_count": 7,
   "id": "62fdf34b-bfad-42b4-97d2-a04da3092297",
   "metadata": {},
   "outputs": [
    {
     "name": "stdout",
     "output_type": "stream",
     "text": [
      "<class 'camels.pytorch.Streamflow'>\n"
     ]
    }
   ],
   "source": [
    "print(type(training_data))"
   ]
  }
 ],
 "metadata": {
  "kernelspec": {
   "display_name": "Python 3 (ipykernel)",
   "language": "python",
   "name": "python3"
  },
  "language_info": {
   "codemirror_mode": {
    "name": "ipython",
    "version": 3
   },
   "file_extension": ".py",
   "mimetype": "text/x-python",
   "name": "python",
   "nbconvert_exporter": "python",
   "pygments_lexer": "ipython3",
   "version": "3.12.4"
  }
 },
 "nbformat": 4,
 "nbformat_minor": 5
}
