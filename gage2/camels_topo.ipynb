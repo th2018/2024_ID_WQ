{
 "cells": [
  {
   "cell_type": "code",
   "execution_count": 1,
   "id": "23f39368-e8e5-4e38-9b9b-7e9b289eca68",
   "metadata": {},
   "outputs": [
    {
     "data": {
      "text/plain": [
       "'/Users/taohuang/Downloads/basin_set_full_res'"
      ]
     },
     "execution_count": 1,
     "metadata": {},
     "output_type": "execute_result"
    }
   ],
   "source": [
    "\"/Users/taohuang/Downloads/basin_set_full_res/HCDN_nhru_final_671.shp\""
   ]
  },
  {
   "cell_type": "code",
   "execution_count": 3,
   "id": "f2253ddc-2330-448c-abe4-d082d2c99b37",
   "metadata": {},
   "outputs": [],
   "source": [
    "siteNumber = [\"12305000\",\"06038800\", \"13340600\", \"14170000\"]"
   ]
  },
  {
   "cell_type": "code",
   "execution_count": 17,
   "id": "35641d3c-83ac-4de0-845f-8ac3646a94fe",
   "metadata": {},
   "outputs": [
    {
     "name": "stdout",
     "output_type": "stream",
     "text": [
      "   gauge_id  gauge_lat  gauge_lon  elev_mean  slope_mean  area_gages2  \\\n",
      "0   1013500   47.23739  -68.58264     250.31    21.64152      2252.70   \n",
      "1   1022500   44.60797  -67.93524      92.68    17.79072       573.60   \n",
      "2   1030500   45.50097  -68.30596     143.80    12.79195      3676.17   \n",
      "3   1031500   45.17501  -69.31470     247.80    29.56035       769.05   \n",
      "4   1047000   44.86920  -69.95510     310.38    49.92122       909.10   \n",
      "\n",
      "   area_geospa_fabric  \n",
      "0             2303.95  \n",
      "1              620.38  \n",
      "2             3676.09  \n",
      "3              766.53  \n",
      "4              904.94  \n",
      "gauge_id               object\n",
      "gauge_lat             float64\n",
      "gauge_lon             float64\n",
      "elev_mean             float64\n",
      "slope_mean            float64\n",
      "area_gages2           float64\n",
      "area_geospa_fabric    float64\n",
      "dtype: object\n"
     ]
    }
   ],
   "source": [
    "\n",
    "import pandas as pd\n",
    "\n",
    "# Path to the .txt file\n",
    "file_path = \"camels_topo.txt\"\n",
    "\n",
    "# Read the .txt file into a pandas DataFrame\n",
    "df = pd.read_csv(file_path\n",
    "                 , delimiter=\";\"\n",
    "                )\n",
    "# Assuming tab-delimited file\n",
    "\n",
    "# Display the first few rows of the DataFrame\n",
    "print(df.head())\n",
    "\n",
    "# Convert 'gauge_id' column to string (str) dtype\n",
    "df['gauge_id'] = df['gauge_id'].astype(str)\n",
    "\n",
    "print(df.dtypes)\n"
   ]
  },
  {
   "cell_type": "code",
   "execution_count": 18,
   "id": "670f4050-cc01-4505-ad1b-bad6f0ddbb60",
   "metadata": {},
   "outputs": [
    {
     "name": "stdout",
     "output_type": "stream",
     "text": [
      "     gauge_id  gauge_lat  gauge_lon  elev_mean  slope_mean  area_gages2  \\\n",
      "639  13340600   46.84047  -115.6207    1417.79   109.15233      3354.62   \n",
      "\n",
      "     area_geospa_fabric  \n",
      "639             3354.61  \n"
     ]
    }
   ],
   "source": [
    "# Filter the DataFrame where 'gauge_id' is in the list\n",
    "filtered_df = df[df['gauge_id'].isin( siteNumber )]\n",
    "\n",
    "# Print the filtered DataFrame\n",
    "print(filtered_df)"
   ]
  },
  {
   "cell_type": "code",
   "execution_count": null,
   "id": "d0ba9d66-df50-44fa-a6fd-716bfbc77228",
   "metadata": {},
   "outputs": [],
   "source": []
  }
 ],
 "metadata": {
  "kernelspec": {
   "display_name": "Python 3 (ipykernel)",
   "language": "python",
   "name": "python3"
  },
  "language_info": {
   "codemirror_mode": {
    "name": "ipython",
    "version": 3
   },
   "file_extension": ".py",
   "mimetype": "text/x-python",
   "name": "python",
   "nbconvert_exporter": "python",
   "pygments_lexer": "ipython3",
   "version": "3.12.4"
  }
 },
 "nbformat": 4,
 "nbformat_minor": 5
}
