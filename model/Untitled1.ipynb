{
 "cells": [
  {
   "cell_type": "code",
   "execution_count": 1,
   "id": "7d8fb4d8",
   "metadata": {},
   "outputs": [
    {
     "ename": "NameError",
     "evalue": "name 'model_results' is not defined",
     "output_type": "error",
     "traceback": [
      "\u001b[0;31m---------------------------------------------------------------------------\u001b[0m",
      "\u001b[0;31mNameError\u001b[0m                                 Traceback (most recent call last)",
      "Cell \u001b[0;32mIn[1], line 1\u001b[0m\n\u001b[0;32m----> 1\u001b[0m \u001b[38;5;28;01mfor\u001b[39;00m site \u001b[38;5;129;01min\u001b[39;00m model_results[\u001b[38;5;124m'\u001b[39m\u001b[38;5;124msite\u001b[39m\u001b[38;5;124m'\u001b[39m]:\n\u001b[1;32m      4\u001b[0m     path\u001b[38;5;241m=\u001b[39m  \u001b[38;5;124mr\u001b[39m\u001b[38;5;124m\"\u001b[39m\u001b[38;5;124m../data_prep/prism_df_summer_\u001b[39m\u001b[38;5;124m\"\u001b[39m \u001b[38;5;241m+\u001b[39m\u001b[38;5;28mstr\u001b[39m(site) \u001b[38;5;241m+\u001b[39m\u001b[38;5;124m\"\u001b[39m\u001b[38;5;124m.csv\u001b[39m\u001b[38;5;124m\"\u001b[39m  \u001b[38;5;66;03m# os.path.join( r\"../data_prep/prism_df_summer_\",  site ,\".csv\" )\u001b[39;00m\n\u001b[1;32m      6\u001b[0m     data\u001b[38;5;241m=\u001b[39mpd\u001b[38;5;241m.\u001b[39mread_csv( path ) \n",
      "\u001b[0;31mNameError\u001b[0m: name 'model_results' is not defined"
     ]
    }
   ],
   "source": [
    "for site in model_results['site']:\n",
    "\n",
    "    \n",
    "    path=  r\"../data_prep/prism_df_summer_\" +str(site) +\".csv\"  # os.path.join( r\"../data_prep/prism_df_summer_\",  site ,\".csv\" )\n",
    "\n",
    "    data=pd.read_csv( path ) \n",
    "    \n",
    "    data['ratio']= data['X_00010_00003']/data['tmean..degrees.C.']\n",
    "\n",
    "    data1 = {'site':  [ site], 'median_ratio': [data['ratio'].median() ] }\n",
    "    df1 = pd.DataFrame(data1)\n",
    "    \n",
    "    df0 = pd.concat([df0, df1], axis=0)  # Stack vertically\n",
    "\n",
    "print(df0)"
   ]
  },
  {
   "cell_type": "code",
   "execution_count": null,
   "id": "e5f91f72",
   "metadata": {},
   "outputs": [],
   "source": []
  }
 ],
 "metadata": {
  "kernelspec": {
   "display_name": "Python 3 (ipykernel)",
   "language": "python",
   "name": "python3"
  },
  "language_info": {
   "codemirror_mode": {
    "name": "ipython",
    "version": 3
   },
   "file_extension": ".py",
   "mimetype": "text/x-python",
   "name": "python",
   "nbconvert_exporter": "python",
   "pygments_lexer": "ipython3",
   "version": "3.11.4"
  }
 },
 "nbformat": 4,
 "nbformat_minor": 5
}
