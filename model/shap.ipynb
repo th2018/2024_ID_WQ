{
 "cells": [
  {
   "cell_type": "code",
   "execution_count": 1,
   "id": "9b1443ce",
   "metadata": {},
   "outputs": [
    {
     "name": "stderr",
     "output_type": "stream",
     "text": [
      "C:\\Users\\taohuang\\Anaconda3\\lib\\site-packages\\numpy\\_distributor_init.py:30: UserWarning: loaded more than 1 DLL from .libs:\n",
      "C:\\Users\\taohuang\\Anaconda3\\lib\\site-packages\\numpy\\.libs\\libopenblas.EL2C6PLE4ZYW3ECEVIV3OXXGRN2NRFM2.gfortran-win_amd64.dll\n",
      "C:\\Users\\taohuang\\Anaconda3\\lib\\site-packages\\numpy\\.libs\\libopenblas64__v0.3.21-gcc_10_3_0.dll\n",
      "  warnings.warn(\"loaded more than 1 DLL from .libs:\"\n",
      "C:\\Users\\taohuang\\Anaconda3\\lib\\site-packages\\requests\\__init__.py:78: RequestsDependencyWarning: urllib3 (1.26.16) or chardet (3.0.4) doesn't match a supported version!\n",
      "  warnings.warn(\"urllib3 ({0}) or chardet ({1}) doesn't match a supported \"\n"
     ]
    }
   ],
   "source": [
    "import dataretrieval.nwis as nwis\n",
    "import pandas as pd # read data from a CSV"
   ]
  },
  {
   "cell_type": "code",
   "execution_count": 2,
   "id": "557b93f7",
   "metadata": {},
   "outputs": [],
   "source": [
    "site  = \"13211205\"\n",
    "# get basic info about the site\n",
    "df3 = nwis.get_record(sites=site, service='site')\n",
    "\n",
    "dec_lat_va=df3['dec_lat_va'][0]\n",
    "dec_long_va=df3['dec_long_va'][0]\n",
    "station_nm=df3['station_nm'][0]\n",
    "alt_va =df3['alt_va'][0] \n",
    "drain_area_va=df3['drain_area_va'][0] "
   ]
  },
  {
   "cell_type": "code",
   "execution_count": 3,
   "id": "7259402d",
   "metadata": {},
   "outputs": [],
   "source": [
    "# path to the csv file\n",
    "path=  r\"../data_prep/prism_df_summer_\" +site +\".csv\"  # os.path.join( r\"../data_prep/prism_df_summer_\",  site ,\".csv\" )\n",
    "\n",
    "data=pd.read_csv( path )  \n"
   ]
  },
  {
   "cell_type": "code",
   "execution_count": null,
   "id": "b32ca44b",
   "metadata": {},
   "outputs": [],
   "source": []
  }
 ],
 "metadata": {
  "kernelspec": {
   "display_name": "Python 3 (ipykernel)",
   "language": "python",
   "name": "python3"
  },
  "language_info": {
   "codemirror_mode": {
    "name": "ipython",
    "version": 3
   },
   "file_extension": ".py",
   "mimetype": "text/x-python",
   "name": "python",
   "nbconvert_exporter": "python",
   "pygments_lexer": "ipython3",
   "version": "3.8.12"
  }
 },
 "nbformat": 4,
 "nbformat_minor": 5
}
