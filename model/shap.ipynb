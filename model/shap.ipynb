{
 "cells": [
  {
   "cell_type": "markdown",
   "id": "884c9261-1533-49b5-a380-6abafd474dc8",
   "metadata": {},
   "source": [
    "https://www.kaggle.com/code/bryanb/xgboost-explainability-with-shap"
   ]
  },
  {
   "cell_type": "code",
   "execution_count": 2,
   "id": "7144c11a-cea8-41c7-b55a-6ce2737d9baa",
   "metadata": {},
   "outputs": [],
   "source": [
    "import warnings\n",
    "warnings.filterwarnings('ignore')"
   ]
  },
  {
   "cell_type": "code",
   "execution_count": 37,
   "id": "749afa2f",
   "metadata": {},
   "outputs": [],
   "source": [
    "#!pip install dataretrieval\n",
    "import dataretrieval.nwis as nwis\n",
    "import pandas as pd # read data from a CSV\n",
    "from sklearn.model_selection import train_test_split\n",
    "from sklearn.ensemble import RandomForestRegressor\n",
    "from matplotlib import pyplot as plt\n",
    "import numpy as np"
   ]
  },
  {
   "cell_type": "code",
   "execution_count": 17,
   "id": "de3781ab",
   "metadata": {},
   "outputs": [],
   "source": [
    "site  = \"13211205\"\n",
    "# get basic info about the site\n",
    "df3 = nwis.get_record(sites=site, service='site')\n",
    "\n",
    "dec_lat_va=df3['dec_lat_va'][0]\n",
    "dec_long_va=df3['dec_long_va'][0]\n",
    "station_nm=df3['station_nm'][0]\n",
    "alt_va =df3['alt_va'][0] \n",
    "drain_area_va=df3['drain_area_va'][0] "
   ]
  },
  {
   "cell_type": "code",
   "execution_count": 19,
   "id": "b9f6910d",
   "metadata": {},
   "outputs": [
    {
     "name": "stdout",
     "output_type": "stream",
     "text": [
      "     Unnamed: 0        Date  ppt..mm.  tmin..degrees.C.  tmean..degrees.C.  \\\n",
      "0           153  2016-06-01      0.00               8.9               18.3   \n",
      "1           154  2016-06-02      0.00               9.7               21.4   \n",
      "2           155  2016-06-03      0.00              13.9               21.7   \n",
      "3           156  2016-06-04      0.00              13.5               22.0   \n",
      "4           157  2016-06-05      0.00              13.4               23.7   \n",
      "..          ...         ...       ...               ...                ...   \n",
      "656        2639  2023-08-27      2.75              16.2               24.8   \n",
      "657        2640  2023-08-28      0.00              15.9               24.4   \n",
      "658        2641  2023-08-29      0.00              16.1               25.6   \n",
      "659        2642  2023-08-30      0.00              12.7               23.0   \n",
      "660        2643  2023-08-31      0.00               9.8               17.3   \n",
      "\n",
      "     tmax..degrees.C.  tdmean..degrees.C.  vpdmin..hPa.  vpdmax..hPa.  \\\n",
      "0                27.7                 2.2          2.88         30.80   \n",
      "1                33.2                 5.7          3.08         42.23   \n",
      "2                29.4                 6.0          4.54         34.05   \n",
      "3                30.5                 9.8          3.53         31.89   \n",
      "4                34.0                10.0          2.67         42.71   \n",
      "..                ...                 ...           ...           ...   \n",
      "656              33.5                14.8          2.21         35.65   \n",
      "657              32.8                14.7          2.39         33.20   \n",
      "658              35.1                14.1          2.81         40.66   \n",
      "659              33.3                 9.2          3.73         39.93   \n",
      "660              24.8                 7.3          1.82         21.53   \n",
      "\n",
      "    agency_cd   site_no  X_00010_00003 X_00010_00003_cd  X_00060_00003  \\\n",
      "0        USGS  13211205           13.6                A           2470   \n",
      "1        USGS  13211205           13.7                A           2420   \n",
      "2        USGS  13211205           13.9                A           2360   \n",
      "3        USGS  13211205           14.6                A           2360   \n",
      "4        USGS  13211205           14.8                A           2350   \n",
      "..        ...       ...            ...              ...            ...   \n",
      "656      USGS  13211205           21.4                A            696   \n",
      "657      USGS  13211205           21.6                A            661   \n",
      "658      USGS  13211205           21.2                A            618   \n",
      "659      USGS  13211205           19.8                A            614   \n",
      "660      USGS  13211205           19.0                A            624   \n",
      "\n",
      "    X_00060_00003_cd    yr  mo  waterYear  doy  \n",
      "0                  A  2016   6       2016  153  \n",
      "1                  A  2016   6       2016  154  \n",
      "2                  A  2016   6       2016  155  \n",
      "3                  A  2016   6       2016  156  \n",
      "4                  A  2016   6       2016  157  \n",
      "..               ...   ...  ..        ...  ...  \n",
      "656                A  2023   8       2023  239  \n",
      "657                A  2023   8       2023  240  \n",
      "658                A  2023   8       2023  241  \n",
      "659                A  2023   8       2023  242  \n",
      "660                A  2023   8       2023  243  \n",
      "\n",
      "[661 rows x 19 columns]\n"
     ]
    }
   ],
   "source": [
    "# path to the csv file\n",
    "path=  r\"../data_prep/prism_df_summer_\" +site +\".csv\"  # os.path.join( r\"../data_prep/prism_df_summer_\",  site ,\".csv\" )\n",
    "\n",
    "data=pd.read_csv( path )  \n",
    "\n",
    "print(data)"
   ]
  },
  {
   "cell_type": "code",
   "execution_count": 21,
   "id": "cd8508cd",
   "metadata": {},
   "outputs": [],
   "source": [
    "X = data[[ 'X_00060_00003','tmean..degrees.C.' ]]\n",
    "y = data['X_00010_00003']"
   ]
  },
  {
   "cell_type": "code",
   "execution_count": 23,
   "id": "bdf5d385-65a9-46d0-a836-c0da60c5a645",
   "metadata": {},
   "outputs": [],
   "source": [
    "X_train, X_test, y_train, y_test = train_test_split(X,y, test_size=0.4, random_state = 42)\n",
    "\n",
    "# Need index of car prices to predict, whatever the strategy is\n",
    "indexes_cars_predicted = X_test.index"
   ]
  },
  {
   "cell_type": "code",
   "execution_count": 39,
   "id": "cd32a3fd-becd-4241-baef-a78d72a966c1",
   "metadata": {},
   "outputs": [
    {
     "data": {
      "text/plain": [
       "<matplotlib.lines.Line2D at 0x1c81f1ffb30>"
      ]
     },
     "execution_count": 39,
     "metadata": {},
     "output_type": "execute_result"
    },
    {
     "data": {
      "image/png": "[encoded data removed]",
      "text/plain": [
       "<Figure size 1500x500 with 1 Axes>"
      ]
     },
     "metadata": {},
     "output_type": "display_data"
    }
   ],
   "source": [
    "#model = ensemble.RandomForestRegressor(n_jobs=-1, n_estimators = 100, random_state=42)\n",
    "#model.fit(train_X_train, train_y_train)\n",
    "\n",
    "regr = RandomForestRegressor(max_depth=2, random_state=0)\n",
    "regr.fit(X, y)\n",
    "\n",
    "# Graphs section\n",
    "fig = plt.figure(figsize=(15,5))\n",
    "ax1 = plt.subplot(111)\n",
    "plt.plot(np.cumsum(regr.feature_importances_))\n",
    "plt.axhline(0.85,color= 'r')"
   ]
  },
  {
   "cell_type": "code",
   "execution_count": null,
   "id": "f11a1c11-a826-459e-8535-6fe1a27078aa",
   "metadata": {},
   "outputs": [],
   "source": []
  }
 ],
 "metadata": {
  "kernelspec": {
   "display_name": "Python 3 (ipykernel)",
   "language": "python",
   "name": "python3"
  },
  "language_info": {
   "codemirror_mode": {
    "name": "ipython",
    "version": 3
   },
   "file_extension": ".py",
   "mimetype": "text/x-python",
   "name": "python",
   "nbconvert_exporter": "python",
   "pygments_lexer": "ipython3",
   "version": "3.12.4"
  }
 },
 "nbformat": 4,
 "nbformat_minor": 5
}
